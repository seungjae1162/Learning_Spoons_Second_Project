{
 "cells": [
  {
   "cell_type": "code",
   "execution_count": 1,
   "metadata": {},
   "outputs": [],
   "source": [
    "import pandas as pd\n",
    "import numpy as np\n",
    "import seaborn as sns\n",
    "import matplotlib.pyplot as plt\n",
    "import plotly.express as px"
   ]
  },
  {
   "cell_type": "code",
   "execution_count": 2,
   "metadata": {},
   "outputs": [],
   "source": [
    "%matplotlib inline\n",
    "plt.rc('font', family='Malgun Gothic')\n",
    "plt.rc('axes', unicode_minus=False)"
   ]
  },
  {
   "cell_type": "code",
   "execution_count": 3,
   "metadata": {},
   "outputs": [
    {
     "data": {
      "text/html": [
       "<div>\n",
       "<style scoped>\n",
       "    .dataframe tbody tr th:only-of-type {\n",
       "        vertical-align: middle;\n",
       "    }\n",
       "\n",
       "    .dataframe tbody tr th {\n",
       "        vertical-align: top;\n",
       "    }\n",
       "\n",
       "    .dataframe thead th {\n",
       "        text-align: right;\n",
       "    }\n",
       "</style>\n",
       "<table border=\"1\" class=\"dataframe\">\n",
       "  <thead>\n",
       "    <tr style=\"text-align: right;\">\n",
       "      <th></th>\n",
       "      <th>번호</th>\n",
       "      <th>시도</th>\n",
       "      <th>사망일</th>\n",
       "      <th>나이</th>\n",
       "      <th>성별</th>\n",
       "      <th>정신질환</th>\n",
       "      <th>고혈압</th>\n",
       "      <th>신질환</th>\n",
       "      <th>간질환</th>\n",
       "      <th>당뇨</th>\n",
       "      <th>...</th>\n",
       "      <th>기관지염</th>\n",
       "      <th>천식</th>\n",
       "      <th>폐질환</th>\n",
       "      <th>고지혈증</th>\n",
       "      <th>부정맥</th>\n",
       "      <th>심근경색</th>\n",
       "      <th>중풍</th>\n",
       "      <th>통풍</th>\n",
       "      <th>장기부전</th>\n",
       "      <th>뇌졸증</th>\n",
       "    </tr>\n",
       "  </thead>\n",
       "  <tbody>\n",
       "    <tr>\n",
       "      <th>0</th>\n",
       "      <td>1</td>\n",
       "      <td>경북</td>\n",
       "      <td>02월 19일</td>\n",
       "      <td>62</td>\n",
       "      <td>남</td>\n",
       "      <td>1.0</td>\n",
       "      <td>NaN</td>\n",
       "      <td>NaN</td>\n",
       "      <td>NaN</td>\n",
       "      <td>NaN</td>\n",
       "      <td>...</td>\n",
       "      <td>NaN</td>\n",
       "      <td>NaN</td>\n",
       "      <td>NaN</td>\n",
       "      <td>NaN</td>\n",
       "      <td>NaN</td>\n",
       "      <td>NaN</td>\n",
       "      <td>NaN</td>\n",
       "      <td>NaN</td>\n",
       "      <td>NaN</td>\n",
       "      <td>NaN</td>\n",
       "    </tr>\n",
       "    <tr>\n",
       "      <th>1</th>\n",
       "      <td>2</td>\n",
       "      <td>부산</td>\n",
       "      <td>02월 21일</td>\n",
       "      <td>54</td>\n",
       "      <td>여</td>\n",
       "      <td>1.0</td>\n",
       "      <td>NaN</td>\n",
       "      <td>NaN</td>\n",
       "      <td>NaN</td>\n",
       "      <td>NaN</td>\n",
       "      <td>...</td>\n",
       "      <td>NaN</td>\n",
       "      <td>NaN</td>\n",
       "      <td>NaN</td>\n",
       "      <td>NaN</td>\n",
       "      <td>NaN</td>\n",
       "      <td>NaN</td>\n",
       "      <td>NaN</td>\n",
       "      <td>NaN</td>\n",
       "      <td>NaN</td>\n",
       "      <td>NaN</td>\n",
       "    </tr>\n",
       "    <tr>\n",
       "      <th>2</th>\n",
       "      <td>3</td>\n",
       "      <td>경북</td>\n",
       "      <td>02월 21일</td>\n",
       "      <td>40</td>\n",
       "      <td>남</td>\n",
       "      <td>NaN</td>\n",
       "      <td>1.0</td>\n",
       "      <td>NaN</td>\n",
       "      <td>NaN</td>\n",
       "      <td>NaN</td>\n",
       "      <td>...</td>\n",
       "      <td>NaN</td>\n",
       "      <td>NaN</td>\n",
       "      <td>NaN</td>\n",
       "      <td>NaN</td>\n",
       "      <td>NaN</td>\n",
       "      <td>NaN</td>\n",
       "      <td>NaN</td>\n",
       "      <td>NaN</td>\n",
       "      <td>NaN</td>\n",
       "      <td>NaN</td>\n",
       "    </tr>\n",
       "    <tr>\n",
       "      <th>3</th>\n",
       "      <td>4</td>\n",
       "      <td>경북</td>\n",
       "      <td>02월 23일</td>\n",
       "      <td>56</td>\n",
       "      <td>남</td>\n",
       "      <td>1.0</td>\n",
       "      <td>NaN</td>\n",
       "      <td>NaN</td>\n",
       "      <td>NaN</td>\n",
       "      <td>NaN</td>\n",
       "      <td>...</td>\n",
       "      <td>NaN</td>\n",
       "      <td>NaN</td>\n",
       "      <td>NaN</td>\n",
       "      <td>NaN</td>\n",
       "      <td>NaN</td>\n",
       "      <td>NaN</td>\n",
       "      <td>NaN</td>\n",
       "      <td>NaN</td>\n",
       "      <td>NaN</td>\n",
       "      <td>NaN</td>\n",
       "    </tr>\n",
       "    <tr>\n",
       "      <th>4</th>\n",
       "      <td>5</td>\n",
       "      <td>대구</td>\n",
       "      <td>02월 23일</td>\n",
       "      <td>56</td>\n",
       "      <td>여</td>\n",
       "      <td>NaN</td>\n",
       "      <td>NaN</td>\n",
       "      <td>1.0</td>\n",
       "      <td>NaN</td>\n",
       "      <td>NaN</td>\n",
       "      <td>...</td>\n",
       "      <td>NaN</td>\n",
       "      <td>NaN</td>\n",
       "      <td>NaN</td>\n",
       "      <td>NaN</td>\n",
       "      <td>NaN</td>\n",
       "      <td>NaN</td>\n",
       "      <td>NaN</td>\n",
       "      <td>NaN</td>\n",
       "      <td>NaN</td>\n",
       "      <td>NaN</td>\n",
       "    </tr>\n",
       "    <tr>\n",
       "      <th>...</th>\n",
       "      <td>...</td>\n",
       "      <td>...</td>\n",
       "      <td>...</td>\n",
       "      <td>...</td>\n",
       "      <td>...</td>\n",
       "      <td>...</td>\n",
       "      <td>...</td>\n",
       "      <td>...</td>\n",
       "      <td>...</td>\n",
       "      <td>...</td>\n",
       "      <td>...</td>\n",
       "      <td>...</td>\n",
       "      <td>...</td>\n",
       "      <td>...</td>\n",
       "      <td>...</td>\n",
       "      <td>...</td>\n",
       "      <td>...</td>\n",
       "      <td>...</td>\n",
       "      <td>...</td>\n",
       "      <td>...</td>\n",
       "      <td>...</td>\n",
       "    </tr>\n",
       "    <tr>\n",
       "      <th>79</th>\n",
       "      <td>80</td>\n",
       "      <td>경북</td>\n",
       "      <td>03월 16일</td>\n",
       "      <td>81</td>\n",
       "      <td>여</td>\n",
       "      <td>NaN</td>\n",
       "      <td>1.0</td>\n",
       "      <td>NaN</td>\n",
       "      <td>NaN</td>\n",
       "      <td>1.0</td>\n",
       "      <td>...</td>\n",
       "      <td>NaN</td>\n",
       "      <td>NaN</td>\n",
       "      <td>NaN</td>\n",
       "      <td>NaN</td>\n",
       "      <td>NaN</td>\n",
       "      <td>NaN</td>\n",
       "      <td>NaN</td>\n",
       "      <td>NaN</td>\n",
       "      <td>NaN</td>\n",
       "      <td>NaN</td>\n",
       "    </tr>\n",
       "    <tr>\n",
       "      <th>80</th>\n",
       "      <td>81</td>\n",
       "      <td>대구</td>\n",
       "      <td>03월 16일</td>\n",
       "      <td>65</td>\n",
       "      <td>남</td>\n",
       "      <td>NaN</td>\n",
       "      <td>NaN</td>\n",
       "      <td>NaN</td>\n",
       "      <td>NaN</td>\n",
       "      <td>1.0</td>\n",
       "      <td>...</td>\n",
       "      <td>NaN</td>\n",
       "      <td>NaN</td>\n",
       "      <td>NaN</td>\n",
       "      <td>NaN</td>\n",
       "      <td>NaN</td>\n",
       "      <td>NaN</td>\n",
       "      <td>NaN</td>\n",
       "      <td>NaN</td>\n",
       "      <td>NaN</td>\n",
       "      <td>NaN</td>\n",
       "    </tr>\n",
       "    <tr>\n",
       "      <th>81</th>\n",
       "      <td>82</td>\n",
       "      <td>경북</td>\n",
       "      <td>03월 16일</td>\n",
       "      <td>91</td>\n",
       "      <td>여</td>\n",
       "      <td>NaN</td>\n",
       "      <td>1.0</td>\n",
       "      <td>NaN</td>\n",
       "      <td>NaN</td>\n",
       "      <td>NaN</td>\n",
       "      <td>...</td>\n",
       "      <td>NaN</td>\n",
       "      <td>NaN</td>\n",
       "      <td>NaN</td>\n",
       "      <td>NaN</td>\n",
       "      <td>NaN</td>\n",
       "      <td>NaN</td>\n",
       "      <td>NaN</td>\n",
       "      <td>NaN</td>\n",
       "      <td>NaN</td>\n",
       "      <td>NaN</td>\n",
       "    </tr>\n",
       "    <tr>\n",
       "      <th>82</th>\n",
       "      <td>83</td>\n",
       "      <td>경북</td>\n",
       "      <td>03월 17일</td>\n",
       "      <td>97</td>\n",
       "      <td>여</td>\n",
       "      <td>NaN</td>\n",
       "      <td>NaN</td>\n",
       "      <td>NaN</td>\n",
       "      <td>NaN</td>\n",
       "      <td>NaN</td>\n",
       "      <td>...</td>\n",
       "      <td>NaN</td>\n",
       "      <td>NaN</td>\n",
       "      <td>NaN</td>\n",
       "      <td>NaN</td>\n",
       "      <td>NaN</td>\n",
       "      <td>NaN</td>\n",
       "      <td>NaN</td>\n",
       "      <td>NaN</td>\n",
       "      <td>NaN</td>\n",
       "      <td>NaN</td>\n",
       "    </tr>\n",
       "    <tr>\n",
       "      <th>83</th>\n",
       "      <td>84</td>\n",
       "      <td>대구</td>\n",
       "      <td>03월 17일</td>\n",
       "      <td>86</td>\n",
       "      <td>남</td>\n",
       "      <td>NaN</td>\n",
       "      <td>NaN</td>\n",
       "      <td>1.0</td>\n",
       "      <td>NaN</td>\n",
       "      <td>1.0</td>\n",
       "      <td>...</td>\n",
       "      <td>NaN</td>\n",
       "      <td>NaN</td>\n",
       "      <td>NaN</td>\n",
       "      <td>1.0</td>\n",
       "      <td>NaN</td>\n",
       "      <td>NaN</td>\n",
       "      <td>NaN</td>\n",
       "      <td>NaN</td>\n",
       "      <td>NaN</td>\n",
       "      <td>NaN</td>\n",
       "    </tr>\n",
       "  </tbody>\n",
       "</table>\n",
       "<p>84 rows × 24 columns</p>\n",
       "</div>"
      ],
      "text/plain": [
       "    번호  시도      사망일  나이 성별  정신질환  고혈압  신질환  간질환   당뇨  ...  기관지염  천식  폐질환  \\\n",
       "0    1  경북  02월 19일  62  남   1.0  NaN  NaN  NaN  NaN  ...   NaN NaN  NaN   \n",
       "1    2  부산  02월 21일  54  여   1.0  NaN  NaN  NaN  NaN  ...   NaN NaN  NaN   \n",
       "2    3  경북  02월 21일  40  남   NaN  1.0  NaN  NaN  NaN  ...   NaN NaN  NaN   \n",
       "3    4  경북  02월 23일  56  남   1.0  NaN  NaN  NaN  NaN  ...   NaN NaN  NaN   \n",
       "4    5  대구  02월 23일  56  여   NaN  NaN  1.0  NaN  NaN  ...   NaN NaN  NaN   \n",
       "..  ..  ..      ...  .. ..   ...  ...  ...  ...  ...  ...   ...  ..  ...   \n",
       "79  80  경북  03월 16일  81  여   NaN  1.0  NaN  NaN  1.0  ...   NaN NaN  NaN   \n",
       "80  81  대구  03월 16일  65  남   NaN  NaN  NaN  NaN  1.0  ...   NaN NaN  NaN   \n",
       "81  82  경북  03월 16일  91  여   NaN  1.0  NaN  NaN  NaN  ...   NaN NaN  NaN   \n",
       "82  83  경북  03월 17일  97  여   NaN  NaN  NaN  NaN  NaN  ...   NaN NaN  NaN   \n",
       "83  84  대구  03월 17일  86  남   NaN  NaN  1.0  NaN  1.0  ...   NaN NaN  NaN   \n",
       "\n",
       "    고지혈증  부정맥  심근경색  중풍  통풍  장기부전  뇌졸증  \n",
       "0    NaN  NaN   NaN NaN NaN   NaN  NaN  \n",
       "1    NaN  NaN   NaN NaN NaN   NaN  NaN  \n",
       "2    NaN  NaN   NaN NaN NaN   NaN  NaN  \n",
       "3    NaN  NaN   NaN NaN NaN   NaN  NaN  \n",
       "4    NaN  NaN   NaN NaN NaN   NaN  NaN  \n",
       "..   ...  ...   ...  ..  ..   ...  ...  \n",
       "79   NaN  NaN   NaN NaN NaN   NaN  NaN  \n",
       "80   NaN  NaN   NaN NaN NaN   NaN  NaN  \n",
       "81   NaN  NaN   NaN NaN NaN   NaN  NaN  \n",
       "82   NaN  NaN   NaN NaN NaN   NaN  NaN  \n",
       "83   1.0  NaN   NaN NaN NaN   NaN  NaN  \n",
       "\n",
       "[84 rows x 24 columns]"
      ]
     },
     "execution_count": 3,
     "metadata": {},
     "output_type": "execute_result"
    }
   ],
   "source": [
    "data = pd.read_csv('data/deaths.csv')\n",
    "data"
   ]
  },
  {
   "cell_type": "code",
   "execution_count": 4,
   "metadata": {},
   "outputs": [],
   "source": [
    "data.loc[(data['나이'] > 0) & (data['나이'] < 20), '연령대'] = '10대'\n",
    "data.loc[(data['나이'] >= 20) & (data['나이'] < 30), '연령대'] = '20대'\n",
    "data.loc[(data['나이'] >= 30) & (data['나이'] < 40), '연령대'] = '30대'\n",
    "data.loc[(data['나이'] >= 40) & (data['나이'] < 50), '연령대'] = '40대'\n",
    "data.loc[(data['나이'] >= 50) & (data['나이'] < 60), '연령대'] = '50대'\n",
    "data.loc[(data['나이'] >= 60) & (data['나이'] < 70), '연령대'] = '60대'\n",
    "data.loc[(data['나이'] >= 70) & (data['나이'] < 80), '연령대'] = '70대'\n",
    "data.loc[(data['나이'] >= 80) & (data['나이'] < 90), '연령대'] = '80대'\n",
    "data.loc[(data['나이'] >= 90) & (data['나이'] < 100), '연령대'] = '90대'"
   ]
  },
  {
   "cell_type": "code",
   "execution_count": 5,
   "metadata": {},
   "outputs": [],
   "source": [
    "data = data.drop(['번호','시도','사망일','나이'], axis=1)"
   ]
  },
  {
   "cell_type": "code",
   "execution_count": 6,
   "metadata": {},
   "outputs": [
    {
     "data": {
      "text/html": [
       "<div>\n",
       "<style scoped>\n",
       "    .dataframe tbody tr th:only-of-type {\n",
       "        vertical-align: middle;\n",
       "    }\n",
       "\n",
       "    .dataframe tbody tr th {\n",
       "        vertical-align: top;\n",
       "    }\n",
       "\n",
       "    .dataframe thead th {\n",
       "        text-align: right;\n",
       "    }\n",
       "</style>\n",
       "<table border=\"1\" class=\"dataframe\">\n",
       "  <thead>\n",
       "    <tr style=\"text-align: right;\">\n",
       "      <th></th>\n",
       "      <th>성별</th>\n",
       "      <th>정신질환</th>\n",
       "      <th>고혈압</th>\n",
       "      <th>신질환</th>\n",
       "      <th>간질환</th>\n",
       "      <th>당뇨</th>\n",
       "      <th>심장질환</th>\n",
       "      <th>암</th>\n",
       "      <th>치매</th>\n",
       "      <th>뇌경색</th>\n",
       "      <th>...</th>\n",
       "      <th>천식</th>\n",
       "      <th>폐질환</th>\n",
       "      <th>고지혈증</th>\n",
       "      <th>부정맥</th>\n",
       "      <th>심근경색</th>\n",
       "      <th>중풍</th>\n",
       "      <th>통풍</th>\n",
       "      <th>장기부전</th>\n",
       "      <th>뇌졸증</th>\n",
       "      <th>연령대</th>\n",
       "    </tr>\n",
       "  </thead>\n",
       "  <tbody>\n",
       "    <tr>\n",
       "      <th>0</th>\n",
       "      <td>남</td>\n",
       "      <td>1.0</td>\n",
       "      <td>NaN</td>\n",
       "      <td>NaN</td>\n",
       "      <td>NaN</td>\n",
       "      <td>NaN</td>\n",
       "      <td>NaN</td>\n",
       "      <td>NaN</td>\n",
       "      <td>NaN</td>\n",
       "      <td>NaN</td>\n",
       "      <td>...</td>\n",
       "      <td>NaN</td>\n",
       "      <td>NaN</td>\n",
       "      <td>NaN</td>\n",
       "      <td>NaN</td>\n",
       "      <td>NaN</td>\n",
       "      <td>NaN</td>\n",
       "      <td>NaN</td>\n",
       "      <td>NaN</td>\n",
       "      <td>NaN</td>\n",
       "      <td>60대</td>\n",
       "    </tr>\n",
       "    <tr>\n",
       "      <th>1</th>\n",
       "      <td>여</td>\n",
       "      <td>1.0</td>\n",
       "      <td>NaN</td>\n",
       "      <td>NaN</td>\n",
       "      <td>NaN</td>\n",
       "      <td>NaN</td>\n",
       "      <td>NaN</td>\n",
       "      <td>NaN</td>\n",
       "      <td>NaN</td>\n",
       "      <td>NaN</td>\n",
       "      <td>...</td>\n",
       "      <td>NaN</td>\n",
       "      <td>NaN</td>\n",
       "      <td>NaN</td>\n",
       "      <td>NaN</td>\n",
       "      <td>NaN</td>\n",
       "      <td>NaN</td>\n",
       "      <td>NaN</td>\n",
       "      <td>NaN</td>\n",
       "      <td>NaN</td>\n",
       "      <td>50대</td>\n",
       "    </tr>\n",
       "    <tr>\n",
       "      <th>2</th>\n",
       "      <td>남</td>\n",
       "      <td>NaN</td>\n",
       "      <td>1.0</td>\n",
       "      <td>NaN</td>\n",
       "      <td>NaN</td>\n",
       "      <td>NaN</td>\n",
       "      <td>NaN</td>\n",
       "      <td>NaN</td>\n",
       "      <td>NaN</td>\n",
       "      <td>NaN</td>\n",
       "      <td>...</td>\n",
       "      <td>NaN</td>\n",
       "      <td>NaN</td>\n",
       "      <td>NaN</td>\n",
       "      <td>NaN</td>\n",
       "      <td>NaN</td>\n",
       "      <td>NaN</td>\n",
       "      <td>NaN</td>\n",
       "      <td>NaN</td>\n",
       "      <td>NaN</td>\n",
       "      <td>40대</td>\n",
       "    </tr>\n",
       "    <tr>\n",
       "      <th>3</th>\n",
       "      <td>남</td>\n",
       "      <td>1.0</td>\n",
       "      <td>NaN</td>\n",
       "      <td>NaN</td>\n",
       "      <td>NaN</td>\n",
       "      <td>NaN</td>\n",
       "      <td>NaN</td>\n",
       "      <td>NaN</td>\n",
       "      <td>NaN</td>\n",
       "      <td>NaN</td>\n",
       "      <td>...</td>\n",
       "      <td>NaN</td>\n",
       "      <td>NaN</td>\n",
       "      <td>NaN</td>\n",
       "      <td>NaN</td>\n",
       "      <td>NaN</td>\n",
       "      <td>NaN</td>\n",
       "      <td>NaN</td>\n",
       "      <td>NaN</td>\n",
       "      <td>NaN</td>\n",
       "      <td>50대</td>\n",
       "    </tr>\n",
       "    <tr>\n",
       "      <th>4</th>\n",
       "      <td>여</td>\n",
       "      <td>NaN</td>\n",
       "      <td>NaN</td>\n",
       "      <td>1.0</td>\n",
       "      <td>NaN</td>\n",
       "      <td>NaN</td>\n",
       "      <td>NaN</td>\n",
       "      <td>NaN</td>\n",
       "      <td>NaN</td>\n",
       "      <td>NaN</td>\n",
       "      <td>...</td>\n",
       "      <td>NaN</td>\n",
       "      <td>NaN</td>\n",
       "      <td>NaN</td>\n",
       "      <td>NaN</td>\n",
       "      <td>NaN</td>\n",
       "      <td>NaN</td>\n",
       "      <td>NaN</td>\n",
       "      <td>NaN</td>\n",
       "      <td>NaN</td>\n",
       "      <td>50대</td>\n",
       "    </tr>\n",
       "    <tr>\n",
       "      <th>...</th>\n",
       "      <td>...</td>\n",
       "      <td>...</td>\n",
       "      <td>...</td>\n",
       "      <td>...</td>\n",
       "      <td>...</td>\n",
       "      <td>...</td>\n",
       "      <td>...</td>\n",
       "      <td>...</td>\n",
       "      <td>...</td>\n",
       "      <td>...</td>\n",
       "      <td>...</td>\n",
       "      <td>...</td>\n",
       "      <td>...</td>\n",
       "      <td>...</td>\n",
       "      <td>...</td>\n",
       "      <td>...</td>\n",
       "      <td>...</td>\n",
       "      <td>...</td>\n",
       "      <td>...</td>\n",
       "      <td>...</td>\n",
       "      <td>...</td>\n",
       "    </tr>\n",
       "    <tr>\n",
       "      <th>79</th>\n",
       "      <td>여</td>\n",
       "      <td>NaN</td>\n",
       "      <td>1.0</td>\n",
       "      <td>NaN</td>\n",
       "      <td>NaN</td>\n",
       "      <td>1.0</td>\n",
       "      <td>NaN</td>\n",
       "      <td>NaN</td>\n",
       "      <td>NaN</td>\n",
       "      <td>NaN</td>\n",
       "      <td>...</td>\n",
       "      <td>NaN</td>\n",
       "      <td>NaN</td>\n",
       "      <td>NaN</td>\n",
       "      <td>NaN</td>\n",
       "      <td>NaN</td>\n",
       "      <td>NaN</td>\n",
       "      <td>NaN</td>\n",
       "      <td>NaN</td>\n",
       "      <td>NaN</td>\n",
       "      <td>80대</td>\n",
       "    </tr>\n",
       "    <tr>\n",
       "      <th>80</th>\n",
       "      <td>남</td>\n",
       "      <td>NaN</td>\n",
       "      <td>NaN</td>\n",
       "      <td>NaN</td>\n",
       "      <td>NaN</td>\n",
       "      <td>1.0</td>\n",
       "      <td>NaN</td>\n",
       "      <td>1.0</td>\n",
       "      <td>NaN</td>\n",
       "      <td>NaN</td>\n",
       "      <td>...</td>\n",
       "      <td>NaN</td>\n",
       "      <td>NaN</td>\n",
       "      <td>NaN</td>\n",
       "      <td>NaN</td>\n",
       "      <td>NaN</td>\n",
       "      <td>NaN</td>\n",
       "      <td>NaN</td>\n",
       "      <td>NaN</td>\n",
       "      <td>NaN</td>\n",
       "      <td>60대</td>\n",
       "    </tr>\n",
       "    <tr>\n",
       "      <th>81</th>\n",
       "      <td>여</td>\n",
       "      <td>NaN</td>\n",
       "      <td>1.0</td>\n",
       "      <td>NaN</td>\n",
       "      <td>NaN</td>\n",
       "      <td>NaN</td>\n",
       "      <td>NaN</td>\n",
       "      <td>NaN</td>\n",
       "      <td>1.0</td>\n",
       "      <td>NaN</td>\n",
       "      <td>...</td>\n",
       "      <td>NaN</td>\n",
       "      <td>NaN</td>\n",
       "      <td>NaN</td>\n",
       "      <td>NaN</td>\n",
       "      <td>NaN</td>\n",
       "      <td>NaN</td>\n",
       "      <td>NaN</td>\n",
       "      <td>NaN</td>\n",
       "      <td>NaN</td>\n",
       "      <td>90대</td>\n",
       "    </tr>\n",
       "    <tr>\n",
       "      <th>82</th>\n",
       "      <td>여</td>\n",
       "      <td>NaN</td>\n",
       "      <td>NaN</td>\n",
       "      <td>NaN</td>\n",
       "      <td>NaN</td>\n",
       "      <td>NaN</td>\n",
       "      <td>NaN</td>\n",
       "      <td>NaN</td>\n",
       "      <td>1.0</td>\n",
       "      <td>NaN</td>\n",
       "      <td>...</td>\n",
       "      <td>NaN</td>\n",
       "      <td>NaN</td>\n",
       "      <td>NaN</td>\n",
       "      <td>NaN</td>\n",
       "      <td>NaN</td>\n",
       "      <td>NaN</td>\n",
       "      <td>NaN</td>\n",
       "      <td>NaN</td>\n",
       "      <td>NaN</td>\n",
       "      <td>90대</td>\n",
       "    </tr>\n",
       "    <tr>\n",
       "      <th>83</th>\n",
       "      <td>남</td>\n",
       "      <td>NaN</td>\n",
       "      <td>NaN</td>\n",
       "      <td>1.0</td>\n",
       "      <td>NaN</td>\n",
       "      <td>1.0</td>\n",
       "      <td>NaN</td>\n",
       "      <td>NaN</td>\n",
       "      <td>NaN</td>\n",
       "      <td>NaN</td>\n",
       "      <td>...</td>\n",
       "      <td>NaN</td>\n",
       "      <td>NaN</td>\n",
       "      <td>1.0</td>\n",
       "      <td>NaN</td>\n",
       "      <td>NaN</td>\n",
       "      <td>NaN</td>\n",
       "      <td>NaN</td>\n",
       "      <td>NaN</td>\n",
       "      <td>NaN</td>\n",
       "      <td>80대</td>\n",
       "    </tr>\n",
       "  </tbody>\n",
       "</table>\n",
       "<p>84 rows × 21 columns</p>\n",
       "</div>"
      ],
      "text/plain": [
       "   성별  정신질환  고혈압  신질환  간질환   당뇨  심장질환    암   치매  뇌경색  ...  천식  폐질환  고지혈증  부정맥  \\\n",
       "0   남   1.0  NaN  NaN  NaN  NaN   NaN  NaN  NaN  NaN  ... NaN  NaN   NaN  NaN   \n",
       "1   여   1.0  NaN  NaN  NaN  NaN   NaN  NaN  NaN  NaN  ... NaN  NaN   NaN  NaN   \n",
       "2   남   NaN  1.0  NaN  NaN  NaN   NaN  NaN  NaN  NaN  ... NaN  NaN   NaN  NaN   \n",
       "3   남   1.0  NaN  NaN  NaN  NaN   NaN  NaN  NaN  NaN  ... NaN  NaN   NaN  NaN   \n",
       "4   여   NaN  NaN  1.0  NaN  NaN   NaN  NaN  NaN  NaN  ... NaN  NaN   NaN  NaN   \n",
       ".. ..   ...  ...  ...  ...  ...   ...  ...  ...  ...  ...  ..  ...   ...  ...   \n",
       "79  여   NaN  1.0  NaN  NaN  1.0   NaN  NaN  NaN  NaN  ... NaN  NaN   NaN  NaN   \n",
       "80  남   NaN  NaN  NaN  NaN  1.0   NaN  1.0  NaN  NaN  ... NaN  NaN   NaN  NaN   \n",
       "81  여   NaN  1.0  NaN  NaN  NaN   NaN  NaN  1.0  NaN  ... NaN  NaN   NaN  NaN   \n",
       "82  여   NaN  NaN  NaN  NaN  NaN   NaN  NaN  1.0  NaN  ... NaN  NaN   NaN  NaN   \n",
       "83  남   NaN  NaN  1.0  NaN  1.0   NaN  NaN  NaN  NaN  ... NaN  NaN   1.0  NaN   \n",
       "\n",
       "    심근경색  중풍  통풍  장기부전  뇌졸증  연령대  \n",
       "0    NaN NaN NaN   NaN  NaN  60대  \n",
       "1    NaN NaN NaN   NaN  NaN  50대  \n",
       "2    NaN NaN NaN   NaN  NaN  40대  \n",
       "3    NaN NaN NaN   NaN  NaN  50대  \n",
       "4    NaN NaN NaN   NaN  NaN  50대  \n",
       "..   ...  ..  ..   ...  ...  ...  \n",
       "79   NaN NaN NaN   NaN  NaN  80대  \n",
       "80   NaN NaN NaN   NaN  NaN  60대  \n",
       "81   NaN NaN NaN   NaN  NaN  90대  \n",
       "82   NaN NaN NaN   NaN  NaN  90대  \n",
       "83   NaN NaN NaN   NaN  NaN  80대  \n",
       "\n",
       "[84 rows x 21 columns]"
      ]
     },
     "execution_count": 6,
     "metadata": {},
     "output_type": "execute_result"
    }
   ],
   "source": [
    "data"
   ]
  },
  {
   "cell_type": "code",
   "execution_count": 7,
   "metadata": {},
   "outputs": [],
   "source": [
    "pt = pd.pivot_table(data, index=['연령대','성별'], aggfunc='count').reset_index()"
   ]
  },
  {
   "cell_type": "code",
   "execution_count": 8,
   "metadata": {
    "scrolled": true
   },
   "outputs": [
    {
     "data": {
      "text/plain": [
       "Index(['간질환', '고지혈증', '고혈압', '기관지염', '뇌경색', '뇌졸증', '당뇨', '부정맥', '신질환', '심근경색',\n",
       "       '심장질환', '암', '장기부전', '정신질환', '중풍', '천식', '치매', '통풍', '폐질환'],\n",
       "      dtype='object')"
      ]
     },
     "execution_count": 8,
     "metadata": {},
     "output_type": "execute_result"
    }
   ],
   "source": [
    "pt.columns[2:]"
   ]
  },
  {
   "cell_type": "code",
   "execution_count": 9,
   "metadata": {},
   "outputs": [
    {
     "data": {
      "text/html": [
       "<div>\n",
       "<style scoped>\n",
       "    .dataframe tbody tr th:only-of-type {\n",
       "        vertical-align: middle;\n",
       "    }\n",
       "\n",
       "    .dataframe tbody tr th {\n",
       "        vertical-align: top;\n",
       "    }\n",
       "\n",
       "    .dataframe thead th {\n",
       "        text-align: right;\n",
       "    }\n",
       "</style>\n",
       "<table border=\"1\" class=\"dataframe\">\n",
       "  <thead>\n",
       "    <tr style=\"text-align: right;\">\n",
       "      <th></th>\n",
       "      <th>연령대</th>\n",
       "      <th>성별</th>\n",
       "      <th>간질환</th>\n",
       "      <th>고지혈증</th>\n",
       "      <th>고혈압</th>\n",
       "      <th>기관지염</th>\n",
       "      <th>뇌경색</th>\n",
       "      <th>뇌졸증</th>\n",
       "      <th>당뇨</th>\n",
       "      <th>부정맥</th>\n",
       "      <th>...</th>\n",
       "      <th>심근경색</th>\n",
       "      <th>심장질환</th>\n",
       "      <th>암</th>\n",
       "      <th>장기부전</th>\n",
       "      <th>정신질환</th>\n",
       "      <th>중풍</th>\n",
       "      <th>천식</th>\n",
       "      <th>치매</th>\n",
       "      <th>통풍</th>\n",
       "      <th>폐질환</th>\n",
       "    </tr>\n",
       "  </thead>\n",
       "  <tbody>\n",
       "    <tr>\n",
       "      <th>0</th>\n",
       "      <td>30대</td>\n",
       "      <td>남</td>\n",
       "      <td>1</td>\n",
       "      <td>0</td>\n",
       "      <td>0</td>\n",
       "      <td>0</td>\n",
       "      <td>0</td>\n",
       "      <td>0</td>\n",
       "      <td>0</td>\n",
       "      <td>0</td>\n",
       "      <td>...</td>\n",
       "      <td>0</td>\n",
       "      <td>0</td>\n",
       "      <td>0</td>\n",
       "      <td>0</td>\n",
       "      <td>0</td>\n",
       "      <td>0</td>\n",
       "      <td>0</td>\n",
       "      <td>0</td>\n",
       "      <td>0</td>\n",
       "      <td>0</td>\n",
       "    </tr>\n",
       "    <tr>\n",
       "      <th>1</th>\n",
       "      <td>40대</td>\n",
       "      <td>남</td>\n",
       "      <td>0</td>\n",
       "      <td>0</td>\n",
       "      <td>1</td>\n",
       "      <td>0</td>\n",
       "      <td>0</td>\n",
       "      <td>0</td>\n",
       "      <td>0</td>\n",
       "      <td>0</td>\n",
       "      <td>...</td>\n",
       "      <td>0</td>\n",
       "      <td>0</td>\n",
       "      <td>0</td>\n",
       "      <td>0</td>\n",
       "      <td>0</td>\n",
       "      <td>0</td>\n",
       "      <td>0</td>\n",
       "      <td>0</td>\n",
       "      <td>0</td>\n",
       "      <td>0</td>\n",
       "    </tr>\n",
       "    <tr>\n",
       "      <th>2</th>\n",
       "      <td>50대</td>\n",
       "      <td>남</td>\n",
       "      <td>0</td>\n",
       "      <td>0</td>\n",
       "      <td>0</td>\n",
       "      <td>0</td>\n",
       "      <td>0</td>\n",
       "      <td>0</td>\n",
       "      <td>0</td>\n",
       "      <td>0</td>\n",
       "      <td>...</td>\n",
       "      <td>0</td>\n",
       "      <td>0</td>\n",
       "      <td>0</td>\n",
       "      <td>0</td>\n",
       "      <td>3</td>\n",
       "      <td>0</td>\n",
       "      <td>0</td>\n",
       "      <td>0</td>\n",
       "      <td>0</td>\n",
       "      <td>0</td>\n",
       "    </tr>\n",
       "    <tr>\n",
       "      <th>3</th>\n",
       "      <td>50대</td>\n",
       "      <td>여</td>\n",
       "      <td>0</td>\n",
       "      <td>0</td>\n",
       "      <td>0</td>\n",
       "      <td>0</td>\n",
       "      <td>0</td>\n",
       "      <td>0</td>\n",
       "      <td>0</td>\n",
       "      <td>0</td>\n",
       "      <td>...</td>\n",
       "      <td>0</td>\n",
       "      <td>0</td>\n",
       "      <td>0</td>\n",
       "      <td>0</td>\n",
       "      <td>1</td>\n",
       "      <td>0</td>\n",
       "      <td>0</td>\n",
       "      <td>0</td>\n",
       "      <td>0</td>\n",
       "      <td>0</td>\n",
       "    </tr>\n",
       "    <tr>\n",
       "      <th>4</th>\n",
       "      <td>60대</td>\n",
       "      <td>남</td>\n",
       "      <td>0</td>\n",
       "      <td>1</td>\n",
       "      <td>3</td>\n",
       "      <td>0</td>\n",
       "      <td>0</td>\n",
       "      <td>0</td>\n",
       "      <td>4</td>\n",
       "      <td>1</td>\n",
       "      <td>...</td>\n",
       "      <td>1</td>\n",
       "      <td>0</td>\n",
       "      <td>3</td>\n",
       "      <td>0</td>\n",
       "      <td>3</td>\n",
       "      <td>0</td>\n",
       "      <td>0</td>\n",
       "      <td>0</td>\n",
       "      <td>0</td>\n",
       "      <td>0</td>\n",
       "    </tr>\n",
       "    <tr>\n",
       "      <th>5</th>\n",
       "      <td>60대</td>\n",
       "      <td>여</td>\n",
       "      <td>0</td>\n",
       "      <td>0</td>\n",
       "      <td>3</td>\n",
       "      <td>0</td>\n",
       "      <td>0</td>\n",
       "      <td>0</td>\n",
       "      <td>2</td>\n",
       "      <td>0</td>\n",
       "      <td>...</td>\n",
       "      <td>0</td>\n",
       "      <td>0</td>\n",
       "      <td>1</td>\n",
       "      <td>0</td>\n",
       "      <td>0</td>\n",
       "      <td>0</td>\n",
       "      <td>0</td>\n",
       "      <td>0</td>\n",
       "      <td>0</td>\n",
       "      <td>0</td>\n",
       "    </tr>\n",
       "    <tr>\n",
       "      <th>6</th>\n",
       "      <td>70대</td>\n",
       "      <td>남</td>\n",
       "      <td>0</td>\n",
       "      <td>0</td>\n",
       "      <td>5</td>\n",
       "      <td>1</td>\n",
       "      <td>0</td>\n",
       "      <td>0</td>\n",
       "      <td>3</td>\n",
       "      <td>0</td>\n",
       "      <td>...</td>\n",
       "      <td>0</td>\n",
       "      <td>1</td>\n",
       "      <td>1</td>\n",
       "      <td>0</td>\n",
       "      <td>0</td>\n",
       "      <td>1</td>\n",
       "      <td>0</td>\n",
       "      <td>2</td>\n",
       "      <td>1</td>\n",
       "      <td>2</td>\n",
       "    </tr>\n",
       "    <tr>\n",
       "      <th>7</th>\n",
       "      <td>70대</td>\n",
       "      <td>여</td>\n",
       "      <td>0</td>\n",
       "      <td>0</td>\n",
       "      <td>6</td>\n",
       "      <td>1</td>\n",
       "      <td>1</td>\n",
       "      <td>0</td>\n",
       "      <td>6</td>\n",
       "      <td>0</td>\n",
       "      <td>...</td>\n",
       "      <td>0</td>\n",
       "      <td>2</td>\n",
       "      <td>2</td>\n",
       "      <td>0</td>\n",
       "      <td>0</td>\n",
       "      <td>0</td>\n",
       "      <td>0</td>\n",
       "      <td>2</td>\n",
       "      <td>1</td>\n",
       "      <td>0</td>\n",
       "    </tr>\n",
       "    <tr>\n",
       "      <th>8</th>\n",
       "      <td>80대</td>\n",
       "      <td>남</td>\n",
       "      <td>0</td>\n",
       "      <td>1</td>\n",
       "      <td>5</td>\n",
       "      <td>0</td>\n",
       "      <td>1</td>\n",
       "      <td>1</td>\n",
       "      <td>4</td>\n",
       "      <td>0</td>\n",
       "      <td>...</td>\n",
       "      <td>0</td>\n",
       "      <td>0</td>\n",
       "      <td>3</td>\n",
       "      <td>1</td>\n",
       "      <td>0</td>\n",
       "      <td>0</td>\n",
       "      <td>0</td>\n",
       "      <td>4</td>\n",
       "      <td>0</td>\n",
       "      <td>1</td>\n",
       "    </tr>\n",
       "    <tr>\n",
       "      <th>9</th>\n",
       "      <td>80대</td>\n",
       "      <td>여</td>\n",
       "      <td>0</td>\n",
       "      <td>0</td>\n",
       "      <td>7</td>\n",
       "      <td>0</td>\n",
       "      <td>0</td>\n",
       "      <td>0</td>\n",
       "      <td>4</td>\n",
       "      <td>0</td>\n",
       "      <td>...</td>\n",
       "      <td>0</td>\n",
       "      <td>0</td>\n",
       "      <td>0</td>\n",
       "      <td>2</td>\n",
       "      <td>0</td>\n",
       "      <td>0</td>\n",
       "      <td>2</td>\n",
       "      <td>1</td>\n",
       "      <td>0</td>\n",
       "      <td>1</td>\n",
       "    </tr>\n",
       "    <tr>\n",
       "      <th>10</th>\n",
       "      <td>90대</td>\n",
       "      <td>남</td>\n",
       "      <td>0</td>\n",
       "      <td>0</td>\n",
       "      <td>0</td>\n",
       "      <td>0</td>\n",
       "      <td>0</td>\n",
       "      <td>0</td>\n",
       "      <td>0</td>\n",
       "      <td>0</td>\n",
       "      <td>...</td>\n",
       "      <td>0</td>\n",
       "      <td>0</td>\n",
       "      <td>0</td>\n",
       "      <td>0</td>\n",
       "      <td>0</td>\n",
       "      <td>0</td>\n",
       "      <td>0</td>\n",
       "      <td>1</td>\n",
       "      <td>0</td>\n",
       "      <td>0</td>\n",
       "    </tr>\n",
       "    <tr>\n",
       "      <th>11</th>\n",
       "      <td>90대</td>\n",
       "      <td>여</td>\n",
       "      <td>0</td>\n",
       "      <td>0</td>\n",
       "      <td>1</td>\n",
       "      <td>0</td>\n",
       "      <td>0</td>\n",
       "      <td>0</td>\n",
       "      <td>0</td>\n",
       "      <td>0</td>\n",
       "      <td>...</td>\n",
       "      <td>0</td>\n",
       "      <td>1</td>\n",
       "      <td>1</td>\n",
       "      <td>0</td>\n",
       "      <td>0</td>\n",
       "      <td>0</td>\n",
       "      <td>0</td>\n",
       "      <td>2</td>\n",
       "      <td>0</td>\n",
       "      <td>0</td>\n",
       "    </tr>\n",
       "  </tbody>\n",
       "</table>\n",
       "<p>12 rows × 21 columns</p>\n",
       "</div>"
      ],
      "text/plain": [
       "    연령대 성별  간질환  고지혈증  고혈압  기관지염  뇌경색  뇌졸증  당뇨  부정맥  ...  심근경색  심장질환  암  장기부전  \\\n",
       "0   30대  남    1     0    0     0    0    0   0    0  ...     0     0  0     0   \n",
       "1   40대  남    0     0    1     0    0    0   0    0  ...     0     0  0     0   \n",
       "2   50대  남    0     0    0     0    0    0   0    0  ...     0     0  0     0   \n",
       "3   50대  여    0     0    0     0    0    0   0    0  ...     0     0  0     0   \n",
       "4   60대  남    0     1    3     0    0    0   4    1  ...     1     0  3     0   \n",
       "5   60대  여    0     0    3     0    0    0   2    0  ...     0     0  1     0   \n",
       "6   70대  남    0     0    5     1    0    0   3    0  ...     0     1  1     0   \n",
       "7   70대  여    0     0    6     1    1    0   6    0  ...     0     2  2     0   \n",
       "8   80대  남    0     1    5     0    1    1   4    0  ...     0     0  3     1   \n",
       "9   80대  여    0     0    7     0    0    0   4    0  ...     0     0  0     2   \n",
       "10  90대  남    0     0    0     0    0    0   0    0  ...     0     0  0     0   \n",
       "11  90대  여    0     0    1     0    0    0   0    0  ...     0     1  1     0   \n",
       "\n",
       "    정신질환  중풍  천식  치매  통풍  폐질환  \n",
       "0      0   0   0   0   0    0  \n",
       "1      0   0   0   0   0    0  \n",
       "2      3   0   0   0   0    0  \n",
       "3      1   0   0   0   0    0  \n",
       "4      3   0   0   0   0    0  \n",
       "5      0   0   0   0   0    0  \n",
       "6      0   1   0   2   1    2  \n",
       "7      0   0   0   2   1    0  \n",
       "8      0   0   0   4   0    1  \n",
       "9      0   0   2   1   0    1  \n",
       "10     0   0   0   1   0    0  \n",
       "11     0   0   0   2   0    0  \n",
       "\n",
       "[12 rows x 21 columns]"
      ]
     },
     "execution_count": 9,
     "metadata": {},
     "output_type": "execute_result"
    }
   ],
   "source": [
    "pt"
   ]
  },
  {
   "cell_type": "code",
   "execution_count": 10,
   "metadata": {},
   "outputs": [],
   "source": [
    "pt = pd.melt(pt, id_vars=['연령대','성별'])"
   ]
  },
  {
   "cell_type": "code",
   "execution_count": 11,
   "metadata": {},
   "outputs": [
    {
     "data": {
      "text/html": [
       "<div>\n",
       "<style scoped>\n",
       "    .dataframe tbody tr th:only-of-type {\n",
       "        vertical-align: middle;\n",
       "    }\n",
       "\n",
       "    .dataframe tbody tr th {\n",
       "        vertical-align: top;\n",
       "    }\n",
       "\n",
       "    .dataframe thead th {\n",
       "        text-align: right;\n",
       "    }\n",
       "</style>\n",
       "<table border=\"1\" class=\"dataframe\">\n",
       "  <thead>\n",
       "    <tr style=\"text-align: right;\">\n",
       "      <th></th>\n",
       "      <th>연령대</th>\n",
       "      <th>성별</th>\n",
       "      <th>variable</th>\n",
       "      <th>value</th>\n",
       "    </tr>\n",
       "  </thead>\n",
       "  <tbody>\n",
       "    <tr>\n",
       "      <th>0</th>\n",
       "      <td>30대</td>\n",
       "      <td>남</td>\n",
       "      <td>간질환</td>\n",
       "      <td>1</td>\n",
       "    </tr>\n",
       "    <tr>\n",
       "      <th>1</th>\n",
       "      <td>40대</td>\n",
       "      <td>남</td>\n",
       "      <td>간질환</td>\n",
       "      <td>0</td>\n",
       "    </tr>\n",
       "    <tr>\n",
       "      <th>2</th>\n",
       "      <td>50대</td>\n",
       "      <td>남</td>\n",
       "      <td>간질환</td>\n",
       "      <td>0</td>\n",
       "    </tr>\n",
       "    <tr>\n",
       "      <th>3</th>\n",
       "      <td>50대</td>\n",
       "      <td>여</td>\n",
       "      <td>간질환</td>\n",
       "      <td>0</td>\n",
       "    </tr>\n",
       "    <tr>\n",
       "      <th>4</th>\n",
       "      <td>60대</td>\n",
       "      <td>남</td>\n",
       "      <td>간질환</td>\n",
       "      <td>0</td>\n",
       "    </tr>\n",
       "    <tr>\n",
       "      <th>...</th>\n",
       "      <td>...</td>\n",
       "      <td>...</td>\n",
       "      <td>...</td>\n",
       "      <td>...</td>\n",
       "    </tr>\n",
       "    <tr>\n",
       "      <th>223</th>\n",
       "      <td>70대</td>\n",
       "      <td>여</td>\n",
       "      <td>폐질환</td>\n",
       "      <td>0</td>\n",
       "    </tr>\n",
       "    <tr>\n",
       "      <th>224</th>\n",
       "      <td>80대</td>\n",
       "      <td>남</td>\n",
       "      <td>폐질환</td>\n",
       "      <td>1</td>\n",
       "    </tr>\n",
       "    <tr>\n",
       "      <th>225</th>\n",
       "      <td>80대</td>\n",
       "      <td>여</td>\n",
       "      <td>폐질환</td>\n",
       "      <td>1</td>\n",
       "    </tr>\n",
       "    <tr>\n",
       "      <th>226</th>\n",
       "      <td>90대</td>\n",
       "      <td>남</td>\n",
       "      <td>폐질환</td>\n",
       "      <td>0</td>\n",
       "    </tr>\n",
       "    <tr>\n",
       "      <th>227</th>\n",
       "      <td>90대</td>\n",
       "      <td>여</td>\n",
       "      <td>폐질환</td>\n",
       "      <td>0</td>\n",
       "    </tr>\n",
       "  </tbody>\n",
       "</table>\n",
       "<p>228 rows × 4 columns</p>\n",
       "</div>"
      ],
      "text/plain": [
       "     연령대 성별 variable  value\n",
       "0    30대  남      간질환      1\n",
       "1    40대  남      간질환      0\n",
       "2    50대  남      간질환      0\n",
       "3    50대  여      간질환      0\n",
       "4    60대  남      간질환      0\n",
       "..   ... ..      ...    ...\n",
       "223  70대  여      폐질환      0\n",
       "224  80대  남      폐질환      1\n",
       "225  80대  여      폐질환      1\n",
       "226  90대  남      폐질환      0\n",
       "227  90대  여      폐질환      0\n",
       "\n",
       "[228 rows x 4 columns]"
      ]
     },
     "execution_count": 11,
     "metadata": {},
     "output_type": "execute_result"
    }
   ],
   "source": [
    "pt"
   ]
  },
  {
   "cell_type": "code",
   "execution_count": 32,
   "metadata": {
    "scrolled": false
   },
   "outputs": [
    {
     "data": {
      "text/html": [
       "<div>\n",
       "<style scoped>\n",
       "    .dataframe tbody tr th:only-of-type {\n",
       "        vertical-align: middle;\n",
       "    }\n",
       "\n",
       "    .dataframe tbody tr th {\n",
       "        vertical-align: top;\n",
       "    }\n",
       "\n",
       "    .dataframe thead th {\n",
       "        text-align: right;\n",
       "    }\n",
       "</style>\n",
       "<table border=\"1\" class=\"dataframe\">\n",
       "  <thead>\n",
       "    <tr style=\"text-align: right;\">\n",
       "      <th></th>\n",
       "      <th>연령대</th>\n",
       "      <th>성별</th>\n",
       "      <th>variable</th>\n",
       "      <th>value</th>\n",
       "    </tr>\n",
       "  </thead>\n",
       "  <tbody>\n",
       "    <tr>\n",
       "      <th>0</th>\n",
       "      <td>30대</td>\n",
       "      <td>남</td>\n",
       "      <td>기타</td>\n",
       "      <td>1.0</td>\n",
       "    </tr>\n",
       "    <tr>\n",
       "      <th>21</th>\n",
       "      <td>40대</td>\n",
       "      <td>남</td>\n",
       "      <td>기타</td>\n",
       "      <td>1.0</td>\n",
       "    </tr>\n",
       "    <tr>\n",
       "      <th>51</th>\n",
       "      <td>50대</td>\n",
       "      <td>남</td>\n",
       "      <td>정신질환</td>\n",
       "      <td>3.0</td>\n",
       "    </tr>\n",
       "    <tr>\n",
       "      <th>65</th>\n",
       "      <td>50대</td>\n",
       "      <td>여</td>\n",
       "      <td>기타</td>\n",
       "      <td>1.0</td>\n",
       "    </tr>\n",
       "    <tr>\n",
       "      <th>70</th>\n",
       "      <td>50대</td>\n",
       "      <td>여</td>\n",
       "      <td>기타</td>\n",
       "      <td>1.0</td>\n",
       "    </tr>\n",
       "    <tr>\n",
       "      <th>82</th>\n",
       "      <td>60대</td>\n",
       "      <td>남</td>\n",
       "      <td>당뇨</td>\n",
       "      <td>4.0</td>\n",
       "    </tr>\n",
       "    <tr>\n",
       "      <th>78</th>\n",
       "      <td>60대</td>\n",
       "      <td>남</td>\n",
       "      <td>고혈압</td>\n",
       "      <td>3.0</td>\n",
       "    </tr>\n",
       "    <tr>\n",
       "      <th>87</th>\n",
       "      <td>60대</td>\n",
       "      <td>남</td>\n",
       "      <td>암</td>\n",
       "      <td>3.0</td>\n",
       "    </tr>\n",
       "    <tr>\n",
       "      <th>89</th>\n",
       "      <td>60대</td>\n",
       "      <td>남</td>\n",
       "      <td>정신질환</td>\n",
       "      <td>3.0</td>\n",
       "    </tr>\n",
       "    <tr>\n",
       "      <th>97</th>\n",
       "      <td>60대</td>\n",
       "      <td>여</td>\n",
       "      <td>고혈압</td>\n",
       "      <td>3.0</td>\n",
       "    </tr>\n",
       "    <tr>\n",
       "      <th>101</th>\n",
       "      <td>60대</td>\n",
       "      <td>여</td>\n",
       "      <td>기타</td>\n",
       "      <td>2.0</td>\n",
       "    </tr>\n",
       "    <tr>\n",
       "      <th>77</th>\n",
       "      <td>60대</td>\n",
       "      <td>남</td>\n",
       "      <td>기타</td>\n",
       "      <td>1.0</td>\n",
       "    </tr>\n",
       "    <tr>\n",
       "      <th>83</th>\n",
       "      <td>60대</td>\n",
       "      <td>남</td>\n",
       "      <td>기타</td>\n",
       "      <td>1.0</td>\n",
       "    </tr>\n",
       "    <tr>\n",
       "      <th>84</th>\n",
       "      <td>60대</td>\n",
       "      <td>남</td>\n",
       "      <td>기타</td>\n",
       "      <td>1.0</td>\n",
       "    </tr>\n",
       "    <tr>\n",
       "      <th>85</th>\n",
       "      <td>60대</td>\n",
       "      <td>남</td>\n",
       "      <td>기타</td>\n",
       "      <td>1.0</td>\n",
       "    </tr>\n",
       "    <tr>\n",
       "      <th>103</th>\n",
       "      <td>60대</td>\n",
       "      <td>여</td>\n",
       "      <td>기타</td>\n",
       "      <td>1.0</td>\n",
       "    </tr>\n",
       "    <tr>\n",
       "      <th>106</th>\n",
       "      <td>60대</td>\n",
       "      <td>여</td>\n",
       "      <td>기타</td>\n",
       "      <td>1.0</td>\n",
       "    </tr>\n",
       "    <tr>\n",
       "      <th>135</th>\n",
       "      <td>70대</td>\n",
       "      <td>여</td>\n",
       "      <td>고혈압</td>\n",
       "      <td>6.0</td>\n",
       "    </tr>\n",
       "    <tr>\n",
       "      <th>139</th>\n",
       "      <td>70대</td>\n",
       "      <td>여</td>\n",
       "      <td>당뇨</td>\n",
       "      <td>6.0</td>\n",
       "    </tr>\n",
       "    <tr>\n",
       "      <th>116</th>\n",
       "      <td>70대</td>\n",
       "      <td>남</td>\n",
       "      <td>고혈압</td>\n",
       "      <td>5.0</td>\n",
       "    </tr>\n",
       "    <tr>\n",
       "      <th>120</th>\n",
       "      <td>70대</td>\n",
       "      <td>남</td>\n",
       "      <td>당뇨</td>\n",
       "      <td>3.0</td>\n",
       "    </tr>\n",
       "    <tr>\n",
       "      <th>122</th>\n",
       "      <td>70대</td>\n",
       "      <td>남</td>\n",
       "      <td>기타</td>\n",
       "      <td>2.0</td>\n",
       "    </tr>\n",
       "    <tr>\n",
       "      <th>130</th>\n",
       "      <td>70대</td>\n",
       "      <td>남</td>\n",
       "      <td>기타</td>\n",
       "      <td>2.0</td>\n",
       "    </tr>\n",
       "    <tr>\n",
       "      <th>132</th>\n",
       "      <td>70대</td>\n",
       "      <td>남</td>\n",
       "      <td>기타</td>\n",
       "      <td>2.0</td>\n",
       "    </tr>\n",
       "    <tr>\n",
       "      <th>143</th>\n",
       "      <td>70대</td>\n",
       "      <td>여</td>\n",
       "      <td>기타</td>\n",
       "      <td>2.0</td>\n",
       "    </tr>\n",
       "    <tr>\n",
       "      <th>144</th>\n",
       "      <td>70대</td>\n",
       "      <td>여</td>\n",
       "      <td>기타</td>\n",
       "      <td>2.0</td>\n",
       "    </tr>\n",
       "    <tr>\n",
       "      <th>149</th>\n",
       "      <td>70대</td>\n",
       "      <td>여</td>\n",
       "      <td>기타</td>\n",
       "      <td>2.0</td>\n",
       "    </tr>\n",
       "    <tr>\n",
       "      <th>117</th>\n",
       "      <td>70대</td>\n",
       "      <td>남</td>\n",
       "      <td>기타</td>\n",
       "      <td>1.0</td>\n",
       "    </tr>\n",
       "    <tr>\n",
       "      <th>124</th>\n",
       "      <td>70대</td>\n",
       "      <td>남</td>\n",
       "      <td>기타</td>\n",
       "      <td>1.0</td>\n",
       "    </tr>\n",
       "    <tr>\n",
       "      <th>125</th>\n",
       "      <td>70대</td>\n",
       "      <td>남</td>\n",
       "      <td>기타</td>\n",
       "      <td>1.0</td>\n",
       "    </tr>\n",
       "    <tr>\n",
       "      <th>128</th>\n",
       "      <td>70대</td>\n",
       "      <td>남</td>\n",
       "      <td>기타</td>\n",
       "      <td>1.0</td>\n",
       "    </tr>\n",
       "    <tr>\n",
       "      <th>131</th>\n",
       "      <td>70대</td>\n",
       "      <td>남</td>\n",
       "      <td>기타</td>\n",
       "      <td>1.0</td>\n",
       "    </tr>\n",
       "    <tr>\n",
       "      <th>136</th>\n",
       "      <td>70대</td>\n",
       "      <td>여</td>\n",
       "      <td>기타</td>\n",
       "      <td>1.0</td>\n",
       "    </tr>\n",
       "    <tr>\n",
       "      <th>137</th>\n",
       "      <td>70대</td>\n",
       "      <td>여</td>\n",
       "      <td>기타</td>\n",
       "      <td>1.0</td>\n",
       "    </tr>\n",
       "    <tr>\n",
       "      <th>150</th>\n",
       "      <td>70대</td>\n",
       "      <td>여</td>\n",
       "      <td>기타</td>\n",
       "      <td>1.0</td>\n",
       "    </tr>\n",
       "    <tr>\n",
       "      <th>173</th>\n",
       "      <td>80대</td>\n",
       "      <td>여</td>\n",
       "      <td>고혈압</td>\n",
       "      <td>7.0</td>\n",
       "    </tr>\n",
       "    <tr>\n",
       "      <th>154</th>\n",
       "      <td>80대</td>\n",
       "      <td>남</td>\n",
       "      <td>고혈압</td>\n",
       "      <td>5.0</td>\n",
       "    </tr>\n",
       "    <tr>\n",
       "      <th>158</th>\n",
       "      <td>80대</td>\n",
       "      <td>남</td>\n",
       "      <td>당뇨</td>\n",
       "      <td>4.0</td>\n",
       "    </tr>\n",
       "    <tr>\n",
       "      <th>168</th>\n",
       "      <td>80대</td>\n",
       "      <td>남</td>\n",
       "      <td>정신질환</td>\n",
       "      <td>4.0</td>\n",
       "    </tr>\n",
       "    <tr>\n",
       "      <th>177</th>\n",
       "      <td>80대</td>\n",
       "      <td>여</td>\n",
       "      <td>당뇨</td>\n",
       "      <td>4.0</td>\n",
       "    </tr>\n",
       "    <tr>\n",
       "      <th>163</th>\n",
       "      <td>80대</td>\n",
       "      <td>남</td>\n",
       "      <td>암</td>\n",
       "      <td>3.0</td>\n",
       "    </tr>\n",
       "    <tr>\n",
       "      <th>183</th>\n",
       "      <td>80대</td>\n",
       "      <td>여</td>\n",
       "      <td>기타</td>\n",
       "      <td>2.0</td>\n",
       "    </tr>\n",
       "    <tr>\n",
       "      <th>186</th>\n",
       "      <td>80대</td>\n",
       "      <td>여</td>\n",
       "      <td>기타</td>\n",
       "      <td>2.0</td>\n",
       "    </tr>\n",
       "    <tr>\n",
       "      <th>153</th>\n",
       "      <td>80대</td>\n",
       "      <td>남</td>\n",
       "      <td>기타</td>\n",
       "      <td>1.0</td>\n",
       "    </tr>\n",
       "    <tr>\n",
       "      <th>156</th>\n",
       "      <td>80대</td>\n",
       "      <td>남</td>\n",
       "      <td>기타</td>\n",
       "      <td>1.0</td>\n",
       "    </tr>\n",
       "    <tr>\n",
       "      <th>157</th>\n",
       "      <td>80대</td>\n",
       "      <td>남</td>\n",
       "      <td>기타</td>\n",
       "      <td>1.0</td>\n",
       "    </tr>\n",
       "    <tr>\n",
       "      <th>160</th>\n",
       "      <td>80대</td>\n",
       "      <td>남</td>\n",
       "      <td>기타</td>\n",
       "      <td>1.0</td>\n",
       "    </tr>\n",
       "    <tr>\n",
       "      <th>164</th>\n",
       "      <td>80대</td>\n",
       "      <td>남</td>\n",
       "      <td>기타</td>\n",
       "      <td>1.0</td>\n",
       "    </tr>\n",
       "    <tr>\n",
       "      <th>170</th>\n",
       "      <td>80대</td>\n",
       "      <td>남</td>\n",
       "      <td>기타</td>\n",
       "      <td>1.0</td>\n",
       "    </tr>\n",
       "    <tr>\n",
       "      <th>187</th>\n",
       "      <td>80대</td>\n",
       "      <td>여</td>\n",
       "      <td>기타</td>\n",
       "      <td>1.0</td>\n",
       "    </tr>\n",
       "    <tr>\n",
       "      <th>189</th>\n",
       "      <td>80대</td>\n",
       "      <td>여</td>\n",
       "      <td>기타</td>\n",
       "      <td>1.0</td>\n",
       "    </tr>\n",
       "    <tr>\n",
       "      <th>225</th>\n",
       "      <td>90대</td>\n",
       "      <td>여</td>\n",
       "      <td>기타</td>\n",
       "      <td>2.0</td>\n",
       "    </tr>\n",
       "    <tr>\n",
       "      <th>206</th>\n",
       "      <td>90대</td>\n",
       "      <td>남</td>\n",
       "      <td>기타</td>\n",
       "      <td>1.0</td>\n",
       "    </tr>\n",
       "    <tr>\n",
       "      <th>211</th>\n",
       "      <td>90대</td>\n",
       "      <td>여</td>\n",
       "      <td>기타</td>\n",
       "      <td>1.0</td>\n",
       "    </tr>\n",
       "    <tr>\n",
       "      <th>219</th>\n",
       "      <td>90대</td>\n",
       "      <td>여</td>\n",
       "      <td>기타</td>\n",
       "      <td>1.0</td>\n",
       "    </tr>\n",
       "    <tr>\n",
       "      <th>220</th>\n",
       "      <td>90대</td>\n",
       "      <td>여</td>\n",
       "      <td>기타</td>\n",
       "      <td>1.0</td>\n",
       "    </tr>\n",
       "  </tbody>\n",
       "</table>\n",
       "</div>"
      ],
      "text/plain": [
       "     연령대 성별 variable  value\n",
       "0    30대  남       기타    1.0\n",
       "21   40대  남       기타    1.0\n",
       "51   50대  남     정신질환    3.0\n",
       "65   50대  여       기타    1.0\n",
       "70   50대  여       기타    1.0\n",
       "82   60대  남       당뇨    4.0\n",
       "78   60대  남      고혈압    3.0\n",
       "87   60대  남        암    3.0\n",
       "89   60대  남     정신질환    3.0\n",
       "97   60대  여      고혈압    3.0\n",
       "101  60대  여       기타    2.0\n",
       "77   60대  남       기타    1.0\n",
       "83   60대  남       기타    1.0\n",
       "84   60대  남       기타    1.0\n",
       "85   60대  남       기타    1.0\n",
       "103  60대  여       기타    1.0\n",
       "106  60대  여       기타    1.0\n",
       "135  70대  여      고혈압    6.0\n",
       "139  70대  여       당뇨    6.0\n",
       "116  70대  남      고혈압    5.0\n",
       "120  70대  남       당뇨    3.0\n",
       "122  70대  남       기타    2.0\n",
       "130  70대  남       기타    2.0\n",
       "132  70대  남       기타    2.0\n",
       "143  70대  여       기타    2.0\n",
       "144  70대  여       기타    2.0\n",
       "149  70대  여       기타    2.0\n",
       "117  70대  남       기타    1.0\n",
       "124  70대  남       기타    1.0\n",
       "125  70대  남       기타    1.0\n",
       "128  70대  남       기타    1.0\n",
       "131  70대  남       기타    1.0\n",
       "136  70대  여       기타    1.0\n",
       "137  70대  여       기타    1.0\n",
       "150  70대  여       기타    1.0\n",
       "173  80대  여      고혈압    7.0\n",
       "154  80대  남      고혈압    5.0\n",
       "158  80대  남       당뇨    4.0\n",
       "168  80대  남     정신질환    4.0\n",
       "177  80대  여       당뇨    4.0\n",
       "163  80대  남        암    3.0\n",
       "183  80대  여       기타    2.0\n",
       "186  80대  여       기타    2.0\n",
       "153  80대  남       기타    1.0\n",
       "156  80대  남       기타    1.0\n",
       "157  80대  남       기타    1.0\n",
       "160  80대  남       기타    1.0\n",
       "164  80대  남       기타    1.0\n",
       "170  80대  남       기타    1.0\n",
       "187  80대  여       기타    1.0\n",
       "189  80대  여       기타    1.0\n",
       "225  90대  여       기타    2.0\n",
       "206  90대  남       기타    1.0\n",
       "211  90대  여       기타    1.0\n",
       "219  90대  여       기타    1.0\n",
       "220  90대  여       기타    1.0"
      ]
     },
     "execution_count": 32,
     "metadata": {},
     "output_type": "execute_result"
    }
   ],
   "source": [
    "pt_data1 =pd.pivot_table(pt, index=['연령대','성별','variable'], values='value', aggfunc='sum').reset_index()\n",
    "pt_data1.loc[(pt_data1['value'] == 1) | (pt_data1['value'] == 2), 'variable'] = '기타'\n",
    "pt_data1.loc[pt_data1['variable'] == '치매', 'variable'] = '정신질환'\n",
    "pt_data1 = pt_data1.sort_values(['연령대','value'], ascending=[True, False])\n",
    "pt_data1['value'] =pt_data1['value'].replace(0,np.nan)\n",
    "pt_data1.dropna()"
   ]
  },
  {
   "cell_type": "code",
   "execution_count": 43,
   "metadata": {},
   "outputs": [
    {
     "data": {
      "application/vnd.plotly.v1+json": {
       "config": {
        "plotlyServerURL": "https://plot.ly"
       },
       "data": [
        {
         "alignmentgroup": "True",
         "hoverlabel": {
          "namelength": 0
         },
         "hovertemplate": "variable=기타<br>성별=남<br>연령대=%{x}<br>value=%{y}",
         "legendgroup": "기타",
         "marker": {
          "color": "#636efa"
         },
         "name": "기타",
         "offsetgroup": "기타",
         "orientation": "v",
         "showlegend": true,
         "textposition": "auto",
         "type": "bar",
         "x": [
          "30대",
          "40대",
          "60대",
          "60대",
          "60대",
          "60대",
          "70대",
          "70대",
          "70대",
          "70대",
          "70대",
          "70대",
          "70대",
          "70대",
          "80대",
          "80대",
          "80대",
          "80대",
          "80대",
          "80대",
          "90대"
         ],
         "xaxis": "x",
         "y": [
          1,
          1,
          1,
          1,
          1,
          1,
          2,
          2,
          2,
          1,
          1,
          1,
          1,
          1,
          1,
          1,
          1,
          1,
          1,
          1,
          1
         ],
         "yaxis": "y"
        },
        {
         "alignmentgroup": "True",
         "hoverlabel": {
          "namelength": 0
         },
         "hovertemplate": "variable=기타<br>성별=여<br>연령대=%{x}<br>value=%{y}",
         "legendgroup": "기타",
         "marker": {
          "color": "#636efa"
         },
         "name": "기타",
         "offsetgroup": "기타",
         "orientation": "v",
         "showlegend": false,
         "textposition": "auto",
         "type": "bar",
         "x": [
          "50대",
          "50대",
          "60대",
          "60대",
          "60대",
          "70대",
          "70대",
          "70대",
          "70대",
          "70대",
          "70대",
          "80대",
          "80대",
          "80대",
          "80대",
          "90대",
          "90대",
          "90대",
          "90대"
         ],
         "xaxis": "x2",
         "y": [
          1,
          1,
          2,
          1,
          1,
          2,
          2,
          2,
          1,
          1,
          1,
          2,
          2,
          1,
          1,
          2,
          1,
          1,
          1
         ],
         "yaxis": "y2"
        },
        {
         "alignmentgroup": "True",
         "hoverlabel": {
          "namelength": 0
         },
         "hovertemplate": "variable=고지혈증<br>성별=남<br>연령대=%{x}<br>value=%{y}",
         "legendgroup": "고지혈증",
         "marker": {
          "color": "#EF553B"
         },
         "name": "고지혈증",
         "offsetgroup": "고지혈증",
         "orientation": "v",
         "showlegend": true,
         "textposition": "auto",
         "type": "bar",
         "x": [
          "30대",
          "40대",
          "50대",
          "70대",
          "90대"
         ],
         "xaxis": "x",
         "y": [
          null,
          null,
          null,
          null,
          null
         ],
         "yaxis": "y"
        },
        {
         "alignmentgroup": "True",
         "hoverlabel": {
          "namelength": 0
         },
         "hovertemplate": "variable=고지혈증<br>성별=여<br>연령대=%{x}<br>value=%{y}",
         "legendgroup": "고지혈증",
         "marker": {
          "color": "#EF553B"
         },
         "name": "고지혈증",
         "offsetgroup": "고지혈증",
         "orientation": "v",
         "showlegend": false,
         "textposition": "auto",
         "type": "bar",
         "x": [
          "50대",
          "60대",
          "70대",
          "80대",
          "90대"
         ],
         "xaxis": "x2",
         "y": [
          null,
          null,
          null,
          null,
          null
         ],
         "yaxis": "y2"
        },
        {
         "alignmentgroup": "True",
         "hoverlabel": {
          "namelength": 0
         },
         "hovertemplate": "variable=고혈압<br>성별=남<br>연령대=%{x}<br>value=%{y}",
         "legendgroup": "고혈압",
         "marker": {
          "color": "#00cc96"
         },
         "name": "고혈압",
         "offsetgroup": "고혈압",
         "orientation": "v",
         "showlegend": true,
         "textposition": "auto",
         "type": "bar",
         "x": [
          "30대",
          "50대",
          "60대",
          "70대",
          "80대",
          "90대"
         ],
         "xaxis": "x",
         "y": [
          null,
          null,
          3,
          5,
          5,
          null
         ],
         "yaxis": "y"
        },
        {
         "alignmentgroup": "True",
         "hoverlabel": {
          "namelength": 0
         },
         "hovertemplate": "variable=고혈압<br>성별=여<br>연령대=%{x}<br>value=%{y}",
         "legendgroup": "고혈압",
         "marker": {
          "color": "#00cc96"
         },
         "name": "고혈압",
         "offsetgroup": "고혈압",
         "orientation": "v",
         "showlegend": false,
         "textposition": "auto",
         "type": "bar",
         "x": [
          "50대",
          "60대",
          "70대",
          "80대"
         ],
         "xaxis": "x2",
         "y": [
          null,
          3,
          6,
          7
         ],
         "yaxis": "y2"
        },
        {
         "alignmentgroup": "True",
         "hoverlabel": {
          "namelength": 0
         },
         "hovertemplate": "variable=기관지염<br>성별=남<br>연령대=%{x}<br>value=%{y}",
         "legendgroup": "기관지염",
         "marker": {
          "color": "#ab63fa"
         },
         "name": "기관지염",
         "offsetgroup": "기관지염",
         "orientation": "v",
         "showlegend": true,
         "textposition": "auto",
         "type": "bar",
         "x": [
          "30대",
          "40대",
          "50대",
          "60대",
          "80대",
          "90대"
         ],
         "xaxis": "x",
         "y": [
          null,
          null,
          null,
          null,
          null,
          null
         ],
         "yaxis": "y"
        },
        {
         "alignmentgroup": "True",
         "hoverlabel": {
          "namelength": 0
         },
         "hovertemplate": "variable=기관지염<br>성별=여<br>연령대=%{x}<br>value=%{y}",
         "legendgroup": "기관지염",
         "marker": {
          "color": "#ab63fa"
         },
         "name": "기관지염",
         "offsetgroup": "기관지염",
         "orientation": "v",
         "showlegend": false,
         "textposition": "auto",
         "type": "bar",
         "x": [
          "50대",
          "60대",
          "80대",
          "90대"
         ],
         "xaxis": "x2",
         "y": [
          null,
          null,
          null,
          null
         ],
         "yaxis": "y2"
        },
        {
         "alignmentgroup": "True",
         "hoverlabel": {
          "namelength": 0
         },
         "hovertemplate": "variable=뇌경색<br>성별=남<br>연령대=%{x}<br>value=%{y}",
         "legendgroup": "뇌경색",
         "marker": {
          "color": "#FFA15A"
         },
         "name": "뇌경색",
         "offsetgroup": "뇌경색",
         "orientation": "v",
         "showlegend": true,
         "textposition": "auto",
         "type": "bar",
         "x": [
          "30대",
          "40대",
          "50대",
          "60대",
          "70대",
          "90대"
         ],
         "xaxis": "x",
         "y": [
          null,
          null,
          null,
          null,
          null,
          null
         ],
         "yaxis": "y"
        },
        {
         "alignmentgroup": "True",
         "hoverlabel": {
          "namelength": 0
         },
         "hovertemplate": "variable=뇌경색<br>성별=여<br>연령대=%{x}<br>value=%{y}",
         "legendgroup": "뇌경색",
         "marker": {
          "color": "#FFA15A"
         },
         "name": "뇌경색",
         "offsetgroup": "뇌경색",
         "orientation": "v",
         "showlegend": false,
         "textposition": "auto",
         "type": "bar",
         "x": [
          "50대",
          "60대",
          "80대",
          "90대"
         ],
         "xaxis": "x2",
         "y": [
          null,
          null,
          null,
          null
         ],
         "yaxis": "y2"
        },
        {
         "alignmentgroup": "True",
         "hoverlabel": {
          "namelength": 0
         },
         "hovertemplate": "variable=뇌졸증<br>성별=남<br>연령대=%{x}<br>value=%{y}",
         "legendgroup": "뇌졸증",
         "marker": {
          "color": "#19d3f3"
         },
         "name": "뇌졸증",
         "offsetgroup": "뇌졸증",
         "orientation": "v",
         "showlegend": true,
         "textposition": "auto",
         "type": "bar",
         "x": [
          "30대",
          "40대",
          "50대",
          "60대",
          "70대",
          "90대"
         ],
         "xaxis": "x",
         "y": [
          null,
          null,
          null,
          null,
          null,
          null
         ],
         "yaxis": "y"
        },
        {
         "alignmentgroup": "True",
         "hoverlabel": {
          "namelength": 0
         },
         "hovertemplate": "variable=뇌졸증<br>성별=여<br>연령대=%{x}<br>value=%{y}",
         "legendgroup": "뇌졸증",
         "marker": {
          "color": "#19d3f3"
         },
         "name": "뇌졸증",
         "offsetgroup": "뇌졸증",
         "orientation": "v",
         "showlegend": false,
         "textposition": "auto",
         "type": "bar",
         "x": [
          "50대",
          "60대",
          "70대",
          "80대",
          "90대"
         ],
         "xaxis": "x2",
         "y": [
          null,
          null,
          null,
          null,
          null
         ],
         "yaxis": "y2"
        },
        {
         "alignmentgroup": "True",
         "hoverlabel": {
          "namelength": 0
         },
         "hovertemplate": "variable=당뇨<br>성별=남<br>연령대=%{x}<br>value=%{y}",
         "legendgroup": "당뇨",
         "marker": {
          "color": "#FF6692"
         },
         "name": "당뇨",
         "offsetgroup": "당뇨",
         "orientation": "v",
         "showlegend": true,
         "textposition": "auto",
         "type": "bar",
         "x": [
          "30대",
          "40대",
          "50대",
          "60대",
          "70대",
          "80대",
          "90대"
         ],
         "xaxis": "x",
         "y": [
          null,
          null,
          null,
          4,
          3,
          4,
          null
         ],
         "yaxis": "y"
        },
        {
         "alignmentgroup": "True",
         "hoverlabel": {
          "namelength": 0
         },
         "hovertemplate": "variable=당뇨<br>성별=여<br>연령대=%{x}<br>value=%{y}",
         "legendgroup": "당뇨",
         "marker": {
          "color": "#FF6692"
         },
         "name": "당뇨",
         "offsetgroup": "당뇨",
         "orientation": "v",
         "showlegend": false,
         "textposition": "auto",
         "type": "bar",
         "x": [
          "50대",
          "70대",
          "80대",
          "90대"
         ],
         "xaxis": "x2",
         "y": [
          null,
          6,
          4,
          null
         ],
         "yaxis": "y2"
        },
        {
         "alignmentgroup": "True",
         "hoverlabel": {
          "namelength": 0
         },
         "hovertemplate": "variable=부정맥<br>성별=남<br>연령대=%{x}<br>value=%{y}",
         "legendgroup": "부정맥",
         "marker": {
          "color": "#B6E880"
         },
         "name": "부정맥",
         "offsetgroup": "부정맥",
         "orientation": "v",
         "showlegend": true,
         "textposition": "auto",
         "type": "bar",
         "x": [
          "30대",
          "40대",
          "50대",
          "70대",
          "80대",
          "90대"
         ],
         "xaxis": "x",
         "y": [
          null,
          null,
          null,
          null,
          null,
          null
         ],
         "yaxis": "y"
        },
        {
         "alignmentgroup": "True",
         "hoverlabel": {
          "namelength": 0
         },
         "hovertemplate": "variable=부정맥<br>성별=여<br>연령대=%{x}<br>value=%{y}",
         "legendgroup": "부정맥",
         "marker": {
          "color": "#B6E880"
         },
         "name": "부정맥",
         "offsetgroup": "부정맥",
         "orientation": "v",
         "showlegend": false,
         "textposition": "auto",
         "type": "bar",
         "x": [
          "50대",
          "60대",
          "70대",
          "80대",
          "90대"
         ],
         "xaxis": "x2",
         "y": [
          null,
          null,
          null,
          null,
          null
         ],
         "yaxis": "y2"
        },
        {
         "alignmentgroup": "True",
         "hoverlabel": {
          "namelength": 0
         },
         "hovertemplate": "variable=신질환<br>성별=남<br>연령대=%{x}<br>value=%{y}",
         "legendgroup": "신질환",
         "marker": {
          "color": "#FF97FF"
         },
         "name": "신질환",
         "offsetgroup": "신질환",
         "orientation": "v",
         "showlegend": true,
         "textposition": "auto",
         "type": "bar",
         "x": [
          "30대",
          "40대",
          "50대",
          "90대"
         ],
         "xaxis": "x",
         "y": [
          null,
          null,
          null,
          null
         ],
         "yaxis": "y"
        },
        {
         "alignmentgroup": "True",
         "hoverlabel": {
          "namelength": 0
         },
         "hovertemplate": "variable=신질환<br>성별=여<br>연령대=%{x}<br>value=%{y}",
         "legendgroup": "신질환",
         "marker": {
          "color": "#FF97FF"
         },
         "name": "신질환",
         "offsetgroup": "신질환",
         "orientation": "v",
         "showlegend": false,
         "textposition": "auto",
         "type": "bar",
         "x": [
          "70대",
          "80대",
          "90대"
         ],
         "xaxis": "x2",
         "y": [
          null,
          null,
          null
         ],
         "yaxis": "y2"
        },
        {
         "alignmentgroup": "True",
         "hoverlabel": {
          "namelength": 0
         },
         "hovertemplate": "variable=심근경색<br>성별=남<br>연령대=%{x}<br>value=%{y}",
         "legendgroup": "심근경색",
         "marker": {
          "color": "#FECB52"
         },
         "name": "심근경색",
         "offsetgroup": "심근경색",
         "orientation": "v",
         "showlegend": true,
         "textposition": "auto",
         "type": "bar",
         "x": [
          "30대",
          "40대",
          "50대",
          "70대",
          "80대",
          "90대"
         ],
         "xaxis": "x",
         "y": [
          null,
          null,
          null,
          null,
          null,
          null
         ],
         "yaxis": "y"
        },
        {
         "alignmentgroup": "True",
         "hoverlabel": {
          "namelength": 0
         },
         "hovertemplate": "variable=심근경색<br>성별=여<br>연령대=%{x}<br>value=%{y}",
         "legendgroup": "심근경색",
         "marker": {
          "color": "#FECB52"
         },
         "name": "심근경색",
         "offsetgroup": "심근경색",
         "orientation": "v",
         "showlegend": false,
         "textposition": "auto",
         "type": "bar",
         "x": [
          "50대",
          "60대",
          "70대",
          "80대",
          "90대"
         ],
         "xaxis": "x2",
         "y": [
          null,
          null,
          null,
          null,
          null
         ],
         "yaxis": "y2"
        },
        {
         "alignmentgroup": "True",
         "hoverlabel": {
          "namelength": 0
         },
         "hovertemplate": "variable=심장질환<br>성별=남<br>연령대=%{x}<br>value=%{y}",
         "legendgroup": "심장질환",
         "marker": {
          "color": "#636efa"
         },
         "name": "심장질환",
         "offsetgroup": "심장질환",
         "orientation": "v",
         "showlegend": true,
         "textposition": "auto",
         "type": "bar",
         "x": [
          "30대",
          "40대",
          "50대",
          "60대",
          "80대",
          "90대"
         ],
         "xaxis": "x",
         "y": [
          null,
          null,
          null,
          null,
          null,
          null
         ],
         "yaxis": "y"
        },
        {
         "alignmentgroup": "True",
         "hoverlabel": {
          "namelength": 0
         },
         "hovertemplate": "variable=심장질환<br>성별=여<br>연령대=%{x}<br>value=%{y}",
         "legendgroup": "심장질환",
         "marker": {
          "color": "#636efa"
         },
         "name": "심장질환",
         "offsetgroup": "심장질환",
         "orientation": "v",
         "showlegend": false,
         "textposition": "auto",
         "type": "bar",
         "x": [
          "50대",
          "60대",
          "80대"
         ],
         "xaxis": "x2",
         "y": [
          null,
          null,
          null
         ],
         "yaxis": "y2"
        },
        {
         "alignmentgroup": "True",
         "hoverlabel": {
          "namelength": 0
         },
         "hovertemplate": "variable=암<br>성별=남<br>연령대=%{x}<br>value=%{y}",
         "legendgroup": "암",
         "marker": {
          "color": "#EF553B"
         },
         "name": "암",
         "offsetgroup": "암",
         "orientation": "v",
         "showlegend": true,
         "textposition": "auto",
         "type": "bar",
         "x": [
          "30대",
          "40대",
          "50대",
          "60대",
          "80대",
          "90대"
         ],
         "xaxis": "x",
         "y": [
          null,
          null,
          null,
          3,
          3,
          null
         ],
         "yaxis": "y"
        },
        {
         "alignmentgroup": "True",
         "hoverlabel": {
          "namelength": 0
         },
         "hovertemplate": "variable=암<br>성별=여<br>연령대=%{x}<br>value=%{y}",
         "legendgroup": "암",
         "marker": {
          "color": "#EF553B"
         },
         "name": "암",
         "offsetgroup": "암",
         "orientation": "v",
         "showlegend": false,
         "textposition": "auto",
         "type": "bar",
         "x": [
          "50대",
          "80대"
         ],
         "xaxis": "x2",
         "y": [
          null,
          null
         ],
         "yaxis": "y2"
        },
        {
         "alignmentgroup": "True",
         "hoverlabel": {
          "namelength": 0
         },
         "hovertemplate": "variable=장기부전<br>성별=남<br>연령대=%{x}<br>value=%{y}",
         "legendgroup": "장기부전",
         "marker": {
          "color": "#00cc96"
         },
         "name": "장기부전",
         "offsetgroup": "장기부전",
         "orientation": "v",
         "showlegend": true,
         "textposition": "auto",
         "type": "bar",
         "x": [
          "30대",
          "40대",
          "50대",
          "60대",
          "70대",
          "90대"
         ],
         "xaxis": "x",
         "y": [
          null,
          null,
          null,
          null,
          null,
          null
         ],
         "yaxis": "y"
        },
        {
         "alignmentgroup": "True",
         "hoverlabel": {
          "namelength": 0
         },
         "hovertemplate": "variable=장기부전<br>성별=여<br>연령대=%{x}<br>value=%{y}",
         "legendgroup": "장기부전",
         "marker": {
          "color": "#00cc96"
         },
         "name": "장기부전",
         "offsetgroup": "장기부전",
         "orientation": "v",
         "showlegend": false,
         "textposition": "auto",
         "type": "bar",
         "x": [
          "50대",
          "60대",
          "70대",
          "90대"
         ],
         "xaxis": "x2",
         "y": [
          null,
          null,
          null,
          null
         ],
         "yaxis": "y2"
        },
        {
         "alignmentgroup": "True",
         "hoverlabel": {
          "namelength": 0
         },
         "hovertemplate": "variable=정신질환<br>성별=남<br>연령대=%{x}<br>value=%{y}",
         "legendgroup": "정신질환",
         "marker": {
          "color": "#ab63fa"
         },
         "name": "정신질환",
         "offsetgroup": "정신질환",
         "orientation": "v",
         "showlegend": true,
         "textposition": "auto",
         "type": "bar",
         "x": [
          "30대",
          "30대",
          "40대",
          "40대",
          "50대",
          "50대",
          "60대",
          "60대",
          "70대",
          "80대",
          "80대",
          "90대"
         ],
         "xaxis": "x",
         "y": [
          null,
          null,
          null,
          null,
          3,
          null,
          3,
          null,
          null,
          4,
          null,
          null
         ],
         "yaxis": "y"
        },
        {
         "alignmentgroup": "True",
         "hoverlabel": {
          "namelength": 0
         },
         "hovertemplate": "variable=정신질환<br>성별=여<br>연령대=%{x}<br>value=%{y}",
         "legendgroup": "정신질환",
         "marker": {
          "color": "#ab63fa"
         },
         "name": "정신질환",
         "offsetgroup": "정신질환",
         "orientation": "v",
         "showlegend": false,
         "textposition": "auto",
         "type": "bar",
         "x": [
          "50대",
          "60대",
          "60대",
          "70대",
          "80대",
          "90대"
         ],
         "xaxis": "x2",
         "y": [
          null,
          null,
          null,
          null,
          null,
          null
         ],
         "yaxis": "y2"
        },
        {
         "alignmentgroup": "True",
         "hoverlabel": {
          "namelength": 0
         },
         "hovertemplate": "variable=중풍<br>성별=남<br>연령대=%{x}<br>value=%{y}",
         "legendgroup": "중풍",
         "marker": {
          "color": "#FFA15A"
         },
         "name": "중풍",
         "offsetgroup": "중풍",
         "orientation": "v",
         "showlegend": true,
         "textposition": "auto",
         "type": "bar",
         "x": [
          "30대",
          "40대",
          "50대",
          "60대",
          "80대",
          "90대"
         ],
         "xaxis": "x",
         "y": [
          null,
          null,
          null,
          null,
          null,
          null
         ],
         "yaxis": "y"
        },
        {
         "alignmentgroup": "True",
         "hoverlabel": {
          "namelength": 0
         },
         "hovertemplate": "variable=중풍<br>성별=여<br>연령대=%{x}<br>value=%{y}",
         "legendgroup": "중풍",
         "marker": {
          "color": "#FFA15A"
         },
         "name": "중풍",
         "offsetgroup": "중풍",
         "orientation": "v",
         "showlegend": false,
         "textposition": "auto",
         "type": "bar",
         "x": [
          "50대",
          "60대",
          "70대",
          "80대",
          "90대"
         ],
         "xaxis": "x2",
         "y": [
          null,
          null,
          null,
          null,
          null
         ],
         "yaxis": "y2"
        },
        {
         "alignmentgroup": "True",
         "hoverlabel": {
          "namelength": 0
         },
         "hovertemplate": "variable=천식<br>성별=남<br>연령대=%{x}<br>value=%{y}",
         "legendgroup": "천식",
         "marker": {
          "color": "#19d3f3"
         },
         "name": "천식",
         "offsetgroup": "천식",
         "orientation": "v",
         "showlegend": true,
         "textposition": "auto",
         "type": "bar",
         "x": [
          "30대",
          "40대",
          "50대",
          "60대",
          "70대",
          "80대",
          "90대"
         ],
         "xaxis": "x",
         "y": [
          null,
          null,
          null,
          null,
          null,
          null,
          null
         ],
         "yaxis": "y"
        },
        {
         "alignmentgroup": "True",
         "hoverlabel": {
          "namelength": 0
         },
         "hovertemplate": "variable=천식<br>성별=여<br>연령대=%{x}<br>value=%{y}",
         "legendgroup": "천식",
         "marker": {
          "color": "#19d3f3"
         },
         "name": "천식",
         "offsetgroup": "천식",
         "orientation": "v",
         "showlegend": false,
         "textposition": "auto",
         "type": "bar",
         "x": [
          "50대",
          "60대",
          "70대",
          "90대"
         ],
         "xaxis": "x2",
         "y": [
          null,
          null,
          null,
          null
         ],
         "yaxis": "y2"
        },
        {
         "alignmentgroup": "True",
         "hoverlabel": {
          "namelength": 0
         },
         "hovertemplate": "variable=통풍<br>성별=남<br>연령대=%{x}<br>value=%{y}",
         "legendgroup": "통풍",
         "marker": {
          "color": "#FF6692"
         },
         "name": "통풍",
         "offsetgroup": "통풍",
         "orientation": "v",
         "showlegend": true,
         "textposition": "auto",
         "type": "bar",
         "x": [
          "30대",
          "40대",
          "50대",
          "60대",
          "80대",
          "90대"
         ],
         "xaxis": "x",
         "y": [
          null,
          null,
          null,
          null,
          null,
          null
         ],
         "yaxis": "y"
        },
        {
         "alignmentgroup": "True",
         "hoverlabel": {
          "namelength": 0
         },
         "hovertemplate": "variable=통풍<br>성별=여<br>연령대=%{x}<br>value=%{y}",
         "legendgroup": "통풍",
         "marker": {
          "color": "#FF6692"
         },
         "name": "통풍",
         "offsetgroup": "통풍",
         "orientation": "v",
         "showlegend": false,
         "textposition": "auto",
         "type": "bar",
         "x": [
          "50대",
          "60대",
          "80대",
          "90대"
         ],
         "xaxis": "x2",
         "y": [
          null,
          null,
          null,
          null
         ],
         "yaxis": "y2"
        },
        {
         "alignmentgroup": "True",
         "hoverlabel": {
          "namelength": 0
         },
         "hovertemplate": "variable=폐질환<br>성별=남<br>연령대=%{x}<br>value=%{y}",
         "legendgroup": "폐질환",
         "marker": {
          "color": "#B6E880"
         },
         "name": "폐질환",
         "offsetgroup": "폐질환",
         "orientation": "v",
         "showlegend": true,
         "textposition": "auto",
         "type": "bar",
         "x": [
          "30대",
          "40대",
          "50대",
          "60대",
          "90대"
         ],
         "xaxis": "x",
         "y": [
          null,
          null,
          null,
          null,
          null
         ],
         "yaxis": "y"
        },
        {
         "alignmentgroup": "True",
         "hoverlabel": {
          "namelength": 0
         },
         "hovertemplate": "variable=폐질환<br>성별=여<br>연령대=%{x}<br>value=%{y}",
         "legendgroup": "폐질환",
         "marker": {
          "color": "#B6E880"
         },
         "name": "폐질환",
         "offsetgroup": "폐질환",
         "orientation": "v",
         "showlegend": false,
         "textposition": "auto",
         "type": "bar",
         "x": [
          "50대",
          "60대",
          "70대",
          "90대"
         ],
         "xaxis": "x2",
         "y": [
          null,
          null,
          null,
          null
         ],
         "yaxis": "y2"
        },
        {
         "alignmentgroup": "True",
         "hoverlabel": {
          "namelength": 0
         },
         "hovertemplate": "variable=간질환<br>성별=남<br>연령대=%{x}<br>value=%{y}",
         "legendgroup": "간질환",
         "marker": {
          "color": "#FF97FF"
         },
         "name": "간질환",
         "offsetgroup": "간질환",
         "orientation": "v",
         "showlegend": true,
         "textposition": "auto",
         "type": "bar",
         "x": [
          "40대",
          "50대",
          "60대",
          "70대",
          "80대",
          "90대"
         ],
         "xaxis": "x",
         "y": [
          null,
          null,
          null,
          null,
          null,
          null
         ],
         "yaxis": "y"
        },
        {
         "alignmentgroup": "True",
         "hoverlabel": {
          "namelength": 0
         },
         "hovertemplate": "variable=간질환<br>성별=여<br>연령대=%{x}<br>value=%{y}",
         "legendgroup": "간질환",
         "marker": {
          "color": "#FF97FF"
         },
         "name": "간질환",
         "offsetgroup": "간질환",
         "orientation": "v",
         "showlegend": false,
         "textposition": "auto",
         "type": "bar",
         "x": [
          "50대",
          "60대",
          "70대",
          "80대",
          "90대"
         ],
         "xaxis": "x2",
         "y": [
          null,
          null,
          null,
          null,
          null
         ],
         "yaxis": "y2"
        }
       ],
       "layout": {
        "annotations": [
         {
          "font": {},
          "showarrow": false,
          "text": "성별=남",
          "x": 0.245,
          "xanchor": "center",
          "xref": "paper",
          "y": 1,
          "yanchor": "bottom",
          "yref": "paper"
         },
         {
          "font": {},
          "showarrow": false,
          "text": "성별=여",
          "x": 0.755,
          "xanchor": "center",
          "xref": "paper",
          "y": 1,
          "yanchor": "bottom",
          "yref": "paper"
         }
        ],
        "barmode": "stack",
        "height": 500,
        "legend": {
         "title": {
          "text": "variable"
         },
         "tracegroupgap": 0
        },
        "template": {
         "data": {
          "bar": [
           {
            "error_x": {
             "color": "#2a3f5f"
            },
            "error_y": {
             "color": "#2a3f5f"
            },
            "marker": {
             "line": {
              "color": "#E5ECF6",
              "width": 0.5
             }
            },
            "type": "bar"
           }
          ],
          "barpolar": [
           {
            "marker": {
             "line": {
              "color": "#E5ECF6",
              "width": 0.5
             }
            },
            "type": "barpolar"
           }
          ],
          "carpet": [
           {
            "aaxis": {
             "endlinecolor": "#2a3f5f",
             "gridcolor": "white",
             "linecolor": "white",
             "minorgridcolor": "white",
             "startlinecolor": "#2a3f5f"
            },
            "baxis": {
             "endlinecolor": "#2a3f5f",
             "gridcolor": "white",
             "linecolor": "white",
             "minorgridcolor": "white",
             "startlinecolor": "#2a3f5f"
            },
            "type": "carpet"
           }
          ],
          "choropleth": [
           {
            "colorbar": {
             "outlinewidth": 0,
             "ticks": ""
            },
            "type": "choropleth"
           }
          ],
          "contour": [
           {
            "colorbar": {
             "outlinewidth": 0,
             "ticks": ""
            },
            "colorscale": [
             [
              0,
              "#0d0887"
             ],
             [
              0.1111111111111111,
              "#46039f"
             ],
             [
              0.2222222222222222,
              "#7201a8"
             ],
             [
              0.3333333333333333,
              "#9c179e"
             ],
             [
              0.4444444444444444,
              "#bd3786"
             ],
             [
              0.5555555555555556,
              "#d8576b"
             ],
             [
              0.6666666666666666,
              "#ed7953"
             ],
             [
              0.7777777777777778,
              "#fb9f3a"
             ],
             [
              0.8888888888888888,
              "#fdca26"
             ],
             [
              1,
              "#f0f921"
             ]
            ],
            "type": "contour"
           }
          ],
          "contourcarpet": [
           {
            "colorbar": {
             "outlinewidth": 0,
             "ticks": ""
            },
            "type": "contourcarpet"
           }
          ],
          "heatmap": [
           {
            "colorbar": {
             "outlinewidth": 0,
             "ticks": ""
            },
            "colorscale": [
             [
              0,
              "#0d0887"
             ],
             [
              0.1111111111111111,
              "#46039f"
             ],
             [
              0.2222222222222222,
              "#7201a8"
             ],
             [
              0.3333333333333333,
              "#9c179e"
             ],
             [
              0.4444444444444444,
              "#bd3786"
             ],
             [
              0.5555555555555556,
              "#d8576b"
             ],
             [
              0.6666666666666666,
              "#ed7953"
             ],
             [
              0.7777777777777778,
              "#fb9f3a"
             ],
             [
              0.8888888888888888,
              "#fdca26"
             ],
             [
              1,
              "#f0f921"
             ]
            ],
            "type": "heatmap"
           }
          ],
          "heatmapgl": [
           {
            "colorbar": {
             "outlinewidth": 0,
             "ticks": ""
            },
            "colorscale": [
             [
              0,
              "#0d0887"
             ],
             [
              0.1111111111111111,
              "#46039f"
             ],
             [
              0.2222222222222222,
              "#7201a8"
             ],
             [
              0.3333333333333333,
              "#9c179e"
             ],
             [
              0.4444444444444444,
              "#bd3786"
             ],
             [
              0.5555555555555556,
              "#d8576b"
             ],
             [
              0.6666666666666666,
              "#ed7953"
             ],
             [
              0.7777777777777778,
              "#fb9f3a"
             ],
             [
              0.8888888888888888,
              "#fdca26"
             ],
             [
              1,
              "#f0f921"
             ]
            ],
            "type": "heatmapgl"
           }
          ],
          "histogram": [
           {
            "marker": {
             "colorbar": {
              "outlinewidth": 0,
              "ticks": ""
             }
            },
            "type": "histogram"
           }
          ],
          "histogram2d": [
           {
            "colorbar": {
             "outlinewidth": 0,
             "ticks": ""
            },
            "colorscale": [
             [
              0,
              "#0d0887"
             ],
             [
              0.1111111111111111,
              "#46039f"
             ],
             [
              0.2222222222222222,
              "#7201a8"
             ],
             [
              0.3333333333333333,
              "#9c179e"
             ],
             [
              0.4444444444444444,
              "#bd3786"
             ],
             [
              0.5555555555555556,
              "#d8576b"
             ],
             [
              0.6666666666666666,
              "#ed7953"
             ],
             [
              0.7777777777777778,
              "#fb9f3a"
             ],
             [
              0.8888888888888888,
              "#fdca26"
             ],
             [
              1,
              "#f0f921"
             ]
            ],
            "type": "histogram2d"
           }
          ],
          "histogram2dcontour": [
           {
            "colorbar": {
             "outlinewidth": 0,
             "ticks": ""
            },
            "colorscale": [
             [
              0,
              "#0d0887"
             ],
             [
              0.1111111111111111,
              "#46039f"
             ],
             [
              0.2222222222222222,
              "#7201a8"
             ],
             [
              0.3333333333333333,
              "#9c179e"
             ],
             [
              0.4444444444444444,
              "#bd3786"
             ],
             [
              0.5555555555555556,
              "#d8576b"
             ],
             [
              0.6666666666666666,
              "#ed7953"
             ],
             [
              0.7777777777777778,
              "#fb9f3a"
             ],
             [
              0.8888888888888888,
              "#fdca26"
             ],
             [
              1,
              "#f0f921"
             ]
            ],
            "type": "histogram2dcontour"
           }
          ],
          "mesh3d": [
           {
            "colorbar": {
             "outlinewidth": 0,
             "ticks": ""
            },
            "type": "mesh3d"
           }
          ],
          "parcoords": [
           {
            "line": {
             "colorbar": {
              "outlinewidth": 0,
              "ticks": ""
             }
            },
            "type": "parcoords"
           }
          ],
          "pie": [
           {
            "automargin": true,
            "type": "pie"
           }
          ],
          "scatter": [
           {
            "marker": {
             "colorbar": {
              "outlinewidth": 0,
              "ticks": ""
             }
            },
            "type": "scatter"
           }
          ],
          "scatter3d": [
           {
            "line": {
             "colorbar": {
              "outlinewidth": 0,
              "ticks": ""
             }
            },
            "marker": {
             "colorbar": {
              "outlinewidth": 0,
              "ticks": ""
             }
            },
            "type": "scatter3d"
           }
          ],
          "scattercarpet": [
           {
            "marker": {
             "colorbar": {
              "outlinewidth": 0,
              "ticks": ""
             }
            },
            "type": "scattercarpet"
           }
          ],
          "scattergeo": [
           {
            "marker": {
             "colorbar": {
              "outlinewidth": 0,
              "ticks": ""
             }
            },
            "type": "scattergeo"
           }
          ],
          "scattergl": [
           {
            "marker": {
             "colorbar": {
              "outlinewidth": 0,
              "ticks": ""
             }
            },
            "type": "scattergl"
           }
          ],
          "scattermapbox": [
           {
            "marker": {
             "colorbar": {
              "outlinewidth": 0,
              "ticks": ""
             }
            },
            "type": "scattermapbox"
           }
          ],
          "scatterpolar": [
           {
            "marker": {
             "colorbar": {
              "outlinewidth": 0,
              "ticks": ""
             }
            },
            "type": "scatterpolar"
           }
          ],
          "scatterpolargl": [
           {
            "marker": {
             "colorbar": {
              "outlinewidth": 0,
              "ticks": ""
             }
            },
            "type": "scatterpolargl"
           }
          ],
          "scatterternary": [
           {
            "marker": {
             "colorbar": {
              "outlinewidth": 0,
              "ticks": ""
             }
            },
            "type": "scatterternary"
           }
          ],
          "surface": [
           {
            "colorbar": {
             "outlinewidth": 0,
             "ticks": ""
            },
            "colorscale": [
             [
              0,
              "#0d0887"
             ],
             [
              0.1111111111111111,
              "#46039f"
             ],
             [
              0.2222222222222222,
              "#7201a8"
             ],
             [
              0.3333333333333333,
              "#9c179e"
             ],
             [
              0.4444444444444444,
              "#bd3786"
             ],
             [
              0.5555555555555556,
              "#d8576b"
             ],
             [
              0.6666666666666666,
              "#ed7953"
             ],
             [
              0.7777777777777778,
              "#fb9f3a"
             ],
             [
              0.8888888888888888,
              "#fdca26"
             ],
             [
              1,
              "#f0f921"
             ]
            ],
            "type": "surface"
           }
          ],
          "table": [
           {
            "cells": {
             "fill": {
              "color": "#EBF0F8"
             },
             "line": {
              "color": "white"
             }
            },
            "header": {
             "fill": {
              "color": "#C8D4E3"
             },
             "line": {
              "color": "white"
             }
            },
            "type": "table"
           }
          ]
         },
         "layout": {
          "annotationdefaults": {
           "arrowcolor": "#2a3f5f",
           "arrowhead": 0,
           "arrowwidth": 1
          },
          "coloraxis": {
           "colorbar": {
            "outlinewidth": 0,
            "ticks": ""
           }
          },
          "colorscale": {
           "diverging": [
            [
             0,
             "#8e0152"
            ],
            [
             0.1,
             "#c51b7d"
            ],
            [
             0.2,
             "#de77ae"
            ],
            [
             0.3,
             "#f1b6da"
            ],
            [
             0.4,
             "#fde0ef"
            ],
            [
             0.5,
             "#f7f7f7"
            ],
            [
             0.6,
             "#e6f5d0"
            ],
            [
             0.7,
             "#b8e186"
            ],
            [
             0.8,
             "#7fbc41"
            ],
            [
             0.9,
             "#4d9221"
            ],
            [
             1,
             "#276419"
            ]
           ],
           "sequential": [
            [
             0,
             "#0d0887"
            ],
            [
             0.1111111111111111,
             "#46039f"
            ],
            [
             0.2222222222222222,
             "#7201a8"
            ],
            [
             0.3333333333333333,
             "#9c179e"
            ],
            [
             0.4444444444444444,
             "#bd3786"
            ],
            [
             0.5555555555555556,
             "#d8576b"
            ],
            [
             0.6666666666666666,
             "#ed7953"
            ],
            [
             0.7777777777777778,
             "#fb9f3a"
            ],
            [
             0.8888888888888888,
             "#fdca26"
            ],
            [
             1,
             "#f0f921"
            ]
           ],
           "sequentialminus": [
            [
             0,
             "#0d0887"
            ],
            [
             0.1111111111111111,
             "#46039f"
            ],
            [
             0.2222222222222222,
             "#7201a8"
            ],
            [
             0.3333333333333333,
             "#9c179e"
            ],
            [
             0.4444444444444444,
             "#bd3786"
            ],
            [
             0.5555555555555556,
             "#d8576b"
            ],
            [
             0.6666666666666666,
             "#ed7953"
            ],
            [
             0.7777777777777778,
             "#fb9f3a"
            ],
            [
             0.8888888888888888,
             "#fdca26"
            ],
            [
             1,
             "#f0f921"
            ]
           ]
          },
          "colorway": [
           "#636efa",
           "#EF553B",
           "#00cc96",
           "#ab63fa",
           "#FFA15A",
           "#19d3f3",
           "#FF6692",
           "#B6E880",
           "#FF97FF",
           "#FECB52"
          ],
          "font": {
           "color": "#2a3f5f"
          },
          "geo": {
           "bgcolor": "white",
           "lakecolor": "white",
           "landcolor": "#E5ECF6",
           "showlakes": true,
           "showland": true,
           "subunitcolor": "white"
          },
          "hoverlabel": {
           "align": "left"
          },
          "hovermode": "closest",
          "mapbox": {
           "style": "light"
          },
          "paper_bgcolor": "white",
          "plot_bgcolor": "#E5ECF6",
          "polar": {
           "angularaxis": {
            "gridcolor": "white",
            "linecolor": "white",
            "ticks": ""
           },
           "bgcolor": "#E5ECF6",
           "radialaxis": {
            "gridcolor": "white",
            "linecolor": "white",
            "ticks": ""
           }
          },
          "scene": {
           "xaxis": {
            "backgroundcolor": "#E5ECF6",
            "gridcolor": "white",
            "gridwidth": 2,
            "linecolor": "white",
            "showbackground": true,
            "ticks": "",
            "zerolinecolor": "white"
           },
           "yaxis": {
            "backgroundcolor": "#E5ECF6",
            "gridcolor": "white",
            "gridwidth": 2,
            "linecolor": "white",
            "showbackground": true,
            "ticks": "",
            "zerolinecolor": "white"
           },
           "zaxis": {
            "backgroundcolor": "#E5ECF6",
            "gridcolor": "white",
            "gridwidth": 2,
            "linecolor": "white",
            "showbackground": true,
            "ticks": "",
            "zerolinecolor": "white"
           }
          },
          "shapedefaults": {
           "line": {
            "color": "#2a3f5f"
           }
          },
          "ternary": {
           "aaxis": {
            "gridcolor": "white",
            "linecolor": "white",
            "ticks": ""
           },
           "baxis": {
            "gridcolor": "white",
            "linecolor": "white",
            "ticks": ""
           },
           "bgcolor": "#E5ECF6",
           "caxis": {
            "gridcolor": "white",
            "linecolor": "white",
            "ticks": ""
           }
          },
          "title": {
           "x": 0.05
          },
          "xaxis": {
           "automargin": true,
           "gridcolor": "white",
           "linecolor": "white",
           "ticks": "",
           "title": {
            "standoff": 15
           },
           "zerolinecolor": "white",
           "zerolinewidth": 2
          },
          "yaxis": {
           "automargin": true,
           "gridcolor": "white",
           "linecolor": "white",
           "ticks": "",
           "title": {
            "standoff": 15
           },
           "zerolinecolor": "white",
           "zerolinewidth": 2
          }
         }
        },
        "title": {
         "text": "성별 기저질환과 기저질환수"
        },
        "width": 800,
        "xaxis": {
         "anchor": "y",
         "domain": [
          0,
          0.49
         ],
         "title": {
          "text": "연령대"
         }
        },
        "xaxis2": {
         "anchor": "y2",
         "domain": [
          0.51,
          1
         ],
         "matches": "x",
         "title": {
          "text": "연령대"
         }
        },
        "yaxis": {
         "anchor": "x",
         "domain": [
          0,
          1
         ],
         "title": {
          "text": "value"
         }
        },
        "yaxis2": {
         "anchor": "x2",
         "domain": [
          0,
          1
         ],
         "matches": "y",
         "showticklabels": false
        }
       }
      },
      "text/html": [
       "<div>\n",
       "        \n",
       "        \n",
       "            <div id=\"36b6fc69-717a-49a2-8c8d-270bfc72c60a\" class=\"plotly-graph-div\" style=\"height:500px; width:800px;\"></div>\n",
       "            <script type=\"text/javascript\">\n",
       "                require([\"plotly\"], function(Plotly) {\n",
       "                    window.PLOTLYENV=window.PLOTLYENV || {};\n",
       "                    \n",
       "                if (document.getElementById(\"36b6fc69-717a-49a2-8c8d-270bfc72c60a\")) {\n",
       "                    Plotly.newPlot(\n",
       "                        '36b6fc69-717a-49a2-8c8d-270bfc72c60a',\n",
       "                        [{\"alignmentgroup\": \"True\", \"hoverlabel\": {\"namelength\": 0}, \"hovertemplate\": \"variable=\\uae30\\ud0c0<br>\\uc131\\ubcc4=\\ub0a8<br>\\uc5f0\\ub839\\ub300=%{x}<br>value=%{y}\", \"legendgroup\": \"\\uae30\\ud0c0\", \"marker\": {\"color\": \"#636efa\"}, \"name\": \"\\uae30\\ud0c0\", \"offsetgroup\": \"\\uae30\\ud0c0\", \"orientation\": \"v\", \"showlegend\": true, \"textposition\": \"auto\", \"type\": \"bar\", \"x\": [\"30\\ub300\", \"40\\ub300\", \"60\\ub300\", \"60\\ub300\", \"60\\ub300\", \"60\\ub300\", \"70\\ub300\", \"70\\ub300\", \"70\\ub300\", \"70\\ub300\", \"70\\ub300\", \"70\\ub300\", \"70\\ub300\", \"70\\ub300\", \"80\\ub300\", \"80\\ub300\", \"80\\ub300\", \"80\\ub300\", \"80\\ub300\", \"80\\ub300\", \"90\\ub300\"], \"xaxis\": \"x\", \"y\": [1.0, 1.0, 1.0, 1.0, 1.0, 1.0, 2.0, 2.0, 2.0, 1.0, 1.0, 1.0, 1.0, 1.0, 1.0, 1.0, 1.0, 1.0, 1.0, 1.0, 1.0], \"yaxis\": \"y\"}, {\"alignmentgroup\": \"True\", \"hoverlabel\": {\"namelength\": 0}, \"hovertemplate\": \"variable=\\uae30\\ud0c0<br>\\uc131\\ubcc4=\\uc5ec<br>\\uc5f0\\ub839\\ub300=%{x}<br>value=%{y}\", \"legendgroup\": \"\\uae30\\ud0c0\", \"marker\": {\"color\": \"#636efa\"}, \"name\": \"\\uae30\\ud0c0\", \"offsetgroup\": \"\\uae30\\ud0c0\", \"orientation\": \"v\", \"showlegend\": false, \"textposition\": \"auto\", \"type\": \"bar\", \"x\": [\"50\\ub300\", \"50\\ub300\", \"60\\ub300\", \"60\\ub300\", \"60\\ub300\", \"70\\ub300\", \"70\\ub300\", \"70\\ub300\", \"70\\ub300\", \"70\\ub300\", \"70\\ub300\", \"80\\ub300\", \"80\\ub300\", \"80\\ub300\", \"80\\ub300\", \"90\\ub300\", \"90\\ub300\", \"90\\ub300\", \"90\\ub300\"], \"xaxis\": \"x2\", \"y\": [1.0, 1.0, 2.0, 1.0, 1.0, 2.0, 2.0, 2.0, 1.0, 1.0, 1.0, 2.0, 2.0, 1.0, 1.0, 2.0, 1.0, 1.0, 1.0], \"yaxis\": \"y2\"}, {\"alignmentgroup\": \"True\", \"hoverlabel\": {\"namelength\": 0}, \"hovertemplate\": \"variable=\\uace0\\uc9c0\\ud608\\uc99d<br>\\uc131\\ubcc4=\\ub0a8<br>\\uc5f0\\ub839\\ub300=%{x}<br>value=%{y}\", \"legendgroup\": \"\\uace0\\uc9c0\\ud608\\uc99d\", \"marker\": {\"color\": \"#EF553B\"}, \"name\": \"\\uace0\\uc9c0\\ud608\\uc99d\", \"offsetgroup\": \"\\uace0\\uc9c0\\ud608\\uc99d\", \"orientation\": \"v\", \"showlegend\": true, \"textposition\": \"auto\", \"type\": \"bar\", \"x\": [\"30\\ub300\", \"40\\ub300\", \"50\\ub300\", \"70\\ub300\", \"90\\ub300\"], \"xaxis\": \"x\", \"y\": [null, null, null, null, null], \"yaxis\": \"y\"}, {\"alignmentgroup\": \"True\", \"hoverlabel\": {\"namelength\": 0}, \"hovertemplate\": \"variable=\\uace0\\uc9c0\\ud608\\uc99d<br>\\uc131\\ubcc4=\\uc5ec<br>\\uc5f0\\ub839\\ub300=%{x}<br>value=%{y}\", \"legendgroup\": \"\\uace0\\uc9c0\\ud608\\uc99d\", \"marker\": {\"color\": \"#EF553B\"}, \"name\": \"\\uace0\\uc9c0\\ud608\\uc99d\", \"offsetgroup\": \"\\uace0\\uc9c0\\ud608\\uc99d\", \"orientation\": \"v\", \"showlegend\": false, \"textposition\": \"auto\", \"type\": \"bar\", \"x\": [\"50\\ub300\", \"60\\ub300\", \"70\\ub300\", \"80\\ub300\", \"90\\ub300\"], \"xaxis\": \"x2\", \"y\": [null, null, null, null, null], \"yaxis\": \"y2\"}, {\"alignmentgroup\": \"True\", \"hoverlabel\": {\"namelength\": 0}, \"hovertemplate\": \"variable=\\uace0\\ud608\\uc555<br>\\uc131\\ubcc4=\\ub0a8<br>\\uc5f0\\ub839\\ub300=%{x}<br>value=%{y}\", \"legendgroup\": \"\\uace0\\ud608\\uc555\", \"marker\": {\"color\": \"#00cc96\"}, \"name\": \"\\uace0\\ud608\\uc555\", \"offsetgroup\": \"\\uace0\\ud608\\uc555\", \"orientation\": \"v\", \"showlegend\": true, \"textposition\": \"auto\", \"type\": \"bar\", \"x\": [\"30\\ub300\", \"50\\ub300\", \"60\\ub300\", \"70\\ub300\", \"80\\ub300\", \"90\\ub300\"], \"xaxis\": \"x\", \"y\": [null, null, 3.0, 5.0, 5.0, null], \"yaxis\": \"y\"}, {\"alignmentgroup\": \"True\", \"hoverlabel\": {\"namelength\": 0}, \"hovertemplate\": \"variable=\\uace0\\ud608\\uc555<br>\\uc131\\ubcc4=\\uc5ec<br>\\uc5f0\\ub839\\ub300=%{x}<br>value=%{y}\", \"legendgroup\": \"\\uace0\\ud608\\uc555\", \"marker\": {\"color\": \"#00cc96\"}, \"name\": \"\\uace0\\ud608\\uc555\", \"offsetgroup\": \"\\uace0\\ud608\\uc555\", \"orientation\": \"v\", \"showlegend\": false, \"textposition\": \"auto\", \"type\": \"bar\", \"x\": [\"50\\ub300\", \"60\\ub300\", \"70\\ub300\", \"80\\ub300\"], \"xaxis\": \"x2\", \"y\": [null, 3.0, 6.0, 7.0], \"yaxis\": \"y2\"}, {\"alignmentgroup\": \"True\", \"hoverlabel\": {\"namelength\": 0}, \"hovertemplate\": \"variable=\\uae30\\uad00\\uc9c0\\uc5fc<br>\\uc131\\ubcc4=\\ub0a8<br>\\uc5f0\\ub839\\ub300=%{x}<br>value=%{y}\", \"legendgroup\": \"\\uae30\\uad00\\uc9c0\\uc5fc\", \"marker\": {\"color\": \"#ab63fa\"}, \"name\": \"\\uae30\\uad00\\uc9c0\\uc5fc\", \"offsetgroup\": \"\\uae30\\uad00\\uc9c0\\uc5fc\", \"orientation\": \"v\", \"showlegend\": true, \"textposition\": \"auto\", \"type\": \"bar\", \"x\": [\"30\\ub300\", \"40\\ub300\", \"50\\ub300\", \"60\\ub300\", \"80\\ub300\", \"90\\ub300\"], \"xaxis\": \"x\", \"y\": [null, null, null, null, null, null], \"yaxis\": \"y\"}, {\"alignmentgroup\": \"True\", \"hoverlabel\": {\"namelength\": 0}, \"hovertemplate\": \"variable=\\uae30\\uad00\\uc9c0\\uc5fc<br>\\uc131\\ubcc4=\\uc5ec<br>\\uc5f0\\ub839\\ub300=%{x}<br>value=%{y}\", \"legendgroup\": \"\\uae30\\uad00\\uc9c0\\uc5fc\", \"marker\": {\"color\": \"#ab63fa\"}, \"name\": \"\\uae30\\uad00\\uc9c0\\uc5fc\", \"offsetgroup\": \"\\uae30\\uad00\\uc9c0\\uc5fc\", \"orientation\": \"v\", \"showlegend\": false, \"textposition\": \"auto\", \"type\": \"bar\", \"x\": [\"50\\ub300\", \"60\\ub300\", \"80\\ub300\", \"90\\ub300\"], \"xaxis\": \"x2\", \"y\": [null, null, null, null], \"yaxis\": \"y2\"}, {\"alignmentgroup\": \"True\", \"hoverlabel\": {\"namelength\": 0}, \"hovertemplate\": \"variable=\\ub1cc\\uacbd\\uc0c9<br>\\uc131\\ubcc4=\\ub0a8<br>\\uc5f0\\ub839\\ub300=%{x}<br>value=%{y}\", \"legendgroup\": \"\\ub1cc\\uacbd\\uc0c9\", \"marker\": {\"color\": \"#FFA15A\"}, \"name\": \"\\ub1cc\\uacbd\\uc0c9\", \"offsetgroup\": \"\\ub1cc\\uacbd\\uc0c9\", \"orientation\": \"v\", \"showlegend\": true, \"textposition\": \"auto\", \"type\": \"bar\", \"x\": [\"30\\ub300\", \"40\\ub300\", \"50\\ub300\", \"60\\ub300\", \"70\\ub300\", \"90\\ub300\"], \"xaxis\": \"x\", \"y\": [null, null, null, null, null, null], \"yaxis\": \"y\"}, {\"alignmentgroup\": \"True\", \"hoverlabel\": {\"namelength\": 0}, \"hovertemplate\": \"variable=\\ub1cc\\uacbd\\uc0c9<br>\\uc131\\ubcc4=\\uc5ec<br>\\uc5f0\\ub839\\ub300=%{x}<br>value=%{y}\", \"legendgroup\": \"\\ub1cc\\uacbd\\uc0c9\", \"marker\": {\"color\": \"#FFA15A\"}, \"name\": \"\\ub1cc\\uacbd\\uc0c9\", \"offsetgroup\": \"\\ub1cc\\uacbd\\uc0c9\", \"orientation\": \"v\", \"showlegend\": false, \"textposition\": \"auto\", \"type\": \"bar\", \"x\": [\"50\\ub300\", \"60\\ub300\", \"80\\ub300\", \"90\\ub300\"], \"xaxis\": \"x2\", \"y\": [null, null, null, null], \"yaxis\": \"y2\"}, {\"alignmentgroup\": \"True\", \"hoverlabel\": {\"namelength\": 0}, \"hovertemplate\": \"variable=\\ub1cc\\uc878\\uc99d<br>\\uc131\\ubcc4=\\ub0a8<br>\\uc5f0\\ub839\\ub300=%{x}<br>value=%{y}\", \"legendgroup\": \"\\ub1cc\\uc878\\uc99d\", \"marker\": {\"color\": \"#19d3f3\"}, \"name\": \"\\ub1cc\\uc878\\uc99d\", \"offsetgroup\": \"\\ub1cc\\uc878\\uc99d\", \"orientation\": \"v\", \"showlegend\": true, \"textposition\": \"auto\", \"type\": \"bar\", \"x\": [\"30\\ub300\", \"40\\ub300\", \"50\\ub300\", \"60\\ub300\", \"70\\ub300\", \"90\\ub300\"], \"xaxis\": \"x\", \"y\": [null, null, null, null, null, null], \"yaxis\": \"y\"}, {\"alignmentgroup\": \"True\", \"hoverlabel\": {\"namelength\": 0}, \"hovertemplate\": \"variable=\\ub1cc\\uc878\\uc99d<br>\\uc131\\ubcc4=\\uc5ec<br>\\uc5f0\\ub839\\ub300=%{x}<br>value=%{y}\", \"legendgroup\": \"\\ub1cc\\uc878\\uc99d\", \"marker\": {\"color\": \"#19d3f3\"}, \"name\": \"\\ub1cc\\uc878\\uc99d\", \"offsetgroup\": \"\\ub1cc\\uc878\\uc99d\", \"orientation\": \"v\", \"showlegend\": false, \"textposition\": \"auto\", \"type\": \"bar\", \"x\": [\"50\\ub300\", \"60\\ub300\", \"70\\ub300\", \"80\\ub300\", \"90\\ub300\"], \"xaxis\": \"x2\", \"y\": [null, null, null, null, null], \"yaxis\": \"y2\"}, {\"alignmentgroup\": \"True\", \"hoverlabel\": {\"namelength\": 0}, \"hovertemplate\": \"variable=\\ub2f9\\ub1e8<br>\\uc131\\ubcc4=\\ub0a8<br>\\uc5f0\\ub839\\ub300=%{x}<br>value=%{y}\", \"legendgroup\": \"\\ub2f9\\ub1e8\", \"marker\": {\"color\": \"#FF6692\"}, \"name\": \"\\ub2f9\\ub1e8\", \"offsetgroup\": \"\\ub2f9\\ub1e8\", \"orientation\": \"v\", \"showlegend\": true, \"textposition\": \"auto\", \"type\": \"bar\", \"x\": [\"30\\ub300\", \"40\\ub300\", \"50\\ub300\", \"60\\ub300\", \"70\\ub300\", \"80\\ub300\", \"90\\ub300\"], \"xaxis\": \"x\", \"y\": [null, null, null, 4.0, 3.0, 4.0, null], \"yaxis\": \"y\"}, {\"alignmentgroup\": \"True\", \"hoverlabel\": {\"namelength\": 0}, \"hovertemplate\": \"variable=\\ub2f9\\ub1e8<br>\\uc131\\ubcc4=\\uc5ec<br>\\uc5f0\\ub839\\ub300=%{x}<br>value=%{y}\", \"legendgroup\": \"\\ub2f9\\ub1e8\", \"marker\": {\"color\": \"#FF6692\"}, \"name\": \"\\ub2f9\\ub1e8\", \"offsetgroup\": \"\\ub2f9\\ub1e8\", \"orientation\": \"v\", \"showlegend\": false, \"textposition\": \"auto\", \"type\": \"bar\", \"x\": [\"50\\ub300\", \"70\\ub300\", \"80\\ub300\", \"90\\ub300\"], \"xaxis\": \"x2\", \"y\": [null, 6.0, 4.0, null], \"yaxis\": \"y2\"}, {\"alignmentgroup\": \"True\", \"hoverlabel\": {\"namelength\": 0}, \"hovertemplate\": \"variable=\\ubd80\\uc815\\ub9e5<br>\\uc131\\ubcc4=\\ub0a8<br>\\uc5f0\\ub839\\ub300=%{x}<br>value=%{y}\", \"legendgroup\": \"\\ubd80\\uc815\\ub9e5\", \"marker\": {\"color\": \"#B6E880\"}, \"name\": \"\\ubd80\\uc815\\ub9e5\", \"offsetgroup\": \"\\ubd80\\uc815\\ub9e5\", \"orientation\": \"v\", \"showlegend\": true, \"textposition\": \"auto\", \"type\": \"bar\", \"x\": [\"30\\ub300\", \"40\\ub300\", \"50\\ub300\", \"70\\ub300\", \"80\\ub300\", \"90\\ub300\"], \"xaxis\": \"x\", \"y\": [null, null, null, null, null, null], \"yaxis\": \"y\"}, {\"alignmentgroup\": \"True\", \"hoverlabel\": {\"namelength\": 0}, \"hovertemplate\": \"variable=\\ubd80\\uc815\\ub9e5<br>\\uc131\\ubcc4=\\uc5ec<br>\\uc5f0\\ub839\\ub300=%{x}<br>value=%{y}\", \"legendgroup\": \"\\ubd80\\uc815\\ub9e5\", \"marker\": {\"color\": \"#B6E880\"}, \"name\": \"\\ubd80\\uc815\\ub9e5\", \"offsetgroup\": \"\\ubd80\\uc815\\ub9e5\", \"orientation\": \"v\", \"showlegend\": false, \"textposition\": \"auto\", \"type\": \"bar\", \"x\": [\"50\\ub300\", \"60\\ub300\", \"70\\ub300\", \"80\\ub300\", \"90\\ub300\"], \"xaxis\": \"x2\", \"y\": [null, null, null, null, null], \"yaxis\": \"y2\"}, {\"alignmentgroup\": \"True\", \"hoverlabel\": {\"namelength\": 0}, \"hovertemplate\": \"variable=\\uc2e0\\uc9c8\\ud658<br>\\uc131\\ubcc4=\\ub0a8<br>\\uc5f0\\ub839\\ub300=%{x}<br>value=%{y}\", \"legendgroup\": \"\\uc2e0\\uc9c8\\ud658\", \"marker\": {\"color\": \"#FF97FF\"}, \"name\": \"\\uc2e0\\uc9c8\\ud658\", \"offsetgroup\": \"\\uc2e0\\uc9c8\\ud658\", \"orientation\": \"v\", \"showlegend\": true, \"textposition\": \"auto\", \"type\": \"bar\", \"x\": [\"30\\ub300\", \"40\\ub300\", \"50\\ub300\", \"90\\ub300\"], \"xaxis\": \"x\", \"y\": [null, null, null, null], \"yaxis\": \"y\"}, {\"alignmentgroup\": \"True\", \"hoverlabel\": {\"namelength\": 0}, \"hovertemplate\": \"variable=\\uc2e0\\uc9c8\\ud658<br>\\uc131\\ubcc4=\\uc5ec<br>\\uc5f0\\ub839\\ub300=%{x}<br>value=%{y}\", \"legendgroup\": \"\\uc2e0\\uc9c8\\ud658\", \"marker\": {\"color\": \"#FF97FF\"}, \"name\": \"\\uc2e0\\uc9c8\\ud658\", \"offsetgroup\": \"\\uc2e0\\uc9c8\\ud658\", \"orientation\": \"v\", \"showlegend\": false, \"textposition\": \"auto\", \"type\": \"bar\", \"x\": [\"70\\ub300\", \"80\\ub300\", \"90\\ub300\"], \"xaxis\": \"x2\", \"y\": [null, null, null], \"yaxis\": \"y2\"}, {\"alignmentgroup\": \"True\", \"hoverlabel\": {\"namelength\": 0}, \"hovertemplate\": \"variable=\\uc2ec\\uadfc\\uacbd\\uc0c9<br>\\uc131\\ubcc4=\\ub0a8<br>\\uc5f0\\ub839\\ub300=%{x}<br>value=%{y}\", \"legendgroup\": \"\\uc2ec\\uadfc\\uacbd\\uc0c9\", \"marker\": {\"color\": \"#FECB52\"}, \"name\": \"\\uc2ec\\uadfc\\uacbd\\uc0c9\", \"offsetgroup\": \"\\uc2ec\\uadfc\\uacbd\\uc0c9\", \"orientation\": \"v\", \"showlegend\": true, \"textposition\": \"auto\", \"type\": \"bar\", \"x\": [\"30\\ub300\", \"40\\ub300\", \"50\\ub300\", \"70\\ub300\", \"80\\ub300\", \"90\\ub300\"], \"xaxis\": \"x\", \"y\": [null, null, null, null, null, null], \"yaxis\": \"y\"}, {\"alignmentgroup\": \"True\", \"hoverlabel\": {\"namelength\": 0}, \"hovertemplate\": \"variable=\\uc2ec\\uadfc\\uacbd\\uc0c9<br>\\uc131\\ubcc4=\\uc5ec<br>\\uc5f0\\ub839\\ub300=%{x}<br>value=%{y}\", \"legendgroup\": \"\\uc2ec\\uadfc\\uacbd\\uc0c9\", \"marker\": {\"color\": \"#FECB52\"}, \"name\": \"\\uc2ec\\uadfc\\uacbd\\uc0c9\", \"offsetgroup\": \"\\uc2ec\\uadfc\\uacbd\\uc0c9\", \"orientation\": \"v\", \"showlegend\": false, \"textposition\": \"auto\", \"type\": \"bar\", \"x\": [\"50\\ub300\", \"60\\ub300\", \"70\\ub300\", \"80\\ub300\", \"90\\ub300\"], \"xaxis\": \"x2\", \"y\": [null, null, null, null, null], \"yaxis\": \"y2\"}, {\"alignmentgroup\": \"True\", \"hoverlabel\": {\"namelength\": 0}, \"hovertemplate\": \"variable=\\uc2ec\\uc7a5\\uc9c8\\ud658<br>\\uc131\\ubcc4=\\ub0a8<br>\\uc5f0\\ub839\\ub300=%{x}<br>value=%{y}\", \"legendgroup\": \"\\uc2ec\\uc7a5\\uc9c8\\ud658\", \"marker\": {\"color\": \"#636efa\"}, \"name\": \"\\uc2ec\\uc7a5\\uc9c8\\ud658\", \"offsetgroup\": \"\\uc2ec\\uc7a5\\uc9c8\\ud658\", \"orientation\": \"v\", \"showlegend\": true, \"textposition\": \"auto\", \"type\": \"bar\", \"x\": [\"30\\ub300\", \"40\\ub300\", \"50\\ub300\", \"60\\ub300\", \"80\\ub300\", \"90\\ub300\"], \"xaxis\": \"x\", \"y\": [null, null, null, null, null, null], \"yaxis\": \"y\"}, {\"alignmentgroup\": \"True\", \"hoverlabel\": {\"namelength\": 0}, \"hovertemplate\": \"variable=\\uc2ec\\uc7a5\\uc9c8\\ud658<br>\\uc131\\ubcc4=\\uc5ec<br>\\uc5f0\\ub839\\ub300=%{x}<br>value=%{y}\", \"legendgroup\": \"\\uc2ec\\uc7a5\\uc9c8\\ud658\", \"marker\": {\"color\": \"#636efa\"}, \"name\": \"\\uc2ec\\uc7a5\\uc9c8\\ud658\", \"offsetgroup\": \"\\uc2ec\\uc7a5\\uc9c8\\ud658\", \"orientation\": \"v\", \"showlegend\": false, \"textposition\": \"auto\", \"type\": \"bar\", \"x\": [\"50\\ub300\", \"60\\ub300\", \"80\\ub300\"], \"xaxis\": \"x2\", \"y\": [null, null, null], \"yaxis\": \"y2\"}, {\"alignmentgroup\": \"True\", \"hoverlabel\": {\"namelength\": 0}, \"hovertemplate\": \"variable=\\uc554<br>\\uc131\\ubcc4=\\ub0a8<br>\\uc5f0\\ub839\\ub300=%{x}<br>value=%{y}\", \"legendgroup\": \"\\uc554\", \"marker\": {\"color\": \"#EF553B\"}, \"name\": \"\\uc554\", \"offsetgroup\": \"\\uc554\", \"orientation\": \"v\", \"showlegend\": true, \"textposition\": \"auto\", \"type\": \"bar\", \"x\": [\"30\\ub300\", \"40\\ub300\", \"50\\ub300\", \"60\\ub300\", \"80\\ub300\", \"90\\ub300\"], \"xaxis\": \"x\", \"y\": [null, null, null, 3.0, 3.0, null], \"yaxis\": \"y\"}, {\"alignmentgroup\": \"True\", \"hoverlabel\": {\"namelength\": 0}, \"hovertemplate\": \"variable=\\uc554<br>\\uc131\\ubcc4=\\uc5ec<br>\\uc5f0\\ub839\\ub300=%{x}<br>value=%{y}\", \"legendgroup\": \"\\uc554\", \"marker\": {\"color\": \"#EF553B\"}, \"name\": \"\\uc554\", \"offsetgroup\": \"\\uc554\", \"orientation\": \"v\", \"showlegend\": false, \"textposition\": \"auto\", \"type\": \"bar\", \"x\": [\"50\\ub300\", \"80\\ub300\"], \"xaxis\": \"x2\", \"y\": [null, null], \"yaxis\": \"y2\"}, {\"alignmentgroup\": \"True\", \"hoverlabel\": {\"namelength\": 0}, \"hovertemplate\": \"variable=\\uc7a5\\uae30\\ubd80\\uc804<br>\\uc131\\ubcc4=\\ub0a8<br>\\uc5f0\\ub839\\ub300=%{x}<br>value=%{y}\", \"legendgroup\": \"\\uc7a5\\uae30\\ubd80\\uc804\", \"marker\": {\"color\": \"#00cc96\"}, \"name\": \"\\uc7a5\\uae30\\ubd80\\uc804\", \"offsetgroup\": \"\\uc7a5\\uae30\\ubd80\\uc804\", \"orientation\": \"v\", \"showlegend\": true, \"textposition\": \"auto\", \"type\": \"bar\", \"x\": [\"30\\ub300\", \"40\\ub300\", \"50\\ub300\", \"60\\ub300\", \"70\\ub300\", \"90\\ub300\"], \"xaxis\": \"x\", \"y\": [null, null, null, null, null, null], \"yaxis\": \"y\"}, {\"alignmentgroup\": \"True\", \"hoverlabel\": {\"namelength\": 0}, \"hovertemplate\": \"variable=\\uc7a5\\uae30\\ubd80\\uc804<br>\\uc131\\ubcc4=\\uc5ec<br>\\uc5f0\\ub839\\ub300=%{x}<br>value=%{y}\", \"legendgroup\": \"\\uc7a5\\uae30\\ubd80\\uc804\", \"marker\": {\"color\": \"#00cc96\"}, \"name\": \"\\uc7a5\\uae30\\ubd80\\uc804\", \"offsetgroup\": \"\\uc7a5\\uae30\\ubd80\\uc804\", \"orientation\": \"v\", \"showlegend\": false, \"textposition\": \"auto\", \"type\": \"bar\", \"x\": [\"50\\ub300\", \"60\\ub300\", \"70\\ub300\", \"90\\ub300\"], \"xaxis\": \"x2\", \"y\": [null, null, null, null], \"yaxis\": \"y2\"}, {\"alignmentgroup\": \"True\", \"hoverlabel\": {\"namelength\": 0}, \"hovertemplate\": \"variable=\\uc815\\uc2e0\\uc9c8\\ud658<br>\\uc131\\ubcc4=\\ub0a8<br>\\uc5f0\\ub839\\ub300=%{x}<br>value=%{y}\", \"legendgroup\": \"\\uc815\\uc2e0\\uc9c8\\ud658\", \"marker\": {\"color\": \"#ab63fa\"}, \"name\": \"\\uc815\\uc2e0\\uc9c8\\ud658\", \"offsetgroup\": \"\\uc815\\uc2e0\\uc9c8\\ud658\", \"orientation\": \"v\", \"showlegend\": true, \"textposition\": \"auto\", \"type\": \"bar\", \"x\": [\"30\\ub300\", \"30\\ub300\", \"40\\ub300\", \"40\\ub300\", \"50\\ub300\", \"50\\ub300\", \"60\\ub300\", \"60\\ub300\", \"70\\ub300\", \"80\\ub300\", \"80\\ub300\", \"90\\ub300\"], \"xaxis\": \"x\", \"y\": [null, null, null, null, 3.0, null, 3.0, null, null, 4.0, null, null], \"yaxis\": \"y\"}, {\"alignmentgroup\": \"True\", \"hoverlabel\": {\"namelength\": 0}, \"hovertemplate\": \"variable=\\uc815\\uc2e0\\uc9c8\\ud658<br>\\uc131\\ubcc4=\\uc5ec<br>\\uc5f0\\ub839\\ub300=%{x}<br>value=%{y}\", \"legendgroup\": \"\\uc815\\uc2e0\\uc9c8\\ud658\", \"marker\": {\"color\": \"#ab63fa\"}, \"name\": \"\\uc815\\uc2e0\\uc9c8\\ud658\", \"offsetgroup\": \"\\uc815\\uc2e0\\uc9c8\\ud658\", \"orientation\": \"v\", \"showlegend\": false, \"textposition\": \"auto\", \"type\": \"bar\", \"x\": [\"50\\ub300\", \"60\\ub300\", \"60\\ub300\", \"70\\ub300\", \"80\\ub300\", \"90\\ub300\"], \"xaxis\": \"x2\", \"y\": [null, null, null, null, null, null], \"yaxis\": \"y2\"}, {\"alignmentgroup\": \"True\", \"hoverlabel\": {\"namelength\": 0}, \"hovertemplate\": \"variable=\\uc911\\ud48d<br>\\uc131\\ubcc4=\\ub0a8<br>\\uc5f0\\ub839\\ub300=%{x}<br>value=%{y}\", \"legendgroup\": \"\\uc911\\ud48d\", \"marker\": {\"color\": \"#FFA15A\"}, \"name\": \"\\uc911\\ud48d\", \"offsetgroup\": \"\\uc911\\ud48d\", \"orientation\": \"v\", \"showlegend\": true, \"textposition\": \"auto\", \"type\": \"bar\", \"x\": [\"30\\ub300\", \"40\\ub300\", \"50\\ub300\", \"60\\ub300\", \"80\\ub300\", \"90\\ub300\"], \"xaxis\": \"x\", \"y\": [null, null, null, null, null, null], \"yaxis\": \"y\"}, {\"alignmentgroup\": \"True\", \"hoverlabel\": {\"namelength\": 0}, \"hovertemplate\": \"variable=\\uc911\\ud48d<br>\\uc131\\ubcc4=\\uc5ec<br>\\uc5f0\\ub839\\ub300=%{x}<br>value=%{y}\", \"legendgroup\": \"\\uc911\\ud48d\", \"marker\": {\"color\": \"#FFA15A\"}, \"name\": \"\\uc911\\ud48d\", \"offsetgroup\": \"\\uc911\\ud48d\", \"orientation\": \"v\", \"showlegend\": false, \"textposition\": \"auto\", \"type\": \"bar\", \"x\": [\"50\\ub300\", \"60\\ub300\", \"70\\ub300\", \"80\\ub300\", \"90\\ub300\"], \"xaxis\": \"x2\", \"y\": [null, null, null, null, null], \"yaxis\": \"y2\"}, {\"alignmentgroup\": \"True\", \"hoverlabel\": {\"namelength\": 0}, \"hovertemplate\": \"variable=\\ucc9c\\uc2dd<br>\\uc131\\ubcc4=\\ub0a8<br>\\uc5f0\\ub839\\ub300=%{x}<br>value=%{y}\", \"legendgroup\": \"\\ucc9c\\uc2dd\", \"marker\": {\"color\": \"#19d3f3\"}, \"name\": \"\\ucc9c\\uc2dd\", \"offsetgroup\": \"\\ucc9c\\uc2dd\", \"orientation\": \"v\", \"showlegend\": true, \"textposition\": \"auto\", \"type\": \"bar\", \"x\": [\"30\\ub300\", \"40\\ub300\", \"50\\ub300\", \"60\\ub300\", \"70\\ub300\", \"80\\ub300\", \"90\\ub300\"], \"xaxis\": \"x\", \"y\": [null, null, null, null, null, null, null], \"yaxis\": \"y\"}, {\"alignmentgroup\": \"True\", \"hoverlabel\": {\"namelength\": 0}, \"hovertemplate\": \"variable=\\ucc9c\\uc2dd<br>\\uc131\\ubcc4=\\uc5ec<br>\\uc5f0\\ub839\\ub300=%{x}<br>value=%{y}\", \"legendgroup\": \"\\ucc9c\\uc2dd\", \"marker\": {\"color\": \"#19d3f3\"}, \"name\": \"\\ucc9c\\uc2dd\", \"offsetgroup\": \"\\ucc9c\\uc2dd\", \"orientation\": \"v\", \"showlegend\": false, \"textposition\": \"auto\", \"type\": \"bar\", \"x\": [\"50\\ub300\", \"60\\ub300\", \"70\\ub300\", \"90\\ub300\"], \"xaxis\": \"x2\", \"y\": [null, null, null, null], \"yaxis\": \"y2\"}, {\"alignmentgroup\": \"True\", \"hoverlabel\": {\"namelength\": 0}, \"hovertemplate\": \"variable=\\ud1b5\\ud48d<br>\\uc131\\ubcc4=\\ub0a8<br>\\uc5f0\\ub839\\ub300=%{x}<br>value=%{y}\", \"legendgroup\": \"\\ud1b5\\ud48d\", \"marker\": {\"color\": \"#FF6692\"}, \"name\": \"\\ud1b5\\ud48d\", \"offsetgroup\": \"\\ud1b5\\ud48d\", \"orientation\": \"v\", \"showlegend\": true, \"textposition\": \"auto\", \"type\": \"bar\", \"x\": [\"30\\ub300\", \"40\\ub300\", \"50\\ub300\", \"60\\ub300\", \"80\\ub300\", \"90\\ub300\"], \"xaxis\": \"x\", \"y\": [null, null, null, null, null, null], \"yaxis\": \"y\"}, {\"alignmentgroup\": \"True\", \"hoverlabel\": {\"namelength\": 0}, \"hovertemplate\": \"variable=\\ud1b5\\ud48d<br>\\uc131\\ubcc4=\\uc5ec<br>\\uc5f0\\ub839\\ub300=%{x}<br>value=%{y}\", \"legendgroup\": \"\\ud1b5\\ud48d\", \"marker\": {\"color\": \"#FF6692\"}, \"name\": \"\\ud1b5\\ud48d\", \"offsetgroup\": \"\\ud1b5\\ud48d\", \"orientation\": \"v\", \"showlegend\": false, \"textposition\": \"auto\", \"type\": \"bar\", \"x\": [\"50\\ub300\", \"60\\ub300\", \"80\\ub300\", \"90\\ub300\"], \"xaxis\": \"x2\", \"y\": [null, null, null, null], \"yaxis\": \"y2\"}, {\"alignmentgroup\": \"True\", \"hoverlabel\": {\"namelength\": 0}, \"hovertemplate\": \"variable=\\ud3d0\\uc9c8\\ud658<br>\\uc131\\ubcc4=\\ub0a8<br>\\uc5f0\\ub839\\ub300=%{x}<br>value=%{y}\", \"legendgroup\": \"\\ud3d0\\uc9c8\\ud658\", \"marker\": {\"color\": \"#B6E880\"}, \"name\": \"\\ud3d0\\uc9c8\\ud658\", \"offsetgroup\": \"\\ud3d0\\uc9c8\\ud658\", \"orientation\": \"v\", \"showlegend\": true, \"textposition\": \"auto\", \"type\": \"bar\", \"x\": [\"30\\ub300\", \"40\\ub300\", \"50\\ub300\", \"60\\ub300\", \"90\\ub300\"], \"xaxis\": \"x\", \"y\": [null, null, null, null, null], \"yaxis\": \"y\"}, {\"alignmentgroup\": \"True\", \"hoverlabel\": {\"namelength\": 0}, \"hovertemplate\": \"variable=\\ud3d0\\uc9c8\\ud658<br>\\uc131\\ubcc4=\\uc5ec<br>\\uc5f0\\ub839\\ub300=%{x}<br>value=%{y}\", \"legendgroup\": \"\\ud3d0\\uc9c8\\ud658\", \"marker\": {\"color\": \"#B6E880\"}, \"name\": \"\\ud3d0\\uc9c8\\ud658\", \"offsetgroup\": \"\\ud3d0\\uc9c8\\ud658\", \"orientation\": \"v\", \"showlegend\": false, \"textposition\": \"auto\", \"type\": \"bar\", \"x\": [\"50\\ub300\", \"60\\ub300\", \"70\\ub300\", \"90\\ub300\"], \"xaxis\": \"x2\", \"y\": [null, null, null, null], \"yaxis\": \"y2\"}, {\"alignmentgroup\": \"True\", \"hoverlabel\": {\"namelength\": 0}, \"hovertemplate\": \"variable=\\uac04\\uc9c8\\ud658<br>\\uc131\\ubcc4=\\ub0a8<br>\\uc5f0\\ub839\\ub300=%{x}<br>value=%{y}\", \"legendgroup\": \"\\uac04\\uc9c8\\ud658\", \"marker\": {\"color\": \"#FF97FF\"}, \"name\": \"\\uac04\\uc9c8\\ud658\", \"offsetgroup\": \"\\uac04\\uc9c8\\ud658\", \"orientation\": \"v\", \"showlegend\": true, \"textposition\": \"auto\", \"type\": \"bar\", \"x\": [\"40\\ub300\", \"50\\ub300\", \"60\\ub300\", \"70\\ub300\", \"80\\ub300\", \"90\\ub300\"], \"xaxis\": \"x\", \"y\": [null, null, null, null, null, null], \"yaxis\": \"y\"}, {\"alignmentgroup\": \"True\", \"hoverlabel\": {\"namelength\": 0}, \"hovertemplate\": \"variable=\\uac04\\uc9c8\\ud658<br>\\uc131\\ubcc4=\\uc5ec<br>\\uc5f0\\ub839\\ub300=%{x}<br>value=%{y}\", \"legendgroup\": \"\\uac04\\uc9c8\\ud658\", \"marker\": {\"color\": \"#FF97FF\"}, \"name\": \"\\uac04\\uc9c8\\ud658\", \"offsetgroup\": \"\\uac04\\uc9c8\\ud658\", \"orientation\": \"v\", \"showlegend\": false, \"textposition\": \"auto\", \"type\": \"bar\", \"x\": [\"50\\ub300\", \"60\\ub300\", \"70\\ub300\", \"80\\ub300\", \"90\\ub300\"], \"xaxis\": \"x2\", \"y\": [null, null, null, null, null], \"yaxis\": \"y2\"}],\n",
       "                        {\"annotations\": [{\"font\": {}, \"showarrow\": false, \"text\": \"\\uc131\\ubcc4=\\ub0a8\", \"x\": 0.245, \"xanchor\": \"center\", \"xref\": \"paper\", \"y\": 1.0, \"yanchor\": \"bottom\", \"yref\": \"paper\"}, {\"font\": {}, \"showarrow\": false, \"text\": \"\\uc131\\ubcc4=\\uc5ec\", \"x\": 0.755, \"xanchor\": \"center\", \"xref\": \"paper\", \"y\": 1.0, \"yanchor\": \"bottom\", \"yref\": \"paper\"}], \"barmode\": \"stack\", \"height\": 500, \"legend\": {\"title\": {\"text\": \"variable\"}, \"tracegroupgap\": 0}, \"template\": {\"data\": {\"bar\": [{\"error_x\": {\"color\": \"#2a3f5f\"}, \"error_y\": {\"color\": \"#2a3f5f\"}, \"marker\": {\"line\": {\"color\": \"#E5ECF6\", \"width\": 0.5}}, \"type\": \"bar\"}], \"barpolar\": [{\"marker\": {\"line\": {\"color\": \"#E5ECF6\", \"width\": 0.5}}, \"type\": \"barpolar\"}], \"carpet\": [{\"aaxis\": {\"endlinecolor\": \"#2a3f5f\", \"gridcolor\": \"white\", \"linecolor\": \"white\", \"minorgridcolor\": \"white\", \"startlinecolor\": \"#2a3f5f\"}, \"baxis\": {\"endlinecolor\": \"#2a3f5f\", \"gridcolor\": \"white\", \"linecolor\": \"white\", \"minorgridcolor\": \"white\", \"startlinecolor\": \"#2a3f5f\"}, \"type\": \"carpet\"}], \"choropleth\": [{\"colorbar\": {\"outlinewidth\": 0, \"ticks\": \"\"}, \"type\": \"choropleth\"}], \"contour\": [{\"colorbar\": {\"outlinewidth\": 0, \"ticks\": \"\"}, \"colorscale\": [[0.0, \"#0d0887\"], [0.1111111111111111, \"#46039f\"], [0.2222222222222222, \"#7201a8\"], [0.3333333333333333, \"#9c179e\"], [0.4444444444444444, \"#bd3786\"], [0.5555555555555556, \"#d8576b\"], [0.6666666666666666, \"#ed7953\"], [0.7777777777777778, \"#fb9f3a\"], [0.8888888888888888, \"#fdca26\"], [1.0, \"#f0f921\"]], \"type\": \"contour\"}], \"contourcarpet\": [{\"colorbar\": {\"outlinewidth\": 0, \"ticks\": \"\"}, \"type\": \"contourcarpet\"}], \"heatmap\": [{\"colorbar\": {\"outlinewidth\": 0, \"ticks\": \"\"}, \"colorscale\": [[0.0, \"#0d0887\"], [0.1111111111111111, \"#46039f\"], [0.2222222222222222, \"#7201a8\"], [0.3333333333333333, \"#9c179e\"], [0.4444444444444444, \"#bd3786\"], [0.5555555555555556, \"#d8576b\"], [0.6666666666666666, \"#ed7953\"], [0.7777777777777778, \"#fb9f3a\"], [0.8888888888888888, \"#fdca26\"], [1.0, \"#f0f921\"]], \"type\": \"heatmap\"}], \"heatmapgl\": [{\"colorbar\": {\"outlinewidth\": 0, \"ticks\": \"\"}, \"colorscale\": [[0.0, \"#0d0887\"], [0.1111111111111111, \"#46039f\"], [0.2222222222222222, \"#7201a8\"], [0.3333333333333333, \"#9c179e\"], [0.4444444444444444, \"#bd3786\"], [0.5555555555555556, \"#d8576b\"], [0.6666666666666666, \"#ed7953\"], [0.7777777777777778, \"#fb9f3a\"], [0.8888888888888888, \"#fdca26\"], [1.0, \"#f0f921\"]], \"type\": \"heatmapgl\"}], \"histogram\": [{\"marker\": {\"colorbar\": {\"outlinewidth\": 0, \"ticks\": \"\"}}, \"type\": \"histogram\"}], \"histogram2d\": [{\"colorbar\": {\"outlinewidth\": 0, \"ticks\": \"\"}, \"colorscale\": [[0.0, \"#0d0887\"], [0.1111111111111111, \"#46039f\"], [0.2222222222222222, \"#7201a8\"], [0.3333333333333333, \"#9c179e\"], [0.4444444444444444, \"#bd3786\"], [0.5555555555555556, \"#d8576b\"], [0.6666666666666666, \"#ed7953\"], [0.7777777777777778, \"#fb9f3a\"], [0.8888888888888888, \"#fdca26\"], [1.0, \"#f0f921\"]], \"type\": \"histogram2d\"}], \"histogram2dcontour\": [{\"colorbar\": {\"outlinewidth\": 0, \"ticks\": \"\"}, \"colorscale\": [[0.0, \"#0d0887\"], [0.1111111111111111, \"#46039f\"], [0.2222222222222222, \"#7201a8\"], [0.3333333333333333, \"#9c179e\"], [0.4444444444444444, \"#bd3786\"], [0.5555555555555556, \"#d8576b\"], [0.6666666666666666, \"#ed7953\"], [0.7777777777777778, \"#fb9f3a\"], [0.8888888888888888, \"#fdca26\"], [1.0, \"#f0f921\"]], \"type\": \"histogram2dcontour\"}], \"mesh3d\": [{\"colorbar\": {\"outlinewidth\": 0, \"ticks\": \"\"}, \"type\": \"mesh3d\"}], \"parcoords\": [{\"line\": {\"colorbar\": {\"outlinewidth\": 0, \"ticks\": \"\"}}, \"type\": \"parcoords\"}], \"pie\": [{\"automargin\": true, \"type\": \"pie\"}], \"scatter\": [{\"marker\": {\"colorbar\": {\"outlinewidth\": 0, \"ticks\": \"\"}}, \"type\": \"scatter\"}], \"scatter3d\": [{\"line\": {\"colorbar\": {\"outlinewidth\": 0, \"ticks\": \"\"}}, \"marker\": {\"colorbar\": {\"outlinewidth\": 0, \"ticks\": \"\"}}, \"type\": \"scatter3d\"}], \"scattercarpet\": [{\"marker\": {\"colorbar\": {\"outlinewidth\": 0, \"ticks\": \"\"}}, \"type\": \"scattercarpet\"}], \"scattergeo\": [{\"marker\": {\"colorbar\": {\"outlinewidth\": 0, \"ticks\": \"\"}}, \"type\": \"scattergeo\"}], \"scattergl\": [{\"marker\": {\"colorbar\": {\"outlinewidth\": 0, \"ticks\": \"\"}}, \"type\": \"scattergl\"}], \"scattermapbox\": [{\"marker\": {\"colorbar\": {\"outlinewidth\": 0, \"ticks\": \"\"}}, \"type\": \"scattermapbox\"}], \"scatterpolar\": [{\"marker\": {\"colorbar\": {\"outlinewidth\": 0, \"ticks\": \"\"}}, \"type\": \"scatterpolar\"}], \"scatterpolargl\": [{\"marker\": {\"colorbar\": {\"outlinewidth\": 0, \"ticks\": \"\"}}, \"type\": \"scatterpolargl\"}], \"scatterternary\": [{\"marker\": {\"colorbar\": {\"outlinewidth\": 0, \"ticks\": \"\"}}, \"type\": \"scatterternary\"}], \"surface\": [{\"colorbar\": {\"outlinewidth\": 0, \"ticks\": \"\"}, \"colorscale\": [[0.0, \"#0d0887\"], [0.1111111111111111, \"#46039f\"], [0.2222222222222222, \"#7201a8\"], [0.3333333333333333, \"#9c179e\"], [0.4444444444444444, \"#bd3786\"], [0.5555555555555556, \"#d8576b\"], [0.6666666666666666, \"#ed7953\"], [0.7777777777777778, \"#fb9f3a\"], [0.8888888888888888, \"#fdca26\"], [1.0, \"#f0f921\"]], \"type\": \"surface\"}], \"table\": [{\"cells\": {\"fill\": {\"color\": \"#EBF0F8\"}, \"line\": {\"color\": \"white\"}}, \"header\": {\"fill\": {\"color\": \"#C8D4E3\"}, \"line\": {\"color\": \"white\"}}, \"type\": \"table\"}]}, \"layout\": {\"annotationdefaults\": {\"arrowcolor\": \"#2a3f5f\", \"arrowhead\": 0, \"arrowwidth\": 1}, \"coloraxis\": {\"colorbar\": {\"outlinewidth\": 0, \"ticks\": \"\"}}, \"colorscale\": {\"diverging\": [[0, \"#8e0152\"], [0.1, \"#c51b7d\"], [0.2, \"#de77ae\"], [0.3, \"#f1b6da\"], [0.4, \"#fde0ef\"], [0.5, \"#f7f7f7\"], [0.6, \"#e6f5d0\"], [0.7, \"#b8e186\"], [0.8, \"#7fbc41\"], [0.9, \"#4d9221\"], [1, \"#276419\"]], \"sequential\": [[0.0, \"#0d0887\"], [0.1111111111111111, \"#46039f\"], [0.2222222222222222, \"#7201a8\"], [0.3333333333333333, \"#9c179e\"], [0.4444444444444444, \"#bd3786\"], [0.5555555555555556, \"#d8576b\"], [0.6666666666666666, \"#ed7953\"], [0.7777777777777778, \"#fb9f3a\"], [0.8888888888888888, \"#fdca26\"], [1.0, \"#f0f921\"]], \"sequentialminus\": [[0.0, \"#0d0887\"], [0.1111111111111111, \"#46039f\"], [0.2222222222222222, \"#7201a8\"], [0.3333333333333333, \"#9c179e\"], [0.4444444444444444, \"#bd3786\"], [0.5555555555555556, \"#d8576b\"], [0.6666666666666666, \"#ed7953\"], [0.7777777777777778, \"#fb9f3a\"], [0.8888888888888888, \"#fdca26\"], [1.0, \"#f0f921\"]]}, \"colorway\": [\"#636efa\", \"#EF553B\", \"#00cc96\", \"#ab63fa\", \"#FFA15A\", \"#19d3f3\", \"#FF6692\", \"#B6E880\", \"#FF97FF\", \"#FECB52\"], \"font\": {\"color\": \"#2a3f5f\"}, \"geo\": {\"bgcolor\": \"white\", \"lakecolor\": \"white\", \"landcolor\": \"#E5ECF6\", \"showlakes\": true, \"showland\": true, \"subunitcolor\": \"white\"}, \"hoverlabel\": {\"align\": \"left\"}, \"hovermode\": \"closest\", \"mapbox\": {\"style\": \"light\"}, \"paper_bgcolor\": \"white\", \"plot_bgcolor\": \"#E5ECF6\", \"polar\": {\"angularaxis\": {\"gridcolor\": \"white\", \"linecolor\": \"white\", \"ticks\": \"\"}, \"bgcolor\": \"#E5ECF6\", \"radialaxis\": {\"gridcolor\": \"white\", \"linecolor\": \"white\", \"ticks\": \"\"}}, \"scene\": {\"xaxis\": {\"backgroundcolor\": \"#E5ECF6\", \"gridcolor\": \"white\", \"gridwidth\": 2, \"linecolor\": \"white\", \"showbackground\": true, \"ticks\": \"\", \"zerolinecolor\": \"white\"}, \"yaxis\": {\"backgroundcolor\": \"#E5ECF6\", \"gridcolor\": \"white\", \"gridwidth\": 2, \"linecolor\": \"white\", \"showbackground\": true, \"ticks\": \"\", \"zerolinecolor\": \"white\"}, \"zaxis\": {\"backgroundcolor\": \"#E5ECF6\", \"gridcolor\": \"white\", \"gridwidth\": 2, \"linecolor\": \"white\", \"showbackground\": true, \"ticks\": \"\", \"zerolinecolor\": \"white\"}}, \"shapedefaults\": {\"line\": {\"color\": \"#2a3f5f\"}}, \"ternary\": {\"aaxis\": {\"gridcolor\": \"white\", \"linecolor\": \"white\", \"ticks\": \"\"}, \"baxis\": {\"gridcolor\": \"white\", \"linecolor\": \"white\", \"ticks\": \"\"}, \"bgcolor\": \"#E5ECF6\", \"caxis\": {\"gridcolor\": \"white\", \"linecolor\": \"white\", \"ticks\": \"\"}}, \"title\": {\"x\": 0.05}, \"xaxis\": {\"automargin\": true, \"gridcolor\": \"white\", \"linecolor\": \"white\", \"ticks\": \"\", \"title\": {\"standoff\": 15}, \"zerolinecolor\": \"white\", \"zerolinewidth\": 2}, \"yaxis\": {\"automargin\": true, \"gridcolor\": \"white\", \"linecolor\": \"white\", \"ticks\": \"\", \"title\": {\"standoff\": 15}, \"zerolinecolor\": \"white\", \"zerolinewidth\": 2}}}, \"title\": {\"text\": \"\\uc131\\ubcc4 \\uae30\\uc800\\uc9c8\\ud658\\uacfc \\uae30\\uc800\\uc9c8\\ud658\\uc218\"}, \"width\": 800, \"xaxis\": {\"anchor\": \"y\", \"domain\": [0.0, 0.49], \"title\": {\"text\": \"\\uc5f0\\ub839\\ub300\"}}, \"xaxis2\": {\"anchor\": \"y2\", \"domain\": [0.51, 1.0], \"matches\": \"x\", \"title\": {\"text\": \"\\uc5f0\\ub839\\ub300\"}}, \"yaxis\": {\"anchor\": \"x\", \"domain\": [0.0, 1.0], \"title\": {\"text\": \"value\"}}, \"yaxis2\": {\"anchor\": \"x2\", \"domain\": [0.0, 1.0], \"matches\": \"y\", \"showticklabels\": false}},\n",
       "                        {\"responsive\": true}\n",
       "                    ).then(function(){\n",
       "                            \n",
       "var gd = document.getElementById('36b6fc69-717a-49a2-8c8d-270bfc72c60a');\n",
       "var x = new MutationObserver(function (mutations, observer) {{\n",
       "        var display = window.getComputedStyle(gd).display;\n",
       "        if (!display || display === 'none') {{\n",
       "            console.log([gd, 'removed!']);\n",
       "            Plotly.purge(gd);\n",
       "            observer.disconnect();\n",
       "        }}\n",
       "}});\n",
       "\n",
       "// Listen for the removal of the full notebook cells\n",
       "var notebookContainer = gd.closest('#notebook-container');\n",
       "if (notebookContainer) {{\n",
       "    x.observe(notebookContainer, {childList: true});\n",
       "}}\n",
       "\n",
       "// Listen for the clearing of the current output cell\n",
       "var outputEl = gd.closest('.output');\n",
       "if (outputEl) {{\n",
       "    x.observe(outputEl, {childList: true});\n",
       "}}\n",
       "\n",
       "                        })\n",
       "                };\n",
       "                });\n",
       "            </script>\n",
       "        </div>"
      ]
     },
     "metadata": {},
     "output_type": "display_data"
    }
   ],
   "source": [
    "px.bar(pt_data1, x='연령대', y='value', color='variable', barmode='stack',facet_col='성별'\n",
    "       ,width=800,height=500 ,title='성별 기저질환과 기저질환수')"
   ]
  },
  {
   "cell_type": "code",
   "execution_count": 14,
   "metadata": {
    "scrolled": true
   },
   "outputs": [],
   "source": [
    "pt_data2 = pt_data1.groupby(['연령대'])['value'].agg(['sum','count']).reset_index()"
   ]
  },
  {
   "cell_type": "code",
   "execution_count": 15,
   "metadata": {},
   "outputs": [
    {
     "data": {
      "text/plain": [
       "Index(['연령대', 'sum', 'count'], dtype='object')"
      ]
     },
     "execution_count": 15,
     "metadata": {},
     "output_type": "execute_result"
    }
   ],
   "source": [
    "pt_data2.columns"
   ]
  },
  {
   "cell_type": "code",
   "execution_count": 16,
   "metadata": {},
   "outputs": [],
   "source": [
    "pt_data2['평균'] = pt_data2['sum'] / pt_data2['count']"
   ]
  },
  {
   "cell_type": "code",
   "execution_count": 17,
   "metadata": {},
   "outputs": [
    {
     "data": {
      "application/vnd.plotly.v1+json": {
       "config": {
        "plotlyServerURL": "https://plot.ly"
       },
       "data": [
        {
         "hoverlabel": {
          "namelength": 0
         },
         "hovertemplate": "연령대=%{x}<br>평균=%{y}",
         "legendgroup": "",
         "line": {
          "color": "#636efa",
          "dash": "solid"
         },
         "mode": "lines",
         "name": "",
         "showlegend": false,
         "type": "scatter",
         "x": [
          "30대",
          "40대",
          "50대",
          "60대",
          "70대",
          "80대",
          "90대"
         ],
         "xaxis": "x",
         "y": [
          1,
          1,
          2.5,
          3,
          3.6363636363636362,
          3.5454545454545454,
          1.5
         ],
         "yaxis": "y"
        }
       ],
       "layout": {
        "legend": {
         "tracegroupgap": 0
        },
        "template": {
         "data": {
          "bar": [
           {
            "error_x": {
             "color": "#2a3f5f"
            },
            "error_y": {
             "color": "#2a3f5f"
            },
            "marker": {
             "line": {
              "color": "#E5ECF6",
              "width": 0.5
             }
            },
            "type": "bar"
           }
          ],
          "barpolar": [
           {
            "marker": {
             "line": {
              "color": "#E5ECF6",
              "width": 0.5
             }
            },
            "type": "barpolar"
           }
          ],
          "carpet": [
           {
            "aaxis": {
             "endlinecolor": "#2a3f5f",
             "gridcolor": "white",
             "linecolor": "white",
             "minorgridcolor": "white",
             "startlinecolor": "#2a3f5f"
            },
            "baxis": {
             "endlinecolor": "#2a3f5f",
             "gridcolor": "white",
             "linecolor": "white",
             "minorgridcolor": "white",
             "startlinecolor": "#2a3f5f"
            },
            "type": "carpet"
           }
          ],
          "choropleth": [
           {
            "colorbar": {
             "outlinewidth": 0,
             "ticks": ""
            },
            "type": "choropleth"
           }
          ],
          "contour": [
           {
            "colorbar": {
             "outlinewidth": 0,
             "ticks": ""
            },
            "colorscale": [
             [
              0,
              "#0d0887"
             ],
             [
              0.1111111111111111,
              "#46039f"
             ],
             [
              0.2222222222222222,
              "#7201a8"
             ],
             [
              0.3333333333333333,
              "#9c179e"
             ],
             [
              0.4444444444444444,
              "#bd3786"
             ],
             [
              0.5555555555555556,
              "#d8576b"
             ],
             [
              0.6666666666666666,
              "#ed7953"
             ],
             [
              0.7777777777777778,
              "#fb9f3a"
             ],
             [
              0.8888888888888888,
              "#fdca26"
             ],
             [
              1,
              "#f0f921"
             ]
            ],
            "type": "contour"
           }
          ],
          "contourcarpet": [
           {
            "colorbar": {
             "outlinewidth": 0,
             "ticks": ""
            },
            "type": "contourcarpet"
           }
          ],
          "heatmap": [
           {
            "colorbar": {
             "outlinewidth": 0,
             "ticks": ""
            },
            "colorscale": [
             [
              0,
              "#0d0887"
             ],
             [
              0.1111111111111111,
              "#46039f"
             ],
             [
              0.2222222222222222,
              "#7201a8"
             ],
             [
              0.3333333333333333,
              "#9c179e"
             ],
             [
              0.4444444444444444,
              "#bd3786"
             ],
             [
              0.5555555555555556,
              "#d8576b"
             ],
             [
              0.6666666666666666,
              "#ed7953"
             ],
             [
              0.7777777777777778,
              "#fb9f3a"
             ],
             [
              0.8888888888888888,
              "#fdca26"
             ],
             [
              1,
              "#f0f921"
             ]
            ],
            "type": "heatmap"
           }
          ],
          "heatmapgl": [
           {
            "colorbar": {
             "outlinewidth": 0,
             "ticks": ""
            },
            "colorscale": [
             [
              0,
              "#0d0887"
             ],
             [
              0.1111111111111111,
              "#46039f"
             ],
             [
              0.2222222222222222,
              "#7201a8"
             ],
             [
              0.3333333333333333,
              "#9c179e"
             ],
             [
              0.4444444444444444,
              "#bd3786"
             ],
             [
              0.5555555555555556,
              "#d8576b"
             ],
             [
              0.6666666666666666,
              "#ed7953"
             ],
             [
              0.7777777777777778,
              "#fb9f3a"
             ],
             [
              0.8888888888888888,
              "#fdca26"
             ],
             [
              1,
              "#f0f921"
             ]
            ],
            "type": "heatmapgl"
           }
          ],
          "histogram": [
           {
            "marker": {
             "colorbar": {
              "outlinewidth": 0,
              "ticks": ""
             }
            },
            "type": "histogram"
           }
          ],
          "histogram2d": [
           {
            "colorbar": {
             "outlinewidth": 0,
             "ticks": ""
            },
            "colorscale": [
             [
              0,
              "#0d0887"
             ],
             [
              0.1111111111111111,
              "#46039f"
             ],
             [
              0.2222222222222222,
              "#7201a8"
             ],
             [
              0.3333333333333333,
              "#9c179e"
             ],
             [
              0.4444444444444444,
              "#bd3786"
             ],
             [
              0.5555555555555556,
              "#d8576b"
             ],
             [
              0.6666666666666666,
              "#ed7953"
             ],
             [
              0.7777777777777778,
              "#fb9f3a"
             ],
             [
              0.8888888888888888,
              "#fdca26"
             ],
             [
              1,
              "#f0f921"
             ]
            ],
            "type": "histogram2d"
           }
          ],
          "histogram2dcontour": [
           {
            "colorbar": {
             "outlinewidth": 0,
             "ticks": ""
            },
            "colorscale": [
             [
              0,
              "#0d0887"
             ],
             [
              0.1111111111111111,
              "#46039f"
             ],
             [
              0.2222222222222222,
              "#7201a8"
             ],
             [
              0.3333333333333333,
              "#9c179e"
             ],
             [
              0.4444444444444444,
              "#bd3786"
             ],
             [
              0.5555555555555556,
              "#d8576b"
             ],
             [
              0.6666666666666666,
              "#ed7953"
             ],
             [
              0.7777777777777778,
              "#fb9f3a"
             ],
             [
              0.8888888888888888,
              "#fdca26"
             ],
             [
              1,
              "#f0f921"
             ]
            ],
            "type": "histogram2dcontour"
           }
          ],
          "mesh3d": [
           {
            "colorbar": {
             "outlinewidth": 0,
             "ticks": ""
            },
            "type": "mesh3d"
           }
          ],
          "parcoords": [
           {
            "line": {
             "colorbar": {
              "outlinewidth": 0,
              "ticks": ""
             }
            },
            "type": "parcoords"
           }
          ],
          "pie": [
           {
            "automargin": true,
            "type": "pie"
           }
          ],
          "scatter": [
           {
            "marker": {
             "colorbar": {
              "outlinewidth": 0,
              "ticks": ""
             }
            },
            "type": "scatter"
           }
          ],
          "scatter3d": [
           {
            "line": {
             "colorbar": {
              "outlinewidth": 0,
              "ticks": ""
             }
            },
            "marker": {
             "colorbar": {
              "outlinewidth": 0,
              "ticks": ""
             }
            },
            "type": "scatter3d"
           }
          ],
          "scattercarpet": [
           {
            "marker": {
             "colorbar": {
              "outlinewidth": 0,
              "ticks": ""
             }
            },
            "type": "scattercarpet"
           }
          ],
          "scattergeo": [
           {
            "marker": {
             "colorbar": {
              "outlinewidth": 0,
              "ticks": ""
             }
            },
            "type": "scattergeo"
           }
          ],
          "scattergl": [
           {
            "marker": {
             "colorbar": {
              "outlinewidth": 0,
              "ticks": ""
             }
            },
            "type": "scattergl"
           }
          ],
          "scattermapbox": [
           {
            "marker": {
             "colorbar": {
              "outlinewidth": 0,
              "ticks": ""
             }
            },
            "type": "scattermapbox"
           }
          ],
          "scatterpolar": [
           {
            "marker": {
             "colorbar": {
              "outlinewidth": 0,
              "ticks": ""
             }
            },
            "type": "scatterpolar"
           }
          ],
          "scatterpolargl": [
           {
            "marker": {
             "colorbar": {
              "outlinewidth": 0,
              "ticks": ""
             }
            },
            "type": "scatterpolargl"
           }
          ],
          "scatterternary": [
           {
            "marker": {
             "colorbar": {
              "outlinewidth": 0,
              "ticks": ""
             }
            },
            "type": "scatterternary"
           }
          ],
          "surface": [
           {
            "colorbar": {
             "outlinewidth": 0,
             "ticks": ""
            },
            "colorscale": [
             [
              0,
              "#0d0887"
             ],
             [
              0.1111111111111111,
              "#46039f"
             ],
             [
              0.2222222222222222,
              "#7201a8"
             ],
             [
              0.3333333333333333,
              "#9c179e"
             ],
             [
              0.4444444444444444,
              "#bd3786"
             ],
             [
              0.5555555555555556,
              "#d8576b"
             ],
             [
              0.6666666666666666,
              "#ed7953"
             ],
             [
              0.7777777777777778,
              "#fb9f3a"
             ],
             [
              0.8888888888888888,
              "#fdca26"
             ],
             [
              1,
              "#f0f921"
             ]
            ],
            "type": "surface"
           }
          ],
          "table": [
           {
            "cells": {
             "fill": {
              "color": "#EBF0F8"
             },
             "line": {
              "color": "white"
             }
            },
            "header": {
             "fill": {
              "color": "#C8D4E3"
             },
             "line": {
              "color": "white"
             }
            },
            "type": "table"
           }
          ]
         },
         "layout": {
          "annotationdefaults": {
           "arrowcolor": "#2a3f5f",
           "arrowhead": 0,
           "arrowwidth": 1
          },
          "coloraxis": {
           "colorbar": {
            "outlinewidth": 0,
            "ticks": ""
           }
          },
          "colorscale": {
           "diverging": [
            [
             0,
             "#8e0152"
            ],
            [
             0.1,
             "#c51b7d"
            ],
            [
             0.2,
             "#de77ae"
            ],
            [
             0.3,
             "#f1b6da"
            ],
            [
             0.4,
             "#fde0ef"
            ],
            [
             0.5,
             "#f7f7f7"
            ],
            [
             0.6,
             "#e6f5d0"
            ],
            [
             0.7,
             "#b8e186"
            ],
            [
             0.8,
             "#7fbc41"
            ],
            [
             0.9,
             "#4d9221"
            ],
            [
             1,
             "#276419"
            ]
           ],
           "sequential": [
            [
             0,
             "#0d0887"
            ],
            [
             0.1111111111111111,
             "#46039f"
            ],
            [
             0.2222222222222222,
             "#7201a8"
            ],
            [
             0.3333333333333333,
             "#9c179e"
            ],
            [
             0.4444444444444444,
             "#bd3786"
            ],
            [
             0.5555555555555556,
             "#d8576b"
            ],
            [
             0.6666666666666666,
             "#ed7953"
            ],
            [
             0.7777777777777778,
             "#fb9f3a"
            ],
            [
             0.8888888888888888,
             "#fdca26"
            ],
            [
             1,
             "#f0f921"
            ]
           ],
           "sequentialminus": [
            [
             0,
             "#0d0887"
            ],
            [
             0.1111111111111111,
             "#46039f"
            ],
            [
             0.2222222222222222,
             "#7201a8"
            ],
            [
             0.3333333333333333,
             "#9c179e"
            ],
            [
             0.4444444444444444,
             "#bd3786"
            ],
            [
             0.5555555555555556,
             "#d8576b"
            ],
            [
             0.6666666666666666,
             "#ed7953"
            ],
            [
             0.7777777777777778,
             "#fb9f3a"
            ],
            [
             0.8888888888888888,
             "#fdca26"
            ],
            [
             1,
             "#f0f921"
            ]
           ]
          },
          "colorway": [
           "#636efa",
           "#EF553B",
           "#00cc96",
           "#ab63fa",
           "#FFA15A",
           "#19d3f3",
           "#FF6692",
           "#B6E880",
           "#FF97FF",
           "#FECB52"
          ],
          "font": {
           "color": "#2a3f5f"
          },
          "geo": {
           "bgcolor": "white",
           "lakecolor": "white",
           "landcolor": "#E5ECF6",
           "showlakes": true,
           "showland": true,
           "subunitcolor": "white"
          },
          "hoverlabel": {
           "align": "left"
          },
          "hovermode": "closest",
          "mapbox": {
           "style": "light"
          },
          "paper_bgcolor": "white",
          "plot_bgcolor": "#E5ECF6",
          "polar": {
           "angularaxis": {
            "gridcolor": "white",
            "linecolor": "white",
            "ticks": ""
           },
           "bgcolor": "#E5ECF6",
           "radialaxis": {
            "gridcolor": "white",
            "linecolor": "white",
            "ticks": ""
           }
          },
          "scene": {
           "xaxis": {
            "backgroundcolor": "#E5ECF6",
            "gridcolor": "white",
            "gridwidth": 2,
            "linecolor": "white",
            "showbackground": true,
            "ticks": "",
            "zerolinecolor": "white"
           },
           "yaxis": {
            "backgroundcolor": "#E5ECF6",
            "gridcolor": "white",
            "gridwidth": 2,
            "linecolor": "white",
            "showbackground": true,
            "ticks": "",
            "zerolinecolor": "white"
           },
           "zaxis": {
            "backgroundcolor": "#E5ECF6",
            "gridcolor": "white",
            "gridwidth": 2,
            "linecolor": "white",
            "showbackground": true,
            "ticks": "",
            "zerolinecolor": "white"
           }
          },
          "shapedefaults": {
           "line": {
            "color": "#2a3f5f"
           }
          },
          "ternary": {
           "aaxis": {
            "gridcolor": "white",
            "linecolor": "white",
            "ticks": ""
           },
           "baxis": {
            "gridcolor": "white",
            "linecolor": "white",
            "ticks": ""
           },
           "bgcolor": "#E5ECF6",
           "caxis": {
            "gridcolor": "white",
            "linecolor": "white",
            "ticks": ""
           }
          },
          "title": {
           "x": 0.05
          },
          "xaxis": {
           "automargin": true,
           "gridcolor": "white",
           "linecolor": "white",
           "ticks": "",
           "title": {
            "standoff": 15
           },
           "zerolinecolor": "white",
           "zerolinewidth": 2
          },
          "yaxis": {
           "automargin": true,
           "gridcolor": "white",
           "linecolor": "white",
           "ticks": "",
           "title": {
            "standoff": 15
           },
           "zerolinecolor": "white",
           "zerolinewidth": 2
          }
         }
        },
        "title": {
         "text": "연령대별 평균 기저질환수"
        },
        "xaxis": {
         "anchor": "y",
         "domain": [
          0,
          1
         ],
         "title": {
          "text": "연령대"
         }
        },
        "yaxis": {
         "anchor": "x",
         "domain": [
          0,
          1
         ],
         "title": {
          "text": "평균"
         }
        }
       }
      },
      "text/html": [
       "<div>\n",
       "        \n",
       "        \n",
       "            <div id=\"191ad7cb-f3ff-45a5-bcce-3af90478a6d8\" class=\"plotly-graph-div\" style=\"height:525px; width:100%;\"></div>\n",
       "            <script type=\"text/javascript\">\n",
       "                require([\"plotly\"], function(Plotly) {\n",
       "                    window.PLOTLYENV=window.PLOTLYENV || {};\n",
       "                    \n",
       "                if (document.getElementById(\"191ad7cb-f3ff-45a5-bcce-3af90478a6d8\")) {\n",
       "                    Plotly.newPlot(\n",
       "                        '191ad7cb-f3ff-45a5-bcce-3af90478a6d8',\n",
       "                        [{\"hoverlabel\": {\"namelength\": 0}, \"hovertemplate\": \"\\uc5f0\\ub839\\ub300=%{x}<br>\\ud3c9\\uade0=%{y}\", \"legendgroup\": \"\", \"line\": {\"color\": \"#636efa\", \"dash\": \"solid\"}, \"mode\": \"lines\", \"name\": \"\", \"showlegend\": false, \"type\": \"scatter\", \"x\": [\"30\\ub300\", \"40\\ub300\", \"50\\ub300\", \"60\\ub300\", \"70\\ub300\", \"80\\ub300\", \"90\\ub300\"], \"xaxis\": \"x\", \"y\": [1.0, 1.0, 2.5, 3.0, 3.6363636363636362, 3.5454545454545454, 1.5], \"yaxis\": \"y\"}],\n",
       "                        {\"legend\": {\"tracegroupgap\": 0}, \"template\": {\"data\": {\"bar\": [{\"error_x\": {\"color\": \"#2a3f5f\"}, \"error_y\": {\"color\": \"#2a3f5f\"}, \"marker\": {\"line\": {\"color\": \"#E5ECF6\", \"width\": 0.5}}, \"type\": \"bar\"}], \"barpolar\": [{\"marker\": {\"line\": {\"color\": \"#E5ECF6\", \"width\": 0.5}}, \"type\": \"barpolar\"}], \"carpet\": [{\"aaxis\": {\"endlinecolor\": \"#2a3f5f\", \"gridcolor\": \"white\", \"linecolor\": \"white\", \"minorgridcolor\": \"white\", \"startlinecolor\": \"#2a3f5f\"}, \"baxis\": {\"endlinecolor\": \"#2a3f5f\", \"gridcolor\": \"white\", \"linecolor\": \"white\", \"minorgridcolor\": \"white\", \"startlinecolor\": \"#2a3f5f\"}, \"type\": \"carpet\"}], \"choropleth\": [{\"colorbar\": {\"outlinewidth\": 0, \"ticks\": \"\"}, \"type\": \"choropleth\"}], \"contour\": [{\"colorbar\": {\"outlinewidth\": 0, \"ticks\": \"\"}, \"colorscale\": [[0.0, \"#0d0887\"], [0.1111111111111111, \"#46039f\"], [0.2222222222222222, \"#7201a8\"], [0.3333333333333333, \"#9c179e\"], [0.4444444444444444, \"#bd3786\"], [0.5555555555555556, \"#d8576b\"], [0.6666666666666666, \"#ed7953\"], [0.7777777777777778, \"#fb9f3a\"], [0.8888888888888888, \"#fdca26\"], [1.0, \"#f0f921\"]], \"type\": \"contour\"}], \"contourcarpet\": [{\"colorbar\": {\"outlinewidth\": 0, \"ticks\": \"\"}, \"type\": \"contourcarpet\"}], \"heatmap\": [{\"colorbar\": {\"outlinewidth\": 0, \"ticks\": \"\"}, \"colorscale\": [[0.0, \"#0d0887\"], [0.1111111111111111, \"#46039f\"], [0.2222222222222222, \"#7201a8\"], [0.3333333333333333, \"#9c179e\"], [0.4444444444444444, \"#bd3786\"], [0.5555555555555556, \"#d8576b\"], [0.6666666666666666, \"#ed7953\"], [0.7777777777777778, \"#fb9f3a\"], [0.8888888888888888, \"#fdca26\"], [1.0, \"#f0f921\"]], \"type\": \"heatmap\"}], \"heatmapgl\": [{\"colorbar\": {\"outlinewidth\": 0, \"ticks\": \"\"}, \"colorscale\": [[0.0, \"#0d0887\"], [0.1111111111111111, \"#46039f\"], [0.2222222222222222, \"#7201a8\"], [0.3333333333333333, \"#9c179e\"], [0.4444444444444444, \"#bd3786\"], [0.5555555555555556, \"#d8576b\"], [0.6666666666666666, \"#ed7953\"], [0.7777777777777778, \"#fb9f3a\"], [0.8888888888888888, \"#fdca26\"], [1.0, \"#f0f921\"]], \"type\": \"heatmapgl\"}], \"histogram\": [{\"marker\": {\"colorbar\": {\"outlinewidth\": 0, \"ticks\": \"\"}}, \"type\": \"histogram\"}], \"histogram2d\": [{\"colorbar\": {\"outlinewidth\": 0, \"ticks\": \"\"}, \"colorscale\": [[0.0, \"#0d0887\"], [0.1111111111111111, \"#46039f\"], [0.2222222222222222, \"#7201a8\"], [0.3333333333333333, \"#9c179e\"], [0.4444444444444444, \"#bd3786\"], [0.5555555555555556, \"#d8576b\"], [0.6666666666666666, \"#ed7953\"], [0.7777777777777778, \"#fb9f3a\"], [0.8888888888888888, \"#fdca26\"], [1.0, \"#f0f921\"]], \"type\": \"histogram2d\"}], \"histogram2dcontour\": [{\"colorbar\": {\"outlinewidth\": 0, \"ticks\": \"\"}, \"colorscale\": [[0.0, \"#0d0887\"], [0.1111111111111111, \"#46039f\"], [0.2222222222222222, \"#7201a8\"], [0.3333333333333333, \"#9c179e\"], [0.4444444444444444, \"#bd3786\"], [0.5555555555555556, \"#d8576b\"], [0.6666666666666666, \"#ed7953\"], [0.7777777777777778, \"#fb9f3a\"], [0.8888888888888888, \"#fdca26\"], [1.0, \"#f0f921\"]], \"type\": \"histogram2dcontour\"}], \"mesh3d\": [{\"colorbar\": {\"outlinewidth\": 0, \"ticks\": \"\"}, \"type\": \"mesh3d\"}], \"parcoords\": [{\"line\": {\"colorbar\": {\"outlinewidth\": 0, \"ticks\": \"\"}}, \"type\": \"parcoords\"}], \"pie\": [{\"automargin\": true, \"type\": \"pie\"}], \"scatter\": [{\"marker\": {\"colorbar\": {\"outlinewidth\": 0, \"ticks\": \"\"}}, \"type\": \"scatter\"}], \"scatter3d\": [{\"line\": {\"colorbar\": {\"outlinewidth\": 0, \"ticks\": \"\"}}, \"marker\": {\"colorbar\": {\"outlinewidth\": 0, \"ticks\": \"\"}}, \"type\": \"scatter3d\"}], \"scattercarpet\": [{\"marker\": {\"colorbar\": {\"outlinewidth\": 0, \"ticks\": \"\"}}, \"type\": \"scattercarpet\"}], \"scattergeo\": [{\"marker\": {\"colorbar\": {\"outlinewidth\": 0, \"ticks\": \"\"}}, \"type\": \"scattergeo\"}], \"scattergl\": [{\"marker\": {\"colorbar\": {\"outlinewidth\": 0, \"ticks\": \"\"}}, \"type\": \"scattergl\"}], \"scattermapbox\": [{\"marker\": {\"colorbar\": {\"outlinewidth\": 0, \"ticks\": \"\"}}, \"type\": \"scattermapbox\"}], \"scatterpolar\": [{\"marker\": {\"colorbar\": {\"outlinewidth\": 0, \"ticks\": \"\"}}, \"type\": \"scatterpolar\"}], \"scatterpolargl\": [{\"marker\": {\"colorbar\": {\"outlinewidth\": 0, \"ticks\": \"\"}}, \"type\": \"scatterpolargl\"}], \"scatterternary\": [{\"marker\": {\"colorbar\": {\"outlinewidth\": 0, \"ticks\": \"\"}}, \"type\": \"scatterternary\"}], \"surface\": [{\"colorbar\": {\"outlinewidth\": 0, \"ticks\": \"\"}, \"colorscale\": [[0.0, \"#0d0887\"], [0.1111111111111111, \"#46039f\"], [0.2222222222222222, \"#7201a8\"], [0.3333333333333333, \"#9c179e\"], [0.4444444444444444, \"#bd3786\"], [0.5555555555555556, \"#d8576b\"], [0.6666666666666666, \"#ed7953\"], [0.7777777777777778, \"#fb9f3a\"], [0.8888888888888888, \"#fdca26\"], [1.0, \"#f0f921\"]], \"type\": \"surface\"}], \"table\": [{\"cells\": {\"fill\": {\"color\": \"#EBF0F8\"}, \"line\": {\"color\": \"white\"}}, \"header\": {\"fill\": {\"color\": \"#C8D4E3\"}, \"line\": {\"color\": \"white\"}}, \"type\": \"table\"}]}, \"layout\": {\"annotationdefaults\": {\"arrowcolor\": \"#2a3f5f\", \"arrowhead\": 0, \"arrowwidth\": 1}, \"coloraxis\": {\"colorbar\": {\"outlinewidth\": 0, \"ticks\": \"\"}}, \"colorscale\": {\"diverging\": [[0, \"#8e0152\"], [0.1, \"#c51b7d\"], [0.2, \"#de77ae\"], [0.3, \"#f1b6da\"], [0.4, \"#fde0ef\"], [0.5, \"#f7f7f7\"], [0.6, \"#e6f5d0\"], [0.7, \"#b8e186\"], [0.8, \"#7fbc41\"], [0.9, \"#4d9221\"], [1, \"#276419\"]], \"sequential\": [[0.0, \"#0d0887\"], [0.1111111111111111, \"#46039f\"], [0.2222222222222222, \"#7201a8\"], [0.3333333333333333, \"#9c179e\"], [0.4444444444444444, \"#bd3786\"], [0.5555555555555556, \"#d8576b\"], [0.6666666666666666, \"#ed7953\"], [0.7777777777777778, \"#fb9f3a\"], [0.8888888888888888, \"#fdca26\"], [1.0, \"#f0f921\"]], \"sequentialminus\": [[0.0, \"#0d0887\"], [0.1111111111111111, \"#46039f\"], [0.2222222222222222, \"#7201a8\"], [0.3333333333333333, \"#9c179e\"], [0.4444444444444444, \"#bd3786\"], [0.5555555555555556, \"#d8576b\"], [0.6666666666666666, \"#ed7953\"], [0.7777777777777778, \"#fb9f3a\"], [0.8888888888888888, \"#fdca26\"], [1.0, \"#f0f921\"]]}, \"colorway\": [\"#636efa\", \"#EF553B\", \"#00cc96\", \"#ab63fa\", \"#FFA15A\", \"#19d3f3\", \"#FF6692\", \"#B6E880\", \"#FF97FF\", \"#FECB52\"], \"font\": {\"color\": \"#2a3f5f\"}, \"geo\": {\"bgcolor\": \"white\", \"lakecolor\": \"white\", \"landcolor\": \"#E5ECF6\", \"showlakes\": true, \"showland\": true, \"subunitcolor\": \"white\"}, \"hoverlabel\": {\"align\": \"left\"}, \"hovermode\": \"closest\", \"mapbox\": {\"style\": \"light\"}, \"paper_bgcolor\": \"white\", \"plot_bgcolor\": \"#E5ECF6\", \"polar\": {\"angularaxis\": {\"gridcolor\": \"white\", \"linecolor\": \"white\", \"ticks\": \"\"}, \"bgcolor\": \"#E5ECF6\", \"radialaxis\": {\"gridcolor\": \"white\", \"linecolor\": \"white\", \"ticks\": \"\"}}, \"scene\": {\"xaxis\": {\"backgroundcolor\": \"#E5ECF6\", \"gridcolor\": \"white\", \"gridwidth\": 2, \"linecolor\": \"white\", \"showbackground\": true, \"ticks\": \"\", \"zerolinecolor\": \"white\"}, \"yaxis\": {\"backgroundcolor\": \"#E5ECF6\", \"gridcolor\": \"white\", \"gridwidth\": 2, \"linecolor\": \"white\", \"showbackground\": true, \"ticks\": \"\", \"zerolinecolor\": \"white\"}, \"zaxis\": {\"backgroundcolor\": \"#E5ECF6\", \"gridcolor\": \"white\", \"gridwidth\": 2, \"linecolor\": \"white\", \"showbackground\": true, \"ticks\": \"\", \"zerolinecolor\": \"white\"}}, \"shapedefaults\": {\"line\": {\"color\": \"#2a3f5f\"}}, \"ternary\": {\"aaxis\": {\"gridcolor\": \"white\", \"linecolor\": \"white\", \"ticks\": \"\"}, \"baxis\": {\"gridcolor\": \"white\", \"linecolor\": \"white\", \"ticks\": \"\"}, \"bgcolor\": \"#E5ECF6\", \"caxis\": {\"gridcolor\": \"white\", \"linecolor\": \"white\", \"ticks\": \"\"}}, \"title\": {\"x\": 0.05}, \"xaxis\": {\"automargin\": true, \"gridcolor\": \"white\", \"linecolor\": \"white\", \"ticks\": \"\", \"title\": {\"standoff\": 15}, \"zerolinecolor\": \"white\", \"zerolinewidth\": 2}, \"yaxis\": {\"automargin\": true, \"gridcolor\": \"white\", \"linecolor\": \"white\", \"ticks\": \"\", \"title\": {\"standoff\": 15}, \"zerolinecolor\": \"white\", \"zerolinewidth\": 2}}}, \"title\": {\"text\": \"\\uc5f0\\ub839\\ub300\\ubcc4 \\ud3c9\\uade0 \\uae30\\uc800\\uc9c8\\ud658\\uc218\"}, \"xaxis\": {\"anchor\": \"y\", \"domain\": [0.0, 1.0], \"title\": {\"text\": \"\\uc5f0\\ub839\\ub300\"}}, \"yaxis\": {\"anchor\": \"x\", \"domain\": [0.0, 1.0], \"title\": {\"text\": \"\\ud3c9\\uade0\"}}},\n",
       "                        {\"responsive\": true}\n",
       "                    ).then(function(){\n",
       "                            \n",
       "var gd = document.getElementById('191ad7cb-f3ff-45a5-bcce-3af90478a6d8');\n",
       "var x = new MutationObserver(function (mutations, observer) {{\n",
       "        var display = window.getComputedStyle(gd).display;\n",
       "        if (!display || display === 'none') {{\n",
       "            console.log([gd, 'removed!']);\n",
       "            Plotly.purge(gd);\n",
       "            observer.disconnect();\n",
       "        }}\n",
       "}});\n",
       "\n",
       "// Listen for the removal of the full notebook cells\n",
       "var notebookContainer = gd.closest('#notebook-container');\n",
       "if (notebookContainer) {{\n",
       "    x.observe(notebookContainer, {childList: true});\n",
       "}}\n",
       "\n",
       "// Listen for the clearing of the current output cell\n",
       "var outputEl = gd.closest('.output');\n",
       "if (outputEl) {{\n",
       "    x.observe(outputEl, {childList: true});\n",
       "}}\n",
       "\n",
       "                        })\n",
       "                };\n",
       "                });\n",
       "            </script>\n",
       "        </div>"
      ]
     },
     "metadata": {},
     "output_type": "display_data"
    }
   ],
   "source": [
    "px.line(pt_data2, x='연령대', y='평균', title='연령대별 평균 기저질환수')"
   ]
  },
  {
   "cell_type": "code",
   "execution_count": null,
   "metadata": {},
   "outputs": [],
   "source": []
  }
 ],
 "metadata": {
  "kernelspec": {
   "display_name": "Python 3",
   "language": "python",
   "name": "python3"
  },
  "language_info": {
   "codemirror_mode": {
    "name": "ipython",
    "version": 3
   },
   "file_extension": ".py",
   "mimetype": "text/x-python",
   "name": "python",
   "nbconvert_exporter": "python",
   "pygments_lexer": "ipython3",
   "version": "3.7.4"
  }
 },
 "nbformat": 4,
 "nbformat_minor": 2
}
