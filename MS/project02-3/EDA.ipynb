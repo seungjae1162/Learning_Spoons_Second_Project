{
 "cells": [
  {
   "cell_type": "code",
   "execution_count": 1,
   "metadata": {},
   "outputs": [],
   "source": [
    "import pandas as pd\n",
    "import numpy as np\n",
    "import matplotlib.pyplot as plt\n",
    "import matplotlib.dates as mdates\n",
    "import seaborn as sns\n",
    "import plotly.express as px\n",
    "import folium\n",
    "\n",
    "cdr = ['#393e46', '#ff2e63', '#30e3ca']\n",
    "idr = ['#f8b400', '#ff2e63', '#30e3ca']"
   ]
  },
  {
   "cell_type": "code",
   "execution_count": 2,
   "metadata": {},
   "outputs": [],
   "source": [
    "from selenium import webdriver\n",
    "from bs4 import BeautifulSoup\n",
    "\n",
    "browser = webdriver.Chrome('C:\\selenium/chromedriver.exe')\n",
    "url = 'https://wuhanvirus.kr/'\n",
    "browser.get(url)"
   ]
  },
  {
   "cell_type": "code",
   "execution_count": 3,
   "metadata": {},
   "outputs": [],
   "source": [
    "plt.rc(\"font\" , family = \"Malgun Gothic\")\n",
    "plt.rc(\"axes\" , unicode_minus = False)"
   ]
  },
  {
   "cell_type": "code",
   "execution_count": 4,
   "metadata": {},
   "outputs": [
    {
     "data": {
      "text/plain": [
       "<html lang=\"ko\"><head><meta charset=\"utf-8\"/><meta content=\"width=device-width,initial-scale=1,shrink-to-fit=no\" name=\"viewport\"/><title>코로나19(COVID-19) 실시간 상황판</title><meta content=\"website\" property=\"og:type\"/><meta content=\"코로나19(COVID-19) 실시간 상황판\" property=\"og:title\"/><meta content=\"https://coronaboard.kr\" property=\"og:url\"/><meta content=\"코로나19(신종 코로나바이러스)에 관한 한국, 일본, 중국 및 세계 각 국가들의 통계 및 뉴스 등을 취합하여 실시간 정보를 제공합니다.\" property=\"og:description\"/><meta content=\"코로나19(COVID-19) 실시간 상황판\" property=\"og:site_name\"/><meta content=\"//coronaboard.kr/images/ogimage_new3.png\" property=\"og:image\"/><meta content=\"ko_KR\" property=\"og:locale\"/><meta content=\"summary\" name=\"twitter:card\"/><meta content=\"no-referrer\" name=\"referrer\"/><link href=\"/images/favicon.ico?v=2\" rel=\"shortcut icon\" type=\"image/x-icon\"/><link crossorigin=\"anonymous\" href=\"https://stackpath.bootstrapcdn.com/bootstrap/4.4.1/css/bootstrap.min.css\" integrity=\"sha384-Vkoo8x4CGsO3+Hhxv8T/Q5PaXtkKtu6ug5TOeNV6gBiFeWPGFN9MuhOf23Q9Ifjh\" rel=\"stylesheet\"/><link href=\"https://cdnjs.cloudflare.com/ajax/libs/bootstrap-select/1.13.12/css/bootstrap-select.min.css\" rel=\"stylesheet\"/><link href=\"https://cdnjs.cloudflare.com/ajax/libs/Swiper/4.5.1/css/swiper.min.css\" rel=\"stylesheet\"/><script src=\"https://www.googletagservices.com/activeview/js/current/osd.js?cb=%2Fr20100101\"></script><script src=\"https://partner.googleadservices.com/gampad/cookie.js?domain=coronaboard.kr&amp;callback=_gfp_s_&amp;client=ca-pub-5341321752766779\"></script><script id=\"google_shimpl\" src=\"https://pagead2.googlesyndication.com/pagead/js/r20200312/r20190131/show_ads_impl_fy2019.js\"></script><script async=\"\" src=\"https://www.googletagmanager.com/gtm.js?id=GTM-P4CVCRZ\"></script><script>(function(w,d,s,l,i){w[l]=w[l]||[];w[l].push({'gtm.start':\n",
       "          new Date().getTime(),event:'gtm.js'});var f=d.getElementsByTagName(s)[0],\n",
       "        j=d.createElement(s),dl=l!='dataLayer'?'&l='+l:'';j.async=true;j.src=\n",
       "        'https://www.googletagmanager.com/gtm.js?id='+i+dl;f.parentNode.insertBefore(j,f);\n",
       "    })(window,document,'script','dataLayer','GTM-P4CVCRZ');</script><link href=\"main.bundle.8dbdc2e2.css\" rel=\"stylesheet\"/><link as=\"script\" href=\"https://adservice.google.co.kr/adsid/integrator.js?domain=coronaboard.kr\" rel=\"preload\"/><script src=\"https://adservice.google.co.kr/adsid/integrator.js?domain=coronaboard.kr\" type=\"text/javascript\"></script><link as=\"script\" href=\"https://adservice.google.com/adsid/integrator.js?domain=coronaboard.kr\" rel=\"preload\"/><script src=\"https://adservice.google.com/adsid/integrator.js?domain=coronaboard.kr\" type=\"text/javascript\"></script></head><body class=\"home\" data-offset=\"330\" data-spy=\"scroll\" id=\"top\"><noscript><iframe height=\"0\" src=\"https://www.googletagmanager.com/ns.html?id=GTM-P4CVCRZ\" style=\"display:none;visibility:hidden\" width=\"0\"></iframe></noscript><div id=\"scroll-top\"><a href=\"#top\"><svg class=\"bi bi-chevron-up\" fill=\"currentColor\" height=\"1em\" viewbox=\"0 0 20 20\" width=\"1em\" xmlns=\"http://www.w3.org/2000/svg\"><path clip-rule=\"evenodd\" d=\"M9.646 6.646a.5.5 0 01.708 0l6 6a.5.5 0 01-.708.708L10 7.707l-5.646 5.647a.5.5 0 01-.708-.708l6-6z\" fill-rule=\"evenodd\"></path></svg></a></div><div id=\"language-selector\"><div class=\"dropdown\"><button class=\"btn btn-sm btn-outline-info dropdown-toggle\" data-toggle=\"dropdown\" type=\"button\">Language</button><div class=\"dropdown-menu\"><a class=\"dropdown-item\" href=\"/\">한국어</a> <a class=\"dropdown-item\" href=\"/en/\">English</a></div></div></div><div class=\"hero\"></div><h1 class=\"color-inverted\">코로나19(COVID-19)<br/>실시간 상황판</h1><div class=\"container\"><div id=\"loaded\"><p class=\"last-updated color-inverted text-center text-md-right\"><span id=\"last-updated\">-</span> <span class=\"text-center\" id=\"refresh-icon\" style=\"display: none;\"><svg class=\"bi bi-arrow-clockwise\" fill=\"currentColor\" height=\"25\" viewbox=\"0 0 20 20\" width=\"25\" xmlns=\"http://www.w3.org/2000/svg\"><path clip-rule=\"evenodd\" d=\"M10 4.5a5.5 5.5 0 105.5 5.5.5.5 0 011 0 6.5 6.5 0 11-3.25-5.63l-.5.865A5.472 5.472 0 0010 4.5z\" fill-rule=\"evenodd\"></path><path clip-rule=\"evenodd\" d=\"M10.646 1.646a.5.5 0 01.708 0l2.5 2.5a.5.5 0 010 .708l-2.5 2.5a.5.5 0 01-.708-.708L12.793 4.5l-2.147-2.146a.5.5 0 010-.708z\" fill-rule=\"evenodd\"></path></svg></span></p></div></div><div class=\"top container\"><h2>전 세계</h2><div class=\"row dashboard world\"><div class=\"col-4 col-sm-4 col-md-3 text-center\"><p class=\"infected number\">0</p><p class=\"infected diff\"></p><p>확진자</p></div><div class=\"col-4 col-sm-4 col-md-2 text-center\"><p class=\"death red number\">0</p><p class=\"death diff\"></p><p>사망자</p></div><div class=\"col-4 col-sm-4 col-md-2 text-center\"><p class=\"released number\">0</p><p class=\"released diff\"></p><p>격리해제</p></div><div class=\"col-6 col-sm-6 col-md-3 text-center\"><p class=\"fatality number\">0</p><p>치사율</p></div><div class=\"col-6 col-sm-6 col-md-2 text-center\"><p class=\"country number\">0</p><p class=\"country diff\"></p><p>발생국</p></div></div><h2>대한민국</h2><div class=\"row dashboard korea\"><div class=\"col-3 col-sm-3 col-md-2 text-center\"><p class=\"infected number\">0</p><p class=\"infected diff\"></p><p>확진자</p></div><div class=\"col-3 col-sm-3 col-md-1 text-center\"><p class=\"death red number\">0</p><p class=\"death diff\"></p><p>사망자</p></div><div class=\"col-3 col-sm-3 col-md-1 text-center\"><p class=\"released number\">0</p><p class=\"released diff\"></p><p>격리해제</p></div><div class=\"col-3 col-sm-3 col-md-2 text-center\"><p class=\"fatality number\">0</p><p>치사율</p></div><div class=\"col-4 col-sm-4 col-md-2 text-center\"><p class=\"candidate number\">0</p><p class=\"candidate diff\"></p><p>총검사자</p></div><div class=\"col-4 col-sm-4 col-md-2 text-center\"><p class=\"testing number\">0</p><p class=\"testing diff\"></p><p>검사중</p></div><div class=\"col-4 col-sm-4 col-md-2 text-center\"><p class=\"negative number\">0</p><p class=\"negative diff\"></p><p>결과음성</p></div></div><p class=\"legend terms text-center text-md-right\" data-target=\"#exampleModalCenter\" data-toggle=\"modal\"><svg class=\"bi bi-info\" fill=\"currentColor\" height=\"1em\" viewbox=\"0 0 20 20\" width=\"1em\" xmlns=\"http://www.w3.org/2000/svg\"><path clip-rule=\"evenodd\" d=\"M10 17a7 7 0 100-14 7 7 0 000 14zm8-7a8 8 0 11-16 0 8 8 0 0116 0z\" fill-rule=\"evenodd\"></path><path d=\"M10.93 8.588l-2.29.287-.082.38.45.083c.294.07.352.176.288.469l-.738 3.468c-.194.897.105 1.319.808 1.319.545 0 1.178-.252 1.465-.598l.088-.416c-.2.176-.492.246-.686.246-.275 0-.375-.193-.304-.533l1.002-4.705z\"></path><circle cx=\"10\" cy=\"6.5\" r=\"1\"></circle></svg> <span>용어 설명</span></p><p class=\"text-center dashboard-info\">*확진자, 격리해제의 경우 질본 보도자료 기준, 사망자는 실시간</p><p class=\"text-center dashboard-info\">*대한민국 확진자 증감수치는 전일 발표 대비 변화량</p><div aria-hidden=\"true\" aria-labelledby=\"exampleModalCenterTitle\" class=\"modal fade\" id=\"exampleModalCenter\" role=\"dialog\" tabindex=\"-1\"><div class=\"modal-dialog modal-dialog-centered\" role=\"document\"><div class=\"modal-content\"><div class=\"modal-header\"><h5 class=\"modal-title\" id=\"exampleModalCenterTitle\">용어 설명</h5><button aria-label=\"Close\" class=\"close\" data-dismiss=\"modal\" type=\"button\"><span aria-hidden=\"true\">×</span></button></div><div class=\"modal-body\"><ul><li>괄호 안의 숫자는 전일 0시 집계 대비 증감량</li><li>각 국가별 수치는 해당 국가 영토 내에서 발생한 수치를 의미 (실제 확진자 또는 사망자의 국적과는 무관)</li><li><b>치사율</b>: (현재까지 사망자수) / (현재까지 확진자 수)</li></ul><b>[2/12 부터 신종 코로나바이러스 대신 코로나19로 명칭 변경</b><ul><li>WHO(국제보건기구)가 신종 코로나바이러스 공식명칭을 COVID-19(씨오브이아이디-일구)로 발표</li><li>대한민국 정부는 '코로나바이러스감염증-19' 또는 '코로나19(일구)'라 명명하기로 결정</li></ul><b>[3/3 부터 총 검사자 통계 기준으로 변경]</b><ul><li>확진환자 수 = 격리중 + 사망 + 격리해제</li><li>총 검사자 수 = 확진환자 + 검사중 + 결과음성</li><li>확진환자 (Confirmed case): 임상양상에 관계없이 진단을 위한 검사기준에 따라 감염병 병원체 감염이 확인된 자 (진단검사: 코로나19 유전자(PCR)검사)</li><li>출처: <a href=\"https://www.cdc.go.kr/board/board.es?mid=a20501000000&amp;bid=0015&amp;list_no=366008&amp;act=view\" target=\"_blank\">질병관리본부 보도자료</a></li></ul></div></div></div></div></div><div class=\"slide-top\"><div class=\"container\"><div class=\"new-feature\"><h4>[공지사항]</h4><p><a href=\"/en/\">🌐English page added for foreigners<br/>(한국거주 외국인을 위한 영문 페이지 추가)</a></p></div><div class=\"new-feature\"><h4>[신규 기능 안내]</h4><p><a href=\"#global-daily-card\">🌏전세계 국가별 누적추이 차트 추가<br/>(여러 국가 선택하여 비교 가능)</a></p><p><a href=\"#kr-daily-card\">🇰🇷대한민국 지역별 시계열 차트 추가</a></p><p><a href=\"#korea-test-card\">🌡️ 코로나19 검사현황 차트 추가</a></p></div><div><a href=\"https://play.google.com/store/apps/details?id=kr.mave.mask_navigator\" target=\"_blank\"><img src=\"https://i.imgur.com/MkrtXf4.png\" style=\"max-width: 100%;\"/></a></div></div></div><nav class=\"navbar navbar-expand navbar-light\" id=\"nav\"><div class=\"container justify-content-center\"><div class=\"navbar-nav d-flex d-md-none mobile\"><a class=\"nav-item nav-link\" href=\"#global-slide\">세계<i></i></a> <a class=\"nav-item nav-link\" href=\"#korea-slide\">한국<i></i></a> <a class=\"nav-item nav-link\" href=\"#chart-slide\">차트<i></i></a> <a class=\"nav-item nav-link\" href=\"#prevention-slide\">예방<i></i></a> <a class=\"nav-item nav-link\" href=\"#patient-log-slide\">확진자<i></i></a> <a class=\"nav-item nav-link\" href=\"#news-global-slide\">뉴스<i></i></a></div><div class=\"navbar-nav d-none d-md-flex pc\"><a class=\"nav-item nav-link\" href=\"#global-slide\">세계 현황<i></i></a> <a class=\"nav-item nav-link\" href=\"#korea-slide\">대한민국 현황<i></i></a> <a class=\"nav-item nav-link\" href=\"#chart-slide\">데이터 차트<i></i></a> <a class=\"nav-item nav-link\" href=\"#prevention-slide\">예방 수칙<i></i></a> <a class=\"nav-item nav-link\" href=\"#patient-log-slide\">확진자 동선<i></i></a> <a class=\"nav-item nav-link\" href=\"#news-global-slide\">뉴스<i></i></a></div></div></nav><div style=\"height: auto !important;\"><div class=\"slide no-bottom-padding\" id=\"global-slide\" style=\"height: auto !important;\"><div class=\"container\" style=\"height: auto !important;\"><h2>국가별 현황</h2><div id=\"worldmap-chart\"></div><p class=\"table-legend text-right\"><a href=\"#stat-source-slide\">데이터 출처</a><br/><span>* 괄호안의 숫자는 전일 대비 증가량</span><br/><span>* 사망률 = 총 사망자/총 확진자</span><br/><span>* 완치율 = 총 완치자/총 확진자</span></p><div id=\"country-table\"></div><div class=\"banner\"><script async=\"\" src=\"https://pagead2.googlesyndication.com/pagead/js/adsbygoogle.js\"></script><ins class=\"adsbygoogle\" data-ad-client=\"ca-pub-5341321752766779\" data-ad-format=\"auto\" data-ad-slot=\"4322807408\" data-adsbygoogle-status=\"done\" data-full-width-responsive=\"true\" style=\"display: block; height: 280px;\"><ins id=\"aswift_0_expand\" style=\"display:inline-table;border:none;height:280px;margin:0;padding:0;position:relative;visibility:visible;width:930px;background-color:transparent;\"><ins id=\"aswift_0_anchor\" style=\"display:block;border:none;height:280px;margin:0;padding:0;position:relative;visibility:visible;width:930px;background-color:transparent;\"><iframe allowfullscreen=\"true\" allowtransparency=\"true\" frameborder=\"0\" height=\"280\" hspace=\"0\" id=\"aswift_0\" marginheight=\"0\" marginwidth=\"0\" name=\"aswift_0\" onload=\"var i=this.id,s=window.google_iframe_oncopy,H=s&amp;&amp;s.handlers,h=H&amp;&amp;H[i],w=this.contentWindow,d;try{d=w.document}catch(e){}if(h&amp;&amp;d&amp;&amp;(!d.body||!d.body.firstChild)){if(h.call){setTimeout(h,0)}else if(h.match){try{h=s.upd(h,i)}catch(e){}w.location.replace(h)}}\" scrolling=\"no\" style=\"left: 0px; position: absolute; top: 0px; border: 0px; width: 930px; height: 280px; overflow: visible;\" vspace=\"0\" width=\"930\"></iframe></ins></ins></ins><script>(adsbygoogle = window.adsbygoogle || []).push({});</script></div></div></div><div class=\"slide\" id=\"korea-slide\"><div class=\"container\"><h2>대한민국 현황</h2><div class=\"table-legend text-center\" id=\"kr-map-info\"></div><div class=\"overflow-hidden\"><div id=\"koreamap-chart\" style=\"height: 300px\"></div></div><div class=\"kr-table-info\"><ul><li>확진자, 격리해제: 질병관리본부 당일 0시 집계 기준</li><li>사망자: 언론사정보 실시간 집계</li><li>발생률*: 10만명당 발생률 (=확진자/지역인구*100,000)</li><li>지역별인구출처: 행정안전부, 주민등록인구현황 (’20.1월 기준)</li></ul></div><div id=\"korea-table\"></div><div class=\"kr-table-info\"><ul><li>Google Geochart 한계로 세종시, 독도 표시되지 않음</li></ul></div></div></div><div class=\"slide\" id=\"korea-ban-list-slide\"><div class=\"container\"><h2>입국제한조치 현황</h2><div class=\"source\"><span>(3/18 11시 기준 자료)</span><br/><a href=\"http://www.0404.go.kr/dev/newest_view.do?id=ATC0000000007701&amp;pagenum=1&amp;mst_id=MST0000000000041&amp;div_cd=&amp;st=title&amp;stext=\" target=\"_blank\">출처: [외교부 해외안전여행]</a></div><div class=\"card\"><a aria-controls=\"jilbon_collapsed_\" aria-expanded=\"false\" class=\"collapsed text-reset text-decoration-none\" data-toggle=\"collapse\" href=\"#ban\" role=\"button\"><div class=\"card-header\"><div class=\"title\">🚫 한국 전역 입국금지 (95개국)</div></div></a><div class=\"collapse show\" id=\"ban\"><div class=\"card-body\"><p class=\"info\">※명시적 입국 금지 외에도 한국 출발 이후 일정기간 이후 입국토록 하는 조치도 이에 포함</p><h5 class=\"section-title\">✔️아시아태평양</h5><div class=\"card-text\"><p>나우루, 니우에, 동티모르, 마셜제도, 마이크로네시아, 마카오, 말레이시아, 몽골, 바누아투, 부탄, 사모아, 사모아(미국령), 솔로몬제도, 스리랑카, 싱가포르, 쿡제도, 키리바시, 투발루, 파푸아뉴기니, 피지, 호주</p></div><h5 class=\"section-title\">✔️미주</h5><div class=\"card-text\"><p>과테말라, 그레나다, 바하마, 벨리즈, 볼리비아, 수리남, 아이티, 아르헨티나, 앤티가바부다, 에콰도르, 엘살바도르, 온두라스, 자메이카, 칠레, 캐나다, 코스타리카, 콜롬비아, 트리니다드토바고, 파나마, 파라과이, 페루</p></div><h5 class=\"section-title\">✔️유럽</h5><div class=\"card-text\"><p>노르웨이, 덴마크, 독일, 라트비아, 러시아, 리투아니아, 몬테네그로, 몰도바, 보스니아헤르체고비나, 북마케도니아, 불가리아, 사이프러스, 세르비아, 슬로바키아, 에스토니아, 우즈베키스탄, 우크라이나, 조지아, 체코, 카자흐스탄, 키르기즈스탄, 터키, 폴란드, 프랑스, 헝가리</p></div><h5 class=\"section-title\">✔️중동</h5><div class=\"card-text\"><p>레바논, 리비아, 바레인, 사우디, 오만, 요르단, 이라크, 이스라엘, 카타르, 쿠웨이트, 튀니지, 팔레스타인</p></div><h5 class=\"section-title\">✔️아프리카</h5><div class=\"card-text\"><p>가나, 가봉, 남아프리카공화국, 니제르, 라이베리아, 마다가스카르, 모리셔스, 보츠와나, 세이셸, 수단, 앙골라, 적도기니, 카메룬, 케냐, 코모로, 코트디부아르</p></div></div></div></div><div class=\"card\"><a aria-controls=\"jilbon_collapsed_\" aria-expanded=\"false\" class=\"collapsed text-reset text-decoration-none\" data-toggle=\"collapse\" href=\"#banPartial\" role=\"button\"><div class=\"card-header\"><div class=\"title\">🚫 한국 일부지역 입국금지 (5개국)</div></div></a><div class=\"collapse show\" id=\"ban\"><div class=\"card-body\"><p class=\"info\">※명시적 입국 금지 외에도 한국 출발 이후 일정기간 이후 입국토록 하는 조치도 이에 포함</p><h5 class=\"section-title\">✔️아시아태평양</h5><div class=\"card-text\"><p>몰디브, 미얀마, 인도네시아, 일본, 필리핀</p></div></div></div></div><div class=\"card\"><a aria-controls=\"jilbon_collapsed_\" aria-expanded=\"false\" class=\"collapsed text-reset text-decoration-none\" data-toggle=\"collapse\" href=\"#quarantine\" role=\"button\"><div class=\"card-header\"><div class=\"title\">🔒 격리조치 (15개국)</div></div></a><div class=\"collapse\" id=\"quarantine\"><div class=\"card-body\"><p class=\"info\">※상세한 내용은 상단 링크 참조</p><h5 class=\"section-title\">✔️아시아태평양</h5><div class=\"card-text\"><p>중국(지역별상이), 베트남</p></div><h5 class=\"section-title\">✔️미주</h5><div class=\"card-text\"><p>세인트루시아, 세인트빈센트그레나딘, 세인트키츠네비스</p></div><h5 class=\"section-title\">✔️유럽</h5><div class=\"card-text\"><p>루마니아, 벨라루스, 아제르바이잔, 크로아티아, 타지키스탄, 투르크메니스탄</p></div><h5 class=\"section-title\">✔️중동</h5><div class=\"card-text\"><p>모리타니아</p></div><h5 class=\"section-title\">✔️아프리카</h5><div class=\"card-text\"><p>부룬디, 시에라리온, 에리트리아</p></div></div></div></div><div class=\"card\"><a aria-controls=\"jilbon_collapsed_\" aria-expanded=\"false\" class=\"collapsed text-reset text-decoration-none\" data-toggle=\"collapse\" href=\"#restricted\" role=\"button\"><div class=\"card-header\"><div class=\"title\">📜 입국절차강화 (42개국)</div></div></a><div class=\"collapse\" id=\"restricted\"><div class=\"card-body\"><p class=\"info\">※상세한 내용은 상단 링크 참조</p><h5 class=\"section-title\">✔️아시아태평양</h5><div class=\"card-text\"><p>네팔, 뉴질랜드, 대만, 라오스, 방글라데시, 브루나이, 인도, 태국, 폴리네시아(프랑스령), 홍콩</p></div><h5 class=\"section-title\">✔️미주</h5><div class=\"card-text\"><p>가이아나, 도미니카공화국, 멕시코, 바베이도스, 베네수엘라, 브라질, 우루과이</p></div><h5 class=\"section-title\">✔️유럽</h5><div class=\"card-text\"><p>그리스, 몰타, 아이슬란드, 알바니아, 영국, 오스트리아</p></div><h5 class=\"section-title\">✔️중동</h5><div class=\"card-text\"><p>모로코, 아랍에미리트</p></div><h5 class=\"section-title\">✔️아프리카</h5><div class=\"card-text\"><p>기니, 나이지리아, 남수단, 말라위, 말리, 모잠비크, 민주콩고, 르완다, 부르키나파소, 에티오피아, 우간다, 잠비아, 짐바브웨, 중앙아프리카공화국, 차드, 콩고공화국, 토고</p></div></div></div></div><div class=\"card\"><a aria-controls=\"jilbon_collapsed_\" aria-expanded=\"false\" class=\"collapsed text-reset text-decoration-none\" data-toggle=\"collapse\" href=\"#flightBanned\" role=\"button\"><div class=\"card-header\"><div class=\"title\">✈️ 항공편 중단 및 축소</div></div></a><div class=\"collapse show\" id=\"flightBanned\"><div class=\"card-body\"><div class=\"card-text\"><p>체코(프라하-인천) 출처: <a href=\"http://www.0404.go.kr/dev/newest_view.do?id=ATC0000000007704&amp;pagenum=1&amp;mst_id=MST0000000000041&amp;div_cd=&amp;st=title&amp;stext=\" target=\"_blank\">[외교부]</a><br/>러시아(모스크바-인천 이외) 출처: <a href=\"http://www.0404.go.kr/dev/newest_view.do?id=ATC0000000007687&amp;pagenum=2&amp;mst_id=MST0000000000041&amp;div_cd=&amp;st=title&amp;stext=\" target=\"_blank\">[외교부]</a><br/>이탈리아(로마, 밀라노, 베네치아) 출처: <a href=\"http://www.0404.go.kr/dev/newest_view.do?id=ATC0000000007703&amp;pagenum=1&amp;mst_id=MST0000000000041&amp;div_cd=&amp;st=title&amp;stext=\" target=\"_blank\">[외교부]</a><br/></p></div></div></div></div><div class=\"text-center banner\"><script async=\"\" src=\"https://pagead2.googlesyndication.com/pagead/js/adsbygoogle.js\"></script><ins class=\"adsbygoogle\" data-ad-client=\"ca-pub-5341321752766779\" data-ad-format=\"auto\" data-ad-slot=\"1623867156\" data-adsbygoogle-status=\"done\" data-full-width-responsive=\"true\" style=\"display: block; height: 280px;\"><ins id=\"aswift_1_expand\" style=\"display:inline-table;border:none;height:280px;margin:0;padding:0;position:relative;visibility:visible;width:930px;background-color:transparent;\"><ins id=\"aswift_1_anchor\" style=\"display:block;border:none;height:280px;margin:0;padding:0;position:relative;visibility:visible;width:930px;background-color:transparent;\"><iframe allowfullscreen=\"true\" allowtransparency=\"true\" frameborder=\"0\" height=\"280\" hspace=\"0\" id=\"aswift_1\" marginheight=\"0\" marginwidth=\"0\" name=\"aswift_1\" onload=\"var i=this.id,s=window.google_iframe_oncopy,H=s&amp;&amp;s.handlers,h=H&amp;&amp;H[i],w=this.contentWindow,d;try{d=w.document}catch(e){}if(h&amp;&amp;d&amp;&amp;(!d.body||!d.body.firstChild)){if(h.call){setTimeout(h,0)}else if(h.match){try{h=s.upd(h,i)}catch(e){}w.location.replace(h)}}\" scrolling=\"no\" style=\"left:0;position:absolute;top:0;border:0px;width:930px;height:280px;\" vspace=\"0\" width=\"930\"></iframe></ins></ins></ins><script>(adsbygoogle = window.adsbygoogle || []).push({});</script></div></div></div><div class=\"slide\" id=\"chart-slide\"><div class=\"container\"><h2>데이터 차트</h2><div class=\"chart-wrapper\"><div class=\"card\" id=\"global-card\"><div class=\"card-body\"><div id=\"global-chart\" style=\"height:410px;\"></div></div></div><div class=\"card\" id=\"global-daily-card\"><div class=\"card-body\"><div id=\"global-daily-chart\" style=\"height:410px;\"></div><div class=\"select-wrapper\"><select class=\"selectpicker picker-sum\" data-width=\"fit\"><option value=\"each\">개별</option><option value=\"sum\">합산</option></select> <select class=\"selectpicker\" data-size=\"7\" id=\"picker-country\" multiple=\"multiple\" title=\"국가를 선택해 주세요.(복수선택 가능)\"><option value=\"CN\">중국</option><option value=\"IT\">이탈리아</option><option value=\"IR\">이란</option><option value=\"ES\">스페인</option><option value=\"DE\">독일</option><option value=\"KR\">한국</option><option value=\"FR\">프랑스</option><option value=\"US\">미국</option><option value=\"CH\">스위스</option><option value=\"GB\">영국</option><option value=\"NL\">네덜란드</option><option value=\"NO\">노르웨이</option><option value=\"AT\">오스트리아</option><option value=\"BE\">벨기에</option><option value=\"SE\">스웨덴</option><option value=\"DK\">덴마크</option><option value=\"JP\">일본</option><option value=\"JPCruise\">일본크루즈</option><option value=\"MY\">말레이시아</option><option value=\"CA\">캐나다</option><option value=\"AU\">호주</option><option value=\"PT\">포르투갈</option><option value=\"QA\">카타르</option><option value=\"CZ\">체코</option><option value=\"IL\">이스라엘</option><option value=\"GR\">그리스</option><option value=\"BR\">브라질</option><option value=\"FI\">핀란드</option><option value=\"IE\">아일랜드</option><option value=\"SI\">슬로베니아</option><option value=\"SG\">싱가포르</option><option value=\"PK\">파키스탄</option><option value=\"IS\">아이슬란드</option><option value=\"BH\">바레인</option><option value=\"PL\">폴란드</option><option value=\"EE\">에스토니아</option><option value=\"RO\">루마니아</option><option value=\"TH\">태국</option><option value=\"CL\">칠레</option><option value=\"EG\">이집트</option><option value=\"PH\">필리핀</option><option value=\"ID\">인도네시아</option><option value=\"SA\">사우디아라비아</option><option value=\"HK\">홍콩</option><option value=\"IQ\">이라크</option><option value=\"IN\">인도</option><option value=\"LU\">룩셈부르크</option><option value=\"KW\">쿠웨이트</option><option value=\"LB\">레바논</option><option value=\"SM\">산마리노</option><option value=\"PE\">페루</option><option value=\"RU\">러시아</option><option value=\"AE\">아랍에미레이트</option><option value=\"EC\">에콰도르</option><option value=\"TR\">터키</option><option value=\"SK\">슬로바키아</option><option value=\"MX\">멕시코</option><option value=\"ZA\">남아프리카 공화국</option><option value=\"BG\">불가리아</option><option value=\"AR\">아르헨티나</option><option value=\"AM\">아르메니아</option><option value=\"TW\">대만</option><option value=\"CO\">콜롬비아</option><option value=\"RS\">세르비아</option><option value=\"PA\">파나마</option><option value=\"HR\">크로아티아</option><option value=\"VN\">베트남</option><option value=\"DZ\">알제리</option><option value=\"LV\">라트비아</option><option value=\"HU\">헝가리</option><option value=\"BN\">브루나이</option><option value=\"AL\">알바니아</option><option value=\"UY\">우루과이</option><option value=\"CR\">코스타리카</option><option value=\"CY\">키프로스</option><option value=\"JO\">요르단</option><option value=\"FO\">페로 제도</option><option value=\"LK\">스리랑카</option><option value=\"PS\">팔레스타인</option><option value=\"MA\">모로코</option><option value=\"AD\">안도라</option><option value=\"MT\">몰타 공화국</option><option value=\"GE\">조지아</option><option value=\"BY\">벨라루스</option><option value=\"KZ\">카자흐스탄</option><option value=\"BA\">보스니아 헤르체고비나</option><option value=\"AZ\">아제르바이잔</option><option value=\"VE\">베네수엘라</option><option value=\"KH\">캄보디아</option><option value=\"OM\">오만</option><option value=\"MK\">북마케도니아</option><option value=\"MD\">몰도바</option><option value=\"TN\">튀니지</option><option value=\"SN\">세네갈</option><option value=\"LT\">리투아니아</option><option value=\"AF\">아프가니스탄</option><option value=\"DO\">도미니카 공화국</option><option value=\"NZ\">뉴질랜드</option><option value=\"LI\">리히텐슈타인</option><option value=\"GP\">과들루프</option><option value=\"BF\">부르키나파소</option><option value=\"MQ\">마르티니크</option><option value=\"UA\">우크라이나</option><option value=\"MO\">마카오</option><option value=\"XK\">코소보</option><option value=\"UZ\">우즈베키스탄</option><option value=\"JM\">자메이카</option><option value=\"MV\">몰디브</option><option value=\"BO\">볼리비아</option><option value=\"BD\">방글라데시</option><option value=\"GF\">프랑스령 기아나</option><option value=\"CM\">카메룬</option><option value=\"RE\">레위니옹</option><option value=\"PY\">파라과이</option><option value=\"MC\">모나코</option><option value=\"RW\">르완다</option><option value=\"GT\">과테말라</option><option value=\"HN\">온두라스</option><option value=\"GH\">가나</option><option value=\"TT\">트리니다드 토바고</option><option value=\"CU\">쿠바</option><option value=\"GY\">가이아나</option><option value=\"ET\">에티오피아</option><option value=\"MN\">몽골</option><option value=\"GU\">괌</option><option value=\"PR\">푸에르토리코</option><option value=\"SC\">세이셸</option><option value=\"AW\">아루바</option><option value=\"KE\">케냐</option><option value=\"CI\">코트디부아르</option><option value=\"KG\">키르기스스탄</option><option value=\"YT\">마요트</option><option value=\"GA\">가봉</option><option value=\"CW\">퀴라소</option><option value=\"PF\">프랑스령 폴리네시아</option><option value=\"CD\">콩고민주공화국</option><option value=\"GI\">지브롤터</option><option value=\"NG\">나이지리아</option><option value=\"MF\">세인트마틴 섬</option><option value=\"ME\">몬테네그로</option><option value=\"BB\">바베이도스</option><option value=\"LR\">라이베리아</option><option value=\"VI\">미국령 버진아일랜드</option><option value=\"NA\">나미비아</option><option value=\"LC\">수리남</option><option value=\"MS\">몬트세랫</option><option value=\"GM\">감비아</option><option value=\"BJ\">베냉</option><option value=\"GL\">그린란드</option><option value=\"SO\">소말리아</option><option value=\"TZ\">탄자니아</option><option value=\"BS\">바하마</option><option value=\"CG\">콩고공화국</option><option value=\"CF\">중앙아프리카 공화국</option><option value=\"GQ\">적도 기니</option><option value=\"SZ\">에스와티니</option><option value=\"KY\">케이맨 제도</option><option value=\"GN\">기니</option><option value=\"SD\">수단</option><option value=\"AG\">앤티가 바부다</option><option value=\"MR\">모리타니</option><option value=\"VC\">세인트빈센트 그레나딘</option><option value=\"SR\">세인트루시아</option><option value=\"TG\">토고</option><option value=\"VA\">바티칸 시국</option><option value=\"BT\">부탄</option><option value=\"NP\">네팔</option></select></div><ul class=\"pagination justify-content-center\" style=\"margin-bottom: 5px;\"><li class=\"page-item active\"><a class=\"page-link\" data-key=\"confirmed_acc\" href=\"#kr-daily-c\">확진자</a></li><li class=\"page-item\"><a class=\"page-link\" data-key=\"death_acc\" href=\"#kr-daily-d\">사망자</a></li><li class=\"page-item\"><a class=\"page-link\" data-key=\"released_acc\" href=\"#kr-daily-r\">격리해제</a></li></ul></div></div><div class=\"card\" id=\"korea-card\"><div class=\"card-body\"><div id=\"korea-chart\" style=\"height:410px;\"></div><ul class=\"pagination justify-content-center\"><li class=\"page-item\"><a class=\"page-link\" data-option=\"acc\" href=\"#kr-chart-acc\">누적</a></li><li class=\"page-item active\"><a class=\"page-link\" data-option=\"daily\" href=\"#kr-chart-day\">일별</a></li><li class=\"page-item\"><a class=\"page-link\" data-option=\"all\" href=\"#kr-chart-all\">전체</a></li></ul></div></div><div class=\"card\" id=\"kr-daily-card\"><div class=\"card-body\"><div id=\"kr-daily-chart\" style=\"height:410px;\"></div><div class=\"select-wrapper\"><select class=\"selectpicker picker-sum\" data-width=\"fit\"><option value=\"each\">개별</option><option value=\"sum\">합산</option></select> <select class=\"selectpicker\" data-actions-box=\"true\" data-deselect-all-text=\"전체선택해제\" data-select-all-text=\"전체선택\" id=\"picker-region\" multiple=\"multiple\" title=\"지역을 선택해 주세요.(복수선택 가능)\"><option class=\"selected\" value=\"서울\">서울</option><option value=\"부산\">부산</option><option value=\"대구\">대구</option><option value=\"인천\">인천</option><option value=\"광주\">광주</option><option value=\"대전\">대전</option><option value=\"울산\">울산</option><option value=\"세종\">세종</option><option value=\"경기\">경기</option><option value=\"강원\">강원</option><option value=\"충북\">충북</option><option value=\"충남\">충남</option><option value=\"전북\">전북</option><option value=\"전남\">전남</option><option value=\"경북\">경북</option><option value=\"경남\">경남</option><option value=\"제주\">제주</option></select></div><ul class=\"pagination justify-content-center\" style=\"margin-bottom: 5px;\"><li class=\"page-item active\"><a class=\"page-link\" data-key=\"confirmed_acc\" href=\"#kr-daily-c\">확진자</a></li><li class=\"page-item\"><a class=\"page-link\" data-key=\"death_acc\" href=\"#kr-daily-d\">사망자</a></li><li class=\"page-item\"><a class=\"page-link\" data-key=\"released_acc\" href=\"#kr-daily-r\">격리해제</a></li></ul><p class=\"kr-table-info text-center\">질병관리본부 보도자료 기준으로 지자체 발표와 다를 수 있음<br/>소관지역 이관으로 확진자가 감소 할 수 있음</p></div></div><div class=\"card\" id=\"korea-test-card\"><div class=\"card-body\"><div id=\"korea-test\" style=\"height:440px;\"></div><ul class=\"pagination justify-content-center\"><li class=\"page-item active\"><a class=\"page-link\" data-isacc=\"true\" href=\"#korea-test-acc\">누적</a></li><li class=\"page-item\"><a class=\"page-link\" data-isacc=\"false\" href=\"#korea-test-non-acc\">일별</a></li></ul></div></div><div class=\"card\" id=\"kr-region-card\"><div class=\"card-body\"><div id=\"kr-region-chart\" style=\"height:400px;\"></div><ul class=\"pagination justify-content-center\"><li class=\"page-item active\"><a class=\"page-link\" data-key=\"confirmed\" href=\"#region-c\">확진자</a></li><li class=\"page-item\"><a class=\"page-link\" data-key=\"death\" href=\"#region-d\">사망자</a></li><li class=\"page-item\"><a class=\"page-link\" data-key=\"released\" href=\"#region-r\">격리해제</a></li></ul></div></div><div class=\"card\" id=\"source-card-slide\"><div class=\"card-body\"><div id=\"source-chart\" style=\"height:400px;\"></div><div class=\"dropup text-center\"><button aria-expanded=\"false\" aria-haspopup=\"true\" class=\"btn btn-primary dropdown-toggle\" data-toggle=\"dropdown\" id=\"dropdownMenuButton\" type=\"button\">지역 선택하기</button><div aria-labelledby=\"dropdownMenuButton\" class=\"dropdown-menu scrollable-menu\" x-placement=\"top-start\"><a class=\"dropdown-item\" data-value=\"전국\" href=\"#\">전국</a> <a class=\"dropdown-item\" data-value=\"서울\" href=\"#\">서울</a> <a class=\"dropdown-item\" data-value=\"부산\" href=\"#\">부산</a> <a class=\"dropdown-item\" data-value=\"대구\" href=\"#\">대구</a> <a class=\"dropdown-item\" data-value=\"인천\" href=\"#\">인천</a> <a class=\"dropdown-item\" data-value=\"광주\" href=\"#\">광주</a> <a class=\"dropdown-item\" data-value=\"대전\" href=\"#\">대전</a> <a class=\"dropdown-item\" data-value=\"울산\" href=\"#\">울산</a> <a class=\"dropdown-item\" data-value=\"세종\" href=\"#\">세종</a> <a class=\"dropdown-item\" data-value=\"경기\" href=\"#\">경기</a> <a class=\"dropdown-item\" data-value=\"강원\" href=\"#\">강원</a> <a class=\"dropdown-item\" data-value=\"충북\" href=\"#\">충북</a> <a class=\"dropdown-item\" data-value=\"충남\" href=\"#\">충남</a> <a class=\"dropdown-item\" data-value=\"전북\" href=\"#\">전북</a> <a class=\"dropdown-item\" data-value=\"전남\" href=\"#\">전남</a> <a class=\"dropdown-item\" data-value=\"경북\" href=\"#\">경북</a> <a class=\"dropdown-item\" data-value=\"경남\" href=\"#\">경남</a> <a class=\"dropdown-item\" data-value=\"제주\" href=\"#\">제주</a> <a class=\"dropdown-item\" data-value=\"검역\" href=\"#\">검역</a></div></div></div></div><div class=\"card\" id=\"gender-card\"><div class=\"card-body\"><div id=\"gender-chart\" style=\"height:330px;\"></div><ul class=\"pagination justify-content-center\"><li class=\"page-item active\"><a class=\"page-link\" data-key=\"confirmed\" href=\"#gender-c\">확진자</a></li><li class=\"page-item\"><a class=\"page-link\" data-key=\"death\" href=\"#gender-d\">사망자</a></li><li class=\"page-item\"><a class=\"page-link\" data-key=\"released\" href=\"#gender-r\">격리해제</a></li></ul></div></div><div class=\"card\" id=\"age-card\"><div class=\"card-body\"><div id=\"age-chart\" style=\"height:400px;\"></div><ul class=\"pagination justify-content-center\"><li class=\"page-item active\"><a class=\"page-link\" data-key=\"confirmed\" href=\"#age-c\">확진자</a></li><li class=\"page-item\"><a class=\"page-link\" data-key=\"death\" href=\"#age-d\">사망자</a></li><li class=\"page-item\"><a class=\"page-link\" data-key=\"death-rate\" href=\"#age-dr\">사망률</a></li><li class=\"page-item\"><a class=\"page-link\" data-key=\"released\" href=\"#age-r\">격리해제</a></li></ul></div></div></div></div></div><div class=\"slide\" id=\"prevention-slide\"><div class=\"container\"><h2>예방 행동 수칙</h2><p class=\"text-center table-legend\"><a class=\"text-reset text-decoration-none\" href=\"http://www.cdc.go.kr/gallery.es?mid=a20503020000&amp;bid=0003\" target=\"_blank\">출처: 질병관리본부 웹사이트</a></p><div class=\"swiper-container\"><div class=\"swiper-wrapper\"><div class=\"swiper-slide\"><img alt=\"코로나19 예방 행동 수칙\" src=\"https://i.imgur.com/BJdE2g6.jpg\"/></div><div class=\"swiper-slide\"><img alt=\"코로나19 자가격리대상자 생활수칙\" class=\"swiper-lazy\" data-src=\"https://i.imgur.com/B74dDcu.jpg\"/><div class=\"swiper-lazy-preloader\"></div></div><div class=\"swiper-slide\"><img alt=\"코로나19 자가격리 대상자 가족, 동거인 생활수칙\" class=\"swiper-lazy\" data-src=\"https://i.imgur.com/uMVqz9Z.jpg\"/><div class=\"swiper-lazy-preloader\"></div></div><div class=\"swiper-slide\"><img alt=\"코로나19 의료기관수칙\" class=\"swiper-lazy\" data-src=\"https://i.imgur.com/FLjFIDN.jpg\"/><div class=\"swiper-lazy-preloader\"></div></div></div><div class=\"swiper-button-next\"></div><div class=\"swiper-button-prev\"></div></div><div class=\"emergency\"><div class=\"title\"><div>긴급연락처</div></div><ul><li>📍 <a href=\"https://search.naver.com/search.naver?where=m&amp;sm=mtb_etc&amp;query=%EC%8B%A0%EC%A2%85%EC%BD%94%EB%A1%9C%EB%82%98%EB%B0%94%EC%9D%B4%EB%9F%AC%EC%8A%A4%20%EC%84%A0%EB%B3%84%EC%A7%84%EB%A3%8C%EC%86%8C\" target=\"_blank\">선별 진료소 찾기</a></li><li>📍 <a href=\"https://search.naver.com/search.naver?where=m&amp;sm=mtb_etc&amp;query=%EB%B3%B4%EA%B1%B4%EC%86%8C\" target=\"_blank\">관할 보건소 찾기</a></li><li>📞 <a href=\"tel:120\">지역콜센터 120 전화걸기</a></li><li>📞 <a href=\"tel:1339\">콜센터 1339 전화걸기</a></li></ul></div></div></div><div class=\"slide no-bottom-padding\" id=\"jilbon-slide\"><div class=\"container\"><h2>질병관리본부 브리핑</h2><p class=\"text-center table-legend\">*3/11 이후로 브리핑에 요약 제공할 만한 특별한 내용이 없어서 업데이트 중단합니다.</p><p class=\"text-center table-legend\">*요약된 내용으로 전문은 출처링크를 참고</p><div class=\"card\"><a aria-controls=\"jilbon_collapsed_0\" aria-expanded=\"false\" class=\"collapsed text-reset text-decoration-none\" data-toggle=\"collapse\" href=\"#jilbon_collapsed_0\" role=\"button\"><div class=\"card-header\">🔔[3/11] 정례브리핑 <span class=\"text-muted card-header-time\">1주 전</span><div class=\"float-right\"><svg class=\"bi bi-chevron-up\" fill=\"currentColor\" height=\"1em\" viewbox=\"0 0 20 20\" width=\"1em\" xmlns=\"http://www.w3.org/2000/svg\"><path clip-rule=\"evenodd\" d=\"M9.646 6.646a.5.5 0 01.708 0l6 6a.5.5 0 01-.708.708L10 7.707l-5.646 5.647a.5.5 0 01-.708-.708l6-6z\" fill-rule=\"evenodd\"></path></svg> <svg class=\"bi bi-chevron-down\" fill=\"currentColor\" height=\"1em\" viewbox=\"0 0 20 20\" width=\"1em\" xmlns=\"http://www.w3.org/2000/svg\"><path clip-rule=\"evenodd\" d=\"M3.646 6.646a.5.5 0 01.708 0L10 12.293l5.646-5.647a.5.5 0 01.708.708l-6 6a.5.5 0 01-.708 0l-6-6a.5.5 0 010-.708z\" fill-rule=\"evenodd\"></path></svg></div></div></a><div class=\"collapse\" id=\"jilbon_collapsed_0\"><div class=\"card-body\"><h5 class=\"section-title\">✔️공통</h5><div class=\"card-text\"><ul><li>3월 11일 0시 현재, 총 누적 확진자수는 7,755명이며, 이 중 288명이 격리해제 되었다고 밝혔다</li></ul></div><h5 class=\"section-title\">✔️서울</h5><div class=\"card-text\"><ul><li>서울시 구로구 소재 콜센터 관련 3월 8일부터 현재까지 90명*의 확진환자가 발생하였으며, 감염경로 및 접촉자에 대한 역학조사가 진행 중이다.</li><li>* 직원 77명(서울 51명, 경기 13명, 인천 13명), 접촉자 13명(서울 11명, 인천 2명)(3.11일 오전 기준)</li><li>가족 접촉자를 제외한 확진환자 77명은 현재까지 모두 11층 콜센터에서 근무한 걸로 확인되고 있다. 같은 회사지만 다른 층(7~9층)에서 근무 중인 직원 553명에 대해서는 우선 자가격리 조치</li></ul></div><div class=\"card-link\"><a href=\"http://ncov.mohw.go.kr/tcmBoardView.do?brdId=&amp;brdGubun=&amp;dataGubun=&amp;ncvContSeq=353505&amp;contSeq=353505&amp;board_id=140&amp;gubun=BDJ\" target=\"_blank\">[출처]질병관리본부</a></div></div></div></div><div class=\"card\"><a aria-controls=\"jilbon_collapsed_1\" aria-expanded=\"false\" class=\"collapsed text-reset text-decoration-none\" data-toggle=\"collapse\" href=\"#jilbon_collapsed_1\" role=\"button\"><div class=\"card-header\">🔔[3/10] 정례브리핑 <span class=\"text-muted card-header-time\">1주 전</span><div class=\"float-right\"><svg class=\"bi bi-chevron-up\" fill=\"currentColor\" height=\"1em\" viewbox=\"0 0 20 20\" width=\"1em\" xmlns=\"http://www.w3.org/2000/svg\"><path clip-rule=\"evenodd\" d=\"M9.646 6.646a.5.5 0 01.708 0l6 6a.5.5 0 01-.708.708L10 7.707l-5.646 5.647a.5.5 0 01-.708-.708l6-6z\" fill-rule=\"evenodd\"></path></svg> <svg class=\"bi bi-chevron-down\" fill=\"currentColor\" height=\"1em\" viewbox=\"0 0 20 20\" width=\"1em\" xmlns=\"http://www.w3.org/2000/svg\"><path clip-rule=\"evenodd\" d=\"M3.646 6.646a.5.5 0 01.708 0L10 12.293l5.646-5.647a.5.5 0 01.708.708l-6 6a.5.5 0 01-.708 0l-6-6a.5.5 0 010-.708z\" fill-rule=\"evenodd\"></path></svg></div></div></a><div class=\"collapse\" id=\"jilbon_collapsed_1\"><div class=\"card-body\"><h5 class=\"section-title\">✔️공통</h5><div class=\"card-text\"><ul><li>3월 10일 0시 현재, 총 누적 확진자수는 7,513명이며, 이 중 247명이 격리해제 되었다고 밝혔다.</li></ul></div><h5 class=\"section-title\">✔️대구, 경북지역</h5><div class=\"card-text\"><ul><li>3월 10일(화) 0시 기준 대구 지역의 코로나19 확진자는 총 5,663명이며, 경북 지역의 확진자는 총 1,117명이다.</li><li>일주일간 대구 지역 확진자는 3월 4일 4,006명(전일 대비 +405명), 3월 5일 4,237명(+321), 3월 6일 4,694명(+367), 3월 7일 5,084명(+390), 3월 8일 5,381명(+297), 3월 9일 5,571명(+190), 3월 10일 5,663명(+92)으로 나타났으며,</li><li>경북 지역은 3월 4일 774명(+89), 3월 5일 861명(+87), 3월 6일 984명(+123), 3월 7일 1,049명(+65), 3월 8일 1,081명(+32), 3월 9일 1,107명(+26), 3월 10일 1,117명(+10)으로 파악되었다.</li></ul></div><div class=\"card-link\"><a href=\"http://ncov.mohw.go.kr/tcmBoardView.do?brdId=&amp;brdGubun=&amp;dataGubun=&amp;ncvContSeq=353467&amp;contSeq=353467&amp;board_id=140&amp;gubun=BDJ\" target=\"_blank\">[출처]질병관리본부</a></div></div></div></div><div class=\"card\"><a aria-controls=\"jilbon_collapsed_2\" aria-expanded=\"false\" class=\"collapsed text-reset text-decoration-none\" data-toggle=\"collapse\" href=\"#jilbon_collapsed_2\" role=\"button\"><div class=\"card-header\">🔔[3/9] 14시 정례브리핑 <span class=\"text-muted card-header-time\">1주 전</span><div class=\"float-right\"><svg class=\"bi bi-chevron-up\" fill=\"currentColor\" height=\"1em\" viewbox=\"0 0 20 20\" width=\"1em\" xmlns=\"http://www.w3.org/2000/svg\"><path clip-rule=\"evenodd\" d=\"M9.646 6.646a.5.5 0 01.708 0l6 6a.5.5 0 01-.708.708L10 7.707l-5.646 5.647a.5.5 0 01-.708-.708l6-6z\" fill-rule=\"evenodd\"></path></svg> <svg class=\"bi bi-chevron-down\" fill=\"currentColor\" height=\"1em\" viewbox=\"0 0 20 20\" width=\"1em\" xmlns=\"http://www.w3.org/2000/svg\"><path clip-rule=\"evenodd\" d=\"M3.646 6.646a.5.5 0 01.708 0L10 12.293l5.646-5.647a.5.5 0 01.708.708l-6 6a.5.5 0 01-.708 0l-6-6a.5.5 0 010-.708z\" fill-rule=\"evenodd\"></path></svg></div></div></a><div class=\"collapse\" id=\"jilbon_collapsed_2\"><div class=\"card-body\"><h5 class=\"section-title\">✔️공통</h5><div class=\"card-text\"><ul><li>3월 9일 0시 현재, 총 누적 확진자수는 7,382명이며, 이 중 166명이 격리해제 되었다고 밝혔다.</li><li>전국적으로 약 79.7%는 집단발생과의 연관성을 확인하였다. 기타 산발적 발생사례 또는 조사·분류중인 사례는 약 20.3%이다.</li></ul></div><h5 class=\"section-title\">✔️대구, 경북지역</h5><div class=\"card-text\"><ul><li>대구, 경북지역에서는 신천지 신도 대상 조사가 마무리 단계에 이르면서 증가 추세가 다소 둔화하고 있으나 여전히 의료기관, 사회복지시설 등을 중심으로 한 추가 전파는 확인되고 있다.</li></ul></div><h5 class=\"section-title\">✔️경기, 서울지역</h5><div class=\"card-text\"><ul><li>경기, 서울지역 등을 중심으로 소폭이지만 증가추세가 확인되고 있어 예의주시</li><li>주로 확진자의 접촉자를 중심으로 소규모 유행이 산발적으로 나타나고 있어, 역학조사 및 방역조치를 강화하며 추가 전파를 막기 위해 노력 중</li><li>특히, 이러한 소규모 사례가 고위험군이 많이 있는 의료기관(기저질환자 다수), 사회복지시설(고령의 어르신 다수)이나 닫힌 공간 내에서 밀접한 접촉이 일어나는 종교시설, 다중이용실내시설 등*으로 유입되지 않도록 철저히 관리하는 것이 중요하다고 강조하고, 각 지자체를 중심으로 긴장을 늦추지 말 것을 거듭 당부</li></ul></div><h5 class=\"section-title\">✔️임산부및 어린이관련</h5><div class=\"card-text\"><ul><li>코로나19 확진 임신부와 관련되어 아직까지 확립된 정보와 근거는 많이 부족한 실정이다. 그러나, 주로 호흡기 계통에서 비말과 접촉에 의해 전파되는 코로나19의 특성 상, 임신부에서 혈액이나 기타 출산 과정 등을 통해 태아로 전파될 확률은 낮은 것으로 알려져 있다.</li><li>어린이들의 코로나19 감염 양상에 대한 관심도 높아지고 있으나 여전히 알려진 바는 많지 않다.</li><li>다만, 중국 등에서는 어린이들이 중증까지 진행된 경우는 거의 없는 것으로 알려져 있고,</li><li>우리나라에서도 10세 미만 환자는 대부분 감염된 부모와의 접촉으로 인한 66명(0.9%)이 확인되었고, 이 중에서 중증으로 이환된 사례는 현재까지는 없다.</li></ul></div><div class=\"card-link\"><a href=\"http://ncov.mohw.go.kr/tcmBoardView.do?brdId=&amp;brdGubun=&amp;dataGubun=&amp;ncvContSeq=353450&amp;contSeq=353450&amp;board_id=140&amp;gubun=BDJ\" target=\"_blank\">[출처]질병관리본부</a></div></div></div></div><div class=\"card\"><a aria-controls=\"jilbon_collapsed_3\" aria-expanded=\"false\" class=\"collapsed text-reset text-decoration-none\" data-toggle=\"collapse\" href=\"#jilbon_collapsed_3\" role=\"button\"><div class=\"card-header\">🔔[3/8] 14시 정례브리핑 <span class=\"text-muted card-header-time\">1주 전</span><div class=\"float-right\"><svg class=\"bi bi-chevron-up\" fill=\"currentColor\" height=\"1em\" viewbox=\"0 0 20 20\" width=\"1em\" xmlns=\"http://www.w3.org/2000/svg\"><path clip-rule=\"evenodd\" d=\"M9.646 6.646a.5.5 0 01.708 0l6 6a.5.5 0 01-.708.708L10 7.707l-5.646 5.647a.5.5 0 01-.708-.708l6-6z\" fill-rule=\"evenodd\"></path></svg> <svg class=\"bi bi-chevron-down\" fill=\"currentColor\" height=\"1em\" viewbox=\"0 0 20 20\" width=\"1em\" xmlns=\"http://www.w3.org/2000/svg\"><path clip-rule=\"evenodd\" d=\"M3.646 6.646a.5.5 0 01.708 0L10 12.293l5.646-5.647a.5.5 0 01.708.708l-6 6a.5.5 0 01-.708 0l-6-6a.5.5 0 010-.708z\" fill-rule=\"evenodd\"></path></svg></div></div></a><div class=\"collapse\" id=\"jilbon_collapsed_3\"><div class=\"card-body\"><h5 class=\"section-title\">✔️공통</h5><div class=\"card-text\"><ul><li>3월 8일 0시 현재, 총 누적 확진자수는 7,134명이며, 이 중 130명이 격리해제 되었다고 밝혔다.</li><li>전국적으로 약 79.4%는 집단발생과의 연관성을 확인하였다. 기타 산발적 발생사례 또는 조사·분류중인 사례는 약 20.6%이다.</li></ul></div><h5 class=\"section-title\">✔️대구</h5><div class=\"card-text\"><ul><li>대구에서는 달서구 소재 아파트(한마음아파트)에서 2월 13일부터 현재까지 46명*의 확진환자가 발생하여 역학조사를 진행 중이다. 전체 입주민 140명 중 입주민 80명은 음성으로 확인되었으며, 14명에 대한 검사를 진행 중이다.</li></ul></div><h5 class=\"section-title\">✔️경기</h5><div class=\"card-text\"><ul><li>경기에서는 성남시 소재 의료기관(분당제생병원)에서 현재까지 13명*의 확진환자가 발생하였으며, 입ㆍ퇴원환자 6명은 모두 동일한 병동에 입원했던 것으로 확인되었으며, 감염 경로 및 접촉자에 대한 조사가 진행 중이다.</li><li>*확진자 13명 중 입원환자 4명, 퇴원환자 2명 종사자 6명, 입원환자의 배우자 1명</li><li>확진자와 접촉력이 있었던 입원환자 중 입원이 필요한 환자는 현재 1인실 격리 중이며, 확진자와 접촉력이 있으나 퇴원이 가능한 환자는 코로나19 검사 결과 음성인 경우 자가격리 조치 중이다.</li></ul></div><div class=\"card-link\"><a href=\"https://www.cdc.go.kr/board/board.es?mid=a20501000000&amp;bid=0015\" target=\"_blank\">[출처]질병관리본부</a></div></div></div></div><div class=\"banner text-center\"><script async=\"\" src=\"https://pagead2.googlesyndication.com/pagead/js/adsbygoogle.js\"></script><ins class=\"adsbygoogle\" data-ad-client=\"ca-pub-5341321752766779\" data-ad-format=\"auto\" data-ad-slot=\"6403215848\" data-adsbygoogle-status=\"done\" data-full-width-responsive=\"true\" style=\"display: block; height: 280px;\"><ins id=\"aswift_2_expand\" style=\"display:inline-table;border:none;height:280px;margin:0;padding:0;position:relative;visibility:visible;width:930px;background-color:transparent;\"><ins id=\"aswift_2_anchor\" style=\"display:block;border:none;height:280px;margin:0;padding:0;position:relative;visibility:visible;width:930px;background-color:transparent;\"><iframe allowfullscreen=\"true\" allowtransparency=\"true\" frameborder=\"0\" height=\"280\" hspace=\"0\" id=\"aswift_2\" marginheight=\"0\" marginwidth=\"0\" name=\"aswift_2\" onload=\"var i=this.id,s=window.google_iframe_oncopy,H=s&amp;&amp;s.handlers,h=H&amp;&amp;H[i],w=this.contentWindow,d;try{d=w.document}catch(e){}if(h&amp;&amp;d&amp;&amp;(!d.body||!d.body.firstChild)){if(h.call){setTimeout(h,0)}else if(h.match){try{h=s.upd(h,i)}catch(e){}w.location.replace(h)}}\" scrolling=\"no\" style=\"left:0;position:absolute;top:0;border:0px;width:930px;height:280px;\" vspace=\"0\" width=\"930\"></iframe></ins></ins></ins><script>(adsbygoogle = window.adsbygoogle || []).push({});</script></div></div></div><div class=\"slide patient-log\" id=\"patient-log-slide\"><div class=\"container\"><h2>확진자 상세 정보</h2><div id=\"patient-log-udpate\"><ul class=\"updates\"><li>📌 누락된 동선의 사이트 하단 메일 제보 받습니다! (지자체 공식 링크만 반영)<div><a class=\"source\" href=\"\" target=\"_blank\"></a></div></li></ul></div><div id=\"patient-log-udpate\"><ul class=\"updates\"><li>📌 확진자수가 너무 많아져서 업데이트 목록을 적지 않습니다. 검색으로 찾아주세요.<div><a class=\"source\" href=\"\" target=\"_blank\"></a></div></li></ul></div><p class=\"text-center location-tag-title\">📍지역 선택하기</p><div class=\"text-center\" id=\"location-tag\"></div><input id=\"myInput\" placeholder=\"동선을 검색해 보세요. (2글자 이상)\" type=\"text\"/><div class=\"table-responsive\" id=\"patient-log-table\"></div><p class=\"table-legend text-center\">* 출처: <a class=\"text-reset\" href=\"https://www.cdc.go.kr/board/board.es?mid=a20501000000&amp;bid=0015\" target=\"_blank\">질병관리본부 보도자료</a><br/>* 그 외 출처의 경우 해당 내용에 별도 링크 표기</p></div></div><div class=\"slide news\" id=\"news-global-slide\"><div class=\"container\"><h2 class=\"news-title\">글로벌뉴스🌏</h2><div><a class=\"text-decoration-none text-reset\" href=\"https://www.rtve.es/noticias/20200316/mapa-del-coronavirus-espana/2004681.shtml\" target=\"_blank\"><div class=\"details border-bottom\"><div class=\"title\">[스페인🇪🇸] 1954명 신규 확진</div><div class=\"meta\">RTVE • 1일 전</div></div></a></div><div><a class=\"text-decoration-none text-reset\" href=\"https://www.nbcnews.com/health/health-news/live-blog/coronavirus-updates-live-u-s-cities-close-public-buildings-global-n1160106/ncrd1160691#liveBlogHeader\" target=\"_blank\"><div class=\"details border-bottom\"><div class=\"title\">[이탈리아🇮🇹] 누적 확진자 27980명</div><div class=\"meta\">NBC • 1일 전</div></div></a></div><div><a class=\"text-decoration-none text-reset\" href=\"https://www.santepubliquefrance.fr/maladies-et-traumatismes/maladies-et-infections-respiratoires/infection-a-coronavirus/articles/infection-au-nouveau-coronavirus-sars-cov-2-covid-19-france-et-monde\" target=\"_blank\"><div class=\"details border-bottom\"><div class=\"title\">[프랑스🇫🇷] 1210명 신규 확진</div><div class=\"meta\">SantéPublique • 1일 전</div></div></a></div><div><a class=\"text-decoration-none text-reset\" href=\"https://interaktiv.morgenpost.de/corona-virus-karte-infektionen-deutschland-weltweit/\" target=\"_blank\"><div class=\"details border-bottom\"><div class=\"title\">[독일🇩🇪] 1459명 신규 확진</div><div class=\"meta\">Berliner Morgenpost • 1일 전</div></div></a></div><div><a class=\"text-decoration-none text-reset\" href=\"https://edition.cnn.com/world/live-news/coronavirus-outbreak-2-03-15-20-intl-hnk/index.html\" target=\"_blank\"><div class=\"details border-bottom\"><div class=\"title\">[미국🇺🇸] 누적 확진자 3천 명 넘어서</div><div class=\"meta\">CNN • 3일 전</div></div></a></div><div><a class=\"text-decoration-none text-reset\" href=\"https://edition.cnn.com/world/live-news/coronavirus-outbreak-03-11-20-intl-hnk/index.html\" target=\"_blank\"><div class=\"details border-bottom\"><div class=\"title\">[UN🇺🇳] WHO 팬데믹 선언</div><div class=\"meta\">CNN • 1주 전</div></div></a></div></div></div><div class=\"slide news\" id=\"news-slide-kr\"><div class=\"container\"><h2 class=\"news-title\">대한민국 뉴스🇰🇷</h2><div class=\"topic\">[국내 사망자 총 86명]</div><div><a class=\"text-decoration-none text-reset\" href=\"https://news.naver.com/main/read.nhn?mode=LSD&amp;mid=sec&amp;sid1=102&amp;oid=028&amp;aid=0002489788\" target=\"_blank\"><div class=\"details border-bottom\"><div class=\"title\">코로나19 85·86번째 <b>사망</b>…대구서 확진자 2명 숨져</div><div class=\"description\">코로나19 국내 <b>사망</b>자는 <b>86명</b>으로 늘었다. 대구시는 지난 17일 밤 10시39분께 음압병상에서 치료를 받던 77살 여성(환자번호 7667번)이 <b>사망</b>했다고 밝혔다. 이 여성은 지난달 11일 결핵 치료를 위해 대구곽병원에...</div><div class=\"meta\">한겨레 • 3시간 전</div></div></a><a class=\"text-decoration-none text-reset\" href=\"https://news.naver.com/main/read.nhn?mode=LSD&amp;mid=sec&amp;sid1=102&amp;oid=469&amp;aid=0000478508\" target=\"_blank\"><div class=\"details border-bottom\"><div class=\"title\">대구 신종 코로나 2명 추가로 숨져…국내 <b>사망</b>자 <b>86명</b></div><div class=\"description\">국내 <b>사망</b>자는 모두 <b>86명</b>이다. 18일 대구시에 따르면 79세 남성이 17일 오후 6시25분쯤 대구의료원에서 숨졌다. 이 남성은 4일 결핵 증세로 수성구보건소를 찾아 확진판정을 받은 후 대구의료원에서 입원 치료를...</div><div class=\"meta\">한국일보 • 4시간 전</div></div></a></div><div class=\"topic\">[코로나19 확진자 93명 늘어 8413명]</div><div><a class=\"text-decoration-none text-reset\" href=\"https://news.naver.com/main/read.nhn?mode=LSD&amp;mid=sec&amp;sid1=102&amp;oid=032&amp;aid=0002998408\" target=\"_blank\"><div class=\"details border-bottom\"><div class=\"title\">신규 확진자 수 다시 소폭 상승···93명 늘어 <b>8413명</b></div><div class=\"description\">질병관리본부 중앙방역대책본부는 18일 오전 0시 기준 코로나19 확진자가 <b>8413명</b>이라고 밝혔다. 전날 오전 0시 대비 93명이 추가됐다. 추가 확진자는 나흘 연속 두 자릿수를 기록했다. 지역별 새 확진자는 서울...</div><div class=\"meta\">경향신문 • 6시간 전</div></div></a><a class=\"text-decoration-none text-reset\" href=\"https://news.naver.com/main/read.nhn?mode=LSD&amp;mid=sec&amp;sid1=102&amp;oid=081&amp;aid=0003074762\" target=\"_blank\"><div class=\"details border-bottom\"><div class=\"title\">신규 확진자 또 증가세…국내 코로나19 총 <b>8413명</b></div><div class=\"description\">이로써 국내 코로나19 누적 확진자 수는 총 <b>8413명</b>이 됐다. 신규 확진자 하루 증가 폭은 나흘째 두 자릿수를 유지했지만 다시 점점 늘어나는 추세다. 지난 15일 76명, 16일 74명, 17일 84명이었다. 신규 확진자 93명...</div><div class=\"meta\">• 5시간 전</div></div></a></div><div class=\"topic\">[초중고 개학 연기 ]</div><div><a class=\"text-decoration-none text-reset\" href=\"https://news.naver.com/main/read.nhn?mode=LSD&amp;mid=sec&amp;sid1=100&amp;oid=001&amp;aid=0011480010\" target=\"_blank\"><div class=\"details border-bottom\"><div class=\"title\">유은혜 \"휴업기간·<b>개학</b>방식 탄력조정…대입일정 조정안 검토중\"</div><div class=\"description\">\"아이 등원 않는데도 유치원 수업료 납부하는 학부모 부담도 덜 것\" 강병철 김동현 기자 = 유은혜 사회부총리 겸 교육부 장관은 18일 신종 코로나바이러스 감염증(코로나 19) 사태로 학교 <b>개학</b>은 3차 <b>연기</b>한 것과 관련, \"대입...</div><div class=\"meta\">연합뉴스 • 8시간 전</div></div></a><a class=\"text-decoration-none text-reset\" href=\"https://news.naver.com/main/read.nhn?mode=LSD&amp;mid=sec&amp;sid1=102&amp;oid=214&amp;aid=0001023455\" target=\"_blank\"><div class=\"details border-bottom\"><div class=\"title\">전국 학교 사상 첫 4월 <b>개학</b>…4월 6일로 <b>연기</b></div><div class=\"description\">특히 대입 일정은 \"고교 <b>개학 연기</b> 상황을 감안해 실현 가능한 조정안을 검토하고 있으며 개학과 동시에 발표할 예정\"이라고 밝혔습니다. [김성근/교육부 학교혁신지원실장] \"4월 6일에 개학이 되는 그 부분들이 확정되면...</div><div class=\"meta\">MBC뉴스 • 1일 전</div></div></a></div><div class=\"topic\">[성남 은혜의강 교회 하루새 40명 확진]</div><div><a class=\"text-decoration-none text-reset\" href=\"https://news.naver.com/main/read.nhn?mode=LSD&amp;mid=sec&amp;sid1=102&amp;oid=014&amp;aid=0004391983\" target=\"_blank\"><div class=\"details border-bottom\"><div class=\"title\"><b>은혜의 강</b> 교회, 확진자 61명으로.. '이틀새 15명 증가'</div><div class=\"description\"><b>성남 은혜의 강</b> 교회 목사와 식사를 함께한 지인이 남양주시에서 코로나19 확진 판정을 받은 등 이 교회와... 꾸려 <b>은혜의 강</b> 교회 추가 확진자 <b>40명</b>에 대해 심층 역학조사를 실시하고, 접촉자를 파악 중이다. 16일 이후...</div><div class=\"meta\">파이낸셜뉴스 • 5시간 전</div></div></a><a class=\"text-decoration-none text-reset\" href=\"https://news.naver.com/main/read.nhn?mode=LSD&amp;mid=sec&amp;sid1=102&amp;oid=052&amp;aid=0001415131\" target=\"_blank\"><div class=\"details border-bottom\"><div class=\"title\">[속보] <b>성남 은혜의강</b> 교회 신도 <b>40명</b> 코로나19 추가 확진</div><div class=\"description\">경기도 <b>성남</b>시에 있는 <b>은혜의 강</b> 교회에서 신도 등 <b>40명</b>이 코로나19 추가 확진 판정을 받았습니다. <b>성남</b>시는 오늘 오전 7시 기준으로 <b>성남</b>시민 34명 등 <b>40명</b>이 코로나19 검사 결과 추가 확진됐다고 밝혔습니다. <b>은혜의</b>...</div><div class=\"meta\">YTN뉴스 • 2일 전</div></div></a></div></div></div><div class=\"slide\"><div class=\"container\"><h2>관련 유튜브 영상</h2><div id=\"youtube\"><div class=\"ylist\"><a class=\"text-decoration-none text-reset\" href=\"https://www.youtube.com/watch?v=FGAC98wWNmE\" target=\"_blank\"><div class=\"d-flex flex-wrap flex-sm-nowrap align-items-stretch border-bottom\"><div class=\"thumbnail\"><img src=\"https://i.ytimg.com/vi/FGAC98wWNmE/mqdefault.jpg\"/></div><div class=\"details\"><div class=\"title\">미국 “한국은 코로나19 감염자 많은 나라”에서 “훌륭히 대응한 나라”로 / KBS뉴스(News)</div><div class=\"meta\"><span>KBS News • 조회수 2.1만 • 18시간 전</span><br/><span>의료 분야 세계 최고 수준이라는 자부심 때문인지 그동안 트럼프 대통령과 관료들, 한국과 미국의 코로나19 대응을 비교하는 질문이 나오면 애써 무...</span></div></div></div></a></div></div><div id=\"youtube\"><div class=\"ylist\"><a class=\"text-decoration-none text-reset\" href=\"https://www.youtube.com/watch?v=apSPsu4FaQc\" target=\"_blank\"><div class=\"d-flex flex-wrap flex-sm-nowrap align-items-stretch border-bottom\"><div class=\"thumbnail\"><img src=\"https://i.ytimg.com/vi/apSPsu4FaQc/mqdefault.jpg\"/></div><div class=\"details\"><div class=\"title\">코로나19 긴급조치…‘미국이 멈췄다’ / KBS뉴스(News)</div><div class=\"meta\"><span>KBS News • 조회수 1.6만 • 18시간 전</span><br/><span>유럽연합 나라들 사이 자유로운 이동을 보장한 게 '쉥겐 협약'입니다. 코로나19는 EU의 원칙마저 흔들고 있습니다. 바이러스 유입 걱정에 국경들...</span></div></div></div></a></div></div><div id=\"youtube\"><div class=\"ylist\"><a class=\"text-decoration-none text-reset\" href=\"https://www.youtube.com/watch?v=rAD_AFu9ulM\" target=\"_blank\"><div class=\"d-flex flex-wrap flex-sm-nowrap align-items-stretch border-bottom\"><div class=\"thumbnail\"><img src=\"https://i.ytimg.com/vi/rAD_AFu9ulM/mqdefault.jpg\"/></div><div class=\"details\"><div class=\"title\">코로나19 백신 첫 인체실험…상용화는 언제? (현장영상) / SBS</div><div class=\"meta\"><span>SBS 뉴스 • 조회수 34.4만 • 1일 전</span><br/><span>미국에서 코로나19 백신 인체실험이 처음으로 진행됐습니다. 현지 시간으로 지난 16일 워싱턴주 시애틀의 '카이저 퍼머넨테' 보건연구소는 코로나1...</span></div></div></div></a></div></div></div></div><div class=\"slide\"><div class=\"container\"><h2>코로나19 vs. MERS vs. SARS</h2><p class=\"table-legend text-center\"><a class=\"text-reset\" href=\"https://www.who.int/csr/sars/country/en/\" target=\"_blank\">SARS 통계 출처: WHO</a><br/><a class=\"text-reset\" href=\"https://www.who.int/emergencies/mers-cov/en/\" target=\"_blank\">MERS-CoV 통계 출처: WHO</a><br/></p><div id=\"compare-table\"></div></div></div><div class=\"slide\" id=\"stat-source-slide\"><div class=\"container\"><h2>데이터 출처</h2><ul><li><a href=\"http://ncov.mohw.go.kr/index_main.jsp\" target=\"_blank\">대한민국: 질병관리본부 코로나바이러스감염증-19</a></li><li><a href=\"https://www.who.int/emergencies/diseases/novel-coronavirus-2019/situation-reports/\" target=\"_blank\">WHO Novel Coronavirus (2019-nCoV) situation reports</a></li><li><a href=\"https://www.worldometers.info/coronavirus/\" target=\"_blank\">Worldometer: COVID-19 CORONAVIRUS OUTBREAK</a></li><li><a href=\"https://www3.nhk.or.jp/news/special/coronavirus/\" target=\"_blank\">일본: NHK</a></li><li><a href=\"https://www.mhlw.go.jp/stf/houdou/houdou_list_202002.html\" target=\"_blank\">일본: 후생노동성</a></li><li><a href=\"http://3g.dxy.cn/newh5/view/pneumonia\" target=\"_blank\">중국: 全国新型肺炎疫情实时动态</a></li><li><a href=\"https://www.moh.gov.sg/2019-ncov-wuhan\" target=\"_blank\">싱가포르: Ministry of Health</a></li><li><a href=\"https://pr.moph.go.th/?url=pr/index/2/04\" target=\"_blank\">태국: Ministry of Public Health</a></li><li><a href=\"https://chp-dashboard.geodata.gov.hk/nia/en.html\" target=\"_blank\">홍콩: Centre for Health Protection Dashboard</a></li><li><a href=\"https://www.cdc.gov.tw/\" target=\"_blank\">대만: Ministry of Health and Welfare</a></li><li><a href=\"https://www.health.gov.au/news/coronavirus-update-at-a-glance\" target=\"_blank\">호주: Department of Health</a></li><li><a href=\"http://www.moh.gov.my/index.php/pages/view/2274\" target=\"_blank\">말레이시아: Ministry of Health Malaysia</a></li><li><a href=\"https://www.facebook.com/kementeriankesihatanmalaysia\" target=\"_blank\">말레이시아: MOH Malaysia Facebook</a></li><li><a href=\"https://www.rki.de/DE/Content/InfAZ/N/Neuartiges_Coronavirus/Fallzahlen.html\" target=\"_blank\">독일: Federal Ministry of Health</a></li><li><a href=\"https://www.cdc.gov/coronavirus/2019-ncov/cases-in-us.html\" target=\"_blank\">미국: Centers for Disease Control and Prevention</a></li><li><a href=\"https://suckhoedoisong.vn/Dich-nCoV-cap-nhat-moi-nhat-lien-tuc-n168210.html\" target=\"_blank\">베트남: Health and Life Magazine,</a></li><li><a href=\"https://www.santepubliquefrance.fr/maladies-et-traumatismes/maladies-et-infections-respiratoires/infection-a-coronavirus/articles/epidemie-de-coronavirus-2019-ncov-au-depart-de-wuhan-chine\" target=\"_blank\">프랑스: Santé Publique France</a></li><li><a href=\"https://www.ssm.gov.mo/apps1/PreventWuhanInfection/en.aspx#clg17458\" target=\"_blank\">마카오: Centre for Disease Control and Prevention</a></li><li><a href=\"https://wam.ae/ar/details/1395302822121\" target=\"_blank\">아랍에미레이트: Emirates News Agency</a></li><li><a href=\"https://www.canada.ca/en/public-health/services/diseases/2019-novel-coronavirus-infection.html\" target=\"_blank\">캐나다: Government of Canada</a></li><li><a href=\"https://www.gov.uk/guidance/wuhan-novel-coronavirus-information-for-the-public#situation-in-the-uk\" target=\"_blank\">영국: Government of UK</a></li><li><a href=\"http://www.salute.gov.it/portale/nuovocoronavirus/dettaglioContenutiNuovoCoronavirus.jsp?lingua=italiano&amp;id=5351&amp;area=nuovoCoronavirus&amp;menu=vuoto\" target=\"_blank\">이탈리아: Ministry of Health</a></li><li><a href=\"https://www.repubblica.it\" target=\"_blank\">이탈리아: la Repubblica</a></li><li><a href=\"https://gisanddata.maps.arcgis.com/apps/opsdashboard/index.html#/bda7594740fd40299423467b48e9ecf6\" target=\"_blank\">2019-nCoV Global Cases (by Johns Hopkins CSSE)</a></li></ul></div></div><div class=\"slide\"><div class=\"profile container\"><h2>만든 사람들</h2><div class=\"row\"><div class=\"col-6 col-md-6\"><div class=\"image-wrapper text-center\"><img alt=\"둔딘\" height=\"100\" src=\"https://i.imgur.com/1qfSwsI.png\" width=\"100\"/></div><p class=\"text-center\"><b>둔딘</b><br/><a href=\"https://instagram.com/dundin_net\" target=\"_blank\">@dundin_net</a><br/><a href=\"http://bit.ly/31kK6FI\">'나리의 언어생활'</a> 작가<br/>둔딘스튜디오 대표</p><br/></div><div class=\"col-6 col-md-6\"><div class=\"image-wrapper text-center\"><img alt=\"소저씨\" height=\"100\" src=\"https://i.imgur.com/f5Q1id5.png\" width=\"100\"/></div><p class=\"text-center\"><b>소저씨</b><br/><a href=\"https://www.letmecompile.com\" target=\"_blank\">letmecompile.com</a><br/>10년차 개발 덕후<br/>스퀘어랩에서 <a href=\"https://squarelab.co\" target=\"_blank\">'카이트' 서비스</a>를 만듭니다</p></div></div></div></div></div><div class=\"footer\"><div class=\"container text-center\"><span class=\"color-inverted\">이메일로 제보 &amp; 잘못된 정보 정정 요청 받습니다.<br/>coronaboard.report@gmail.com<br/>제목에 머릿말 [정정]/[제안]/[확진자제보] 달아서 링크와 함께 보내주시면 더 빨리 처리됩니다.<br/>(점점 더 많은 메일이 오고있어서 저희가 일일히 답장해드리지 못하는 점 이해 부탁드립니다)<br/><br/>👩‍💻개발중👨‍💻<br/>1) 지역별 시계열 그래프<br/>2) 확진자 동선 시,군별 선택기능<br/>3) 신종플루 그래프<br/><br/></span><p class=\"disclaimer\">광고/제휴 문의: coronaboard.biz@gmail.com</p><p class=\"disclaimer\">*주의: 본 사이트에서 제공하는 통계 수치는 대한민국 질병관리 본부 및 세계 각국 관련 부처 보도자료, 국내외 언론 기사 등을 토대로 업데이트 되지만, 개인이 취합한 내용이므로 수치의 정확성에 대해 책임질 수 없으며, 공식적인 근거 자료로 활용될 수 없습니다. 본 사이트에서 제공하는 내용의 인용과 사용에 대한 책임은 전적으로 인용자 및 사용자에게 있음을 알립니다.</p></div></div><script>// Inject json into html\n",
       "  var jsonData = {\"lastUpdated\":1584514232,\"defaultOpens\":[\"\"],\"statByCountry\":[{\"candidate\":0,\"candidate_prev\":0,\"cc\":\"CN\",\"death\":3237,\"death_prev\":3226,\"infected\":80905,\"infected_prev\":80884,\"negative\":0,\"negative_prev\":0,\"released\":69615,\"released_prev\":68700,\"flag\":\"🇨🇳\"},{\"candidate\":287234,\"candidate_prev\":278396,\"cc\":\"KR\",\"death\":86,\"death_prev\":84,\"infected\":8413,\"infected_prev\":8320,\"negative\":270888,\"negative_prev\":261105,\"released\":1540,\"released_prev\":1401,\"tested\":\"295647\",\"flag\":\"🇰🇷\"},{\"candidate\":0,\"candidate_prev\":0,\"cc\":\"IT\",\"death\":2503,\"death_prev\":2158,\"infected\":31506,\"infected_prev\":27980,\"negative\":0,\"negative_prev\":0,\"released\":2941,\"released_prev\":2749,\"flag\":\"🇮🇹\"},{\"candidate\":0,\"candidate_prev\":0,\"cc\":\"IR\",\"death\":988,\"death_prev\":988,\"infected\":16169,\"infected_prev\":16169,\"negative\":0,\"negative_prev\":0,\"released\":5389,\"released_prev\":5389,\"flag\":\"🇮🇷\"},{\"candidate\":0,\"candidate_prev\":0,\"cc\":\"JPCruise\",\"death\":7,\"death_prev\":7,\"infected\":712,\"infected_prev\":712,\"negative\":0,\"negative_prev\":0,\"released\":456,\"released_prev\":456,\"flag\":\"🚢\"},{\"candidate\":0,\"candidate_prev\":0,\"cc\":\"JP\",\"death\":29,\"death_prev\":29,\"infected\":882,\"infected_prev\":880,\"negative\":0,\"negative_prev\":0,\"released\":144,\"released_prev\":144,\"flag\":\"🇯🇵\"},{\"candidate\":0,\"candidate_prev\":0,\"cc\":\"DE\",\"death\":26,\"death_prev\":20,\"infected\":9367,\"infected_prev\":8084,\"negative\":0,\"negative_prev\":0,\"released\":67,\"released_prev\":67,\"flag\":\"🇩🇪\"},{\"candidate\":0,\"candidate_prev\":0,\"cc\":\"FR\",\"death\":175,\"death_prev\":148,\"infected\":7730,\"infected_prev\":6633,\"negative\":0,\"negative_prev\":0,\"released\":602,\"released_prev\":12,\"tested\":\"926\",\"flag\":\"🇫🇷\"},{\"candidate\":0,\"candidate_prev\":0,\"cc\":\"ES\",\"death\":533,\"death_prev\":509,\"infected\":11826,\"infected_prev\":11409,\"negative\":0,\"negative_prev\":0,\"released\":1028,\"released_prev\":1028,\"flag\":\"🇪🇸\"},{\"candidate\":0,\"candidate_prev\":0,\"cc\":\"US\",\"death\":116,\"death_prev\":93,\"infected\":6522,\"infected_prev\":4773,\"negative\":0,\"negative_prev\":0,\"released\":106,\"released_prev\":74,\"tested\":\"445\",\"flag\":\"🇺🇸\"},{\"candidate\":0,\"candidate_prev\":0,\"cc\":\"SG\",\"death\":0,\"death_prev\":0,\"infected\":266,\"infected_prev\":266,\"negative\":0,\"negative_prev\":0,\"released\":114,\"released_prev\":114,\"flag\":\"🇸🇬\"},{\"candidate\":0,\"candidate_prev\":0,\"cc\":\"HK\",\"death\":4,\"death_prev\":4,\"infected\":167,\"infected_prev\":162,\"negative\":0,\"negative_prev\":0,\"released\":92,\"released_prev\":88,\"flag\":\"🇭🇰\"},{\"candidate\":0,\"candidate_prev\":0,\"cc\":\"CH\",\"death\":27,\"death_prev\":21,\"infected\":2742,\"infected_prev\":2672,\"negative\":0,\"negative_prev\":0,\"released\":15,\"released_prev\":4,\"flag\":\"🇨🇭\"},{\"candidate\":0,\"candidate_prev\":0,\"cc\":\"KW\",\"death\":0,\"death_prev\":0,\"infected\":130,\"infected_prev\":130,\"negative\":0,\"negative_prev\":0,\"released\":12,\"released_prev\":12,\"flag\":\"🇰🇼\"},{\"candidate\":0,\"candidate_prev\":0,\"cc\":\"GB\",\"death\":71,\"death_prev\":55,\"infected\":1950,\"infected_prev\":1950,\"negative\":0,\"negative_prev\":0,\"released\":65,\"released_prev\":52,\"tested\":\"7690\",\"flag\":\"🇬🇧\"},{\"candidate\":0,\"candidate_prev\":0,\"cc\":\"MY\",\"death\":2,\"death_prev\":2,\"infected\":673,\"infected_prev\":673,\"negative\":0,\"negative_prev\":0,\"released\":49,\"released_prev\":49,\"flag\":\"🇲🇾\"},{\"candidate\":0,\"candidate_prev\":0,\"cc\":\"BH\",\"death\":1,\"death_prev\":1,\"infected\":241,\"infected_prev\":237,\"negative\":0,\"negative_prev\":0,\"released\":88,\"released_prev\":81,\"flag\":\"🇧🇭\"},{\"candidate\":0,\"candidate_prev\":0,\"cc\":\"TH\",\"death\":1,\"death_prev\":1,\"infected\":212,\"infected_prev\":177,\"negative\":0,\"negative_prev\":0,\"released\":41,\"released_prev\":41,\"flag\":\"🇹🇭\"},{\"candidate\":0,\"candidate_prev\":0,\"cc\":\"TW\",\"death\":1,\"death_prev\":1,\"infected\":77,\"infected_prev\":77,\"negative\":0,\"negative_prev\":0,\"released\":22,\"released_prev\":22,\"flag\":\"🇹🇼\"},{\"candidate\":0,\"candidate_prev\":0,\"cc\":\"AU\",\"death\":6,\"death_prev\":5,\"infected\":560,\"infected_prev\":452,\"negative\":0,\"negative_prev\":0,\"released\":43,\"released_prev\":27,\"flag\":\"🇦🇺\"},{\"candidate\":0,\"candidate_prev\":0,\"cc\":\"NO\",\"death\":3,\"death_prev\":3,\"infected\":1471,\"infected_prev\":1437,\"negative\":0,\"negative_prev\":0,\"released\":1,\"released_prev\":1,\"flag\":\"🇳🇴\"},{\"candidate\":0,\"candidate_prev\":0,\"cc\":\"IQ\",\"death\":11,\"death_prev\":11,\"infected\":154,\"infected_prev\":154,\"negative\":0,\"negative_prev\":0,\"released\":41,\"released_prev\":41,\"flag\":\"🇮🇶\"},{\"candidate\":0,\"candidate_prev\":0,\"cc\":\"SE\",\"death\":8,\"death_prev\":7,\"infected\":1196,\"infected_prev\":1190,\"negative\":0,\"negative_prev\":0,\"released\":1,\"released_prev\":1,\"flag\":\"🇸🇪\"},{\"candidate\":0,\"candidate_prev\":0,\"cc\":\"CA\",\"death\":8,\"death_prev\":4,\"infected\":598,\"infected_prev\":440,\"negative\":0,\"negative_prev\":0,\"released\":12,\"released_prev\":11,\"flag\":\"🇨🇦\"},{\"candidate\":0,\"candidate_prev\":0,\"cc\":\"IN\",\"death\":3,\"death_prev\":3,\"infected\":148,\"infected_prev\":137,\"negative\":0,\"negative_prev\":0,\"released\":14,\"released_prev\":14,\"flag\":\"🇮🇳\"},{\"candidate\":0,\"candidate_prev\":0,\"cc\":\"AE\",\"death\":0,\"death_prev\":0,\"infected\":113,\"infected_prev\":98,\"negative\":0,\"negative_prev\":0,\"released\":26,\"released_prev\":26,\"flag\":\"🇦🇪\"},{\"candidate\":0,\"candidate_prev\":0,\"cc\":\"NL\",\"death\":43,\"death_prev\":43,\"infected\":1705,\"infected_prev\":1705,\"negative\":0,\"negative_prev\":0,\"released\":2,\"released_prev\":2,\"flag\":\"🇳🇱\"},{\"candidate\":0,\"candidate_prev\":0,\"cc\":\"AT\",\"death\":4,\"death_prev\":4,\"infected\":1332,\"infected_prev\":1332,\"negative\":0,\"negative_prev\":0,\"released\":9,\"released_prev\":8,\"tested\":\"763\",\"flag\":\"🇦🇹\"},{\"candidate\":0,\"candidate_prev\":0,\"cc\":\"VN\",\"death\":0,\"death_prev\":0,\"infected\":68,\"infected_prev\":66,\"negative\":0,\"negative_prev\":0,\"released\":16,\"released_prev\":16,\"flag\":\"🇻🇳\"},{\"candidate\":0,\"candidate_prev\":0,\"cc\":\"LB\",\"death\":4,\"death_prev\":3,\"infected\":124,\"infected_prev\":120,\"negative\":0,\"negative_prev\":0,\"released\":4,\"released_prev\":4,\"flag\":\"🇱🇧\"},{\"candidate\":0,\"candidate_prev\":0,\"cc\":\"BE\",\"death\":10,\"death_prev\":10,\"infected\":1243,\"infected_prev\":1243,\"negative\":0,\"negative_prev\":0,\"released\":14,\"released_prev\":14,\"flag\":\"🇧🇪\"},{\"candidate\":0,\"candidate_prev\":0,\"cc\":\"IL\",\"death\":0,\"death_prev\":0,\"infected\":427,\"infected_prev\":337,\"negative\":0,\"negative_prev\":0,\"released\":11,\"released_prev\":11,\"flag\":\"🇮🇱\"},{\"candidate\":0,\"candidate_prev\":0,\"cc\":\"OM\",\"death\":0,\"death_prev\":0,\"infected\":33,\"infected_prev\":24,\"negative\":0,\"negative_prev\":0,\"released\":12,\"released_prev\":12,\"flag\":\"🇴🇲\"},{\"candidate\":0,\"candidate_prev\":0,\"cc\":\"HR\",\"death\":0,\"death_prev\":0,\"infected\":69,\"infected_prev\":65,\"negative\":0,\"negative_prev\":0,\"released\":5,\"released_prev\":4,\"flag\":\"🇭🇷\"},{\"candidate\":0,\"candidate_prev\":0,\"cc\":\"IS\",\"death\":0,\"death_prev\":0,\"infected\":247,\"infected_prev\":220,\"negative\":0,\"negative_prev\":0,\"released\":5,\"released_prev\":5,\"flag\":\"🇮🇸\"},{\"candidate\":0,\"candidate_prev\":0,\"cc\":\"MO\",\"death\":0,\"death_prev\":0,\"infected\":14,\"infected_prev\":12,\"negative\":0,\"negative_prev\":0,\"released\":10,\"released_prev\":10,\"flag\":\"🇲🇴\"},{\"candidate\":0,\"candidate_prev\":0,\"cc\":\"SM\",\"death\":11,\"death_prev\":9,\"infected\":119,\"infected_prev\":102,\"negative\":0,\"negative_prev\":0,\"released\":4,\"released_prev\":4,\"flag\":\"🇸🇲\"},{\"candidate\":0,\"candidate_prev\":0,\"cc\":\"DK\",\"death\":4,\"death_prev\":4,\"infected\":977,\"infected_prev\":960,\"negative\":0,\"negative_prev\":0,\"released\":1,\"released_prev\":1,\"flag\":\"🇩🇰\"},{\"candidate\":0,\"candidate_prev\":0,\"cc\":\"QA\",\"death\":0,\"death_prev\":0,\"infected\":442,\"infected_prev\":439,\"negative\":0,\"negative_prev\":0,\"released\":4,\"released_prev\":4,\"flag\":\"🇶🇦\"},{\"candidate\":0,\"candidate_prev\":0,\"cc\":\"DZ\",\"death\":5,\"death_prev\":5,\"infected\":61,\"infected_prev\":60,\"negative\":0,\"negative_prev\":0,\"released\":10,\"released_prev\":10,\"flag\":\"🇩🇿\"},{\"candidate\":0,\"candidate_prev\":0,\"cc\":\"GR\",\"death\":5,\"death_prev\":4,\"infected\":387,\"infected_prev\":352,\"negative\":0,\"negative_prev\":0,\"released\":14,\"released_prev\":10,\"flag\":\"🇬🇷\"},{\"candidate\":0,\"candidate_prev\":0,\"cc\":\"FI\",\"death\":0,\"death_prev\":0,\"infected\":322,\"infected_prev\":322,\"negative\":0,\"negative_prev\":0,\"released\":10,\"released_prev\":10,\"flag\":\"🇫🇮\"},{\"candidate\":0,\"candidate_prev\":0,\"cc\":\"EC\",\"death\":2,\"death_prev\":2,\"infected\":111,\"infected_prev\":58,\"negative\":0,\"negative_prev\":0,\"released\":0,\"released_prev\":0,\"flag\":\"🇪🇨\"},{\"candidate\":0,\"candidate_prev\":0,\"cc\":\"MX\",\"death\":0,\"death_prev\":0,\"infected\":93,\"infected_prev\":82,\"negative\":0,\"negative_prev\":0,\"released\":4,\"released_prev\":4,\"flag\":\"🇲🇽\"},{\"candidate\":0,\"candidate_prev\":0,\"cc\":\"RU\",\"death\":0,\"death_prev\":0,\"infected\":114,\"infected_prev\":114,\"negative\":0,\"negative_prev\":0,\"released\":8,\"released_prev\":8,\"flag\":\"🇷🇺\"},{\"candidate\":0,\"candidate_prev\":0,\"cc\":\"PK\",\"death\":0,\"death_prev\":0,\"infected\":247,\"infected_prev\":236,\"negative\":0,\"negative_prev\":0,\"released\":2,\"released_prev\":2,\"flag\":\"🇵🇰\"},{\"candidate\":0,\"candidate_prev\":0,\"cc\":\"CZ\",\"death\":0,\"death_prev\":0,\"infected\":434,\"infected_prev\":396,\"negative\":0,\"negative_prev\":0,\"released\":3,\"released_prev\":3,\"flag\":\"🇨🇿\"},{\"candidate\":0,\"candidate_prev\":0,\"cc\":\"RO\",\"death\":0,\"death_prev\":0,\"infected\":217,\"infected_prev\":184,\"negative\":0,\"negative_prev\":0,\"released\":19,\"released_prev\":16,\"flag\":\"🇷🇴\"},{\"candidate\":0,\"candidate_prev\":0,\"cc\":\"PT\",\"death\":1,\"death_prev\":1,\"infected\":448,\"infected_prev\":448,\"negative\":0,\"negative_prev\":0,\"released\":3,\"released_prev\":3,\"flag\":\"🇵🇹\"},{\"candidate\":0,\"candidate_prev\":0,\"cc\":\"PH\",\"death\":14,\"death_prev\":12,\"infected\":193,\"infected_prev\":187,\"negative\":0,\"negative_prev\":0,\"released\":4,\"released_prev\":4,\"flag\":\"🇵🇭\"},{\"candidate\":0,\"candidate_prev\":0,\"cc\":\"AZ\",\"death\":1,\"death_prev\":1,\"infected\":34,\"infected_prev\":28,\"negative\":0,\"negative_prev\":0,\"released\":6,\"released_prev\":6,\"flag\":\"🇦🇿\"},{\"candidate\":0,\"candidate_prev\":0,\"cc\":\"GE\",\"death\":0,\"death_prev\":0,\"infected\":38,\"infected_prev\":34,\"negative\":0,\"negative_prev\":0,\"released\":1,\"released_prev\":1,\"flag\":\"🇬🇪\"},{\"candidate\":0,\"candidate_prev\":0,\"cc\":\"BR\",\"death\":1,\"death_prev\":1,\"infected\":349,\"infected_prev\":301,\"negative\":0,\"negative_prev\":0,\"released\":2,\"released_prev\":2,\"flag\":\"🇧🇷\"},{\"candidate\":0,\"candidate_prev\":0,\"cc\":\"EG\",\"death\":6,\"death_prev\":4,\"infected\":196,\"infected_prev\":169,\"negative\":0,\"negative_prev\":0,\"released\":26,\"released_prev\":26,\"flag\":\"🇪🇬\"},{\"candidate\":0,\"candidate_prev\":0,\"cc\":\"ID\",\"death\":7,\"death_prev\":5,\"infected\":172,\"infected_prev\":172,\"negative\":0,\"negative_prev\":0,\"released\":9,\"released_prev\":8,\"flag\":\"🇮🇩\"},{\"candidate\":0,\"candidate_prev\":0,\"cc\":\"EE\",\"death\":0,\"death_prev\":0,\"infected\":225,\"infected_prev\":225,\"negative\":0,\"negative_prev\":0,\"released\":1,\"released_prev\":1,\"flag\":\"🇪🇪\"},{\"candidate\":0,\"candidate_prev\":0,\"cc\":\"NZ\",\"death\":0,\"death_prev\":0,\"infected\":20,\"infected_prev\":12,\"negative\":0,\"negative_prev\":0,\"released\":0,\"released_prev\":0,\"flag\":\"🇳🇿\"},{\"candidate\":0,\"candidate_prev\":0,\"cc\":\"IE\",\"death\":2,\"death_prev\":2,\"infected\":292,\"infected_prev\":223,\"negative\":0,\"negative_prev\":0,\"released\":5,\"released_prev\":5,\"flag\":\"🇮🇪\"},{\"candidate\":0,\"candidate_prev\":0,\"cc\":\"SN\",\"death\":0,\"death_prev\":0,\"infected\":27,\"infected_prev\":27,\"negative\":0,\"negative_prev\":0,\"released\":2,\"released_prev\":2,\"flag\":\"🇸🇳\"},{\"candidate\":0,\"candidate_prev\":0,\"cc\":\"NP\",\"death\":0,\"death_prev\":0,\"infected\":1,\"infected_prev\":1,\"negative\":0,\"negative_prev\":0,\"released\":1,\"released_prev\":1,\"flag\":\"🇳🇵\"},{\"candidate\":0,\"candidate_prev\":0,\"cc\":\"KH\",\"death\":0,\"death_prev\":0,\"infected\":33,\"infected_prev\":33,\"negative\":0,\"negative_prev\":0,\"released\":1,\"released_prev\":1,\"flag\":\"🇰🇭\"},{\"candidate\":0,\"candidate_prev\":0,\"cc\":\"LK\",\"death\":0,\"death_prev\":0,\"infected\":45,\"infected_prev\":44,\"negative\":0,\"negative_prev\":0,\"released\":1,\"released_prev\":1,\"flag\":\"🇱🇰\"},{\"candidate\":0,\"candidate_prev\":0,\"cc\":\"AF\",\"death\":1,\"death_prev\":1,\"infected\":22,\"infected_prev\":22,\"negative\":0,\"negative_prev\":0,\"released\":2,\"released_prev\":2,\"flag\":\"🇦🇫\"},{\"candidate\":0,\"candidate_prev\":0,\"cc\":\"MK\",\"death\":0,\"death_prev\":0,\"infected\":31,\"infected_prev\":26,\"negative\":0,\"negative_prev\":0,\"released\":1,\"released_prev\":1,\"flag\":\"🇲🇰\"},{\"candidate\":0,\"candidate_prev\":0,\"cc\":\"NG\",\"death\":0,\"death_prev\":0,\"infected\":3,\"infected_prev\":3,\"negative\":0,\"negative_prev\":0,\"released\":1,\"released_prev\":1,\"flag\":\"🇳🇬\"},{\"candidate\":0,\"candidate_prev\":0,\"cc\":\"LT\",\"death\":0,\"death_prev\":0,\"infected\":26,\"infected_prev\":21,\"negative\":0,\"negative_prev\":0,\"released\":1,\"released_prev\":1,\"flag\":\"🇱🇹\"},{\"candidate\":0,\"candidate_prev\":0,\"cc\":\"BY\",\"death\":0,\"death_prev\":0,\"infected\":36,\"infected_prev\":36,\"negative\":0,\"negative_prev\":0,\"released\":3,\"released_prev\":3,\"flag\":\"🇧🇾\"},{\"candidate\":0,\"candidate_prev\":0,\"cc\":\"MC\",\"death\":0,\"death_prev\":0,\"infected\":9,\"infected_prev\":9,\"negative\":0,\"negative_prev\":0,\"released\":0,\"released_prev\":0,\"flag\":\"🇲🇨\"},{\"candidate\":0,\"candidate_prev\":0,\"cc\":\"LU\",\"death\":1,\"death_prev\":1,\"infected\":140,\"infected_prev\":140,\"negative\":0,\"negative_prev\":0,\"released\":0,\"released_prev\":0,\"flag\":\"🇱🇺\"},{\"candidate\":0,\"candidate_prev\":0,\"cc\":\"AM\",\"death\":0,\"death_prev\":0,\"infected\":78,\"infected_prev\":72,\"negative\":0,\"negative_prev\":0,\"released\":1,\"released_prev\":1,\"flag\":\"🇦🇲\"},{\"candidate\":0,\"candidate_prev\":0,\"cc\":\"DO\",\"death\":1,\"death_prev\":1,\"infected\":21,\"infected_prev\":21,\"negative\":0,\"negative_prev\":0,\"released\":0,\"released_prev\":0,\"flag\":\"🇩🇴\"},{\"candidate\":0,\"candidate_prev\":0,\"cc\":\"JO\",\"death\":0,\"death_prev\":0,\"infected\":48,\"infected_prev\":35,\"negative\":0,\"negative_prev\":0,\"released\":1,\"released_prev\":1,\"flag\":\"🇯🇴\"},{\"candidate\":0,\"candidate_prev\":0,\"cc\":\"LV\",\"death\":0,\"death_prev\":0,\"infected\":60,\"infected_prev\":60,\"negative\":0,\"negative_prev\":0,\"released\":1,\"released_prev\":1,\"flag\":\"🇱🇻\"},{\"candidate\":0,\"candidate_prev\":0,\"cc\":\"AD\",\"death\":0,\"death_prev\":0,\"infected\":39,\"infected_prev\":16,\"negative\":0,\"negative_prev\":0,\"released\":1,\"released_prev\":1,\"flag\":\"🇦🇩\"},{\"candidate\":0,\"candidate_prev\":0,\"cc\":\"MA\",\"death\":2,\"death_prev\":2,\"infected\":44,\"infected_prev\":38,\"negative\":0,\"negative_prev\":0,\"released\":1,\"released_prev\":1,\"flag\":\"🇲🇦\"},{\"candidate\":0,\"candidate_prev\":0,\"cc\":\"SA\",\"death\":0,\"death_prev\":0,\"infected\":171,\"infected_prev\":133,\"negative\":0,\"negative_prev\":0,\"released\":6,\"released_prev\":6,\"flag\":\"🇸🇦\"},{\"candidate\":0,\"candidate_prev\":0,\"cc\":\"TN\",\"death\":0,\"death_prev\":0,\"infected\":27,\"infected_prev\":24,\"negative\":0,\"negative_prev\":0,\"released\":1,\"released_prev\":1,\"flag\":\"🇹🇳\"},{\"candidate\":0,\"candidate_prev\":0,\"cc\":\"UA\",\"death\":2,\"death_prev\":1,\"infected\":14,\"infected_prev\":7,\"negative\":0,\"negative_prev\":0,\"released\":0,\"released_prev\":0,\"flag\":\"🇺🇦\"},{\"candidate\":0,\"candidate_prev\":0,\"cc\":\"LI\",\"death\":0,\"death_prev\":0,\"infected\":19,\"infected_prev\":7,\"negative\":0,\"negative_prev\":0,\"released\":0,\"released_prev\":0,\"flag\":\"🇱🇮\"},{\"candidate\":0,\"candidate_prev\":0,\"cc\":\"AR\",\"death\":2,\"death_prev\":2,\"infected\":79,\"infected_prev\":68,\"negative\":0,\"negative_prev\":0,\"released\":3,\"released_prev\":3,\"flag\":\"🇦🇷\"},{\"candidate\":0,\"candidate_prev\":0,\"cc\":\"CL\",\"death\":0,\"death_prev\":0,\"infected\":201,\"infected_prev\":201,\"negative\":0,\"negative_prev\":0,\"released\":0,\"released_prev\":0,\"flag\":\"🇨🇱\"},{\"candidate\":0,\"candidate_prev\":0,\"cc\":\"PL\",\"death\":5,\"death_prev\":5,\"infected\":238,\"infected_prev\":221,\"negative\":0,\"negative_prev\":0,\"released\":1,\"released_prev\":0,\"flag\":\"🇵🇱\"},{\"candidate\":0,\"candidate_prev\":0,\"cc\":\"HU\",\"death\":1,\"death_prev\":1,\"infected\":58,\"infected_prev\":50,\"negative\":0,\"negative_prev\":0,\"released\":2,\"released_prev\":2,\"flag\":\"🇭🇺\"},{\"candidate\":0,\"candidate_prev\":0,\"cc\":\"FO\",\"death\":0,\"death_prev\":0,\"infected\":47,\"infected_prev\":47,\"negative\":0,\"negative_prev\":0,\"released\":0,\"released_prev\":0,\"flag\":\"🇫🇴\"},{\"candidate\":0,\"candidate_prev\":0,\"cc\":\"SI\",\"death\":1,\"death_prev\":1,\"infected\":275,\"infected_prev\":273,\"negative\":0,\"negative_prev\":0,\"released\":0,\"released_prev\":0,\"flag\":\"🇸🇮\"},{\"candidate\":0,\"candidate_prev\":0,\"cc\":\"PS\",\"death\":0,\"death_prev\":0,\"infected\":44,\"infected_prev\":41,\"negative\":0,\"negative_prev\":0,\"released\":0,\"released_prev\":0,\"flag\":\"🇵🇸\"},{\"candidate\":0,\"candidate_prev\":0,\"cc\":\"BA\",\"death\":0,\"death_prev\":0,\"infected\":34,\"infected_prev\":27,\"negative\":0,\"negative_prev\":0,\"released\":2,\"released_prev\":2,\"flag\":\"🇧🇦\"},{\"candidate\":0,\"candidate_prev\":0,\"cc\":\"ZA\",\"death\":0,\"death_prev\":0,\"infected\":85,\"infected_prev\":62,\"negative\":0,\"negative_prev\":0,\"released\":0,\"released_prev\":0,\"flag\":\"🇿🇦\"},{\"candidate\":0,\"candidate_prev\":0,\"cc\":\"CR\",\"death\":0,\"death_prev\":0,\"infected\":50,\"infected_prev\":41,\"negative\":0,\"negative_prev\":0,\"released\":0,\"released_prev\":0,\"flag\":\"🇨🇷\"},{\"candidate\":0,\"candidate_prev\":0,\"cc\":\"GI\",\"death\":0,\"death_prev\":0,\"infected\":3,\"infected_prev\":3,\"negative\":0,\"negative_prev\":0,\"released\":2,\"released_prev\":1,\"flag\":\"🇬🇮\"},{\"candidate\":0,\"candidate_prev\":0,\"cc\":\"BT\",\"death\":0,\"death_prev\":0,\"infected\":1,\"infected_prev\":1,\"negative\":0,\"negative_prev\":0,\"released\":0,\"released_prev\":0,\"flag\":\"🇧🇹\"},{\"candidate\":0,\"candidate_prev\":0,\"cc\":\"RS\",\"death\":0,\"death_prev\":0,\"infected\":72,\"infected_prev\":65,\"negative\":0,\"negative_prev\":0,\"released\":1,\"released_prev\":1,\"flag\":\"🇷🇸\"},{\"candidate\":0,\"candidate_prev\":0,\"cc\":\"SK\",\"death\":0,\"death_prev\":0,\"infected\":97,\"infected_prev\":84,\"negative\":0,\"negative_prev\":0,\"released\":0,\"released_prev\":0,\"flag\":\"🇸🇰\"},{\"candidate\":0,\"candidate_prev\":0,\"cc\":\"CM\",\"death\":0,\"death_prev\":0,\"infected\":10,\"infected_prev\":10,\"negative\":0,\"negative_prev\":0,\"released\":0,\"released_prev\":0,\"flag\":\"🇨🇲\"},{\"candidate\":0,\"candidate_prev\":0,\"cc\":\"VA\",\"death\":0,\"death_prev\":0,\"infected\":1,\"infected_prev\":1,\"negative\":0,\"negative_prev\":0,\"released\":0,\"released_prev\":0,\"flag\":\"🇻🇦\"},{\"candidate\":0,\"candidate_prev\":0,\"cc\":\"PE\",\"death\":0,\"death_prev\":0,\"infected\":117,\"infected_prev\":117,\"negative\":0,\"negative_prev\":0,\"released\":1,\"released_prev\":1,\"flag\":\"🇵🇪\"},{\"candidate\":0,\"candidate_prev\":0,\"cc\":\"TG\",\"death\":0,\"death_prev\":0,\"infected\":1,\"infected_prev\":1,\"negative\":0,\"negative_prev\":0,\"released\":0,\"released_prev\":0,\"flag\":\"🇹🇬\"},{\"candidate\":0,\"candidate_prev\":0,\"cc\":\"CO\",\"death\":0,\"death_prev\":0,\"infected\":75,\"infected_prev\":65,\"negative\":0,\"negative_prev\":0,\"released\":1,\"released_prev\":1,\"flag\":\"🇨🇴\"},{\"candidate\":0,\"candidate_prev\":0,\"cc\":\"MT\",\"death\":0,\"death_prev\":0,\"infected\":38,\"infected_prev\":38,\"negative\":0,\"negative_prev\":0,\"released\":2,\"released_prev\":2,\"flag\":\"🇲🇹\"},{\"candidate\":0,\"candidate_prev\":0,\"cc\":\"MV\",\"death\":0,\"death_prev\":0,\"infected\":13,\"infected_prev\":13,\"negative\":0,\"negative_prev\":0,\"released\":0,\"released_prev\":0,\"flag\":\"🇲🇻\"},{\"candidate\":0,\"candidate_prev\":0,\"cc\":\"MD\",\"death\":0,\"death_prev\":0,\"infected\":30,\"infected_prev\":30,\"negative\":0,\"negative_prev\":0,\"released\":1,\"released_prev\":1,\"flag\":\"🇲🇩\"},{\"candidate\":0,\"candidate_prev\":0,\"cc\":\"PY\",\"death\":0,\"death_prev\":0,\"infected\":9,\"infected_prev\":9,\"negative\":0,\"negative_prev\":0,\"released\":0,\"released_prev\":0,\"flag\":\"🇵🇾\"},{\"candidate\":0,\"candidate_prev\":0,\"cc\":\"BG\",\"death\":2,\"death_prev\":2,\"infected\":81,\"infected_prev\":67,\"negative\":0,\"negative_prev\":0,\"released\":0,\"released_prev\":0,\"flag\":\"🇧🇬\"},{\"candidate\":0,\"candidate_prev\":0,\"cc\":\"GF\",\"death\":0,\"death_prev\":0,\"infected\":11,\"infected_prev\":11,\"negative\":0,\"negative_prev\":0,\"released\":0,\"released_prev\":0,\"flag\":\"🇬🇫\"},{\"candidate\":0,\"candidate_prev\":0,\"cc\":\"BD\",\"death\":0,\"death_prev\":0,\"infected\":11,\"infected_prev\":10,\"negative\":0,\"negative_prev\":0,\"released\":3,\"released_prev\":3,\"flag\":\"🇧🇩\"},{\"candidate\":0,\"candidate_prev\":0,\"cc\":\"AL\",\"death\":1,\"death_prev\":1,\"infected\":55,\"infected_prev\":55,\"negative\":0,\"negative_prev\":0,\"released\":0,\"released_prev\":0,\"flag\":\"🇦🇱\"},{\"candidate\":0,\"candidate_prev\":0,\"cc\":\"GY\",\"death\":1,\"death_prev\":1,\"infected\":7,\"infected_prev\":7,\"negative\":0,\"negative_prev\":0,\"released\":0,\"released_prev\":0,\"flag\":\"🇬🇾\"},{\"candidate\":0,\"candidate_prev\":0,\"cc\":\"MQ\",\"death\":1,\"death_prev\":1,\"infected\":15,\"infected_prev\":15,\"negative\":0,\"negative_prev\":0,\"released\":0,\"released_prev\":0,\"flag\":\"🇲🇶\"},{\"candidate\":0,\"candidate_prev\":0,\"cc\":\"MN\",\"death\":0,\"death_prev\":0,\"infected\":6,\"infected_prev\":5,\"negative\":0,\"negative_prev\":0,\"released\":0,\"released_prev\":0,\"flag\":\"🇲🇳\"},{\"candidate\":0,\"candidate_prev\":0,\"cc\":\"CY\",\"death\":0,\"death_prev\":0,\"infected\":49,\"infected_prev\":46,\"negative\":0,\"negative_prev\":0,\"released\":0,\"released_prev\":0,\"flag\":\"🇨🇾\"},{\"candidate\":0,\"candidate_prev\":0,\"cc\":\"BN\",\"death\":0,\"death_prev\":0,\"infected\":56,\"infected_prev\":56,\"negative\":0,\"negative_prev\":0,\"released\":0,\"released_prev\":0,\"flag\":\"🇧🇳\"},{\"candidate\":0,\"candidate_prev\":0,\"cc\":\"BF\",\"death\":0,\"death_prev\":0,\"infected\":15,\"infected_prev\":15,\"negative\":0,\"negative_prev\":0,\"released\":0,\"released_prev\":0,\"flag\":\"🇧🇫\"},{\"candidate\":0,\"candidate_prev\":0,\"cc\":\"PA\",\"death\":1,\"death_prev\":1,\"infected\":69,\"infected_prev\":69,\"negative\":0,\"negative_prev\":0,\"released\":0,\"released_prev\":0,\"flag\":\"🇵🇦\"},{\"candidate\":0,\"candidate_prev\":0,\"cc\":\"BO\",\"death\":0,\"death_prev\":0,\"infected\":12,\"infected_prev\":11,\"negative\":0,\"negative_prev\":0,\"released\":0,\"released_prev\":0,\"flag\":\"🇧🇴\"},{\"candidate\":0,\"candidate_prev\":0,\"cc\":\"CD\",\"death\":0,\"death_prev\":0,\"infected\":3,\"infected_prev\":3,\"negative\":0,\"negative_prev\":0,\"released\":0,\"released_prev\":0,\"flag\":\"🇨🇩\"},{\"candidate\":0,\"candidate_prev\":0,\"cc\":\"JM\",\"death\":0,\"death_prev\":0,\"infected\":13,\"infected_prev\":12,\"negative\":0,\"negative_prev\":0,\"released\":2,\"released_prev\":2,\"flag\":\"🇯🇲\"},{\"candidate\":0,\"candidate_prev\":0,\"cc\":\"TR\",\"death\":1,\"death_prev\":0,\"infected\":98,\"infected_prev\":47,\"negative\":0,\"negative_prev\":0,\"released\":0,\"released_prev\":0,\"flag\":\"🇹🇷\"},{\"candidate\":0,\"candidate_prev\":0,\"cc\":\"HN\",\"death\":0,\"death_prev\":0,\"infected\":8,\"infected_prev\":8,\"negative\":0,\"negative_prev\":0,\"released\":0,\"released_prev\":0,\"flag\":\"🇭🇳\"},{\"candidate\":0,\"candidate_prev\":0,\"cc\":\"CU\",\"death\":0,\"death_prev\":0,\"infected\":7,\"infected_prev\":5,\"negative\":0,\"negative_prev\":0,\"released\":0,\"released_prev\":0,\"flag\":\"🇨🇺\"},{\"candidate\":0,\"candidate_prev\":0,\"cc\":\"TT\",\"death\":0,\"death_prev\":0,\"infected\":7,\"infected_prev\":5,\"negative\":0,\"negative_prev\":0,\"released\":0,\"released_prev\":0,\"flag\":\"🇹🇹\"},{\"candidate\":0,\"candidate_prev\":0,\"cc\":\"GH\",\"death\":0,\"death_prev\":0,\"infected\":7,\"infected_prev\":6,\"negative\":0,\"negative_prev\":0,\"released\":0,\"released_prev\":0,\"flag\":\"🇬🇭\"},{\"candidate\":0,\"candidate_prev\":0,\"cc\":\"SR\",\"death\":0,\"death_prev\":0,\"infected\":1,\"infected_prev\":1,\"negative\":0,\"negative_prev\":0,\"released\":0,\"released_prev\":0,\"flag\":\"🇱🇨\"},{\"candidate\":0,\"candidate_prev\":0,\"cc\":\"LC\",\"death\":0,\"death_prev\":0,\"infected\":2,\"infected_prev\":2,\"negative\":0,\"negative_prev\":0,\"released\":0,\"released_prev\":0,\"flag\":\"🇸🇷\"},{\"candidate\":0,\"candidate_prev\":0,\"cc\":\"RE\",\"death\":0,\"death_prev\":0,\"infected\":9,\"infected_prev\":9,\"negative\":0,\"negative_prev\":0,\"released\":0,\"released_prev\":0,\"flag\":\"🇷🇪\"},{\"candidate\":0,\"candidate_prev\":0,\"cc\":\"CI\",\"death\":0,\"death_prev\":0,\"infected\":4,\"infected_prev\":4,\"negative\":0,\"negative_prev\":0,\"released\":0,\"released_prev\":0,\"flag\":\"🇨🇮\"},{\"candidate\":0,\"candidate_prev\":0,\"cc\":\"PF\",\"death\":0,\"death_prev\":0,\"infected\":3,\"infected_prev\":3,\"negative\":0,\"negative_prev\":0,\"released\":0,\"released_prev\":0,\"flag\":\"🇵🇫\"},{\"candidate\":0,\"candidate_prev\":0,\"cc\":\"VC\",\"death\":0,\"death_prev\":0,\"infected\":1,\"infected_prev\":1,\"negative\":0,\"negative_prev\":0,\"released\":0,\"released_prev\":0,\"flag\":\"🇻🇨\"},{\"candidate\":0,\"candidate_prev\":0,\"cc\":\"KE\",\"death\":0,\"death_prev\":0,\"infected\":4,\"infected_prev\":4,\"negative\":0,\"negative_prev\":0,\"released\":0,\"released_prev\":0,\"flag\":\"🇰🇪\"},{\"candidate\":0,\"candidate_prev\":0,\"cc\":\"CW\",\"death\":0,\"death_prev\":0,\"infected\":3,\"infected_prev\":3,\"negative\":0,\"negative_prev\":0,\"released\":0,\"released_prev\":0,\"flag\":\"🇨🇼\"},{\"candidate\":0,\"candidate_prev\":0,\"cc\":\"MR\",\"death\":0,\"death_prev\":0,\"infected\":1,\"infected_prev\":1,\"negative\":0,\"negative_prev\":0,\"released\":0,\"released_prev\":0,\"flag\":\"🇲🇷\"},{\"candidate\":0,\"candidate_prev\":0,\"cc\":\"AG\",\"death\":0,\"death_prev\":0,\"infected\":1,\"infected_prev\":1,\"negative\":0,\"negative_prev\":0,\"released\":0,\"released_prev\":0,\"flag\":\"🇦🇬\"},{\"candidate\":0,\"candidate_prev\":0,\"cc\":\"ET\",\"death\":0,\"death_prev\":0,\"infected\":6,\"infected_prev\":5,\"negative\":0,\"negative_prev\":0,\"released\":0,\"released_prev\":0,\"flag\":\"🇪🇹\"},{\"candidate\":0,\"candidate_prev\":0,\"cc\":\"SD\",\"death\":1,\"death_prev\":1,\"infected\":1,\"infected_prev\":1,\"negative\":0,\"negative_prev\":0,\"released\":0,\"released_prev\":0,\"flag\":\"🇸🇩\"},{\"candidate\":0,\"candidate_prev\":0,\"cc\":\"GN\",\"death\":0,\"death_prev\":0,\"infected\":1,\"infected_prev\":1,\"negative\":0,\"negative_prev\":0,\"released\":0,\"released_prev\":0,\"flag\":\"🇬🇳\"},{\"candidate\":0,\"candidate_prev\":0,\"cc\":\"GA\",\"death\":0,\"death_prev\":0,\"infected\":3,\"infected_prev\":1,\"negative\":0,\"negative_prev\":0,\"released\":0,\"released_prev\":0,\"flag\":\"🇬🇦\"},{\"candidate\":0,\"candidate_prev\":0,\"cc\":\"GP\",\"death\":0,\"death_prev\":0,\"infected\":18,\"infected_prev\":6,\"negative\":0,\"negative_prev\":0,\"released\":0,\"released_prev\":0,\"flag\":\"🇬🇵\"},{\"candidate\":0,\"candidate_prev\":0,\"cc\":\"KY\",\"death\":1,\"death_prev\":1,\"infected\":1,\"infected_prev\":1,\"negative\":0,\"negative_prev\":0,\"released\":0,\"released_prev\":0,\"flag\":\"🇰🇾\"},{\"candidate\":0,\"candidate_prev\":0,\"cc\":\"PR\",\"death\":0,\"death_prev\":0,\"infected\":5,\"infected_prev\":5,\"negative\":0,\"negative_prev\":0,\"released\":0,\"released_prev\":0,\"flag\":\"🇵🇷\"},{\"candidate\":0,\"candidate_prev\":0,\"cc\":\"AW\",\"death\":0,\"death_prev\":0,\"infected\":4,\"infected_prev\":3,\"negative\":0,\"negative_prev\":0,\"released\":0,\"released_prev\":0,\"flag\":\"🇦🇼\"},{\"candidate\":0,\"candidate_prev\":0,\"cc\":\"UY\",\"death\":0,\"death_prev\":0,\"infected\":50,\"infected_prev\":29,\"negative\":0,\"negative_prev\":0,\"released\":0,\"released_prev\":0,\"flag\":\"🇺🇾\"},{\"candidate\":0,\"candidate_prev\":0,\"cc\":\"GT\",\"death\":1,\"death_prev\":1,\"infected\":8,\"infected_prev\":8,\"negative\":0,\"negative_prev\":0,\"released\":0,\"released_prev\":0,\"flag\":\"🇬🇹\"},{\"candidate\":0,\"candidate_prev\":0,\"cc\":\"VE\",\"death\":0,\"death_prev\":0,\"infected\":33,\"infected_prev\":33,\"negative\":0,\"negative_prev\":0,\"released\":0,\"released_prev\":0,\"flag\":\"🇻🇪\"},{\"candidate\":0,\"candidate_prev\":0,\"cc\":\"KZ\",\"death\":0,\"death_prev\":0,\"infected\":35,\"infected_prev\":33,\"negative\":0,\"negative_prev\":0,\"released\":0,\"released_prev\":0,\"flag\":\"🇰🇿\"},{\"candidate\":0,\"candidate_prev\":0,\"cc\":\"SZ\",\"death\":0,\"death_prev\":0,\"infected\":1,\"infected_prev\":1,\"negative\":0,\"negative_prev\":0,\"released\":0,\"released_prev\":0,\"flag\":\"🇸🇿\"},{\"candidate\":0,\"candidate_prev\":0,\"cc\":\"NA\",\"death\":0,\"death_prev\":0,\"infected\":2,\"infected_prev\":2,\"negative\":0,\"negative_prev\":0,\"released\":0,\"released_prev\":0,\"flag\":\"🇳🇦\"},{\"candidate\":0,\"candidate_prev\":0,\"cc\":\"SC\",\"death\":0,\"death_prev\":0,\"infected\":4,\"infected_prev\":4,\"negative\":0,\"negative_prev\":0,\"released\":0,\"released_prev\":0,\"flag\":\"🇸🇨\"},{\"candidate\":0,\"candidate_prev\":0,\"cc\":\"YT\",\"death\":0,\"death_prev\":0,\"infected\":3,\"infected_prev\":1,\"negative\":0,\"negative_prev\":0,\"released\":0,\"released_prev\":0,\"flag\":\"🇾🇹\"},{\"candidate\":0,\"candidate_prev\":0,\"cc\":\"RW\",\"death\":0,\"death_prev\":0,\"infected\":8,\"infected_prev\":7,\"negative\":0,\"negative_prev\":0,\"released\":0,\"released_prev\":0,\"flag\":\"🇷🇼\"},{\"candidate\":0,\"candidate_prev\":0,\"cc\":\"VI\",\"death\":0,\"death_prev\":0,\"infected\":2,\"infected_prev\":2,\"negative\":0,\"negative_prev\":0,\"released\":0,\"released_prev\":0,\"flag\":\"🇻🇮\"},{\"candidate\":0,\"candidate_prev\":0,\"cc\":\"GQ\",\"death\":0,\"death_prev\":0,\"infected\":1,\"infected_prev\":1,\"negative\":0,\"negative_prev\":0,\"released\":0,\"released_prev\":0,\"flag\":\"🇬🇶\"},{\"candidate\":0,\"candidate_prev\":0,\"cc\":\"GU\",\"death\":0,\"death_prev\":0,\"infected\":5,\"infected_prev\":5,\"negative\":0,\"negative_prev\":0,\"released\":0,\"released_prev\":0,\"flag\":\"🇬🇺\"},{\"candidate\":0,\"candidate_prev\":0,\"cc\":\"UZ\",\"death\":0,\"death_prev\":0,\"infected\":13,\"infected_prev\":11,\"negative\":0,\"negative_prev\":0,\"released\":0,\"released_prev\":0,\"flag\":\"🇺🇿\"},{\"candidate\":0,\"candidate_prev\":0,\"cc\":\"CF\",\"death\":0,\"death_prev\":0,\"infected\":1,\"infected_prev\":1,\"negative\":0,\"negative_prev\":0,\"released\":0,\"released_prev\":0,\"flag\":\"🇨🇫\"},{\"candidate\":0,\"candidate_prev\":0,\"cc\":\"XK\",\"death\":0,\"death_prev\":0,\"infected\":13,\"infected_prev\":5,\"negative\":0,\"negative_prev\":0,\"released\":0,\"released_prev\":0,\"flag\":\"🇽🇰\"},{\"candidate\":0,\"candidate_prev\":0,\"cc\":\"CG\",\"death\":0,\"death_prev\":0,\"infected\":1,\"infected_prev\":1,\"negative\":0,\"negative_prev\":0,\"released\":0,\"released_prev\":0,\"flag\":\"🇨🇬\"},{\"candidate\":0,\"candidate_prev\":0,\"cc\":\"BS\",\"death\":0,\"death_prev\":0,\"infected\":1,\"infected_prev\":1,\"negative\":0,\"negative_prev\":0,\"released\":0,\"released_prev\":0,\"flag\":\"🇧🇸\"},{\"candidate\":0,\"candidate_prev\":0,\"cc\":\"TZ\",\"death\":0,\"death_prev\":0,\"infected\":1,\"infected_prev\":1,\"negative\":0,\"negative_prev\":0,\"released\":0,\"released_prev\":0,\"flag\":\"🇹🇿\"},{\"candidate\":0,\"candidate_prev\":0,\"cc\":\"SO\",\"death\":0,\"death_prev\":0,\"infected\":1,\"infected_prev\":1,\"negative\":0,\"negative_prev\":0,\"released\":0,\"released_prev\":0,\"flag\":\"🇸🇴\"},{\"candidate\":0,\"candidate_prev\":0,\"cc\":\"GL\",\"death\":0,\"death_prev\":0,\"infected\":1,\"infected_prev\":1,\"negative\":0,\"negative_prev\":0,\"released\":0,\"released_prev\":0,\"flag\":\"🇬🇱\"},{\"candidate\":0,\"candidate_prev\":0,\"cc\":\"LR\",\"death\":0,\"death_prev\":0,\"infected\":2,\"infected_prev\":2,\"negative\":0,\"negative_prev\":0,\"released\":0,\"released_prev\":0,\"flag\":\"🇱🇷\"},{\"candidate\":0,\"candidate_prev\":0,\"cc\":\"BJ\",\"death\":0,\"death_prev\":0,\"infected\":1,\"infected_prev\":1,\"negative\":0,\"negative_prev\":0,\"released\":0,\"released_prev\":0,\"flag\":\"🇧🇯\"},{\"candidate\":0,\"candidate_prev\":0,\"cc\":\"BB\",\"death\":0,\"death_prev\":0,\"infected\":2,\"infected_prev\":2,\"negative\":0,\"negative_prev\":0,\"released\":0,\"released_prev\":0,\"flag\":\"🇧🇧\"},{\"candidate\":0,\"cc\":\"GM\",\"death\":0,\"infected\":1,\"negative\":0,\"released\":0,\"flag\":\"🇬🇲\"},{\"candidate\":0,\"cc\":\"KG\",\"death\":0,\"infected\":3,\"negative\":0,\"released\":0,\"flag\":\"🇰🇬\"},{\"candidate\":0,\"cc\":\"ME\",\"death\":0,\"infected\":2,\"negative\":0,\"released\":0,\"flag\":\"🇲🇪\"},{\"candidate\":0,\"cc\":\"MF\",\"death\":0,\"infected\":2,\"negative\":0,\"released\":0,\"flag\":\"🇲🇫\"},{\"candidate\":0,\"cc\":\"MS\",\"death\":0,\"infected\":1,\"negative\":0,\"released\":0,\"flag\":\"🇲🇸\"}],\"statByKrLocation\":[{\"confirmed\":270,\"confirmed_prev\":265,\"death\":0,\"death_prev\":0,\"incidence\":2.77,\"quarantine\":215,\"quarantine_prev\":210,\"region\":\"서울\",\"released\":55,\"released_prev\":55},{\"confirmed\":107,\"confirmed_prev\":107,\"death\":1,\"death_prev\":1,\"incidence\":3.14,\"quarantine\":48,\"quarantine_prev\":52,\"region\":\"부산\",\"released\":58,\"released_prev\":54},{\"confirmed\":6144,\"confirmed_prev\":6098,\"death\":57,\"death_prev\":55,\"incidence\":252.17,\"quarantine\":5039,\"quarantine_prev\":5096,\"region\":\"대구\",\"released\":1048,\"released_prev\":947},{\"confirmed\":32,\"confirmed_prev\":31,\"death\":0,\"death_prev\":0,\"incidence\":1.08,\"quarantine\":27,\"quarantine_prev\":26,\"region\":\"인천\",\"released\":5,\"released_prev\":5},{\"confirmed\":17,\"confirmed_prev\":16,\"death\":0,\"death_prev\":0,\"incidence\":1.17,\"quarantine\":11,\"quarantine_prev\":10,\"region\":\"광주\",\"released\":6,\"released_prev\":6},{\"confirmed\":22,\"confirmed_prev\":22,\"death\":0,\"death_prev\":0,\"incidence\":1.49,\"quarantine\":18,\"quarantine_prev\":18,\"region\":\"대전\",\"released\":4,\"released_prev\":4},{\"confirmed\":30,\"confirmed_prev\":28,\"death\":0,\"death_prev\":0,\"incidence\":2.62,\"quarantine\":21,\"quarantine_prev\":20,\"region\":\"울산\",\"released\":9,\"released_prev\":8},{\"confirmed\":41,\"confirmed_prev\":40,\"death\":0,\"death_prev\":0,\"incidence\":11.98,\"quarantine\":41,\"quarantine_prev\":40,\"region\":\"세종\",\"released\":0,\"released_prev\":0},{\"confirmed\":277,\"confirmed_prev\":262,\"death\":3,\"death_prev\":3,\"incidence\":2.09,\"quarantine\":215,\"quarantine_prev\":204,\"region\":\"경기\",\"released\":59,\"released_prev\":55},{\"confirmed\":30,\"confirmed_prev\":29,\"death\":1,\"death_prev\":1,\"incidence\":1.95,\"quarantine\":21,\"quarantine_prev\":20,\"region\":\"강원\",\"released\":8,\"released_prev\":8},{\"confirmed\":32,\"confirmed_prev\":31,\"death\":0,\"death_prev\":0,\"incidence\":2,\"quarantine\":27,\"quarantine_prev\":26,\"region\":\"충북\",\"released\":5,\"released_prev\":5},{\"confirmed\":118,\"confirmed_prev\":115,\"death\":0,\"death_prev\":0,\"incidence\":5.56,\"quarantine\":102,\"quarantine_prev\":100,\"region\":\"충남\",\"released\":16,\"released_prev\":15},{\"confirmed\":9,\"confirmed_prev\":7,\"death\":0,\"death_prev\":0,\"incidence\":0.5,\"quarantine\":4,\"quarantine_prev\":3,\"region\":\"전북\",\"released\":5,\"released_prev\":4},{\"confirmed\":5,\"confirmed_prev\":4,\"death\":0,\"death_prev\":0,\"incidence\":0.27,\"quarantine\":3,\"quarantine_prev\":2,\"region\":\"전남\",\"released\":2,\"released_prev\":2},{\"confirmed\":1178,\"confirmed_prev\":1169,\"death\":24,\"death_prev\":24,\"incidence\":44.24,\"quarantine\":919,\"quarantine_prev\":936,\"region\":\"경북\",\"released\":235,\"released_prev\":209},{\"confirmed\":86,\"confirmed_prev\":86,\"death\":0,\"death_prev\":0,\"incidence\":2.56,\"quarantine\":63,\"quarantine_prev\":64,\"region\":\"경남\",\"released\":23,\"released_prev\":22},{\"confirmed\":4,\"confirmed_prev\":4,\"death\":0,\"death_prev\":0,\"incidence\":0.6,\"quarantine\":2,\"quarantine_prev\":2,\"region\":\"제주\",\"released\":2,\"released_prev\":2},{\"confirmed\":11,\"confirmed_prev\":6,\"death\":0,\"death_prev\":0,\"incidence\":0,\"quarantine\":11,\"quarantine_prev\":6,\"region\":\"검역\",\"released\":0,\"released_prev\":0}],\"mers\":{\"countries\":27,\"death\":858,\"deathKR\":38,\"infected\":2494,\"infectedKR\":186},\"sars\":{\"countries\":26,\"death\":774,\"deathKR\":0,\"infected\":8096,\"infectedKR\":3},\"chart\":{\"KR\":{\"confirmed\":[1,0,0,1,0,0,2,0,0,3,4,1,3,0,1,5,3,0,0,3,0,1,0,0,0,0,1,1,9,7,58,100,229,175,235,134,284,505,571,813,586,476,600,516,438,518,483,367,248,131,242,114,110,107,76,74,84,93],\"confirmed_acc\":[1,1,1,2,2,2,4,4,4,7,11,12,15,15,16,21,24,24,24,27,27,28,28,28,28,28,29,30,39,46,104,204,433,608,843,977,1261,1766,2337,3150,3736,4212,4812,5328,5766,6284,6767,7134,7382,7513,7755,7869,7979,8086,8162,8236,8320,8413],\"date\":[\"1.21\",\"1.22\",\"1.23\",\"1.24\",\"1.25\",\"1.26\",\"1.27\",\"1.28\",\"1.29\",\"1.30\",\"1.31\",\"2.1\",\"2.2\",\"2.3\",\"2.4\",\"2.5\",\"2.6\",\"2.7\",\"2.8\",\"2.9\",\"2.10\",\"2.11\",\"2.12\",\"2.13\",\"2.14\",\"2.15\",\"2.16\",\"2.17\",\"2.18\",\"2.19\",\"2.20\",\"2.21\",\"2.22\",\"2.23\",\"2.24\",\"2.25\",\"2.26\",\"2.27\",\"2.28\",\"2.29\",\"3.1\",\"3.2\",\"3.3\",\"3.4\",\"3.5\",\"3.6\",\"3.7\",\"3.8\",\"3.9\",\"3.10\",\"3.11\",\"3.12\",\"3.13\",\"3.14\",\"3.15\",\"3.16\",\"3.17\",\"3.18\"],\"death\":[0,0,0,0,0,0,0,0,0,0,0,0,0,0,0,0,0,0,0,0,0,0,0,0,0,0,0,0,0,0,1,0,2,3,2,3,1,1,3,1,5,6,3,3,8,2,5,1,4,4,5,4,5,3,0,6,3,2],\"death_acc\":[0,0,0,0,0,0,0,0,0,0,0,0,0,0,0,0,0,0,0,0,0,0,0,0,0,0,0,0,0,0,1,1,3,6,8,11,12,13,16,17,22,28,31,34,42,44,49,50,54,58,63,67,72,75,75,81,84,86],\"quarantine\":[1,1,1,2,2,2,4,4,4,7,11,12,15,15,16,20,22,22,22,24,23,24,21,21,21,19,20,20,27,30,87,186,412,584,813,944,1225,1727,2294,3105,3684,4153,4747,5253,5636,6132,6600,6954,7162,7208,7404,7469,7397,7297,7253,7018,6835,6787],\"released\":[0,0,0,0,0,0,0,0,0,0,0,0,0,0,0,1,1,0,0,1,1,0,3,0,0,2,0,1,2,4,0,1,1,0,4,0,2,2,1,1,2,1,3,7,47,20,10,12,36,81,41,45,177,204,120,303,264,139],\"released_acc\":[0,0,0,0,0,0,0,0,0,0,0,0,0,0,0,1,2,2,2,3,4,4,7,7,7,9,9,10,12,16,16,17,18,18,22,22,24,26,27,28,30,31,34,41,88,108,118,130,166,247,288,333,510,714,834,1137,1401,1540]},\"age\":{\"data\":{\"confirmed\":{\"0-9세\":87,\"10대\":438,\"20대\":2342,\"30대\":873,\"40대\":1171,\"50대\":1615,\"60대\":1059,\"70대\":542,\"80대이상\":286},\"death\":{\"0-9세\":0,\"10대\":0,\"20대\":0,\"30대\":1,\"40대\":1,\"50대\":6,\"60대\":15,\"70대\":32,\"80대이상\":31},\"released\":{\"0-9세\":8,\"10대\":35,\"20대\":200,\"30대\":96,\"40대\":116,\"50대\":158,\"60대\":77,\"70대\":18,\"80대이상\":6}},\"time\":\"2020-03-18 00:00\"},\"gender\":{\"data\":{\"confirmed\":{\"female\":5173,\"male\":3240},\"death\":{\"female\":40,\"male\":46},\"released\":{\"female\":16,\"male\":16}},\"time\":\"2020-03-18 00:00\"},\"global\":{\"confirmed\":[282,32,267,266,473,695,783,1791,1484,1749,2015,2111,2603,2931,3218,3923,3735,3175,3430,2636,3050,2491,2063,15201,4065,2722,2095,2159,2001,1852,481,1029,1158,999,594,793,934,1176,1407,1832,1930,2091,2194,2114,2574,3793,3460,3769,4015,4821,5270,8050,9712,10580,12579,12293,14279,9526],\"confirmed_acc\":[282,314,581,847,1320,2015,2798,4589,6073,7822,9837,11948,14551,17482,20700,24623,28358,31533,34963,37599,40649,43140,45203,60404,64469,67191,69286,71445,73446,75298,75779,76808,77966,78965,79559,80352,81286,82462,83869,85701,87631,89722,91916,94030,96604,100397,103857,107626,111641,116462,121732,129782,139494,150074,162653,174946,189225,198751],\"date\":[\"1.21\",\"1.22\",\"1.23\",\"1.24\",\"1.25\",\"1.26\",\"1.27\",\"1.28\",\"1.29\",\"1.30\",\"1.31\",\"2.1\",\"2.2\",\"2.3\",\"2.4\",\"2.5\",\"2.6\",\"2.7\",\"2.8\",\"2.9\",\"2.10\",\"2.11\",\"2.12\",\"2.13\",\"2.14\",\"2.15\",\"2.16\",\"2.17\",\"2.18\",\"2.19\",\"2.20\",\"2.21\",\"2.22\",\"2.23\",\"2.24\",\"2.25\",\"2.26\",\"2.27\",\"2.28\",\"2.29\",\"3.1\",\"3.2\",\"3.3\",\"3.4\",\"3.5\",\"3.6\",\"3.7\",\"3.8\",\"3.9\",\"3.10\",\"3.11\",\"3.12\",\"3.13\",\"3.14\",\"3.15\",\"3.16\",\"3.17\",\"3.18\"],\"death\":[6,0,11,8,16,15,24,26,26,38,43,46,46,57,65,67,71,73,87,89,96,108,99,253,14,143,143,105,100,137,118,119,114,104,161,78,64,36,66,61,63,66,71,87,91,103,115,133,228,206,289,368,367,501,449,625,819,478],\"death_acc\":[6,6,17,25,41,56,80,106,132,170,213,259,305,362,427,494,565,638,725,814,910,1018,1117,1370,1384,1527,1670,1775,1875,2012,2130,2249,2363,2467,2628,2706,2770,2806,2872,2933,2996,3062,3133,3220,3311,3414,3529,3662,3890,4096,4385,4753,5120,5621,6070,6695,7514,7992],\"quarantine\":[276,308,564,822,1279,1959,2718,4483,5941,7652,9624,11446,13906,16633,19543,23103,26400,29119,31841,33861,36155,37781,38967,52752,55916,57102,57746,58279,58420,58184,56757,56082,54337,53123,51710,49796,48205,46474,44384,43061,41946,41125,40582,39006,39366,41008,41799,43033,45044,47613,50426,56364,63671,70715,80381,90383,100849,107965],\"released\":[0,0,0,0,0,0,0,0,0,0,0,243,97,147,243,296,367,383,621,527,660,757,778,1163,887,1393,1308,1521,1760,1951,1790,1585,2789,2109,1846,2629,2461,2871,3431,3094,2982,2846,2666,3603,2123,2048,2554,2402,1776,2046,2168,1744,2038,3035,2464,1666,2994,1932],\"released_acc\":[0,0,0,0,0,0,0,0,0,0,0,243,340,487,730,1026,1393,1776,2397,2924,3584,4341,5119,6282,7169,8562,9870,11391,13151,15102,16892,18477,21266,23375,25221,27850,30311,33182,36613,39707,42689,45535,48201,51804,53927,55975,58529,60931,62707,64753,66921,68665,70703,73738,76202,77868,80862,82794]},\"krDaily\":{\"date\":[\"2.17\",\"2.18\",\"2.19\",\"2.20\",\"2.21\",\"2.22\",\"2.23\",\"2.24\",\"2.25\",\"2.26\",\"2.27\",\"2.28\",\"2.29\",\"3.1\",\"3.2\",\"3.3\",\"3.4\",\"3.5\",\"3.6\",\"3.7\",\"3.8\",\"3.9\",\"3.10\",\"3.11\",\"3.12\",\"3.13\",\"3.14\",\"3.15\",\"3.16\",\"3.17\",\"3.18\"],\"강원\":{\"confirmed\":[0,0,0,1,0,5,0,0,0,0,0,1,0,8,4,1,1,2,2,1,1,1,0,1,0,0,0,0,0,0,1],\"confirmed_acc\":[0,0,0,1,1,6,6,6,6,6,6,7,7,15,19,20,21,23,25,26,27,28,28,29,29,29,29,29,29,29,30],\"death\":[0,0,0,0,0,0,0,0,0,0,0,0,0,0,0,0,0,0,1,0,0,0,0,0,0,0,0,0,0,0,0],\"death_acc\":[0,0,0,0,0,0,0,0,0,0,0,0,0,0,0,0,0,0,1,1,1,1,1,1,1,1,1,1,1,1,1],\"quarantine\":[0,0,0,0,0,0,0,0,0,6,6,7,7,7,7,7,7,7,7,22,23,24,21,22,22,22,22,21,21,20,21],\"released\":[0,0,0,0,0,0,0,0,0,0,0,0,0,0,0,0,0,3,0,0,0,0,3,0,0,0,0,1,0,1,0],\"released_acc\":[0,0,0,0,0,0,0,0,0,0,0,0,0,0,0,0,0,3,3,3,3,3,6,6,6,6,6,7,7,8,8]},\"검역\":{\"confirmed\":[0,0,0,0,0,0,0,0,0,0,0,0,0,0,0,0,0,0,0,0,0,0,0,0,0,0,0,0,4,2,5],\"confirmed_acc\":[0,0,0,0,0,0,0,0,0,0,0,0,0,0,0,0,0,0,0,0,0,0,0,0,0,0,0,0,4,6,11],\"death\":[0,0,0,0,0,0,0,0,0,0,0,0,0,0,0,0,0,0,0,0,0,0,0,0,0,0,0,0,0,0,0],\"death_acc\":[0,0,0,0,0,0,0,0,0,0,0,0,0,0,0,0,0,0,0,0,0,0,0,0,0,0,0,0,0,0,0],\"quarantine\":[0,0,0,0,0,0,0,0,0,0,0,0,0,0,0,0,0,0,0,0,0,0,0,0,0,0,0,0,4,6,11],\"released\":[0,0,0,0,0,0,0,0,0,0,0,0,0,0,0,0,0,0,0,0,0,0,0,0,0,0,0,0,0,0,0],\"released_acc\":[0,0,0,0,0,0,0,0,0,0,0,0,0,0,0,0,0,0,0,0,0,0,0,0,0,0,0,0,0,0,0]},\"경기\":{\"confirmed\":[11,0,1,0,2,6,4,11,7,9,11,10,10,7,3,2,7,9,10,10,11,11,11,12,3,7,15,11,20,31,15],\"confirmed_acc\":[11,11,12,12,14,20,24,35,42,51,62,72,82,89,92,94,101,110,120,130,141,152,163,175,178,185,200,211,231,262,277],\"death\":[0,0,0,0,0,0,0,0,1,0,0,0,0,0,0,0,0,0,0,0,0,0,0,0,1,1,0,0,0,0,0],\"death_acc\":[0,0,0,0,0,0,0,0,1,1,1,1,1,1,1,1,1,1,1,1,1,1,1,1,2,3,3,3,3,3,3],\"quarantine\":[0,0,0,0,0,0,0,0,0,41,52,62,73,73,73,73,73,73,73,115,124,129,140,149,149,151,161,168,180,204,215],\"released\":[4,2,0,0,0,1,0,2,0,0,0,0,0,-1,0,0,0,2,4,0,2,6,0,3,2,4,5,4,8,7,4],\"released_acc\":[4,6,6,6,6,7,7,9,9,9,9,9,9,8,8,8,8,10,14,14,16,22,22,25,27,31,36,40,48,55,59]},\"경남\":{\"confirmed\":[0,0,0,3,4,0,10,3,3,11,9,6,10,4,1,0,1,9,3,5,1,0,0,1,1,0,0,0,0,1,0],\"confirmed_acc\":[0,0,0,3,7,7,17,20,23,34,43,49,59,63,64,64,65,74,77,82,83,83,83,84,85,85,85,85,85,86,86],\"death\":[0,0,0,0,0,0,0,0,0,0,0,0,0,0,0,0,0,0,0,0,0,0,0,0,0,0,0,0,0,0,0],\"death_acc\":[0,0,0,0,0,0,0,0,0,0,0,0,0,0,0,0,0,0,0,0,0,0,0,0,0,0,0,0,0,0,0],\"quarantine\":[0,0,0,0,0,0,0,0,0,34,43,49,59,59,59,59,59,59,59,78,79,74,73,74,75,74,74,69,65,64,63],\"released\":[0,0,0,0,0,0,0,0,0,0,0,0,0,0,0,0,3,0,1,0,0,5,1,0,0,1,0,5,4,2,1],\"released_acc\":[0,0,0,0,0,0,0,0,0,0,0,0,0,0,0,0,3,3,4,4,4,9,10,10,10,11,11,16,20,22,23]},\"경북\":{\"confirmed\":[0,0,3,22,3,117,25,23,56,68,30,62,79,67,69,61,89,87,123,65,32,26,10,18,8,4,6,4,7,5,9],\"confirmed_acc\":[0,0,3,25,28,145,170,193,249,317,347,409,488,555,624,685,774,861,984,1049,1081,1107,1117,1135,1143,1147,1153,1157,1164,1169,1178],\"death\":[0,0,1,0,2,0,3,1,1,0,0,0,0,0,0,1,0,4,0,1,1,1,0,0,2,1,0,0,3,2,0],\"death_acc\":[0,0,1,1,3,3,6,7,8,8,8,8,8,8,8,9,9,13,13,14,15,16,16,16,18,19,19,19,22,24,24],\"quarantine\":[0,0,0,0,0,0,0,0,0,309,337,399,480,480,480,480,480,480,480,994,1024,1034,1041,1050,1042,1025,996,975,964,936,919],\"released\":[0,0,0,0,0,0,0,0,0,1,1,0,0,-2,0,0,0,23,13,5,1,15,3,9,14,20,35,25,15,31,26],\"released_acc\":[0,0,0,0,0,0,0,0,0,1,2,2,2,0,0,0,0,23,36,41,42,57,60,69,83,103,138,163,178,209,235]},\"광주\":{\"confirmed\":[2,0,0,1,0,3,2,1,0,0,0,0,0,0,0,2,2,1,-1,0,0,2,0,0,0,0,0,1,0,0,1],\"confirmed_acc\":[2,2,2,3,3,6,8,9,9,9,9,9,9,9,9,11,13,14,13,13,13,15,15,15,15,15,15,16,16,16,17],\"death\":[0,0,0,0,0,0,0,0,0,0,0,0,0,0,0,0,0,0,0,0,0,0,0,0,0,0,0,0,0,0,0],\"death_acc\":[0,0,0,0,0,0,0,0,0,0,0,0,0,0,0,0,0,0,0,0,0,0,0,0,0,0,0,0,0,0,0],\"quarantine\":[0,0,0,0,0,0,0,0,0,7,7,7,7,7,7,7,7,7,7,10,10,12,12,12,11,11,11,12,12,10,11],\"released\":[0,0,2,0,0,0,0,0,0,0,0,0,0,0,0,0,0,1,0,0,0,0,0,0,1,0,0,0,0,2,0],\"released_acc\":[0,0,2,2,2,2,2,2,2,2,2,2,2,2,2,2,2,3,3,3,3,3,3,3,4,4,4,4,4,6,6]},\"대구\":{\"confirmed\":[0,1,15,14,80,83,117,173,60,167,420,450,656,469,376,520,405,321,367,390,297,190,92,131,73,61,62,41,35,32,46],\"confirmed_acc\":[0,1,16,30,110,193,310,483,543,710,1130,1580,2236,2705,3081,3601,4006,4327,4694,5084,5381,5571,5663,5794,5867,5928,5990,6031,6066,6098,6144],\"death\":[0,0,0,0,0,0,1,1,0,1,1,3,1,5,4,4,2,5,1,4,0,3,4,5,1,3,2,0,3,1,2],\"death_acc\":[0,0,0,0,0,0,1,2,2,3,4,7,8,13,17,21,23,28,29,33,33,36,40,45,46,49,51,51,54,55,57],\"quarantine\":[0,0,0,0,0,0,0,0,0,705,1125,1571,2224,2224,2224,2224,2224,2224,2224,5033,5330,5514,5531,5647,5707,5628,5538,5512,5278,5096,5039],\"released\":[0,0,0,0,0,0,0,0,0,1,0,1,0,2,0,2,0,8,1,3,0,3,71,10,12,137,150,67,266,213,101],\"released_acc\":[0,0,0,0,0,0,0,0,0,1,1,2,2,4,4,6,6,14,15,18,18,21,92,102,114,251,401,468,734,947,1048]},\"대전\":{\"confirmed\":[0,0,0,0,0,2,1,0,0,2,4,4,0,0,1,0,1,1,2,0,0,1,-1,0,2,2,0,0,0,0,0],\"confirmed_acc\":[0,0,0,0,0,2,3,3,3,5,9,13,13,13,14,14,15,16,18,18,18,19,18,18,20,22,22,22,22,22,22],\"death\":[0,0,0,0,0,0,0,0,0,0,0,0,0,0,0,0,0,0,0,0,0,0,0,0,0,0,0,0,0,0,0],\"death_acc\":[0,0,0,0,0,0,0,0,0,0,0,0,0,0,0,0,0,0,0,0,0,0,0,0,0,0,0,0,0,0,0],\"quarantine\":[0,0,0,0,0,0,0,0,0,5,9,13,13,13,13,13,13,13,13,18,17,18,17,16,18,18,18,18,18,18,18],\"released\":[0,0,0,0,0,0,0,0,0,0,0,0,0,0,1,0,-1,0,0,0,1,0,0,1,0,2,0,0,0,0,0],\"released_acc\":[0,0,0,0,0,0,0,0,0,0,0,0,0,0,1,1,0,0,0,0,1,1,1,2,2,4,4,4,4,4,4]},\"부산\":{\"confirmed\":[0,0,0,8,0,3,8,15,8,16,3,4,15,3,5,2,3,-1,3,1,1,-1,0,2,1,1,3,3,1,0,0],\"confirmed_acc\":[0,0,0,8,8,11,19,34,42,58,61,65,80,83,88,90,93,92,95,96,97,96,96,98,99,100,103,106,107,107,107],\"death\":[0,0,0,0,0,0,0,0,0,0,0,0,0,0,0,0,0,0,0,0,0,0,0,0,0,0,1,0,0,0,0],\"death_acc\":[0,0,0,0,0,0,0,0,0,0,0,0,0,0,0,0,0,0,0,0,0,0,0,0,0,0,1,1,1,1,1],\"quarantine\":[0,0,0,0,0,0,0,0,0,58,61,65,80,80,80,80,80,80,80,94,88,86,86,77,70,64,62,53,53,52,48],\"released\":[0,0,0,0,0,0,0,0,0,0,0,0,0,0,0,1,0,1,0,0,7,1,0,11,8,7,4,12,1,1,4],\"released_acc\":[0,0,0,0,0,0,0,0,0,0,0,0,0,0,0,1,1,2,2,2,9,10,10,21,29,36,40,52,53,54,58]},\"서울\":{\"confirmed\":[14,0,1,7,5,3,1,4,6,8,7,6,15,10,4,7,1,4,2,3,12,10,11,52,19,13,13,9,6,12,5],\"confirmed_acc\":[14,14,15,22,27,30,31,35,41,49,56,62,77,87,91,98,99,103,105,108,120,130,141,193,212,225,238,247,253,265,270],\"death\":[0,0,0,0,0,0,0,0,0,0,0,0,0,0,0,0,0,0,0,0,0,0,0,0,0,0,0,0,0,0,0],\"death_acc\":[0,0,0,0,0,0,0,0,0,0,0,0,0,0,0,0,0,0,0,0,0,0,0,0,0,0,0,0,0,0,0],\"quarantine\":[0,0,0,0,0,0,0,0,0,41,47,53,66,66,66,66,66,66,66,81,92,101,110,156,174,185,194,200,201,210,215],\"released\":[3,0,2,0,1,0,0,2,0,0,1,0,2,2,0,0,0,12,0,2,1,1,2,6,1,2,4,3,5,3,0],\"released_acc\":[3,3,5,5,6,6,6,8,8,8,9,9,11,13,13,13,13,25,25,27,28,29,31,37,38,40,44,47,52,55,55]},\"세종\":{\"confirmed\":[0,0,0,0,0,1,0,0,0,0,0,0,0,0,0,0,0,0,0,1,1,3,2,2,5,17,6,1,1,0,1],\"confirmed_acc\":[0,0,0,0,0,1,1,1,1,1,1,1,1,1,1,1,1,1,1,2,3,6,8,10,15,32,38,39,40,40,41],\"death\":[0,0,0,0,0,0,0,0,0,0,0,0,0,0,0,0,0,0,0,0,0,0,0,0,0,0,0,0,0,0,0],\"death_acc\":[0,0,0,0,0,0,0,0,0,0,0,0,0,0,0,0,0,0,0,0,0,0,0,0,0,0,0,0,0,0,0],\"quarantine\":[0,0,0,0,0,0,0,0,0,1,1,1,1,1,1,1,1,1,1,2,3,6,8,10,15,32,38,39,40,40,41],\"released\":[0,0,0,0,0,0,0,0,0,0,0,0,0,0,0,0,0,0,0,0,0,0,0,0,0,0,0,0,0,0,0],\"released_acc\":[0,0,0,0,0,0,0,0,0,0,0,0,0,0,0,0,0,0,0,0,0,0,0,0,0,0,0,0,0,0,0]},\"울산\":{\"confirmed\":[0,0,0,0,0,1,0,1,1,1,7,3,3,3,0,0,3,0,0,0,1,0,0,1,0,2,0,1,0,0,2],\"confirmed_acc\":[0,0,0,0,0,1,1,2,3,4,11,14,17,20,20,20,23,23,23,23,24,24,24,25,25,27,27,28,28,28,30],\"death\":[0,0,0,0,0,0,0,0,0,0,0,0,0,0,0,0,0,0,0,0,0,0,0,0,0,0,0,0,0,0,0],\"death_acc\":[0,0,0,0,0,0,0,0,0,0,0,0,0,0,0,0,0,0,0,0,0,0,0,0,0,0,0,0,0,0,0],\"quarantine\":[0,0,0,0,0,0,0,0,0,4,11,14,17,17,17,17,17,17,17,22,23,23,23,23,22,24,22,22,21,20,21],\"released\":[0,0,0,0,0,0,0,0,0,0,0,0,0,0,0,0,0,0,1,0,0,0,0,1,1,0,2,1,1,1,1],\"released_acc\":[0,0,0,0,0,0,0,0,0,0,0,0,0,0,0,0,0,0,1,1,1,1,1,2,3,3,5,6,7,8,9]},\"인천\":{\"confirmed\":[1,0,0,1,0,0,0,0,0,1,0,1,2,0,1,0,2,0,0,0,0,0,4,12,0,2,1,2,0,1,1],\"confirmed_acc\":[1,1,1,2,2,2,2,2,2,3,3,4,6,6,7,7,9,9,9,9,9,9,13,25,25,27,28,30,30,31,32],\"death\":[0,0,0,0,0,0,0,0,0,0,0,0,0,0,0,0,0,0,0,0,0,0,0,0,0,0,0,0,0,0,0],\"death_acc\":[0,0,0,0,0,0,0,0,0,0,0,0,0,0,0,0,0,0,0,0,0,0,0,0,0,0,0,0,0,0,0],\"quarantine\":[0,0,0,0,0,0,0,0,0,2,2,3,5,5,5,5,5,5,5,7,7,7,10,22,21,23,24,26,26,26,27],\"released\":[1,0,0,0,0,0,0,0,0,0,0,0,0,0,0,0,0,1,0,0,0,0,1,0,1,0,0,0,0,1,0],\"released_acc\":[1,1,1,1,1,1,1,1,1,1,1,1,1,1,1,1,1,2,2,2,2,2,3,3,4,4,4,4,4,5,5]},\"전남\":{\"confirmed\":[1,0,0,0,0,0,0,0,0,0,0,0,2,0,2,0,0,-1,0,0,0,0,0,0,0,0,0,0,0,0,1],\"confirmed_acc\":[1,1,1,1,1,1,1,1,1,1,1,1,3,3,5,5,5,4,4,4,4,4,4,4,4,4,4,4,4,4,5],\"death\":[0,0,0,0,0,0,0,0,0,0,0,0,0,0,0,0,0,0,0,0,0,0,0,0,0,0,0,0,0,0,0],\"death_acc\":[0,0,0,0,0,0,0,0,0,0,0,0,0,0,0,0,0,0,0,0,0,0,0,0,0,0,0,0,0,0,0],\"quarantine\":[0,0,0,0,0,0,0,0,0,0,0,0,2,2,2,2,2,2,2,4,4,3,3,3,3,3,2,2,2,2,3],\"released\":[1,0,0,0,0,0,0,0,0,0,0,0,0,0,0,0,-1,0,0,0,0,1,0,0,0,0,1,0,0,0,0],\"released_acc\":[1,1,1,1,1,1,1,1,1,1,1,1,1,1,1,1,0,0,0,0,0,1,1,1,1,1,2,2,2,2,2]},\"전북\":{\"confirmed\":[1,0,0,0,1,1,0,0,0,0,2,0,0,1,0,1,0,0,0,0,0,0,0,0,0,0,0,0,0,0,2],\"confirmed_acc\":[1,1,1,1,2,3,3,3,3,3,5,5,5,6,6,7,7,7,7,7,7,7,7,7,7,7,7,7,7,7,9],\"death\":[0,0,0,0,0,0,0,0,0,0,0,0,0,0,0,0,0,0,0,0,0,0,0,0,0,0,0,0,0,0,0],\"death_acc\":[0,0,0,0,0,0,0,0,0,0,0,0,0,0,0,0,0,0,0,0,0,0,0,0,0,0,0,0,0,0,0],\"quarantine\":[0,0,0,0,0,0,0,0,0,2,4,4,4,4,4,4,4,4,4,5,5,5,5,5,5,3,3,3,3,3,4],\"released\":[1,0,0,0,0,0,0,0,0,0,0,0,0,0,0,0,0,1,0,0,0,0,0,0,0,2,0,0,0,0,1],\"released_acc\":[1,1,1,1,1,1,1,1,1,1,1,1,1,1,1,1,1,2,2,2,2,2,2,2,2,4,4,4,4,4,5]},\"제주\":{\"confirmed\":[0,0,0,0,0,1,1,0,0,0,0,0,0,0,0,1,0,1,0,0,0,0,0,0,0,0,0,0,0,0,0],\"confirmed_acc\":[0,0,0,0,0,1,2,2,2,2,2,2,2,2,2,3,3,4,4,4,4,4,4,4,4,4,4,4,4,4,4],\"death\":[0,0,0,0,0,0,0,0,0,0,0,0,0,0,0,0,0,0,0,0,0,0,0,0,0,0,0,0,0,0,0],\"death_acc\":[0,0,0,0,0,0,0,0,0,0,0,0,0,0,0,0,0,0,0,0,0,0,0,0,0,0,0,0,0,0,0],\"quarantine\":[0,0,0,0,0,0,0,0,0,2,2,2,2,2,2,3,3,3,3,4,4,3,3,3,3,3,3,3,2,2,2],\"released\":[0,0,0,0,0,0,0,0,0,0,0,0,0,0,0,0,0,0,0,0,0,1,0,0,0,0,0,0,1,0,0],\"released_acc\":[0,0,0,0,0,0,0,0,0,0,0,0,0,0,0,0,0,0,0,0,0,1,1,1,1,1,1,1,2,2,2]},\"충남\":{\"confirmed\":[0,0,0,0,1,0,0,0,1,1,9,23,20,13,10,3,1,4,4,2,6,4,2,8,2,1,0,0,0,0,3],\"confirmed_acc\":[0,0,0,0,1,1,1,1,2,3,12,35,55,68,78,81,82,86,90,92,98,102,104,112,114,115,115,115,115,115,118],\"death\":[0,0,0,0,0,0,0,0,0,0,0,0,0,0,0,0,0,0,0,0,0,0,0,0,0,0,0,0,0,0,0],\"death_acc\":[0,0,0,0,0,0,0,0,0,0,0,0,0,0,0,0,0,0,0,0,0,0,0,0,0,0,0,0,0,0,0],\"quarantine\":[0,0,0,0,0,0,0,0,0,3,12,35,55,55,55,55,55,55,55,92,98,101,103,111,109,108,106,105,103,100,102],\"released\":[0,0,0,0,0,0,0,0,0,0,0,0,0,0,0,0,0,0,0,0,0,1,0,0,4,2,2,1,2,3,1],\"released_acc\":[0,0,0,0,0,0,0,0,0,0,0,0,0,0,0,0,0,0,0,0,0,1,1,1,5,7,9,10,12,15,16]},\"충북\":{\"confirmed\":[0,0,0,0,1,2,0,0,2,0,3,1,1,1,0,0,0,1,3,5,4,1,0,2,0,0,1,3,0,0,1],\"confirmed_acc\":[0,0,0,0,1,3,3,3,5,5,8,9,10,11,11,11,11,12,15,20,24,25,25,27,27,27,28,31,31,31,32],\"death\":[0,0,0,0,0,0,0,0,0,0,0,0,0,0,0,0,0,0,0,0,0,0,0,0,0,0,0,0,0,0,0],\"death_acc\":[0,0,0,0,0,0,0,0,0,0,0,0,0,0,0,0,0,0,0,0,0,0,0,0,0,0,0,0,0,0,0],\"quarantine\":[0,0,0,0,0,0,0,0,0,5,8,9,10,10,10,10,10,10,10,19,23,22,22,24,23,23,23,25,25,26,27],\"released\":[0,0,0,0,0,0,0,0,0,0,0,0,0,0,0,0,0,1,0,0,0,2,0,0,1,0,1,1,0,-1,0],\"released_acc\":[0,0,0,0,0,0,0,0,0,0,0,0,0,0,0,0,0,1,1,1,1,3,3,3,4,4,5,6,6,5,5]}},\"krTesting\":{\"confirm_rate\":[0.004174742806023557,0.004069175991861648,0.003778009379885357,0.003745318352059925,0.004351707208212452,0.004591276574508434,0.009169458649268207,0.015431164901664145,0.02784744999678436,0.036525291361287994,0.039886444286728176,0.041526756492540486,0.038401802844352406,0.04298510369000098,0.04588651089731003,0.05350500229307153,0.05698509784780586,0.05557314756174794,0.053291397182599454,0.04919985594636773,0.04622748154027467,0.043972345844879225,0.04267542836241636,0.042177578602594266,0.041203393614646124,0.039193080566742484,0.0380417453582203,0.03621744273280834,0.034584993086468986,0.03318000336477897,0.03239660236564261,0.03173392208312623,0.030880579010856453,0.03012162505683832],\"confirmed\":[0,0,1,1,9,7,58,100,229,175,235,134,284,505,571,813,586,476,600,516,438,518,483,367,248,131,242,114,110,107,76,74,84,93],\"confirmed_acc\":[28,28,29,30,39,46,104,204,433,608,843,977,1261,1766,2337,3150,3736,4212,4812,5328,5766,6284,6767,7134,7382,7513,7755,7869,7979,8086,8162,8236,8320,8413],\"date\":[\"2.14\",\"2.15\",\"2.16\",\"2.17\",\"2.18\",\"2.19\",\"2.20\",\"2.21\",\"2.22\",\"2.23\",\"2.24\",\"2.25\",\"2.26\",\"2.27\",\"2.28\",\"2.29\",\"3.1\",\"3.2\",\"3.3\",\"3.4\",\"3.5\",\"3.6\",\"3.7\",\"3.8\",\"3.9\",\"3.10\",\"3.11\",\"3.12\",\"3.13\",\"3.14\",\"3.15\",\"3.16\",\"3.17\",\"3.18\"],\"negative\":[758,174,794,333,943,1050,1265,1778,2100,922,4254,2258,9026,7742,9275,7130,6102,9755,13904,17481,16000,17659,15178,10206,9770,12401,11921,13302,13326,12887,8163,7519,9808,9783],\"negative_acc\":[6679,6853,7647,7980,8923,9973,11238,13016,15116,16038,20292,22550,31576,39318,48593,55723,61825,71580,85484,102965,118965,136624,151802,162008,171778,184179,196100,209402,222728,235615,243778,251297,261105,270888],\"testing\":[535,638,485,708,818,1149,1860,3180,6037,6039,11631,13273,20716,25568,30237,35182,33360,33799,35555,28414,21810,21832,19620,19376,17458,18452,18540,17727,17940,17634,16272,14971,17291,16346]},\"source\":{\"data\":{\"강원\":{\"기타\":9,\"신천지 관련\":20,\"천안시운동시설관련\":1},\"검역\":{\"기존해외유입\":11},\"경기\":{\"구로구 콜센터관련\":34,\"기존해외유입\":6,\"기타\":74,\"분당제생병원 관련\":28,\"생명샘교회 관련\":10,\"성남 은혜의강 교회 관련\":50,\"신천지 관련\":28,\"천안시운동시설관련\":2,\"확진자 접촉\":45},\"경남\":{\"거창교회\":10,\"거창군 웅양면 관련\":8,\"기타\":16,\"부산온천교회 관련\":2,\"신천지 관련\":32,\"창녕동전노래방\":7,\"한마음창원병원\":7,\"확진자 접촉\":4},\"경북\":{\"경산 제일실버타운\":17,\"경산행복요양원\":8,\"기타\":329,\"김천교도소\":3,\"대남병원 관련\":119,\"밀알사랑의집 관련\":27,\"봉화푸른요양원\":60,\"서린요양원\":24,\"성지순례 관련\":49,\"신천지 관련\":517,\"엘림요양원\":3,\"참좋은재가센터\":18,\"한국전력지사\":4},\"광주\":{\"기존해외유입\":1,\"기타\":3,\"신천지 관련\":9,\"확진자 접촉\":4},\"대구\":{\"기타\":1118,\"대남병원 관련\":2,\"신천지 관련\":4363,\"확진자 접촉\":661},\"대전\":{\"기타\":10,\"서산시 연구소 관련\":2,\"신천지 관련\":2,\"확진자 접촉\":8},\"부산\":{\"기타\":30,\"대남병원 관련\":1,\"부산온천교회 관련\":32,\"부산진구학원 관련\":4,\"수영구유치원 관련\":5,\"신천지 관련\":8,\"해운대구성당 관련\":4,\"확진자 접촉\":23},\"서울\":{\" 동대문구 동안교회-PC방 관련\":19,\"구로구 콜센터관련\":82,\"기존해외유입\":18,\"기타\":99,\"성동구아파트관련\":13,\"성지순례 관련\":2,\"신천지 관련\":6,\"은평성모병원관련\":14,\"종로구관련\":10,\"중구 패션회사관련\":7},\"세종\":{\"기타\":3,\"신천지 관련\":1,\"천안시운동시설관련\":8,\"해양수산부 관련\":29},\"울산\":{\"기타\":7,\"신천지 관련\":16,\"확진자 접촉\":7},\"인천\":{\"구로구 콜센터관련\":19,\"기존해외유입\":1,\"기타\":5,\"신천지 관련\":2,\"확진자 접촉\":5},\"전국\":{\"구로구 콜센터관련\":135,\"기타\":2096,\"대남병원 관련\":122,\"봉화푸른요양원\":60,\"성남 은혜의강 교회 관련\":51,\"성지순례 관련\":51,\"신천지 관련\":5016,\"천안시운동시설관련\":114,\"확진자 접촉\":768},\"전남\":{\"기존해외유입\":1,\"기타\":1,\"신천지 관련\":1,\"확진자 접촉\":2},\"전북\":{\"기존해외유입\":1,\"기타\":5,\"신천지 관련\":1,\"확진자 접촉\":2},\"제주\":{\"기타\":4},\"충남\":{\"기타\":6,\"서산시 연구소 관련\":8,\"성남 은혜의강 교회 관련\":1,\"천안시운동시설관련\":103},\"충북\":{\"괴산군 장연면 관련\":11,\"기타\":4,\"신천지 관련\":10,\"확진자 접촉\":7}},\"time\":\"2020-03-18 0:00\"}},\"i18nAll\":{\"en\":{\"langCode\":\"en\",\"headTitle\":\"COVID-19 Realtime Dashboard\",\"headDescription\":\"Provide realtime COVID-19 information aggregated from Korea and the rest of the world.\",\"ogImage\":\"https://coronaboard.kr/images/ogimage_new3.png\",\"ogUrl\":\"https://coronaboard.kr/en/\",\"ogLocale\":\"en_KR\",\"lastUpdated\":\"Last update\",\"mainTitle\":\"COVID-19<br>Realtime Dashboard\",\"infected\":\"Confirmed\",\"confirmed\":\"Confirmed\",\"death\":\"Death\",\"released\":\"Recovered\",\"recovered\":\"Recovered\",\"fatalityRate\":\"Fatality Rate\",\"deathRate\":\"Death Rate\",\"affectedCountry\":\"Affected Countries\",\"totalTested\":\"Tested\",\"testing\":\"Testing\",\"negative\":\"Negative\",\"notice\":\"[Notice]\",\"newFeature\":\"[New Features]\",\"menuMobileWorld\":\"World<i></i>\",\"menuMobileKorea\":\"Korea<i></i>\",\"menuMobileChart\":\"Chart<i></i>\",\"menuMobilePrevention\":\"Prevention<i></i>\",\"menuMobilePatientLog\":\"Case<i></i>\",\"menuMobileNews\":\"News<i></i>\",\"menuPcWorld\":\"World<i></i>\",\"menuPcKorea\":\"Korea<i></i>\",\"menuPcChart\":\"Data Chart<i></i>\",\"menuPcPrevention\":\"Prevention<i></i>\",\"menuPcPatientLog\":\"Case Detail<i></i>\",\"menuPcNews\":\"News<i></i>\",\"rok\":\"Rep. of Korea\",\"world\":\"World\",\"slideKorea\":\"Rep. of Korea\",\"slideWorld\":\"World\",\"slideChart\":\"Data Charts\",\"slidePrevention\":\"Prevention\",\"slideBriefing\":\"KCDC Briefing\",\"slidePatientLog\":\"Case Details\",\"slideGlobalNews\":\"Global News🌏\",\"slideKoreaNews\":\"Korea News🇰🇷\",\"slideYoutube\":\"Related Youtube Videos\",\"slideVirusComparision\":\"COVID-19 vs. MERS vs. SARS\",\"slideReference\":\"References\",\"slideCreator\":\"Created By\",\"emergencyContact\":\"Emergency Contacts\",\"slideImmigrant\":\"Travel Restrictions\",\"dashboardLegend1\":\"* Confirmed & released (based on KCDC press release), death(based on news)\",\"dashboardLegend2\":\"* The increase of confirmed cases in Korea is calculated from the previous day's press release\",\"terms\":\"Terms\",\"worldLegend1\":\"* The number in parentheses is an increase from the previous day\",\"worldLegend2\":\"* Fatality rate = Total death / Total confirmed \",\"worldLegend3\":\"* Recovery rate = Total recovered / Total confirmed\",\"koreaLegend1\":\"Confirmed, released: (based on KCDC press release, 0 o'clock on the day)\",\"koreaLegend2\":\"Death: Real-time counting of news information\",\"koreaLegend3\":\"Incidence*: Incidence per 100,000 (=confirmed/population*100,000)\",\"koreaLegend4\":\"Population source: MOIS, Resident Registrations (Jan 2020)\",\"koreaTableLegend1\":\"Due to Google Geochart limitation, Sejong, Dokdo is not displayed\",\"krByRegion\":\"The numbers are based on KCDC press release which can be different from local government.<br>The numbers may decrease due to the transfer of jurisdiction.\",\"daily\":\"Daily\",\"accumulated\":\"Accumulated\",\"dailyAccumulatedAll\":\"All\",\"call120\":\"Call local call center 120\",\"call1339\":\"Call call center 1339\",\"selectEach\":\"Each\",\"selectSum\":\"Sum\",\"deselectAll\":\"Deselect All\",\"selectAll\":\"Select All\",\"selectCountries\":\"Select Countries (Multiples)\",\"selectRegions\":\"Select Regions (Multiples)\",\"selectRegion\":\"Select Region\",\"전국\":\"Nationwide\",\"서울\":\"Seoul\",\"부산\":\"Busan\",\"대구\":\"Daegu\",\"인천\":\"Incheon\",\"광주\":\"Gwangju\",\"대전\":\"Daejeon\",\"울산\":\"Ulsan\",\"세종\":\"Sejong\",\"경기\":\"Gyeonggi-do\",\"강원\":\"Gangwon-do\",\"충북\":\"Chungcheongbuk-do\",\"충남\":\"Chungcheongnam-do\",\"전북\":\"Jeollabuk-do\",\"전남\":\"Jeollanam-do\",\"경북\":\"Gyeongsangbuk-do\",\"경남\":\"Gyeongsangnam-do\",\"제주\":\"Jeju-do\",\"검역\":\"Quarantine\",\"chartLegendKoreaMap\":\"Total confirmed: {0} | death: {1} | recovered: {2}\\nKCDC Data {3} \",\"region\":\"Region\",\"incidence\":\"Incidence*\",\"thReleased\":\"Released\",\"activeCase\":\"Active Case\",\"accConfirmed\":\"Confirmed Acc.\",\"accReleased\":\"Released Acc.\",\"accRecovered\":\"Recovered Acc.\",\"accDeath\":\"Death Acc.\",\"accNegative\":\"Negative Acc.\",\"confirmedShort\":\"Confirmed\",\"totalTestedShort\":\"Total tested\",\"deathShort\":\"Death\",\"chartTitleKoreaTimeseries\":\"Rep. of Korea COVID-19 Trend\",\"chartTitleKoreaTrendByRegion\":\"Rep. of Korea Trend by Region\",\"confirmedRate\":\"Confirmed Rate(%)\",\"chartTitleKoreaTestStatus\":\"Rep. of Korea Test Status\",\"chartLegendKoreaTestStatus\":\"Total tested: {0}\\nTotal test completed(=negative acc. + confirmed acc.): {1},\\nConfirmed rate(=total confirmed/total test completed): {2}\\nKCDC Data {3}\",\"chartTitleGlobalTrend\":\"Global COVID-19 Trend\",\"chartLegendGlobalTrend\":\"Total confirmed: {0} | death: {1} | recovered: {2}\",\"country\":\"Country\",\"deathRateCol\":\"Death<br>(%)\",\"recoveryRateCol\":\"Recovery<br>(%)\",\"chartTitleGlobalDaily\":\"Global Comparison Chart\",\"chartTitleKoreaStatusByRegion\":\"Rep. of Korea Status by Region\",\"chartTitleKoreaBySource\":\"Rep. of Korea Status by Source\",\"chartLegendKoreaBySource\":\"Total confirmed: {0}\\nKCDC Date {1}\",\"chartTitleKoreaByGender\":\"Rep. of Korea Status by Gender\",\"chartTitleKoreaByAge\":\"Rep. of Korea Status by Age\",\"chartLegendCDC\":\"KCDC Date {0}\",\"chartLegendTotalItem\":\"Total {0}: {1}\\n{2}\",\"chartLegendRealtime\":\"Real-time\",\"peopleCountUnit\":\"\",\"sourceChartFormatter\":\"{0}\\n{1} ({2}%)\",\"chartLegendGenderReleased\":\"No more updates since 3/1\",\"chartLegendAgeReleased\":\"No more updates since 3/14\",\"chartLegendAgeDeathRate\":\"Death rate = death by age / confirmed by age'\",\"male\":\"Male\",\"female\":\"Female\",\"CN\":\"China\",\"KR\":\"S. Korea\",\"IR\":\"Iran\",\"IT\":\"Italy\",\"JPCruise\":\"Diamond Princess\",\"JP\":\"Japan\",\"FR\":\"France\",\"DE\":\"Germany\",\"ES\":\"Spain\",\"SG\":\"Singapore\",\"US\":\"USA\",\"HK\":\"Hong Kong\",\"KW\":\"Kuwait\",\"GB\":\"UK\",\"BH\":\"Bahrain\",\"CH\":\"Switzerland\",\"TH\":\"Thailand\",\"TW\":\"Taiwan\",\"AU\":\"Australia\",\"MY\":\"Malaysia\",\"NO\":\"Norway\",\"CA\":\"Canada\",\"IQ\":\"Iraq\",\"AT\":\"Austria\",\"NL\":\"Netherlands\",\"SE\":\"Sweden\",\"AE\":\"UAE\",\"VN\":\"Vietnam\",\"BE\":\"Belgium\",\"LB\":\"Lebanon\",\"IL\":\"Israel\",\"OM\":\"Oman\",\"IS\":\"Iceland\",\"SM\":\"San Marino\",\"MO\":\"Macao\",\"HR\":\"Croatia\",\"QA\":\"Qatar\",\"EC\":\"Ecuador\",\"FI\":\"Finland\",\"GR\":\"Greece\",\"DK\":\"Denmark\",\"IN\":\"India\",\"MX\":\"Mexico\",\"DZ\":\"Algeria\",\"CZ\":\"Czechia\",\"PK\":\"Pakistan\",\"RO\":\"Romania\",\"PH\":\"Philippines\",\"AZ\":\"Azerbaijan\",\"GE\":\"Georgia\",\"RU\":\"Russia\",\"BR\":\"Brazil\",\"EG\":\"Egypt\",\"ID\":\"Indonesia\",\"PT\":\"Portugal\",\"AF\":\"Afghanistan\",\"AD\":\"Andorra\",\"AM\":\"Armenia\",\"BY\":\"Belarus\",\"KH\":\"Cambodia\",\"DO\":\"Dominican Republic\",\"EE\":\"Estonia\",\"IE\":\"Ireland\",\"JO\":\"Jordan\",\"LV\":\"Latvia\",\"LT\":\"Lithuania\",\"LU\":\"Luxembourg\",\"MK\":\"North Macedonia\",\"MC\":\"Monaco\",\"MA\":\"Morocco\",\"NP\":\"Nepal\",\"NZ\":\"New Zealand\",\"NG\":\"Nigeria\",\"SA\":\"Saudi Arabia\",\"SN\":\"Senegal\",\"LK\":\"Sri Lanka\",\"TN\":\"Tunisia\",\"UA\":\"Ukraine\",\"AR\":\"Argentina\",\"LI\":\"Liechtenstein\",\"PL\":\"Poland\",\"CL\":\"Chile\",\"HU\":\"Hungary\",\"FO\":\"Faeroe Islands\",\"SI\":\"Slovenia\",\"PS\":\"Palestine\",\"BA\":\"Bosnia and Herzegovina\",\"ZA\":\"South Africa\",\"CR\":\"Costa Rica\",\"GI\":\"Gibraltar\",\"BT\":\"Bhutan\",\"RS\":\"Serbia\",\"SK\":\"Slovakia\",\"CM\":\"Cameroon\",\"VA\":\"Vatican City\",\"PE\":\"Peru\",\"TG\":\"Togo\",\"CO\":\"Colombia\",\"MT\":\"Malta\",\"MV\":\"Maldives\",\"MD\":\"Moldova\",\"PY\":\"Paraguay\",\"BG\":\"Bulgaria\",\"GF\":\"French Guiana\",\"BD\":\"Bangladesh\",\"AL\":\"Albania\",\"GY\":\"Guyana\",\"MQ\":\"Martinique\",\"MN\":\"Mongolia\",\"CY\":\"Cyprus\",\"MF\":\"Saint Martin\",\"BN\":\"Brunei\",\"BF\":\"Burkina Faso\",\"NOTUSED\":\"Channel Islands\",\"PA\":\"Panama\",\"BL\":\"St. Barth\",\"SX\":\"Sint Maarten\",\"BO\":\"Bolivia\",\"CD\":\"DRC\",\"JM\":\"Jamaica\",\"TR\":\"Turkey\",\"HN\":\"Honduras\",\"CU\":\"Cuba\",\"RE\":\"Réunion\",\"GH\":\"Ghana\",\"CI\":\"Ivory Coast\",\"PF\":\"French Polynesia\",\"VC\":\"St. Vincent Grenadines\",\"TT\":\"Trinidad and Tobago\",\"SR\":\"Suriname\",\"LC\":\"Saint Lucia\",\"CW\":\"Curaçao\",\"MR\":\"Mauritania\",\"KE\":\"Kenya\",\"PR\":\"Puerto Rico\",\"AW\":\"Aruba\",\"UY\":\"Uruguay\",\"GT\":\"Guatemala\",\"VE\":\"Venezuela\",\"AG\":\"Antigua and Barbuda\",\"ET\":\"Ethiopia\",\"SD\":\"Sudan\",\"GN\":\"Guinea\",\"GA\":\"Gabon\",\"GP\":\"Guadeloupe\",\"KY\":\"Cayman Islands\",\"KZ\":\"Kazakhstan\",\"SZ\":\"Eswatini\",\"NA\":\"Namibia\",\"SC\":\"Seychelles\",\"YT\":\"Mayotte\",\"RW\":\"Rwanda\",\"VI\":\"U.S. Virgin Islands\",\"GQ\":\"Equatorial Guinea\",\"XK\":\"Kosovo\",\"UZ\":\"Uzbekistan\",\"GU\":\"Guam\",\"CF\":\"Central African Republic\",\"CG\":\"Congo\",\"BS\":\"Bahamas\",\"TZ\":\"Tanzania\",\"SO\":\"Somalia\",\"GL\":\"Greenland\",\"LR\":\"Liberia\",\"BJ\":\"Benin\",\"BB\":\"Barbados\",\"GM\":\"Gambia\",\"KG\":\"Kyrgyzstan\",\"ME\":\"Montenegro\",\"MS\":\"Montserrat\"},\"ko\":{\"langCode\":\"ko\",\"headTitle\":\"코로나19(COVID-19) 실시간 상황판\",\"headDescription\":\"코로나19(신종 코로나바이러스)에 관한 한국, 일본, 중국 및 세계 각 국가들의 통계 및 뉴스 등을 취합하여 실시간 정보를 제공합니다.\",\"ogImage\":\"https://coronaboard.kr/images/ogimage_new3.png\",\"ogUrl\":\"https://coronaboard.kr\",\"ogLocale\":\"ko_KR\",\"lastUpdated\":\"마지막 업데이트\",\"mainTitle\":\"코로나19(COVID-19)<br>실시간 상황판\",\"infected\":\"확진자\",\"confirmed\":\"확진자\",\"death\":\"사망자\",\"released\":\"격리해제\",\"recovered\":\"완치\",\"fatalityRate\":\"치사율\",\"deathRate\":\"사망률\",\"affectedCountry\":\"발생국\",\"totalTested\":\"총검사자\",\"testing\":\"검사중\",\"negative\":\"결과음성\",\"notice\":\"[공지사항]\",\"newFeature\":\"[신규 기능 안내]\",\"menuMobileWorld\":\"세계<i></i>\",\"menuMobileKorea\":\"한국<i></i>\",\"menuMobileChart\":\"차트<i></i>\",\"menuMobilePrevention\":\"예방<i></i>\",\"menuMobilePatientLog\":\"확진자<i></i>\",\"menuMobileNews\":\"뉴스<i></i>\",\"menuPcWorld\":\"세계 현황<i></i>\",\"menuPcKorea\":\"대한민국 현황<i></i>\",\"menuPcChart\":\"데이터 차트<i></i>\",\"menuPcPrevention\":\"예방 수칙<i></i>\",\"menuPcPatientLog\":\"확진자 동선<i></i>\",\"menuPcNews\":\"뉴스<i></i>\",\"rok\":\"대한민국\",\"world\":\"전 세계\",\"slideKorea\":\"대한민국 현황\",\"slideWorld\":\"국가별 현황\",\"slideChart\":\"데이터 차트\",\"slidePrevention\":\"예방 행동 수칙\",\"slideBriefing\":\"질병관리본부 브리핑\",\"slidePatientLog\":\"확진자 상세 정보\",\"slideGlobalNews\":\"글로벌뉴스🌏\",\"slideKoreaNews\":\"대한민국 뉴스🇰🇷\",\"slideYoutube\":\"관련 유튜브 영상\",\"slideVirusComparision\":\"코로나19 vs. MERS vs. SARS\",\"slideReference\":\"데이터 출처\",\"slideCreator\":\"만든 사람들\",\"emergencyContact\":\"긴급연락처\",\"slideImmigrant\":\"입국제한조치 현황\",\"dashboardLegend1\":\"*확진자, 격리해제의 경우 질본 보도자료 기준, 사망자는 실시간\",\"dashboardLegend2\":\"*대한민국 확진자 증감수치는 전일 발표 대비 변화량\",\"terms\":\"용어 설명\",\"worldLegend1\":\"* 괄호안의 숫자는 전일 대비 증가량\",\"worldLegend2\":\"* 사망률 = 총 사망자/총 확진자\",\"worldLegend3\":\"* 완치율 = 총 완치자/총 확진자\",\"koreaLegend1\":\"확진자, 격리해제: 질병관리본부 당일 0시 집계 기준\",\"koreaLegend2\":\"사망자: 언론사정보 실시간 집계\",\"koreaLegend3\":\"발생률*: 10만명당 발생률 (=확진자/지역인구*100,000)\",\"koreaLegend4\":\"지역별인구출처: 행정안전부, 주민등록인구현황 (’20.1월 기준)\",\"koreaTableLegend1\":\"Google Geochart 한계로 세종시, 독도 표시되지 않음\",\"krByRegion\":\"질병관리본부 보도자료 기준으로 지자체 발표와 다를 수 있음<br>소관지역 이관으로 확진자가 감소 할 수 있음\",\"daily\":\"일별\",\"accumulated\":\"누적\",\"dailyAccumulatedAll\":\"전체\",\"call120\":\"지역콜센터 120 전화걸기\",\"call1339\":\"콜센터 1339 전화걸기\",\"selectEach\":\"개별\",\"selectSum\":\"합산\",\"deselectAll\":\"전체선택해제\",\"selectAll\":\"전체선택\",\"selectCountries\":\"국가를 선택해 주세요.(복수선택 가능)\",\"selectRegions\":\"지역을 선택해 주세요.(복수선택 가능)\",\"selectRegion\":\"지역 선택하기\",\"전국\":\"전국\",\"서울\":\"서울\",\"부산\":\"부산\",\"대구\":\"대구\",\"인천\":\"인천\",\"광주\":\"광주\",\"대전\":\"대전\",\"울산\":\"울산\",\"세종\":\"세종\",\"경기\":\"경기\",\"강원\":\"강원\",\"충북\":\"충북\",\"충남\":\"충남\",\"전북\":\"전북\",\"전남\":\"전남\",\"경북\":\"경북\",\"경남\":\"경남\",\"제주\":\"제주\",\"검역\":\"검역\",\"chartLegendKoreaMap\":\"총 확진자: {0}명, 사망: {1}명, 격리해제: {2}명\\n질병관리본부 {3} 집계 기준\",\"region\":\"지역\",\"incidence\":\"발생률*\",\"thReleased\":\"격리<br>해제\",\"activeCase\":\"치료중\",\"accConfirmed\":\"누적확진\",\"accReleased\":\"누적격리해제\",\"accRecovered\":\"누적완치\",\"accDeath\":\"누적사망\",\"accNegative\":\"누적음성\",\"confirmedShort\":\"확진\",\"totalTestedShort\":\"총검사\",\"deathShort\":\"사망\",\"chartTitleKoreaTimeseries\":\"대한민국 코로나19(COVID-19) 추이\",\"chartTitleKoreaTrendByRegion\":\"[NEW] 대한민국 지역별 누적 추이\",\"confirmedRate\":\"확진률(%)\",\"chartTitleKoreaTestStatus\":\"대한민국 검사현황\",\"chartLegendKoreaTestStatus\":\"총검사자: {0}명\\n총검사완료수(=누적음성+누적확진): {1}명,\\n확진률(=총확진자/총검사완료수): {2}\\n질병관리본부 {3} 집계 기준\",\"chartTitleGlobalTrend\":\"전세계 코로나19 (COVID-19) 추이\",\"chartLegendGlobalTrend\":\"총 확진자: {0}명, 사망: {1}명, 완치: {2}명\",\"country\":\"국가\",\"deathRateCol\":\"사망률<br>(%)\",\"recoveryRateCol\":\"완치율<br>(%)\",\"chartTitleGlobalDaily\":\"[NEW] 전세계 국가별 누적 추이\",\"chartTitleKoreaStatusByRegion\":\"대한민국 지역별 확진자 현황\",\"chartTitleKoreaBySource\":\"대한민국 소재별 확진자 현황\",\"chartLegendKoreaBySource\":\"확진자 총: {0}명\\n질병관리본부 {1} 집계기준\",\"chartTitleKoreaByGender\":\"대한민국 성별 확진자 현황\",\"chartTitleKoreaByAge\":\"대한민국 연령별 확진자 현황\",\"chartLegendCDC\":\"질병관리본부 {0} 집계기준\",\"chartLegendTotalItem\":\"총 {0}: {1}명\\n{2}\",\"chartLegendRealtime\":\"실시간 집계\",\"peopleCountUnit\":\"명\",\"sourceChartFormatter\":\"{0}\\n{1}명 ({2}%)\",\"chartLegendGenderReleased\":\"3/1 이후 업데이트 중지\",\"chartLegendAgeReleased\":\"3/14 이후 업데이트 중지\",\"chartLegendAgeDeathRate\":\"사망률 = 각 연령별 사망자 / 각 연령별 확진자\",\"male\":\"남성\",\"female\":\"여성\",\"CN\":\"중국\",\"KR\":\"한국\",\"IR\":\"이란\",\"IT\":\"이탈리아\",\"JPCruise\":\"일본크루즈\",\"JP\":\"일본\",\"FR\":\"프랑스\",\"DE\":\"독일\",\"ES\":\"스페인\",\"SG\":\"싱가포르\",\"US\":\"미국\",\"HK\":\"홍콩\",\"KW\":\"쿠웨이트\",\"GB\":\"영국\",\"BH\":\"바레인\",\"CH\":\"스위스\",\"TH\":\"태국\",\"TW\":\"대만\",\"AU\":\"호주\",\"MY\":\"말레이시아\",\"NO\":\"노르웨이\",\"CA\":\"캐나다\",\"IQ\":\"이라크\",\"AT\":\"오스트리아\",\"NL\":\"네덜란드\",\"SE\":\"스웨덴\",\"AE\":\"아랍에미레이트\",\"VN\":\"베트남\",\"BE\":\"벨기에\",\"LB\":\"레바논\",\"IL\":\"이스라엘\",\"OM\":\"오만\",\"IS\":\"아이슬란드\",\"SM\":\"산마리노\",\"MO\":\"마카오\",\"HR\":\"크로아티아\",\"QA\":\"카타르\",\"EC\":\"에콰도르\",\"FI\":\"핀란드\",\"GR\":\"그리스\",\"DK\":\"덴마크\",\"IN\":\"인도\",\"MX\":\"멕시코\",\"DZ\":\"알제리\",\"CZ\":\"체코\",\"PK\":\"파키스탄\",\"RO\":\"루마니아\",\"PH\":\"필리핀\",\"AZ\":\"아제르바이잔\",\"GE\":\"조지아\",\"RU\":\"러시아\",\"BR\":\"브라질\",\"EG\":\"이집트\",\"ID\":\"인도네시아\",\"PT\":\"포르투갈\",\"AF\":\"아프가니스탄\",\"AD\":\"안도라\",\"AM\":\"아르메니아\",\"BY\":\"벨라루스\",\"KH\":\"캄보디아\",\"DO\":\"도미니카 공화국\",\"EE\":\"에스토니아\",\"IE\":\"아일랜드\",\"JO\":\"요르단\",\"LV\":\"라트비아\",\"LT\":\"리투아니아\",\"LU\":\"룩셈부르크\",\"MK\":\"북마케도니아\",\"MC\":\"모나코\",\"MA\":\"모로코\",\"NP\":\"네팔\",\"NZ\":\"뉴질랜드\",\"NG\":\"나이지리아\",\"SA\":\"사우디아라비아\",\"SN\":\"세네갈\",\"LK\":\"스리랑카\",\"TN\":\"튀니지\",\"UA\":\"우크라이나\",\"AR\":\"아르헨티나\",\"LI\":\"리히텐슈타인\",\"PL\":\"폴란드\",\"CL\":\"칠레\",\"HU\":\"헝가리\",\"FO\":\"페로 제도\",\"SI\":\"슬로베니아\",\"PS\":\"팔레스타인\",\"BA\":\"보스니아 헤르체고비나\",\"ZA\":\"남아프리카 공화국\",\"CR\":\"코스타리카\",\"GI\":\"지브롤터\",\"BT\":\"부탄\",\"RS\":\"세르비아\",\"SK\":\"슬로바키아\",\"CM\":\"카메룬\",\"VA\":\"바티칸 시국\",\"PE\":\"페루\",\"TG\":\"토고\",\"CO\":\"콜롬비아\",\"MT\":\"몰타 공화국\",\"MV\":\"몰디브\",\"MD\":\"몰도바\",\"PY\":\"파라과이\",\"BG\":\"불가리아\",\"GF\":\"프랑스령 기아나\",\"BD\":\"방글라데시\",\"AL\":\"알바니아\",\"GY\":\"가이아나\",\"MQ\":\"마르티니크\",\"MN\":\"몽골\",\"CY\":\"키프로스\",\"MF\":\"세인트마틴 섬\",\"BN\":\"브루나이\",\"BF\":\"부르키나파소\",\"NOTUSED\":\"\",\"PA\":\"파나마\",\"BL\":\"생바르텔레미\",\"SX\":\"신트마르턴\",\"BO\":\"볼리비아\",\"CD\":\"콩고민주공화국\",\"JM\":\"자메이카\",\"TR\":\"터키\",\"HN\":\"온두라스\",\"CU\":\"쿠바\",\"RE\":\"레위니옹\",\"GH\":\"가나\",\"CI\":\"코트디부아르\",\"PF\":\"프랑스령 폴리네시아\",\"VC\":\"세인트빈센트 그레나딘\",\"TT\":\"트리니다드 토바고\",\"SR\":\"세인트루시아\",\"LC\":\"수리남\",\"CW\":\"퀴라소\",\"MR\":\"모리타니\",\"KE\":\"케냐\",\"PR\":\"푸에르토리코\",\"AW\":\"아루바\",\"UY\":\"우루과이\",\"GT\":\"과테말라\",\"VE\":\"베네수엘라\",\"AG\":\"앤티가 바부다\",\"ET\":\"에티오피아\",\"SD\":\"수단\",\"GN\":\"기니\",\"GA\":\"가봉\",\"GP\":\"과들루프\",\"KY\":\"케이맨 제도\",\"KZ\":\"카자흐스탄\",\"SZ\":\"에스와티니\",\"NA\":\"나미비아\",\"SC\":\"세이셸\",\"YT\":\"마요트\",\"RW\":\"르완다\",\"VI\":\"미국령 버진아일랜드\",\"GQ\":\"적도 기니\",\"XK\":\"코소보\",\"UZ\":\"우즈베키스탄\",\"GU\":\"괌\",\"CF\":\"중앙아프리카 공화국\",\"CG\":\"콩고공화국\",\"BS\":\"바하마\",\"TZ\":\"탄자니아\",\"SO\":\"소말리아\",\"GL\":\"그린란드\",\"LR\":\"라이베리아\",\"BJ\":\"베냉\",\"BB\":\"바베이도스\",\"GM\":\"감비아\",\"KG\":\"키르기스스탄\",\"ME\":\"몬테네그로\",\"MS\":\"몬트세랫\"}}};</script><script src=\"https://ajax.googleapis.com/ajax/libs/jquery/3.4.1/jquery.min.js\"></script><script src=\"https://stackpath.bootstrapcdn.com/bootstrap/4.4.1/js/bootstrap.bundle.min.js\"></script><script src=\"https://cdnjs.cloudflare.com/ajax/libs/echarts/4.6.0/echarts.min.js\"></script><script src=\"https://cdnjs.cloudflare.com/ajax/libs/Swiper/4.5.1/js/swiper.min.js\"></script><script src=\"https://www.gstatic.com/charts/loader.js\" type=\"text/javascript\"></script><script src=\"https://cdnjs.cloudflare.com/ajax/libs/bootstrap-select/1.13.12/js/bootstrap-select.min.js\"></script><script src=\"https://cdnjs.cloudflare.com/ajax/libs/lodash.js/4.17.15/lodash.min.js\"></script><script async=\"\" data-ad-client=\"ca-pub-5341321752766779\" src=\"https://pagead2.googlesyndication.com/pagead/js/adsbygoogle.js\"></script><script src=\"main.bundle.8dbdc2e2.js\"></script></body><iframe data-ad-client=\"ca-pub-5341321752766779\" id=\"google_esf\" name=\"google_esf\" src=\"https://googleads.g.doubleclick.net/pagead/html/r20200312/r20190131/zrt_lookup.html#\" style=\"display: none;\"></iframe></html>"
      ]
     },
     "execution_count": 4,
     "metadata": {},
     "output_type": "execute_result"
    }
   ],
   "source": [
    "html= browser.page_source\n",
    "soup = BeautifulSoup(html, 'html.parser')\n",
    "soup"
   ]
  },
  {
   "cell_type": "code",
   "execution_count": 5,
   "metadata": {},
   "outputs": [
    {
     "ename": "IndexError",
     "evalue": "list index out of range",
     "output_type": "error",
     "traceback": [
      "\u001b[1;31m---------------------------------------------------------------------------\u001b[0m",
      "\u001b[1;31mIndexError\u001b[0m                                Traceback (most recent call last)",
      "\u001b[1;32m<ipython-input-5-dd2842051411>\u001b[0m in \u001b[0;36m<module>\u001b[1;34m\u001b[0m\n\u001b[0;32m      1\u001b[0m \u001b[0mtables\u001b[0m \u001b[1;33m=\u001b[0m \u001b[0msoup\u001b[0m\u001b[1;33m.\u001b[0m\u001b[0mselect\u001b[0m\u001b[1;33m(\u001b[0m\u001b[1;34m'#country-table > div > div > table'\u001b[0m\u001b[1;33m)\u001b[0m\u001b[1;33m\u001b[0m\u001b[1;33m\u001b[0m\u001b[0m\n\u001b[1;32m----> 2\u001b[1;33m \u001b[0mtable\u001b[0m \u001b[1;33m=\u001b[0m \u001b[0mtables\u001b[0m\u001b[1;33m[\u001b[0m\u001b[1;36m0\u001b[0m\u001b[1;33m]\u001b[0m\u001b[1;33m\u001b[0m\u001b[1;33m\u001b[0m\u001b[0m\n\u001b[0m\u001b[0;32m      3\u001b[0m \u001b[0mtable\u001b[0m\u001b[1;33m\u001b[0m\u001b[1;33m\u001b[0m\u001b[0m\n",
      "\u001b[1;31mIndexError\u001b[0m: list index out of range"
     ]
    }
   ],
   "source": [
    "tables = soup.select('#country-table > div > div > table')\n",
    "table = tables[0]\n",
    "table"
   ]
  },
  {
   "cell_type": "code",
   "execution_count": null,
   "metadata": {},
   "outputs": [],
   "source": [
    "table_html = str(table)"
   ]
  },
  {
   "cell_type": "code",
   "execution_count": null,
   "metadata": {},
   "outputs": [],
   "source": [
    "table_df_list = pd.read_html(table_html)"
   ]
  },
  {
   "cell_type": "code",
   "execution_count": null,
   "metadata": {},
   "outputs": [],
   "source": [
    "table_df = table_df_list[0]\n",
    "table_df"
   ]
  },
  {
   "cell_type": "code",
   "execution_count": null,
   "metadata": {},
   "outputs": [],
   "source": [
    "table_df = table_df.drop(\"Unnamed: 0\", axis =1)"
   ]
  },
  {
   "cell_type": "code",
   "execution_count": null,
   "metadata": {},
   "outputs": [],
   "source": [
    "table_df"
   ]
  },
  {
   "cell_type": "code",
   "execution_count": null,
   "metadata": {},
   "outputs": [],
   "source": [
    "table_df.to_csv(\"world.csv\" , index = False)"
   ]
  },
  {
   "cell_type": "code",
   "execution_count": 6,
   "metadata": {},
   "outputs": [
    {
     "data": {
      "text/html": [
       "<div>\n",
       "<style scoped>\n",
       "    .dataframe tbody tr th:only-of-type {\n",
       "        vertical-align: middle;\n",
       "    }\n",
       "\n",
       "    .dataframe tbody tr th {\n",
       "        vertical-align: top;\n",
       "    }\n",
       "\n",
       "    .dataframe thead th {\n",
       "        text-align: right;\n",
       "    }\n",
       "</style>\n",
       "<table border=\"1\" class=\"dataframe\">\n",
       "  <thead>\n",
       "    <tr style=\"text-align: right;\">\n",
       "      <th></th>\n",
       "      <th>국가</th>\n",
       "      <th>확진자</th>\n",
       "      <th>사망자</th>\n",
       "      <th>완치</th>\n",
       "      <th>사망률(%)</th>\n",
       "      <th>완치율(%)</th>\n",
       "    </tr>\n",
       "  </thead>\n",
       "  <tbody>\n",
       "    <tr>\n",
       "      <td>0</td>\n",
       "      <td>NaN</td>\n",
       "      <td>NaN</td>\n",
       "      <td>NaN</td>\n",
       "      <td>NaN</td>\n",
       "      <td>NaN</td>\n",
       "      <td>NaN</td>\n",
       "    </tr>\n",
       "    <tr>\n",
       "      <td>1</td>\n",
       "      <td>중국</td>\n",
       "      <td>80905.0</td>\n",
       "      <td>3237.0</td>\n",
       "      <td>69615.0</td>\n",
       "      <td>4.0</td>\n",
       "      <td>86.0</td>\n",
       "    </tr>\n",
       "    <tr>\n",
       "      <td>2</td>\n",
       "      <td>NaN</td>\n",
       "      <td>NaN</td>\n",
       "      <td>NaN</td>\n",
       "      <td>NaN</td>\n",
       "      <td>NaN</td>\n",
       "      <td>NaN</td>\n",
       "    </tr>\n",
       "    <tr>\n",
       "      <td>3</td>\n",
       "      <td>이탈리아</td>\n",
       "      <td>31506.0</td>\n",
       "      <td>2503.0</td>\n",
       "      <td>2941.0</td>\n",
       "      <td>7.9</td>\n",
       "      <td>9.3</td>\n",
       "    </tr>\n",
       "    <tr>\n",
       "      <td>4</td>\n",
       "      <td>NaN</td>\n",
       "      <td>NaN</td>\n",
       "      <td>NaN</td>\n",
       "      <td>NaN</td>\n",
       "      <td>NaN</td>\n",
       "      <td>NaN</td>\n",
       "    </tr>\n",
       "  </tbody>\n",
       "</table>\n",
       "</div>"
      ],
      "text/plain": [
       "     국가      확진자     사망자       완치  사망률(%)  완치율(%)\n",
       "0   NaN      NaN     NaN      NaN     NaN     NaN\n",
       "1    중국  80905.0  3237.0  69615.0     4.0    86.0\n",
       "2   NaN      NaN     NaN      NaN     NaN     NaN\n",
       "3  이탈리아  31506.0  2503.0   2941.0     7.9     9.3\n",
       "4   NaN      NaN     NaN      NaN     NaN     NaN"
      ]
     },
     "execution_count": 6,
     "metadata": {},
     "output_type": "execute_result"
    }
   ],
   "source": [
    "df_w = pd.read_csv(\"data/world.csv\" , encoding = \"cp949\")\n",
    "df_w.head()"
   ]
  },
  {
   "cell_type": "code",
   "execution_count": 7,
   "metadata": {},
   "outputs": [
    {
     "data": {
      "text/html": [
       "<div>\n",
       "<style scoped>\n",
       "    .dataframe tbody tr th:only-of-type {\n",
       "        vertical-align: middle;\n",
       "    }\n",
       "\n",
       "    .dataframe tbody tr th {\n",
       "        vertical-align: top;\n",
       "    }\n",
       "\n",
       "    .dataframe thead th {\n",
       "        text-align: right;\n",
       "    }\n",
       "</style>\n",
       "<table border=\"1\" class=\"dataframe\">\n",
       "  <thead>\n",
       "    <tr style=\"text-align: right;\">\n",
       "      <th></th>\n",
       "      <th>국가</th>\n",
       "      <th>확진자</th>\n",
       "      <th>사망자</th>\n",
       "      <th>완치</th>\n",
       "      <th>사망률(%)</th>\n",
       "      <th>완치율(%)</th>\n",
       "    </tr>\n",
       "  </thead>\n",
       "  <tbody>\n",
       "    <tr>\n",
       "      <td>1</td>\n",
       "      <td>중국</td>\n",
       "      <td>80905.0</td>\n",
       "      <td>3237.0</td>\n",
       "      <td>69615.0</td>\n",
       "      <td>4.0</td>\n",
       "      <td>86.0</td>\n",
       "    </tr>\n",
       "    <tr>\n",
       "      <td>3</td>\n",
       "      <td>이탈리아</td>\n",
       "      <td>31506.0</td>\n",
       "      <td>2503.0</td>\n",
       "      <td>2941.0</td>\n",
       "      <td>7.9</td>\n",
       "      <td>9.3</td>\n",
       "    </tr>\n",
       "    <tr>\n",
       "      <td>5</td>\n",
       "      <td>이란</td>\n",
       "      <td>16169.0</td>\n",
       "      <td>988.0</td>\n",
       "      <td>5389.0</td>\n",
       "      <td>6.1</td>\n",
       "      <td>33.3</td>\n",
       "    </tr>\n",
       "    <tr>\n",
       "      <td>6</td>\n",
       "      <td>스페인</td>\n",
       "      <td>11826.0</td>\n",
       "      <td>533.0</td>\n",
       "      <td>1028.0</td>\n",
       "      <td>4.5</td>\n",
       "      <td>8.7</td>\n",
       "    </tr>\n",
       "    <tr>\n",
       "      <td>8</td>\n",
       "      <td>독일</td>\n",
       "      <td>9367.0</td>\n",
       "      <td>26.0</td>\n",
       "      <td>67.0</td>\n",
       "      <td>0.3</td>\n",
       "      <td>0.7</td>\n",
       "    </tr>\n",
       "    <tr>\n",
       "      <td>10</td>\n",
       "      <td>한국</td>\n",
       "      <td>8413.0</td>\n",
       "      <td>86.0</td>\n",
       "      <td>1540.0</td>\n",
       "      <td>1.0</td>\n",
       "      <td>18.3</td>\n",
       "    </tr>\n",
       "    <tr>\n",
       "      <td>12</td>\n",
       "      <td>프랑스</td>\n",
       "      <td>7730.0</td>\n",
       "      <td>175.0</td>\n",
       "      <td>602.0</td>\n",
       "      <td>2.3</td>\n",
       "      <td>7.8</td>\n",
       "    </tr>\n",
       "    <tr>\n",
       "      <td>14</td>\n",
       "      <td>미국</td>\n",
       "      <td>6522.0</td>\n",
       "      <td>116.0</td>\n",
       "      <td>106.0</td>\n",
       "      <td>1.8</td>\n",
       "      <td>1.6</td>\n",
       "    </tr>\n",
       "    <tr>\n",
       "      <td>16</td>\n",
       "      <td>스위스</td>\n",
       "      <td>2742.0</td>\n",
       "      <td>27.0</td>\n",
       "      <td>15.0</td>\n",
       "      <td>1.0</td>\n",
       "      <td>0.5</td>\n",
       "    </tr>\n",
       "    <tr>\n",
       "      <td>18</td>\n",
       "      <td>영국</td>\n",
       "      <td>1950.0</td>\n",
       "      <td>71.0</td>\n",
       "      <td>65.0</td>\n",
       "      <td>3.6</td>\n",
       "      <td>3.3</td>\n",
       "    </tr>\n",
       "  </tbody>\n",
       "</table>\n",
       "</div>"
      ],
      "text/plain": [
       "      국가      확진자     사망자       완치  사망률(%)  완치율(%)\n",
       "1     중국  80905.0  3237.0  69615.0     4.0    86.0\n",
       "3   이탈리아  31506.0  2503.0   2941.0     7.9     9.3\n",
       "5     이란  16169.0   988.0   5389.0     6.1    33.3\n",
       "6    스페인  11826.0   533.0   1028.0     4.5     8.7\n",
       "8     독일   9367.0    26.0     67.0     0.3     0.7\n",
       "10    한국   8413.0    86.0   1540.0     1.0    18.3\n",
       "12   프랑스   7730.0   175.0    602.0     2.3     7.8\n",
       "14    미국   6522.0   116.0    106.0     1.8     1.6\n",
       "16   스위스   2742.0    27.0     15.0     1.0     0.5\n",
       "18    영국   1950.0    71.0     65.0     3.6     3.3"
      ]
     },
     "execution_count": 7,
     "metadata": {},
     "output_type": "execute_result"
    }
   ],
   "source": [
    "df_drop_row = df_w.dropna(axis=0)\n",
    "df_drop_row"
   ]
  },
  {
   "cell_type": "code",
   "execution_count": 8,
   "metadata": {},
   "outputs": [
    {
     "data": {
      "text/html": [
       "<div>\n",
       "<style scoped>\n",
       "    .dataframe tbody tr th:only-of-type {\n",
       "        vertical-align: middle;\n",
       "    }\n",
       "\n",
       "    .dataframe tbody tr th {\n",
       "        vertical-align: top;\n",
       "    }\n",
       "\n",
       "    .dataframe thead th {\n",
       "        text-align: right;\n",
       "    }\n",
       "</style>\n",
       "<table border=\"1\" class=\"dataframe\">\n",
       "  <thead>\n",
       "    <tr style=\"text-align: right;\">\n",
       "      <th></th>\n",
       "      <th>국가</th>\n",
       "      <th>확진자</th>\n",
       "      <th>사망자</th>\n",
       "      <th>완치</th>\n",
       "      <th>사망률(%)</th>\n",
       "    </tr>\n",
       "  </thead>\n",
       "  <tbody>\n",
       "    <tr>\n",
       "      <td>1</td>\n",
       "      <td>중국</td>\n",
       "      <td>80905.0</td>\n",
       "      <td>3237.0</td>\n",
       "      <td>69615.0</td>\n",
       "      <td>4.0</td>\n",
       "    </tr>\n",
       "    <tr>\n",
       "      <td>3</td>\n",
       "      <td>이탈리아</td>\n",
       "      <td>31506.0</td>\n",
       "      <td>2503.0</td>\n",
       "      <td>2941.0</td>\n",
       "      <td>7.9</td>\n",
       "    </tr>\n",
       "    <tr>\n",
       "      <td>5</td>\n",
       "      <td>이란</td>\n",
       "      <td>16169.0</td>\n",
       "      <td>988.0</td>\n",
       "      <td>5389.0</td>\n",
       "      <td>6.1</td>\n",
       "    </tr>\n",
       "    <tr>\n",
       "      <td>6</td>\n",
       "      <td>스페인</td>\n",
       "      <td>11826.0</td>\n",
       "      <td>533.0</td>\n",
       "      <td>1028.0</td>\n",
       "      <td>4.5</td>\n",
       "    </tr>\n",
       "    <tr>\n",
       "      <td>8</td>\n",
       "      <td>독일</td>\n",
       "      <td>9367.0</td>\n",
       "      <td>26.0</td>\n",
       "      <td>67.0</td>\n",
       "      <td>0.3</td>\n",
       "    </tr>\n",
       "    <tr>\n",
       "      <td>10</td>\n",
       "      <td>한국</td>\n",
       "      <td>8413.0</td>\n",
       "      <td>86.0</td>\n",
       "      <td>1540.0</td>\n",
       "      <td>1.0</td>\n",
       "    </tr>\n",
       "    <tr>\n",
       "      <td>12</td>\n",
       "      <td>프랑스</td>\n",
       "      <td>7730.0</td>\n",
       "      <td>175.0</td>\n",
       "      <td>602.0</td>\n",
       "      <td>2.3</td>\n",
       "    </tr>\n",
       "    <tr>\n",
       "      <td>14</td>\n",
       "      <td>미국</td>\n",
       "      <td>6522.0</td>\n",
       "      <td>116.0</td>\n",
       "      <td>106.0</td>\n",
       "      <td>1.8</td>\n",
       "    </tr>\n",
       "    <tr>\n",
       "      <td>16</td>\n",
       "      <td>스위스</td>\n",
       "      <td>2742.0</td>\n",
       "      <td>27.0</td>\n",
       "      <td>15.0</td>\n",
       "      <td>1.0</td>\n",
       "    </tr>\n",
       "    <tr>\n",
       "      <td>18</td>\n",
       "      <td>영국</td>\n",
       "      <td>1950.0</td>\n",
       "      <td>71.0</td>\n",
       "      <td>65.0</td>\n",
       "      <td>3.6</td>\n",
       "    </tr>\n",
       "  </tbody>\n",
       "</table>\n",
       "</div>"
      ],
      "text/plain": [
       "      국가      확진자     사망자       완치  사망률(%)\n",
       "1     중국  80905.0  3237.0  69615.0     4.0\n",
       "3   이탈리아  31506.0  2503.0   2941.0     7.9\n",
       "5     이란  16169.0   988.0   5389.0     6.1\n",
       "6    스페인  11826.0   533.0   1028.0     4.5\n",
       "8     독일   9367.0    26.0     67.0     0.3\n",
       "10    한국   8413.0    86.0   1540.0     1.0\n",
       "12   프랑스   7730.0   175.0    602.0     2.3\n",
       "14    미국   6522.0   116.0    106.0     1.8\n",
       "16   스위스   2742.0    27.0     15.0     1.0\n",
       "18    영국   1950.0    71.0     65.0     3.6"
      ]
     },
     "execution_count": 8,
     "metadata": {},
     "output_type": "execute_result"
    }
   ],
   "source": [
    "df = df_drop_row.drop([\"완치율(%)\"] , axis =1)\n",
    "df"
   ]
  },
  {
   "cell_type": "code",
   "execution_count": 9,
   "metadata": {},
   "outputs": [
    {
     "data": {
      "text/html": [
       "<div>\n",
       "<style scoped>\n",
       "    .dataframe tbody tr th:only-of-type {\n",
       "        vertical-align: middle;\n",
       "    }\n",
       "\n",
       "    .dataframe tbody tr th {\n",
       "        vertical-align: top;\n",
       "    }\n",
       "\n",
       "    .dataframe thead th {\n",
       "        text-align: right;\n",
       "    }\n",
       "</style>\n",
       "<table border=\"1\" class=\"dataframe\">\n",
       "  <thead>\n",
       "    <tr style=\"text-align: right;\">\n",
       "      <th></th>\n",
       "      <th>국가</th>\n",
       "      <th>확진자</th>\n",
       "      <th>사망자</th>\n",
       "      <th>완치</th>\n",
       "      <th>사망률(%)</th>\n",
       "    </tr>\n",
       "  </thead>\n",
       "  <tbody>\n",
       "    <tr>\n",
       "      <td>1</td>\n",
       "      <td>중국</td>\n",
       "      <td>80905</td>\n",
       "      <td>3237</td>\n",
       "      <td>69615</td>\n",
       "      <td>4.0</td>\n",
       "    </tr>\n",
       "    <tr>\n",
       "      <td>3</td>\n",
       "      <td>이탈리아</td>\n",
       "      <td>31506</td>\n",
       "      <td>2503</td>\n",
       "      <td>2941</td>\n",
       "      <td>7.9</td>\n",
       "    </tr>\n",
       "    <tr>\n",
       "      <td>5</td>\n",
       "      <td>이란</td>\n",
       "      <td>16169</td>\n",
       "      <td>988</td>\n",
       "      <td>5389</td>\n",
       "      <td>6.1</td>\n",
       "    </tr>\n",
       "    <tr>\n",
       "      <td>6</td>\n",
       "      <td>스페인</td>\n",
       "      <td>11826</td>\n",
       "      <td>533</td>\n",
       "      <td>1028</td>\n",
       "      <td>4.5</td>\n",
       "    </tr>\n",
       "    <tr>\n",
       "      <td>8</td>\n",
       "      <td>독일</td>\n",
       "      <td>9367</td>\n",
       "      <td>26</td>\n",
       "      <td>67</td>\n",
       "      <td>0.3</td>\n",
       "    </tr>\n",
       "    <tr>\n",
       "      <td>10</td>\n",
       "      <td>한국</td>\n",
       "      <td>8413</td>\n",
       "      <td>86</td>\n",
       "      <td>1540</td>\n",
       "      <td>1.0</td>\n",
       "    </tr>\n",
       "    <tr>\n",
       "      <td>12</td>\n",
       "      <td>프랑스</td>\n",
       "      <td>7730</td>\n",
       "      <td>175</td>\n",
       "      <td>602</td>\n",
       "      <td>2.3</td>\n",
       "    </tr>\n",
       "    <tr>\n",
       "      <td>14</td>\n",
       "      <td>미국</td>\n",
       "      <td>6522</td>\n",
       "      <td>116</td>\n",
       "      <td>106</td>\n",
       "      <td>1.8</td>\n",
       "    </tr>\n",
       "    <tr>\n",
       "      <td>16</td>\n",
       "      <td>스위스</td>\n",
       "      <td>2742</td>\n",
       "      <td>27</td>\n",
       "      <td>15</td>\n",
       "      <td>1.0</td>\n",
       "    </tr>\n",
       "    <tr>\n",
       "      <td>18</td>\n",
       "      <td>영국</td>\n",
       "      <td>1950</td>\n",
       "      <td>71</td>\n",
       "      <td>65</td>\n",
       "      <td>3.6</td>\n",
       "    </tr>\n",
       "  </tbody>\n",
       "</table>\n",
       "</div>"
      ],
      "text/plain": [
       "      국가    확진자   사망자     완치  사망률(%)\n",
       "1     중국  80905  3237  69615     4.0\n",
       "3   이탈리아  31506  2503   2941     7.9\n",
       "5     이란  16169   988   5389     6.1\n",
       "6    스페인  11826   533   1028     4.5\n",
       "8     독일   9367    26     67     0.3\n",
       "10    한국   8413    86   1540     1.0\n",
       "12   프랑스   7730   175    602     2.3\n",
       "14    미국   6522   116    106     1.8\n",
       "16   스위스   2742    27     15     1.0\n",
       "18    영국   1950    71     65     3.6"
      ]
     },
     "execution_count": 9,
     "metadata": {},
     "output_type": "execute_result"
    }
   ],
   "source": [
    "df[['확진자', '사망자','완치']] = df[['확진자', '사망자','완치']].astype(int)\n",
    "df"
   ]
  },
  {
   "cell_type": "code",
   "execution_count": 17,
   "metadata": {},
   "outputs": [
    {
     "data": {
      "text/html": [
       "<div>\n",
       "<style scoped>\n",
       "    .dataframe tbody tr th:only-of-type {\n",
       "        vertical-align: middle;\n",
       "    }\n",
       "\n",
       "    .dataframe tbody tr th {\n",
       "        vertical-align: top;\n",
       "    }\n",
       "\n",
       "    .dataframe thead th {\n",
       "        text-align: right;\n",
       "    }\n",
       "</style>\n",
       "<table border=\"1\" class=\"dataframe\">\n",
       "  <thead>\n",
       "    <tr style=\"text-align: right;\">\n",
       "      <th></th>\n",
       "      <th>국가</th>\n",
       "      <th>확진자</th>\n",
       "      <th>사망자</th>\n",
       "      <th>완치</th>\n",
       "      <th>사망률(%)</th>\n",
       "    </tr>\n",
       "  </thead>\n",
       "  <tbody>\n",
       "    <tr>\n",
       "      <td>3</td>\n",
       "      <td>이탈리아</td>\n",
       "      <td>31506</td>\n",
       "      <td>2503</td>\n",
       "      <td>2941</td>\n",
       "      <td>7.9</td>\n",
       "    </tr>\n",
       "    <tr>\n",
       "      <td>5</td>\n",
       "      <td>이란</td>\n",
       "      <td>16169</td>\n",
       "      <td>988</td>\n",
       "      <td>5389</td>\n",
       "      <td>6.1</td>\n",
       "    </tr>\n",
       "    <tr>\n",
       "      <td>6</td>\n",
       "      <td>스페인</td>\n",
       "      <td>11826</td>\n",
       "      <td>533</td>\n",
       "      <td>1028</td>\n",
       "      <td>4.5</td>\n",
       "    </tr>\n",
       "    <tr>\n",
       "      <td>8</td>\n",
       "      <td>독일</td>\n",
       "      <td>9367</td>\n",
       "      <td>26</td>\n",
       "      <td>67</td>\n",
       "      <td>0.3</td>\n",
       "    </tr>\n",
       "    <tr>\n",
       "      <td>10</td>\n",
       "      <td>한국</td>\n",
       "      <td>8413</td>\n",
       "      <td>86</td>\n",
       "      <td>1540</td>\n",
       "      <td>1.0</td>\n",
       "    </tr>\n",
       "  </tbody>\n",
       "</table>\n",
       "</div>"
      ],
      "text/plain": [
       "      국가    확진자   사망자    완치  사망률(%)\n",
       "3   이탈리아  31506  2503  2941     7.9\n",
       "5     이란  16169   988  5389     6.1\n",
       "6    스페인  11826   533  1028     4.5\n",
       "8     독일   9367    26    67     0.3\n",
       "10    한국   8413    86  1540     1.0"
      ]
     },
     "execution_count": 17,
     "metadata": {},
     "output_type": "execute_result"
    }
   ],
   "source": [
    "df_t = df[1:6]\n",
    "df_t"
   ]
  },
  {
   "cell_type": "code",
   "execution_count": 18,
   "metadata": {},
   "outputs": [
    {
     "data": {
      "text/html": [
       "<div>\n",
       "<style scoped>\n",
       "    .dataframe tbody tr th:only-of-type {\n",
       "        vertical-align: middle;\n",
       "    }\n",
       "\n",
       "    .dataframe tbody tr th {\n",
       "        vertical-align: top;\n",
       "    }\n",
       "\n",
       "    .dataframe thead th {\n",
       "        text-align: right;\n",
       "    }\n",
       "</style>\n",
       "<table border=\"1\" class=\"dataframe\">\n",
       "  <thead>\n",
       "    <tr style=\"text-align: right;\">\n",
       "      <th></th>\n",
       "      <th>국가</th>\n",
       "      <th>사망률(%)</th>\n",
       "    </tr>\n",
       "  </thead>\n",
       "  <tbody>\n",
       "    <tr>\n",
       "      <td>3</td>\n",
       "      <td>이탈리아</td>\n",
       "      <td>7.9</td>\n",
       "    </tr>\n",
       "    <tr>\n",
       "      <td>5</td>\n",
       "      <td>이란</td>\n",
       "      <td>6.1</td>\n",
       "    </tr>\n",
       "    <tr>\n",
       "      <td>6</td>\n",
       "      <td>스페인</td>\n",
       "      <td>4.5</td>\n",
       "    </tr>\n",
       "    <tr>\n",
       "      <td>8</td>\n",
       "      <td>독일</td>\n",
       "      <td>0.3</td>\n",
       "    </tr>\n",
       "    <tr>\n",
       "      <td>10</td>\n",
       "      <td>한국</td>\n",
       "      <td>1.0</td>\n",
       "    </tr>\n",
       "  </tbody>\n",
       "</table>\n",
       "</div>"
      ],
      "text/plain": [
       "      국가  사망률(%)\n",
       "3   이탈리아     7.9\n",
       "5     이란     6.1\n",
       "6    스페인     4.5\n",
       "8     독일     0.3\n",
       "10    한국     1.0"
      ]
     },
     "execution_count": 18,
     "metadata": {},
     "output_type": "execute_result"
    }
   ],
   "source": [
    "df_dd = df_t[[\"국가\",\"사망률(%)\"]]\n",
    "df_dd.head(5)"
   ]
  },
  {
   "cell_type": "code",
   "execution_count": 19,
   "metadata": {},
   "outputs": [
    {
     "data": {
      "text/html": [
       "<div>\n",
       "<style scoped>\n",
       "    .dataframe tbody tr th:only-of-type {\n",
       "        vertical-align: middle;\n",
       "    }\n",
       "\n",
       "    .dataframe tbody tr th {\n",
       "        vertical-align: top;\n",
       "    }\n",
       "\n",
       "    .dataframe thead th {\n",
       "        text-align: right;\n",
       "    }\n",
       "</style>\n",
       "<table border=\"1\" class=\"dataframe\">\n",
       "  <thead>\n",
       "    <tr style=\"text-align: right;\">\n",
       "      <th></th>\n",
       "      <th>국가</th>\n",
       "      <th>확진자</th>\n",
       "      <th>사망자</th>\n",
       "      <th>완치</th>\n",
       "    </tr>\n",
       "  </thead>\n",
       "  <tbody>\n",
       "    <tr>\n",
       "      <td>3</td>\n",
       "      <td>이탈리아</td>\n",
       "      <td>31506</td>\n",
       "      <td>2503</td>\n",
       "      <td>2941</td>\n",
       "    </tr>\n",
       "    <tr>\n",
       "      <td>5</td>\n",
       "      <td>이란</td>\n",
       "      <td>16169</td>\n",
       "      <td>988</td>\n",
       "      <td>5389</td>\n",
       "    </tr>\n",
       "    <tr>\n",
       "      <td>6</td>\n",
       "      <td>스페인</td>\n",
       "      <td>11826</td>\n",
       "      <td>533</td>\n",
       "      <td>1028</td>\n",
       "    </tr>\n",
       "    <tr>\n",
       "      <td>8</td>\n",
       "      <td>독일</td>\n",
       "      <td>9367</td>\n",
       "      <td>26</td>\n",
       "      <td>67</td>\n",
       "    </tr>\n",
       "    <tr>\n",
       "      <td>10</td>\n",
       "      <td>한국</td>\n",
       "      <td>8413</td>\n",
       "      <td>86</td>\n",
       "      <td>1540</td>\n",
       "    </tr>\n",
       "  </tbody>\n",
       "</table>\n",
       "</div>"
      ],
      "text/plain": [
       "      국가    확진자   사망자    완치\n",
       "3   이탈리아  31506  2503  2941\n",
       "5     이란  16169   988  5389\n",
       "6    스페인  11826   533  1028\n",
       "8     독일   9367    26    67\n",
       "10    한국   8413    86  1540"
      ]
     },
     "execution_count": 19,
     "metadata": {},
     "output_type": "execute_result"
    }
   ],
   "source": [
    "df_d = df_t.drop([\"사망률(%)\"] , axis =1)\n",
    "df_d"
   ]
  },
  {
   "cell_type": "code",
   "execution_count": 20,
   "metadata": {},
   "outputs": [
    {
     "data": {
      "text/html": [
       "<div>\n",
       "<style scoped>\n",
       "    .dataframe tbody tr th:only-of-type {\n",
       "        vertical-align: middle;\n",
       "    }\n",
       "\n",
       "    .dataframe tbody tr th {\n",
       "        vertical-align: top;\n",
       "    }\n",
       "\n",
       "    .dataframe thead th {\n",
       "        text-align: right;\n",
       "    }\n",
       "</style>\n",
       "<table border=\"1\" class=\"dataframe\">\n",
       "  <thead>\n",
       "    <tr style=\"text-align: right;\">\n",
       "      <th></th>\n",
       "      <th>국가</th>\n",
       "      <th>Case</th>\n",
       "      <th>Count</th>\n",
       "    </tr>\n",
       "  </thead>\n",
       "  <tbody>\n",
       "    <tr>\n",
       "      <td>8</td>\n",
       "      <td>독일</td>\n",
       "      <td>사망자</td>\n",
       "      <td>26</td>\n",
       "    </tr>\n",
       "    <tr>\n",
       "      <td>13</td>\n",
       "      <td>독일</td>\n",
       "      <td>완치</td>\n",
       "      <td>67</td>\n",
       "    </tr>\n",
       "    <tr>\n",
       "      <td>9</td>\n",
       "      <td>한국</td>\n",
       "      <td>사망자</td>\n",
       "      <td>86</td>\n",
       "    </tr>\n",
       "    <tr>\n",
       "      <td>7</td>\n",
       "      <td>스페인</td>\n",
       "      <td>사망자</td>\n",
       "      <td>533</td>\n",
       "    </tr>\n",
       "    <tr>\n",
       "      <td>6</td>\n",
       "      <td>이란</td>\n",
       "      <td>사망자</td>\n",
       "      <td>988</td>\n",
       "    </tr>\n",
       "    <tr>\n",
       "      <td>12</td>\n",
       "      <td>스페인</td>\n",
       "      <td>완치</td>\n",
       "      <td>1028</td>\n",
       "    </tr>\n",
       "    <tr>\n",
       "      <td>14</td>\n",
       "      <td>한국</td>\n",
       "      <td>완치</td>\n",
       "      <td>1540</td>\n",
       "    </tr>\n",
       "    <tr>\n",
       "      <td>5</td>\n",
       "      <td>이탈리아</td>\n",
       "      <td>사망자</td>\n",
       "      <td>2503</td>\n",
       "    </tr>\n",
       "    <tr>\n",
       "      <td>10</td>\n",
       "      <td>이탈리아</td>\n",
       "      <td>완치</td>\n",
       "      <td>2941</td>\n",
       "    </tr>\n",
       "    <tr>\n",
       "      <td>11</td>\n",
       "      <td>이란</td>\n",
       "      <td>완치</td>\n",
       "      <td>5389</td>\n",
       "    </tr>\n",
       "    <tr>\n",
       "      <td>4</td>\n",
       "      <td>한국</td>\n",
       "      <td>확진자</td>\n",
       "      <td>8413</td>\n",
       "    </tr>\n",
       "    <tr>\n",
       "      <td>3</td>\n",
       "      <td>독일</td>\n",
       "      <td>확진자</td>\n",
       "      <td>9367</td>\n",
       "    </tr>\n",
       "    <tr>\n",
       "      <td>2</td>\n",
       "      <td>스페인</td>\n",
       "      <td>확진자</td>\n",
       "      <td>11826</td>\n",
       "    </tr>\n",
       "    <tr>\n",
       "      <td>1</td>\n",
       "      <td>이란</td>\n",
       "      <td>확진자</td>\n",
       "      <td>16169</td>\n",
       "    </tr>\n",
       "    <tr>\n",
       "      <td>0</td>\n",
       "      <td>이탈리아</td>\n",
       "      <td>확진자</td>\n",
       "      <td>31506</td>\n",
       "    </tr>\n",
       "  </tbody>\n",
       "</table>\n",
       "</div>"
      ],
      "text/plain": [
       "      국가 Case  Count\n",
       "8     독일  사망자     26\n",
       "13    독일   완치     67\n",
       "9     한국  사망자     86\n",
       "7    스페인  사망자    533\n",
       "6     이란  사망자    988\n",
       "12   스페인   완치   1028\n",
       "14    한국   완치   1540\n",
       "5   이탈리아  사망자   2503\n",
       "10  이탈리아   완치   2941\n",
       "11    이란   완치   5389\n",
       "4     한국  확진자   8413\n",
       "3     독일  확진자   9367\n",
       "2    스페인  확진자  11826\n",
       "1     이란  확진자  16169\n",
       "0   이탈리아  확진자  31506"
      ]
     },
     "execution_count": 20,
     "metadata": {},
     "output_type": "execute_result"
    }
   ],
   "source": [
    "df_m= df_d.melt(id_vars = [\"국가\"] , value_vars = [\"확진자\",\"사망자\",\"완치\"],\n",
    "                 var_name='Case' , value_name = \"Count\").sort_values('Count')\n",
    "df_m"
   ]
  },
  {
   "cell_type": "code",
   "execution_count": 21,
   "metadata": {},
   "outputs": [
    {
     "data": {
      "application/vnd.plotly.v1+json": {
       "config": {
        "plotlyServerURL": "https://plot.ly"
       },
       "data": [
        {
         "alignmentgroup": "True",
         "hoverlabel": {
          "namelength": 0
         },
         "hovertemplate": "Case=사망자<br>Count=%{x}<br>국가=%{y}",
         "legendgroup": "사망자",
         "marker": {
          "color": "#F8766D"
         },
         "name": "사망자",
         "offsetgroup": "사망자",
         "orientation": "h",
         "showlegend": true,
         "textposition": "auto",
         "type": "bar",
         "x": [
          26,
          86,
          533,
          988,
          2503
         ],
         "xaxis": "x",
         "y": [
          "독일",
          "한국",
          "스페인",
          "이란",
          "이탈리아"
         ],
         "yaxis": "y"
        },
        {
         "alignmentgroup": "True",
         "hoverlabel": {
          "namelength": 0
         },
         "hovertemplate": "Case=완치<br>Count=%{x}<br>국가=%{y}",
         "legendgroup": "완치",
         "marker": {
          "color": "#A3A500"
         },
         "name": "완치",
         "offsetgroup": "완치",
         "orientation": "h",
         "showlegend": true,
         "textposition": "auto",
         "type": "bar",
         "x": [
          67,
          1028,
          1540,
          2941,
          5389
         ],
         "xaxis": "x",
         "y": [
          "독일",
          "스페인",
          "한국",
          "이탈리아",
          "이란"
         ],
         "yaxis": "y"
        },
        {
         "alignmentgroup": "True",
         "hoverlabel": {
          "namelength": 0
         },
         "hovertemplate": "Case=확진자<br>Count=%{x}<br>국가=%{y}",
         "legendgroup": "확진자",
         "marker": {
          "color": "#00BF7D"
         },
         "name": "확진자",
         "offsetgroup": "확진자",
         "orientation": "h",
         "showlegend": true,
         "textposition": "auto",
         "type": "bar",
         "x": [
          8413,
          9367,
          11826,
          16169,
          31506
         ],
         "xaxis": "x",
         "y": [
          "한국",
          "독일",
          "스페인",
          "이란",
          "이탈리아"
         ],
         "yaxis": "y"
        }
       ],
       "layout": {
        "barmode": "group",
        "legend": {
         "title": {
          "text": "Case"
         },
         "tracegroupgap": 0
        },
        "template": {
         "data": {
          "bar": [
           {
            "error_x": {
             "color": "rgb(51,51,51)"
            },
            "error_y": {
             "color": "rgb(51,51,51)"
            },
            "marker": {
             "line": {
              "color": "rgb(237,237,237)",
              "width": 0.5
             }
            },
            "type": "bar"
           }
          ],
          "barpolar": [
           {
            "marker": {
             "line": {
              "color": "rgb(237,237,237)",
              "width": 0.5
             }
            },
            "type": "barpolar"
           }
          ],
          "carpet": [
           {
            "aaxis": {
             "endlinecolor": "rgb(51,51,51)",
             "gridcolor": "white",
             "linecolor": "white",
             "minorgridcolor": "white",
             "startlinecolor": "rgb(51,51,51)"
            },
            "baxis": {
             "endlinecolor": "rgb(51,51,51)",
             "gridcolor": "white",
             "linecolor": "white",
             "minorgridcolor": "white",
             "startlinecolor": "rgb(51,51,51)"
            },
            "type": "carpet"
           }
          ],
          "choropleth": [
           {
            "colorbar": {
             "outlinewidth": 0,
             "tickcolor": "rgb(237,237,237)",
             "ticklen": 6,
             "ticks": "inside"
            },
            "type": "choropleth"
           }
          ],
          "contour": [
           {
            "colorbar": {
             "outlinewidth": 0,
             "tickcolor": "rgb(237,237,237)",
             "ticklen": 6,
             "ticks": "inside"
            },
            "colorscale": [
             [
              0,
              "rgb(20,44,66)"
             ],
             [
              1,
              "rgb(90,179,244)"
             ]
            ],
            "type": "contour"
           }
          ],
          "contourcarpet": [
           {
            "colorbar": {
             "outlinewidth": 0,
             "tickcolor": "rgb(237,237,237)",
             "ticklen": 6,
             "ticks": "inside"
            },
            "type": "contourcarpet"
           }
          ],
          "heatmap": [
           {
            "colorbar": {
             "outlinewidth": 0,
             "tickcolor": "rgb(237,237,237)",
             "ticklen": 6,
             "ticks": "inside"
            },
            "colorscale": [
             [
              0,
              "rgb(20,44,66)"
             ],
             [
              1,
              "rgb(90,179,244)"
             ]
            ],
            "type": "heatmap"
           }
          ],
          "heatmapgl": [
           {
            "colorbar": {
             "outlinewidth": 0,
             "tickcolor": "rgb(237,237,237)",
             "ticklen": 6,
             "ticks": "inside"
            },
            "colorscale": [
             [
              0,
              "rgb(20,44,66)"
             ],
             [
              1,
              "rgb(90,179,244)"
             ]
            ],
            "type": "heatmapgl"
           }
          ],
          "histogram": [
           {
            "marker": {
             "colorbar": {
              "outlinewidth": 0,
              "tickcolor": "rgb(237,237,237)",
              "ticklen": 6,
              "ticks": "inside"
             }
            },
            "type": "histogram"
           }
          ],
          "histogram2d": [
           {
            "colorbar": {
             "outlinewidth": 0,
             "tickcolor": "rgb(237,237,237)",
             "ticklen": 6,
             "ticks": "inside"
            },
            "colorscale": [
             [
              0,
              "rgb(20,44,66)"
             ],
             [
              1,
              "rgb(90,179,244)"
             ]
            ],
            "type": "histogram2d"
           }
          ],
          "histogram2dcontour": [
           {
            "colorbar": {
             "outlinewidth": 0,
             "tickcolor": "rgb(237,237,237)",
             "ticklen": 6,
             "ticks": "inside"
            },
            "colorscale": [
             [
              0,
              "rgb(20,44,66)"
             ],
             [
              1,
              "rgb(90,179,244)"
             ]
            ],
            "type": "histogram2dcontour"
           }
          ],
          "mesh3d": [
           {
            "colorbar": {
             "outlinewidth": 0,
             "tickcolor": "rgb(237,237,237)",
             "ticklen": 6,
             "ticks": "inside"
            },
            "type": "mesh3d"
           }
          ],
          "parcoords": [
           {
            "line": {
             "colorbar": {
              "outlinewidth": 0,
              "tickcolor": "rgb(237,237,237)",
              "ticklen": 6,
              "ticks": "inside"
             }
            },
            "type": "parcoords"
           }
          ],
          "pie": [
           {
            "automargin": true,
            "type": "pie"
           }
          ],
          "scatter": [
           {
            "marker": {
             "colorbar": {
              "outlinewidth": 0,
              "tickcolor": "rgb(237,237,237)",
              "ticklen": 6,
              "ticks": "inside"
             }
            },
            "type": "scatter"
           }
          ],
          "scatter3d": [
           {
            "line": {
             "colorbar": {
              "outlinewidth": 0,
              "tickcolor": "rgb(237,237,237)",
              "ticklen": 6,
              "ticks": "inside"
             }
            },
            "marker": {
             "colorbar": {
              "outlinewidth": 0,
              "tickcolor": "rgb(237,237,237)",
              "ticklen": 6,
              "ticks": "inside"
             }
            },
            "type": "scatter3d"
           }
          ],
          "scattercarpet": [
           {
            "marker": {
             "colorbar": {
              "outlinewidth": 0,
              "tickcolor": "rgb(237,237,237)",
              "ticklen": 6,
              "ticks": "inside"
             }
            },
            "type": "scattercarpet"
           }
          ],
          "scattergeo": [
           {
            "marker": {
             "colorbar": {
              "outlinewidth": 0,
              "tickcolor": "rgb(237,237,237)",
              "ticklen": 6,
              "ticks": "inside"
             }
            },
            "type": "scattergeo"
           }
          ],
          "scattergl": [
           {
            "marker": {
             "colorbar": {
              "outlinewidth": 0,
              "tickcolor": "rgb(237,237,237)",
              "ticklen": 6,
              "ticks": "inside"
             }
            },
            "type": "scattergl"
           }
          ],
          "scattermapbox": [
           {
            "marker": {
             "colorbar": {
              "outlinewidth": 0,
              "tickcolor": "rgb(237,237,237)",
              "ticklen": 6,
              "ticks": "inside"
             }
            },
            "type": "scattermapbox"
           }
          ],
          "scatterpolar": [
           {
            "marker": {
             "colorbar": {
              "outlinewidth": 0,
              "tickcolor": "rgb(237,237,237)",
              "ticklen": 6,
              "ticks": "inside"
             }
            },
            "type": "scatterpolar"
           }
          ],
          "scatterpolargl": [
           {
            "marker": {
             "colorbar": {
              "outlinewidth": 0,
              "tickcolor": "rgb(237,237,237)",
              "ticklen": 6,
              "ticks": "inside"
             }
            },
            "type": "scatterpolargl"
           }
          ],
          "scatterternary": [
           {
            "marker": {
             "colorbar": {
              "outlinewidth": 0,
              "tickcolor": "rgb(237,237,237)",
              "ticklen": 6,
              "ticks": "inside"
             }
            },
            "type": "scatterternary"
           }
          ],
          "surface": [
           {
            "colorbar": {
             "outlinewidth": 0,
             "tickcolor": "rgb(237,237,237)",
             "ticklen": 6,
             "ticks": "inside"
            },
            "colorscale": [
             [
              0,
              "rgb(20,44,66)"
             ],
             [
              1,
              "rgb(90,179,244)"
             ]
            ],
            "type": "surface"
           }
          ],
          "table": [
           {
            "cells": {
             "fill": {
              "color": "rgb(237,237,237)"
             },
             "line": {
              "color": "white"
             }
            },
            "header": {
             "fill": {
              "color": "rgb(217,217,217)"
             },
             "line": {
              "color": "white"
             }
            },
            "type": "table"
           }
          ]
         },
         "layout": {
          "annotationdefaults": {
           "arrowhead": 0,
           "arrowwidth": 1
          },
          "coloraxis": {
           "colorbar": {
            "outlinewidth": 0,
            "tickcolor": "rgb(237,237,237)",
            "ticklen": 6,
            "ticks": "inside"
           }
          },
          "colorscale": {
           "sequential": [
            [
             0,
             "rgb(20,44,66)"
            ],
            [
             1,
             "rgb(90,179,244)"
            ]
           ],
           "sequentialminus": [
            [
             0,
             "rgb(20,44,66)"
            ],
            [
             1,
             "rgb(90,179,244)"
            ]
           ]
          },
          "colorway": [
           "#F8766D",
           "#A3A500",
           "#00BF7D",
           "#00B0F6",
           "#E76BF3"
          ],
          "font": {
           "color": "rgb(51,51,51)"
          },
          "geo": {
           "bgcolor": "white",
           "lakecolor": "white",
           "landcolor": "rgb(237,237,237)",
           "showlakes": true,
           "showland": true,
           "subunitcolor": "white"
          },
          "hoverlabel": {
           "align": "left"
          },
          "hovermode": "closest",
          "paper_bgcolor": "white",
          "plot_bgcolor": "rgb(237,237,237)",
          "polar": {
           "angularaxis": {
            "gridcolor": "white",
            "linecolor": "white",
            "showgrid": true,
            "tickcolor": "rgb(51,51,51)",
            "ticks": "outside"
           },
           "bgcolor": "rgb(237,237,237)",
           "radialaxis": {
            "gridcolor": "white",
            "linecolor": "white",
            "showgrid": true,
            "tickcolor": "rgb(51,51,51)",
            "ticks": "outside"
           }
          },
          "scene": {
           "xaxis": {
            "backgroundcolor": "rgb(237,237,237)",
            "gridcolor": "white",
            "gridwidth": 2,
            "linecolor": "white",
            "showbackground": true,
            "showgrid": true,
            "tickcolor": "rgb(51,51,51)",
            "ticks": "outside",
            "zerolinecolor": "white"
           },
           "yaxis": {
            "backgroundcolor": "rgb(237,237,237)",
            "gridcolor": "white",
            "gridwidth": 2,
            "linecolor": "white",
            "showbackground": true,
            "showgrid": true,
            "tickcolor": "rgb(51,51,51)",
            "ticks": "outside",
            "zerolinecolor": "white"
           },
           "zaxis": {
            "backgroundcolor": "rgb(237,237,237)",
            "gridcolor": "white",
            "gridwidth": 2,
            "linecolor": "white",
            "showbackground": true,
            "showgrid": true,
            "tickcolor": "rgb(51,51,51)",
            "ticks": "outside",
            "zerolinecolor": "white"
           }
          },
          "shapedefaults": {
           "fillcolor": "black",
           "line": {
            "width": 0
           },
           "opacity": 0.3
          },
          "ternary": {
           "aaxis": {
            "gridcolor": "white",
            "linecolor": "white",
            "showgrid": true,
            "tickcolor": "rgb(51,51,51)",
            "ticks": "outside"
           },
           "baxis": {
            "gridcolor": "white",
            "linecolor": "white",
            "showgrid": true,
            "tickcolor": "rgb(51,51,51)",
            "ticks": "outside"
           },
           "bgcolor": "rgb(237,237,237)",
           "caxis": {
            "gridcolor": "white",
            "linecolor": "white",
            "showgrid": true,
            "tickcolor": "rgb(51,51,51)",
            "ticks": "outside"
           }
          },
          "xaxis": {
           "automargin": true,
           "gridcolor": "white",
           "linecolor": "white",
           "showgrid": true,
           "tickcolor": "rgb(51,51,51)",
           "ticks": "outside",
           "title": {
            "standoff": 15
           },
           "zerolinecolor": "white"
          },
          "yaxis": {
           "automargin": true,
           "gridcolor": "white",
           "linecolor": "white",
           "showgrid": true,
           "tickcolor": "rgb(51,51,51)",
           "ticks": "outside",
           "title": {
            "standoff": 15
           },
           "zerolinecolor": "white"
          }
         }
        },
        "title": {
         "text": "Top5"
        },
        "xaxis": {
         "anchor": "y",
         "domain": [
          0,
          1
         ],
         "title": {
          "text": "Count"
         }
        },
        "yaxis": {
         "anchor": "x",
         "domain": [
          0,
          1
         ],
         "title": {
          "text": "국가"
         }
        }
       }
      },
      "text/html": [
       "<div>\n",
       "        \n",
       "        \n",
       "            <div id=\"25d25c12-08a9-4b82-b6f2-6a8b893a2de0\" class=\"plotly-graph-div\" style=\"height:525px; width:100%;\"></div>\n",
       "            <script type=\"text/javascript\">\n",
       "                require([\"plotly\"], function(Plotly) {\n",
       "                    window.PLOTLYENV=window.PLOTLYENV || {};\n",
       "                    \n",
       "                if (document.getElementById(\"25d25c12-08a9-4b82-b6f2-6a8b893a2de0\")) {\n",
       "                    Plotly.newPlot(\n",
       "                        '25d25c12-08a9-4b82-b6f2-6a8b893a2de0',\n",
       "                        [{\"alignmentgroup\": \"True\", \"hoverlabel\": {\"namelength\": 0}, \"hovertemplate\": \"Case=\\uc0ac\\ub9dd\\uc790<br>Count=%{x}<br>\\uad6d\\uac00=%{y}\", \"legendgroup\": \"\\uc0ac\\ub9dd\\uc790\", \"marker\": {\"color\": \"#F8766D\"}, \"name\": \"\\uc0ac\\ub9dd\\uc790\", \"offsetgroup\": \"\\uc0ac\\ub9dd\\uc790\", \"orientation\": \"h\", \"showlegend\": true, \"textposition\": \"auto\", \"type\": \"bar\", \"x\": [26, 86, 533, 988, 2503], \"xaxis\": \"x\", \"y\": [\"\\ub3c5\\uc77c\", \"\\ud55c\\uad6d\", \"\\uc2a4\\ud398\\uc778\", \"\\uc774\\ub780\", \"\\uc774\\ud0c8\\ub9ac\\uc544\"], \"yaxis\": \"y\"}, {\"alignmentgroup\": \"True\", \"hoverlabel\": {\"namelength\": 0}, \"hovertemplate\": \"Case=\\uc644\\uce58<br>Count=%{x}<br>\\uad6d\\uac00=%{y}\", \"legendgroup\": \"\\uc644\\uce58\", \"marker\": {\"color\": \"#A3A500\"}, \"name\": \"\\uc644\\uce58\", \"offsetgroup\": \"\\uc644\\uce58\", \"orientation\": \"h\", \"showlegend\": true, \"textposition\": \"auto\", \"type\": \"bar\", \"x\": [67, 1028, 1540, 2941, 5389], \"xaxis\": \"x\", \"y\": [\"\\ub3c5\\uc77c\", \"\\uc2a4\\ud398\\uc778\", \"\\ud55c\\uad6d\", \"\\uc774\\ud0c8\\ub9ac\\uc544\", \"\\uc774\\ub780\"], \"yaxis\": \"y\"}, {\"alignmentgroup\": \"True\", \"hoverlabel\": {\"namelength\": 0}, \"hovertemplate\": \"Case=\\ud655\\uc9c4\\uc790<br>Count=%{x}<br>\\uad6d\\uac00=%{y}\", \"legendgroup\": \"\\ud655\\uc9c4\\uc790\", \"marker\": {\"color\": \"#00BF7D\"}, \"name\": \"\\ud655\\uc9c4\\uc790\", \"offsetgroup\": \"\\ud655\\uc9c4\\uc790\", \"orientation\": \"h\", \"showlegend\": true, \"textposition\": \"auto\", \"type\": \"bar\", \"x\": [8413, 9367, 11826, 16169, 31506], \"xaxis\": \"x\", \"y\": [\"\\ud55c\\uad6d\", \"\\ub3c5\\uc77c\", \"\\uc2a4\\ud398\\uc778\", \"\\uc774\\ub780\", \"\\uc774\\ud0c8\\ub9ac\\uc544\"], \"yaxis\": \"y\"}],\n",
       "                        {\"barmode\": \"group\", \"legend\": {\"title\": {\"text\": \"Case\"}, \"tracegroupgap\": 0}, \"template\": {\"data\": {\"bar\": [{\"error_x\": {\"color\": \"rgb(51,51,51)\"}, \"error_y\": {\"color\": \"rgb(51,51,51)\"}, \"marker\": {\"line\": {\"color\": \"rgb(237,237,237)\", \"width\": 0.5}}, \"type\": \"bar\"}], \"barpolar\": [{\"marker\": {\"line\": {\"color\": \"rgb(237,237,237)\", \"width\": 0.5}}, \"type\": \"barpolar\"}], \"carpet\": [{\"aaxis\": {\"endlinecolor\": \"rgb(51,51,51)\", \"gridcolor\": \"white\", \"linecolor\": \"white\", \"minorgridcolor\": \"white\", \"startlinecolor\": \"rgb(51,51,51)\"}, \"baxis\": {\"endlinecolor\": \"rgb(51,51,51)\", \"gridcolor\": \"white\", \"linecolor\": \"white\", \"minorgridcolor\": \"white\", \"startlinecolor\": \"rgb(51,51,51)\"}, \"type\": \"carpet\"}], \"choropleth\": [{\"colorbar\": {\"outlinewidth\": 0, \"tickcolor\": \"rgb(237,237,237)\", \"ticklen\": 6, \"ticks\": \"inside\"}, \"type\": \"choropleth\"}], \"contour\": [{\"colorbar\": {\"outlinewidth\": 0, \"tickcolor\": \"rgb(237,237,237)\", \"ticklen\": 6, \"ticks\": \"inside\"}, \"colorscale\": [[0, \"rgb(20,44,66)\"], [1, \"rgb(90,179,244)\"]], \"type\": \"contour\"}], \"contourcarpet\": [{\"colorbar\": {\"outlinewidth\": 0, \"tickcolor\": \"rgb(237,237,237)\", \"ticklen\": 6, \"ticks\": \"inside\"}, \"type\": \"contourcarpet\"}], \"heatmap\": [{\"colorbar\": {\"outlinewidth\": 0, \"tickcolor\": \"rgb(237,237,237)\", \"ticklen\": 6, \"ticks\": \"inside\"}, \"colorscale\": [[0, \"rgb(20,44,66)\"], [1, \"rgb(90,179,244)\"]], \"type\": \"heatmap\"}], \"heatmapgl\": [{\"colorbar\": {\"outlinewidth\": 0, \"tickcolor\": \"rgb(237,237,237)\", \"ticklen\": 6, \"ticks\": \"inside\"}, \"colorscale\": [[0, \"rgb(20,44,66)\"], [1, \"rgb(90,179,244)\"]], \"type\": \"heatmapgl\"}], \"histogram\": [{\"marker\": {\"colorbar\": {\"outlinewidth\": 0, \"tickcolor\": \"rgb(237,237,237)\", \"ticklen\": 6, \"ticks\": \"inside\"}}, \"type\": \"histogram\"}], \"histogram2d\": [{\"colorbar\": {\"outlinewidth\": 0, \"tickcolor\": \"rgb(237,237,237)\", \"ticklen\": 6, \"ticks\": \"inside\"}, \"colorscale\": [[0, \"rgb(20,44,66)\"], [1, \"rgb(90,179,244)\"]], \"type\": \"histogram2d\"}], \"histogram2dcontour\": [{\"colorbar\": {\"outlinewidth\": 0, \"tickcolor\": \"rgb(237,237,237)\", \"ticklen\": 6, \"ticks\": \"inside\"}, \"colorscale\": [[0, \"rgb(20,44,66)\"], [1, \"rgb(90,179,244)\"]], \"type\": \"histogram2dcontour\"}], \"mesh3d\": [{\"colorbar\": {\"outlinewidth\": 0, \"tickcolor\": \"rgb(237,237,237)\", \"ticklen\": 6, \"ticks\": \"inside\"}, \"type\": \"mesh3d\"}], \"parcoords\": [{\"line\": {\"colorbar\": {\"outlinewidth\": 0, \"tickcolor\": \"rgb(237,237,237)\", \"ticklen\": 6, \"ticks\": \"inside\"}}, \"type\": \"parcoords\"}], \"pie\": [{\"automargin\": true, \"type\": \"pie\"}], \"scatter\": [{\"marker\": {\"colorbar\": {\"outlinewidth\": 0, \"tickcolor\": \"rgb(237,237,237)\", \"ticklen\": 6, \"ticks\": \"inside\"}}, \"type\": \"scatter\"}], \"scatter3d\": [{\"line\": {\"colorbar\": {\"outlinewidth\": 0, \"tickcolor\": \"rgb(237,237,237)\", \"ticklen\": 6, \"ticks\": \"inside\"}}, \"marker\": {\"colorbar\": {\"outlinewidth\": 0, \"tickcolor\": \"rgb(237,237,237)\", \"ticklen\": 6, \"ticks\": \"inside\"}}, \"type\": \"scatter3d\"}], \"scattercarpet\": [{\"marker\": {\"colorbar\": {\"outlinewidth\": 0, \"tickcolor\": \"rgb(237,237,237)\", \"ticklen\": 6, \"ticks\": \"inside\"}}, \"type\": \"scattercarpet\"}], \"scattergeo\": [{\"marker\": {\"colorbar\": {\"outlinewidth\": 0, \"tickcolor\": \"rgb(237,237,237)\", \"ticklen\": 6, \"ticks\": \"inside\"}}, \"type\": \"scattergeo\"}], \"scattergl\": [{\"marker\": {\"colorbar\": {\"outlinewidth\": 0, \"tickcolor\": \"rgb(237,237,237)\", \"ticklen\": 6, \"ticks\": \"inside\"}}, \"type\": \"scattergl\"}], \"scattermapbox\": [{\"marker\": {\"colorbar\": {\"outlinewidth\": 0, \"tickcolor\": \"rgb(237,237,237)\", \"ticklen\": 6, \"ticks\": \"inside\"}}, \"type\": \"scattermapbox\"}], \"scatterpolar\": [{\"marker\": {\"colorbar\": {\"outlinewidth\": 0, \"tickcolor\": \"rgb(237,237,237)\", \"ticklen\": 6, \"ticks\": \"inside\"}}, \"type\": \"scatterpolar\"}], \"scatterpolargl\": [{\"marker\": {\"colorbar\": {\"outlinewidth\": 0, \"tickcolor\": \"rgb(237,237,237)\", \"ticklen\": 6, \"ticks\": \"inside\"}}, \"type\": \"scatterpolargl\"}], \"scatterternary\": [{\"marker\": {\"colorbar\": {\"outlinewidth\": 0, \"tickcolor\": \"rgb(237,237,237)\", \"ticklen\": 6, \"ticks\": \"inside\"}}, \"type\": \"scatterternary\"}], \"surface\": [{\"colorbar\": {\"outlinewidth\": 0, \"tickcolor\": \"rgb(237,237,237)\", \"ticklen\": 6, \"ticks\": \"inside\"}, \"colorscale\": [[0, \"rgb(20,44,66)\"], [1, \"rgb(90,179,244)\"]], \"type\": \"surface\"}], \"table\": [{\"cells\": {\"fill\": {\"color\": \"rgb(237,237,237)\"}, \"line\": {\"color\": \"white\"}}, \"header\": {\"fill\": {\"color\": \"rgb(217,217,217)\"}, \"line\": {\"color\": \"white\"}}, \"type\": \"table\"}]}, \"layout\": {\"annotationdefaults\": {\"arrowhead\": 0, \"arrowwidth\": 1}, \"coloraxis\": {\"colorbar\": {\"outlinewidth\": 0, \"tickcolor\": \"rgb(237,237,237)\", \"ticklen\": 6, \"ticks\": \"inside\"}}, \"colorscale\": {\"sequential\": [[0, \"rgb(20,44,66)\"], [1, \"rgb(90,179,244)\"]], \"sequentialminus\": [[0, \"rgb(20,44,66)\"], [1, \"rgb(90,179,244)\"]]}, \"colorway\": [\"#F8766D\", \"#A3A500\", \"#00BF7D\", \"#00B0F6\", \"#E76BF3\"], \"font\": {\"color\": \"rgb(51,51,51)\"}, \"geo\": {\"bgcolor\": \"white\", \"lakecolor\": \"white\", \"landcolor\": \"rgb(237,237,237)\", \"showlakes\": true, \"showland\": true, \"subunitcolor\": \"white\"}, \"hoverlabel\": {\"align\": \"left\"}, \"hovermode\": \"closest\", \"paper_bgcolor\": \"white\", \"plot_bgcolor\": \"rgb(237,237,237)\", \"polar\": {\"angularaxis\": {\"gridcolor\": \"white\", \"linecolor\": \"white\", \"showgrid\": true, \"tickcolor\": \"rgb(51,51,51)\", \"ticks\": \"outside\"}, \"bgcolor\": \"rgb(237,237,237)\", \"radialaxis\": {\"gridcolor\": \"white\", \"linecolor\": \"white\", \"showgrid\": true, \"tickcolor\": \"rgb(51,51,51)\", \"ticks\": \"outside\"}}, \"scene\": {\"xaxis\": {\"backgroundcolor\": \"rgb(237,237,237)\", \"gridcolor\": \"white\", \"gridwidth\": 2, \"linecolor\": \"white\", \"showbackground\": true, \"showgrid\": true, \"tickcolor\": \"rgb(51,51,51)\", \"ticks\": \"outside\", \"zerolinecolor\": \"white\"}, \"yaxis\": {\"backgroundcolor\": \"rgb(237,237,237)\", \"gridcolor\": \"white\", \"gridwidth\": 2, \"linecolor\": \"white\", \"showbackground\": true, \"showgrid\": true, \"tickcolor\": \"rgb(51,51,51)\", \"ticks\": \"outside\", \"zerolinecolor\": \"white\"}, \"zaxis\": {\"backgroundcolor\": \"rgb(237,237,237)\", \"gridcolor\": \"white\", \"gridwidth\": 2, \"linecolor\": \"white\", \"showbackground\": true, \"showgrid\": true, \"tickcolor\": \"rgb(51,51,51)\", \"ticks\": \"outside\", \"zerolinecolor\": \"white\"}}, \"shapedefaults\": {\"fillcolor\": \"black\", \"line\": {\"width\": 0}, \"opacity\": 0.3}, \"ternary\": {\"aaxis\": {\"gridcolor\": \"white\", \"linecolor\": \"white\", \"showgrid\": true, \"tickcolor\": \"rgb(51,51,51)\", \"ticks\": \"outside\"}, \"baxis\": {\"gridcolor\": \"white\", \"linecolor\": \"white\", \"showgrid\": true, \"tickcolor\": \"rgb(51,51,51)\", \"ticks\": \"outside\"}, \"bgcolor\": \"rgb(237,237,237)\", \"caxis\": {\"gridcolor\": \"white\", \"linecolor\": \"white\", \"showgrid\": true, \"tickcolor\": \"rgb(51,51,51)\", \"ticks\": \"outside\"}}, \"xaxis\": {\"automargin\": true, \"gridcolor\": \"white\", \"linecolor\": \"white\", \"showgrid\": true, \"tickcolor\": \"rgb(51,51,51)\", \"ticks\": \"outside\", \"title\": {\"standoff\": 15}, \"zerolinecolor\": \"white\"}, \"yaxis\": {\"automargin\": true, \"gridcolor\": \"white\", \"linecolor\": \"white\", \"showgrid\": true, \"tickcolor\": \"rgb(51,51,51)\", \"ticks\": \"outside\", \"title\": {\"standoff\": 15}, \"zerolinecolor\": \"white\"}}}, \"title\": {\"text\": \"Top5\"}, \"xaxis\": {\"anchor\": \"y\", \"domain\": [0.0, 1.0], \"title\": {\"text\": \"Count\"}}, \"yaxis\": {\"anchor\": \"x\", \"domain\": [0.0, 1.0], \"title\": {\"text\": \"\\uad6d\\uac00\"}}},\n",
       "                        {\"responsive\": true}\n",
       "                    ).then(function(){\n",
       "                            \n",
       "var gd = document.getElementById('25d25c12-08a9-4b82-b6f2-6a8b893a2de0');\n",
       "var x = new MutationObserver(function (mutations, observer) {{\n",
       "        var display = window.getComputedStyle(gd).display;\n",
       "        if (!display || display === 'none') {{\n",
       "            console.log([gd, 'removed!']);\n",
       "            Plotly.purge(gd);\n",
       "            observer.disconnect();\n",
       "        }}\n",
       "}});\n",
       "\n",
       "// Listen for the removal of the full notebook cells\n",
       "var notebookContainer = gd.closest('#notebook-container');\n",
       "if (notebookContainer) {{\n",
       "    x.observe(notebookContainer, {childList: true});\n",
       "}}\n",
       "\n",
       "// Listen for the clearing of the current output cell\n",
       "var outputEl = gd.closest('.output');\n",
       "if (outputEl) {{\n",
       "    x.observe(outputEl, {childList: true});\n",
       "}}\n",
       "\n",
       "                        })\n",
       "                };\n",
       "                });\n",
       "            </script>\n",
       "        </div>"
      ]
     },
     "metadata": {},
     "output_type": "display_data"
    }
   ],
   "source": [
    "df_g = px.bar(df_m , x = \"Count\" , y = \"국가\",\n",
    "                color = \"Case\" , barmode = \"group\",\n",
    "                template = \"ggplot2\" , title = \"Top5\" , orientation = \"h\")\n",
    "df_g.show()"
   ]
  },
  {
   "cell_type": "code",
   "execution_count": 22,
   "metadata": {},
   "outputs": [
    {
     "data": {
      "text/plain": [
       "<matplotlib.axes._subplots.AxesSubplot at 0x1c814cbde48>"
      ]
     },
     "execution_count": 22,
     "metadata": {},
     "output_type": "execute_result"
    },
    {
     "data": {
      "image/png": "[encoded data removed]",
      "text/plain": [
       "<Figure size 864x360 with 1 Axes>"
      ]
     },
     "metadata": {
      "needs_background": "light"
     },
     "output_type": "display_data"
    }
   ],
   "source": [
    "plt.figure(figsize = (12,5))\n",
    "sns.barplot(data = df_dd , x=  '국가' , y = \"사망률(%)\")"
   ]
  },
  {
   "cell_type": "code",
   "execution_count": null,
   "metadata": {},
   "outputs": [],
   "source": []
  }
 ],
 "metadata": {
  "kernelspec": {
   "display_name": "Python 3",
   "language": "python",
   "name": "python3"
  },
  "language_info": {
   "codemirror_mode": {
    "name": "ipython",
    "version": 3
   },
   "file_extension": ".py",
   "mimetype": "text/x-python",
   "name": "python",
   "nbconvert_exporter": "python",
   "pygments_lexer": "ipython3",
   "version": "3.7.4"
  }
 },
 "nbformat": 4,
 "nbformat_minor": 2
}
